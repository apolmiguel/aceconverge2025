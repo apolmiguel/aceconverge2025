{
 "cells": [
  {
   "cell_type": "code",
   "execution_count": 1,
   "id": "1287b8a9",
   "metadata": {},
   "outputs": [
    {
     "name": "stderr",
     "output_type": "stream",
     "text": [
      "\u001b[32m\u001b[1m  Activating\u001b[22m\u001b[39m project at `/leonardo_work/Sis25_degironc_0/apol/aceconverge2025`\n"
     ]
    }
   ],
   "source": [
    "ENV[\"JULIA_PKG_USE_CLI_GIT\"] = \"true\"\n",
    "cd(\"/leonardo_work/Sis25_degironc_0/apol/aceconverge2025/\")\n",
    "pwd()\n",
    "\n",
    "import Pkg\n",
    "Pkg.activate(\".\")\n",
    "using ACEpotentials, LinearAlgebra"
   ]
  },
  {
   "cell_type": "markdown",
   "id": "8b9784c1",
   "metadata": {},
   "source": [
    "# Basis checking"
   ]
  },
  {
   "cell_type": "markdown",
   "id": "eac4ce51",
   "metadata": {},
   "source": [
    "## Carbon"
   ]
  },
  {
   "cell_type": "markdown",
   "id": "542aa20e",
   "metadata": {},
   "source": [
    "## Silicon "
   ]
  },
  {
   "cell_type": "code",
   "execution_count": 5,
   "id": "acd602a4",
   "metadata": {},
   "outputs": [
    {
     "data": {
      "text/plain": [
       "100-element Vector{Atoms}:\n",
       " JuLIP.Atoms with 2 atoms\n",
       " JuLIP.Atoms with 2 atoms\n",
       " JuLIP.Atoms with 2 atoms\n",
       " JuLIP.Atoms with 2 atoms\n",
       " JuLIP.Atoms with 2 atoms\n",
       " JuLIP.Atoms with 2 atoms\n",
       " JuLIP.Atoms with 2 atoms\n",
       " JuLIP.Atoms with 2 atoms\n",
       " JuLIP.Atoms with 2 atoms\n",
       " JuLIP.Atoms with 2 atoms\n",
       " JuLIP.Atoms with 2 atoms\n",
       " JuLIP.Atoms with 2 atoms\n",
       " JuLIP.Atoms with 2 atoms\n",
       " ⋮\n",
       " JuLIP.Atoms with 2 atoms\n",
       " JuLIP.Atoms with 2 atoms\n",
       " JuLIP.Atoms with 2 atoms\n",
       " JuLIP.Atoms with 2 atoms\n",
       " JuLIP.Atoms with 2 atoms\n",
       " JuLIP.Atoms with 2 atoms\n",
       " JuLIP.Atoms with 2 atoms\n",
       " JuLIP.Atoms with 2 atoms\n",
       " JuLIP.Atoms with 2 atoms\n",
       " JuLIP.Atoms with 2 atoms\n",
       " JuLIP.Atoms with 2 atoms\n",
       " JuLIP.Atoms with 2 atoms"
      ]
     },
     "execution_count": 5,
     "metadata": {},
     "output_type": "execute_result"
    }
   ],
   "source": [
    "dimers = read_extxyz(\"./datasets/Si2.xyz\")"
   ]
  },
  {
   "cell_type": "code",
   "execution_count": 10,
   "id": "baad5ddb",
   "metadata": {},
   "outputs": [
    {
     "name": "stdout",
     "output_type": "stream",
     "text": [
      "basis_bin[\"24.20\"]\n",
      "297\n",
      "basis_bin[\"24.20.16\"]\n",
      "802\n",
      "basis_bin[\"24.20.16.12\"]\n",
      "929\n"
     ]
    },
    {
     "name": "stderr",
     "output_type": "stream",
     "text": [
      "\u001b[36m\u001b[1m[ \u001b[22m\u001b[39m\u001b[36m\u001b[1mInfo: \u001b[22m\u001b[39mOption `pure = true` overrides `pure2b=true`\n"
     ]
    },
    {
     "name": "stdout",
     "output_type": "stream",
     "text": [
      "basis_bin[\"24.20\"]\n",
      "297\n"
     ]
    },
    {
     "name": "stderr",
     "output_type": "stream",
     "text": [
      "\u001b[36m\u001b[1m[ \u001b[22m\u001b[39m\u001b[36m\u001b[1mInfo: \u001b[22m\u001b[39mOption `pure = true` overrides `pure2b=true`\n"
     ]
    },
    {
     "name": "stdout",
     "output_type": "stream",
     "text": [
      "basis_bin[\"24.20.16\"]\n",
      "802\n"
     ]
    },
    {
     "name": "stderr",
     "output_type": "stream",
     "text": [
      "\u001b[36m\u001b[1m[ \u001b[22m\u001b[39m\u001b[36m\u001b[1mInfo: \u001b[22m\u001b[39mOption `pure = true` overrides `pure2b=true`\n"
     ]
    },
    {
     "name": "stdout",
     "output_type": "stream",
     "text": [
      "basis_bin[\"24.20.16.12\"]\n",
      "929\n"
     ]
    }
   ],
   "source": [
    "basis_bin = Dict()\n",
    "orders = [2,3,4]\n",
    "degrees = [[24,20],[24,20,16],[24,20,16,12]]\n",
    "basis_tags = [\"24.20\",\"24.20.16\",\"24.20.16.12\"]\n",
    "\n",
    "for (i,ord) in enumerate(orders)\n",
    "    basis = ACE1x.ace_basis(\n",
    "        elements = [:Si],\n",
    "        order = ord,\n",
    "        totaldegree = degrees[i],\n",
    "        rcut = 6.0,\n",
    "        r0 = 2.20707071, # for silicon dataset\n",
    "        pure = false)\n",
    "    basis_bin[basis_tags[i]] = basis\n",
    "    println(\"basis_bin[\\\"\" * basis_tags[i] * \"\\\"]\")\n",
    "    println(length(basis))\n",
    "end\n",
    "\n",
    "basis_bin_pure = Dict()\n",
    "for (i,ord) in enumerate(orders)\n",
    "    basis = ACE1x.ace_basis(\n",
    "        elements = [:Si],\n",
    "        order = ord,\n",
    "        totaldegree = degrees[i],\n",
    "        rcut = 6.0,\n",
    "        r0 = 2.20707071, # for silicon dataset\n",
    "        pure = true)\n",
    "    basis_bin_pure[basis_tags[i]] = basis\n",
    "    println(\"basis_bin[\\\"\" * basis_tags[i] * \"\\\"]\")\n",
    "    println(length(basis))\n",
    "end"
   ]
  },
  {
   "cell_type": "code",
   "execution_count": null,
   "id": "c7812d37",
   "metadata": {},
   "outputs": [
    {
     "data": {
      "text/plain": [
       "2-element Vector{Vector{Float64}}:\n",
       " [0.9133427098012319, 1.1317292706625932, 0.5467092209828912, -0.38120714814071993, -1.0912737823112983, -1.1712873073419299, -0.5771123824676915, 0.3487394331699192, 1.0754790878316716, 1.1875917720470972  …  -6.938893903907228e-18, -1.3877787807814457e-17, 0.0, 0.0, -6.245004513516506e-17, -4.163336342344337e-17, -5.551115123125783e-17, 5.551115123125783e-17, -2.7755575615628914e-17, -3.0531133177191805e-16]\n",
       " [0.9133427098012319, 1.1317292706625932, 0.5467092209828912, -0.38120714814071993, -1.0912737823112983, -1.1712873073419299, -0.5771123824676915, 0.3487394331699192, 1.0754790878316716, 1.1875917720470972  …  -6.938893903907228e-18, -1.3877787807814457e-17, 0.0, 0.0, -6.245004513516506e-17, -4.163336342344337e-17, -5.551115123125783e-17, 5.551115123125783e-17, -2.7755575615628914e-17, -3.0531133177191805e-16]"
      ]
     },
     "execution_count": 11,
     "metadata": {},
     "output_type": "execute_result"
    }
   ],
   "source": [
    "dirty_feat = site_descriptors(basis_bin[\"24.20\"], dimers[1])\n",
    "pure_feat = site_descriptors(basis_bin_pure[\"24.20\"], dimers[1])"
   ]
  },
  {
   "cell_type": "code",
   "execution_count": 9,
   "id": "02413042",
   "metadata": {},
   "outputs": [
    {
     "data": {
      "text/plain": [
       "929-element Vector{Float64}:\n",
       "  0.9133427098012319\n",
       "  1.1317292706625932\n",
       "  0.5467092209828912\n",
       " -0.38120714814071993\n",
       " -1.0912737823112983\n",
       " -1.1712873073419299\n",
       " -0.5771123824676915\n",
       "  0.3487394331699192\n",
       "  1.0754790878316716\n",
       "  1.1875917720470972\n",
       "  0.6213563491611488\n",
       " -0.2996930450391065\n",
       " -1.0499245152692696\n",
       "  ⋮\n",
       "  9.71445146547012e-17\n",
       " -1.3097162243624894e-16\n",
       " -8.673617379884035e-19\n",
       "  2.168404344971009e-17\n",
       " -8.847089727481716e-17\n",
       " -4.5102810375396984e-17\n",
       "  1.734723475976807e-17\n",
       " -6.245004513516506e-17\n",
       "  8.673617379884035e-18\n",
       "  3.469446951953614e-17\n",
       " -1.3877787807814457e-17\n",
       " -2.7755575615628914e-16"
      ]
     },
     "execution_count": 9,
     "metadata": {},
     "output_type": "execute_result"
    }
   ],
   "source": [
    "pure_feat[1]"
   ]
  },
  {
   "cell_type": "markdown",
   "id": "6c67fca1",
   "metadata": {},
   "source": [
    "# Single tests"
   ]
  },
  {
   "cell_type": "code",
   "execution_count": null,
   "id": "35bf1382",
   "metadata": {},
   "outputs": [],
   "source": []
  }
 ],
 "metadata": {
  "kernelspec": {
   "display_name": "Julia 1.10.6",
   "language": "julia",
   "name": "julia-1.10"
  },
  "language_info": {
   "file_extension": ".jl",
   "mimetype": "application/julia",
   "name": "julia",
   "version": "1.10.6"
  }
 },
 "nbformat": 4,
 "nbformat_minor": 5
}
