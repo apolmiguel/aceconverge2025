{
 "cells": [
  {
   "cell_type": "code",
   "execution_count": 1,
   "id": "1287b8a9",
   "metadata": {},
   "outputs": [
    {
     "name": "stderr",
     "output_type": "stream",
     "text": [
      "\u001b[32m\u001b[1m  Activating\u001b[22m\u001b[39m project at `/leonardo_work/Sis25_degironc_0/apol/aceconverge2025`\n"
     ]
    }
   ],
   "source": [
    "ENV[\"JULIA_PKG_USE_CLI_GIT\"] = \"true\"\n",
    "cd(\"/leonardo_work/Sis25_degironc_0/apol/aceconverge2025/\")\n",
    "pwd()\n",
    "\n",
    "import Pkg\n",
    "Pkg.activate(\".\")\n",
    "using ACEpotentials, LinearAlgebra"
   ]
  },
  {
   "cell_type": "markdown",
   "id": "8b9784c1",
   "metadata": {},
   "source": [
    "# Basis checking"
   ]
  },
  {
   "cell_type": "markdown",
   "id": "eac4ce51",
   "metadata": {},
   "source": [
    "## Carbon"
   ]
  },
  {
   "cell_type": "markdown",
   "id": "542aa20e",
   "metadata": {},
   "source": [
    "## Silicon "
   ]
  },
  {
   "cell_type": "code",
   "execution_count": 5,
   "id": "acd602a4",
   "metadata": {},
   "outputs": [
    {
     "data": {
      "text/plain": [
       "100-element Vector{Atoms}:\n",
       " JuLIP.Atoms with 2 atoms\n",
       " JuLIP.Atoms with 2 atoms\n",
       " JuLIP.Atoms with 2 atoms\n",
       " JuLIP.Atoms with 2 atoms\n",
       " JuLIP.Atoms with 2 atoms\n",
       " JuLIP.Atoms with 2 atoms\n",
       " JuLIP.Atoms with 2 atoms\n",
       " JuLIP.Atoms with 2 atoms\n",
       " JuLIP.Atoms with 2 atoms\n",
       " JuLIP.Atoms with 2 atoms\n",
       " JuLIP.Atoms with 2 atoms\n",
       " JuLIP.Atoms with 2 atoms\n",
       " JuLIP.Atoms with 2 atoms\n",
       " ⋮\n",
       " JuLIP.Atoms with 2 atoms\n",
       " JuLIP.Atoms with 2 atoms\n",
       " JuLIP.Atoms with 2 atoms\n",
       " JuLIP.Atoms with 2 atoms\n",
       " JuLIP.Atoms with 2 atoms\n",
       " JuLIP.Atoms with 2 atoms\n",
       " JuLIP.Atoms with 2 atoms\n",
       " JuLIP.Atoms with 2 atoms\n",
       " JuLIP.Atoms with 2 atoms\n",
       " JuLIP.Atoms with 2 atoms\n",
       " JuLIP.Atoms with 2 atoms\n",
       " JuLIP.Atoms with 2 atoms"
      ]
     },
     "execution_count": 5,
     "metadata": {},
     "output_type": "execute_result"
    }
   ],
   "source": [
    "dimers = read_extxyz(\"./datasets/Si2.xyz\")"
   ]
  },
  {
   "cell_type": "code",
   "execution_count": 10,
   "id": "baad5ddb",
   "metadata": {},
   "outputs": [
    {
     "name": "stdout",
     "output_type": "stream",
     "text": [
      "basis_bin[\"24.20\"]\n",
      "297\n",
      "basis_bin[\"24.20.16\"]\n",
      "802\n",
      "basis_bin[\"24.20.16.12\"]\n",
      "929\n"
     ]
    },
    {
     "name": "stderr",
     "output_type": "stream",
     "text": [
      "\u001b[36m\u001b[1m[ \u001b[22m\u001b[39m\u001b[36m\u001b[1mInfo: \u001b[22m\u001b[39mOption `pure = true` overrides `pure2b=true`\n"
     ]
    },
    {
     "name": "stdout",
     "output_type": "stream",
     "text": [
      "basis_bin[\"24.20\"]\n",
      "297\n"
     ]
    },
    {
     "name": "stderr",
     "output_type": "stream",
     "text": [
      "\u001b[36m\u001b[1m[ \u001b[22m\u001b[39m\u001b[36m\u001b[1mInfo: \u001b[22m\u001b[39mOption `pure = true` overrides `pure2b=true`\n"
     ]
    },
    {
     "name": "stdout",
     "output_type": "stream",
     "text": [
      "basis_bin[\"24.20.16\"]\n",
      "802\n"
     ]
    },
    {
     "name": "stderr",
     "output_type": "stream",
     "text": [
      "\u001b[36m\u001b[1m[ \u001b[22m\u001b[39m\u001b[36m\u001b[1mInfo: \u001b[22m\u001b[39mOption `pure = true` overrides `pure2b=true`\n"
     ]
    },
    {
     "name": "stdout",
     "output_type": "stream",
     "text": [
      "basis_bin[\"24.20.16.12\"]\n",
      "929\n"
     ]
    }
   ],
   "source": [
    "basis_bin = Dict()\n",
    "orders = [2,3,4]\n",
    "degrees = [[24,20],[24,20,16],[24,20,16,12]]\n",
    "basis_tags = [\"24.20\",\"24.20.16\",\"24.20.16.12\"]\n",
    "\n",
    "for (i,ord) in enumerate(orders)\n",
    "    basis = ACE1x.ace_basis(\n",
    "        elements = [:Si],\n",
    "        order = ord,\n",
    "        totaldegree = degrees[i],\n",
    "        rcut = 6.0,\n",
    "        r0 = 2.20707071, # for silicon dataset\n",
    "        pure = false)\n",
    "    basis_bin[basis_tags[i]] = basis\n",
    "    println(\"basis_bin[\\\"\" * basis_tags[i] * \"\\\"]\")\n",
    "    println(length(basis))\n",
    "end\n",
    "\n",
    "basis_bin_pure = Dict()\n",
    "for (i,ord) in enumerate(orders)\n",
    "    basis = ACE1x.ace_basis(\n",
    "        elements = [:Si],\n",
    "        order = ord,\n",
    "        totaldegree = degrees[i],\n",
    "        rcut = 6.0,\n",
    "        r0 = 2.20707071, # for silicon dataset\n",
    "        pure = true)\n",
    "    basis_bin_pure[basis_tags[i]] = basis\n",
    "    println(\"basis_bin[\\\"\" * basis_tags[i] * \"\\\"]\")\n",
    "    println(length(basis))\n",
    "end"
   ]
  },
  {
   "cell_type": "code",
   "execution_count": 19,
   "id": "c7812d37",
   "metadata": {},
   "outputs": [
    {
     "data": {
      "text/plain": [
       "2-element Vector{Vector{Float64}}:\n",
       " [0.9133427098012319, 1.1317292706625932, 0.5467092209828912, -0.38120714814071993, -1.0912737823112983, -1.1712873073419299, -0.5771123824676915, 0.3487394331699192, 1.0754790878316716, 1.1875917720470972  …  -9.107298248878237e-17, -1.9949319973733282e-17, -8.847089727481716e-17, 1.3877787807814457e-17, 3.469446951953614e-18, 2.7755575615628914e-17, 5.204170427930421e-18, -3.469446951953614e-17, -4.5102810375396984e-17, -5.551115123125783e-17]\n",
       " [0.9133427098012319, 1.1317292706625932, 0.5467092209828912, -0.38120714814071993, -1.0912737823112983, -1.1712873073419299, -0.5771123824676915, 0.3487394331699192, 1.0754790878316716, 1.1875917720470972  …  -9.107298248878237e-17, -1.9949319973733282e-17, -8.847089727481716e-17, 1.3877787807814457e-17, 3.469446951953614e-18, 2.7755575615628914e-17, 5.204170427930421e-18, -3.469446951953614e-17, -4.5102810375396984e-17, -5.551115123125783e-17]"
      ]
     },
     "execution_count": 19,
     "metadata": {},
     "output_type": "execute_result"
    }
   ],
   "source": [
    "tag = \"24.20.16.12\"\n",
    "dirty_feat = site_descriptors(basis_bin[tag], dimers[1])\n",
    "pure_feat = site_descriptors(basis_bin_pure[tag], dimers[1])"
   ]
  },
  {
   "cell_type": "code",
   "execution_count": 1,
   "id": "02413042",
   "metadata": {},
   "outputs": [
    {
     "ename": "LoadError",
     "evalue": "UndefVarError: `dirty_feat` not defined",
     "output_type": "error",
     "traceback": [
      "UndefVarError: `dirty_feat` not defined",
      "",
      "Stacktrace:",
      " [1] top-level scope",
      "   @ In[1]:1"
     ]
    }
   ],
   "source": [
    "println(\"length of dirty_feat[1]: \", length(dirty_feat[1]))\n",
    "println(\"length of pure_feat[1]: \", length(pure_feat[1]))"
   ]
  },
  {
   "cell_type": "markdown",
   "id": "5c284d7b",
   "metadata": {},
   "source": [
    "# Error extraction from complete potentials"
   ]
  },
  {
   "cell_type": "markdown",
   "id": "7851767a",
   "metadata": {},
   "source": [
    "## Out-of-domain"
   ]
  },
  {
   "cell_type": "code",
   "execution_count": 48,
   "id": "ea7f380b",
   "metadata": {},
   "outputs": [
    {
     "name": "stdout",
     "output_type": "stream",
     "text": [
      "\n",
      "This potential was saved with following versions:\n",
      "\n",
      "JuLIP v0.14.8\n",
      "ACEbase v0.4.4\n",
      "ACE1x v0.1.11\n",
      "ACE1 v0.12.5\n",
      "ACEmd v0.1.17\n",
      "ACEpotentials v0.6.7\n",
      "ACEfit v0.1.5\n",
      "\n",
      "If you have problems with using this potential, pin your installation to above versions.\n",
      "\n",
      "\n",
      "This potential was saved with following versions:\n",
      "\n",
      "JuLIP v0.14.8\n",
      "ACEbase v0.4.4\n",
      "ACE1x v0.1.11\n",
      "ACE1 v0.12.5\n",
      "ACEmd v0.1.17\n",
      "ACEpotentials v0.6.7\n",
      "ACEfit v0.1.5\n",
      "\n",
      "If you have problems with using this potential, pin your installation to above versions.\n",
      "\n",
      "┌─────────┬─────────┬──────────┬─────────┐\n",
      "│\u001b[1m    Type \u001b[0m│\u001b[1m E [meV] \u001b[0m│\u001b[1m F [eV/A] \u001b[0m│\u001b[1m V [meV] \u001b[0m│\n",
      "├─────────┼─────────┼──────────┼─────────┤\n",
      "│ default │   0.523 │    0.051 │   0.000 │\n",
      "├─────────┼─────────┼──────────┼─────────┤\n",
      "│     set │   0.523 │    0.051 │   0.000 │\n",
      "└─────────┴─────────┴──────────┴─────────┘\n",
      "┌─────────┬─────────┬──────────┬─────────┐\n",
      "│\u001b[1m    Type \u001b[0m│\u001b[1m E [meV] \u001b[0m│\u001b[1m F [eV/A] \u001b[0m│\u001b[1m V [meV] \u001b[0m│\n",
      "├─────────┼─────────┼──────────┼─────────┤\n",
      "│ default │   0.330 │    0.015 │   0.000 │\n",
      "├─────────┼─────────┼──────────┼─────────┤\n",
      "│     set │   0.330 │    0.015 │   0.000 │\n",
      "└─────────┴─────────┴──────────┴─────────┘\n"
     ]
    },
    {
     "name": "stderr",
     "output_type": "stream",
     "text": [
      "\u001b[36m\u001b[1m[ \u001b[22m\u001b[39m\u001b[36m\u001b[1mInfo: \u001b[22m\u001b[39mRMSE Table\n",
      "\u001b[36m\u001b[1m[ \u001b[22m\u001b[39m\u001b[36m\u001b[1mInfo: \u001b[22m\u001b[39mMAE Table\n"
     ]
    },
    {
     "name": "stdout",
     "output_type": "stream",
     "text": [
      "┌─────────┬─────────┬──────────┬─────────┐\n",
      "│\u001b[1m    Type \u001b[0m│\u001b[1m E [meV] \u001b[0m│\u001b[1m F [eV/A] \u001b[0m│\u001b[1m V [meV] \u001b[0m│\n",
      "├─────────┼─────────┼──────────┼─────────┤\n",
      "│ default │   0.523 │    0.051 │   0.000 │\n",
      "├─────────┼─────────┼──────────┼─────────┤\n",
      "│     set │   0.523 │    0.051 │   0.000 │\n",
      "└─────────┴─────────┴──────────┴─────────┘\n",
      "┌─────────┬─────────┬──────────┬─────────┐\n",
      "│\u001b[1m    Type \u001b[0m│\u001b[1m E [meV] \u001b[0m│\u001b[1m F [eV/A] \u001b[0m│\u001b[1m V [meV] \u001b[0m│\n",
      "├─────────┼─────────┼──────────┼─────────┤\n",
      "│ default │   0.330 │    0.015 │   0.000 │\n",
      "├─────────┼─────────┼──────────┼─────────┤\n",
      "│     set │   0.330 │    0.015 │   0.000 │\n",
      "└─────────┴─────────┴──────────┴─────────┘\n"
     ]
    },
    {
     "name": "stderr",
     "output_type": "stream",
     "text": [
      "\u001b[36m\u001b[1m[ \u001b[22m\u001b[39m\u001b[36m\u001b[1mInfo: \u001b[22m\u001b[39mRMSE Table\n",
      "\u001b[36m\u001b[1m[ \u001b[22m\u001b[39m\u001b[36m\u001b[1mInfo: \u001b[22m\u001b[39mMAE Table\n"
     ]
    },
    {
     "name": "stdout",
     "output_type": "stream",
     "text": [
      "┌─────────┬──────────┬──────────┬─────────┐\n",
      "│\u001b[1m    Type \u001b[0m│\u001b[1m  E [meV] \u001b[0m│\u001b[1m F [eV/A] \u001b[0m│\u001b[1m V [meV] \u001b[0m│\n",
      "├─────────┼──────────┼──────────┼─────────┤\n",
      "│ default │ 2722.731 │    2.094 │   0.000 │\n",
      "├─────────┼──────────┼──────────┼─────────┤\n",
      "│     set │ 2722.731 │    2.094 │   0.000 │\n",
      "└─────────┴──────────┴──────────┴─────────┘\n",
      "┌─────────┬──────────┬──────────┬─────────┐\n",
      "│\u001b[1m    Type \u001b[0m│\u001b[1m  E [meV] \u001b[0m│\u001b[1m F [eV/A] \u001b[0m│\u001b[1m V [meV] \u001b[0m│\n",
      "├─────────┼──────────┼──────────┼─────────┤\n",
      "│ default │ 2679.817 │    1.667 │   0.000 │\n",
      "├─────────┼──────────┼──────────┼─────────┤\n",
      "│     set │ 2679.817 │    1.667 │   0.000 │\n",
      "└─────────┴──────────┴──────────┴─────────┘\n"
     ]
    },
    {
     "name": "stderr",
     "output_type": "stream",
     "text": [
      "\u001b[36m\u001b[1m[ \u001b[22m\u001b[39m\u001b[36m\u001b[1mInfo: \u001b[22m\u001b[39mRMSE Table\n",
      "\u001b[36m\u001b[1m[ \u001b[22m\u001b[39m\u001b[36m\u001b[1mInfo: \u001b[22m\u001b[39mMAE Table\n"
     ]
    },
    {
     "name": "stdout",
     "output_type": "stream",
     "text": [
      "┌─────────┬──────────┬──────────┬─────────┐\n",
      "│\u001b[1m    Type \u001b[0m│\u001b[1m  E [meV] \u001b[0m│\u001b[1m F [eV/A] \u001b[0m│\u001b[1m V [meV] \u001b[0m│\n",
      "├─────────┼──────────┼──────────┼─────────┤\n",
      "│ default │ 2722.731 │    2.094 │   0.000 │\n",
      "├─────────┼──────────┼──────────┼─────────┤\n",
      "│     set │ 2722.731 │    2.094 │   0.000 │\n",
      "└─────────┴──────────┴──────────┴─────────┘\n",
      "┌─────────┬──────────┬──────────┬─────────┐\n",
      "│\u001b[1m    Type \u001b[0m│\u001b[1m  E [meV] \u001b[0m│\u001b[1m F [eV/A] \u001b[0m│\u001b[1m V [meV] \u001b[0m│\n",
      "├─────────┼──────────┼──────────┼─────────┤\n",
      "│ default │ 2679.817 │    1.667 │   0.000 │\n",
      "├─────────┼──────────┼──────────┼─────────┤\n",
      "│     set │ 2679.817 │    1.667 │   0.000 │\n",
      "└─────────┴──────────┴──────────┴─────────┘\n",
      "\n",
      "This potential was saved with following versions:\n",
      "\n",
      "JuLIP v0.14.8\n",
      "ACEbase v0.4.4\n",
      "ACE1x v0.1.11\n",
      "ACE1 v0.12.5\n",
      "ACEmd v0.1.17\n",
      "ACEpotentials v0.6.7\n",
      "ACEfit v0.1.5\n",
      "\n",
      "If you have problems with using this potential, pin your installation to above versions.\n",
      "\n"
     ]
    },
    {
     "name": "stderr",
     "output_type": "stream",
     "text": [
      "\u001b[36m\u001b[1m[ \u001b[22m\u001b[39m\u001b[36m\u001b[1mInfo: \u001b[22m\u001b[39mRMSE Table\n",
      "\u001b[36m\u001b[1m[ \u001b[22m\u001b[39m\u001b[36m\u001b[1mInfo: \u001b[22m\u001b[39mMAE Table\n"
     ]
    },
    {
     "name": "stdout",
     "output_type": "stream",
     "text": [
      "\n",
      "This potential was saved with following versions:\n",
      "\n",
      "JuLIP v0.14.8\n",
      "ACEbase v0.4.4\n",
      "ACE1x v0.1.11\n",
      "ACE1 v0.12.5\n",
      "ACEmd v0.1.17\n",
      "ACEpotentials v0.6.7\n",
      "ACEfit v0.1.5\n",
      "\n",
      "If you have problems with using this potential, pin your installation to above versions.\n",
      "\n",
      "┌─────────┬─────────┬──────────┬─────────┐\n",
      "│\u001b[1m    Type \u001b[0m│\u001b[1m E [meV] \u001b[0m│\u001b[1m F [eV/A] \u001b[0m│\u001b[1m V [meV] \u001b[0m│\n",
      "├─────────┼─────────┼──────────┼─────────┤\n",
      "│ default │   0.523 │    0.051 │   0.000 │\n",
      "├─────────┼─────────┼──────────┼─────────┤\n",
      "│     set │   0.523 │    0.051 │   0.000 │\n",
      "└─────────┴─────────┴──────────┴─────────┘\n",
      "┌─────────┬─────────┬──────────┬─────────┐\n",
      "│\u001b[1m    Type \u001b[0m│\u001b[1m E [meV] \u001b[0m│\u001b[1m F [eV/A] \u001b[0m│\u001b[1m V [meV] \u001b[0m│\n",
      "├─────────┼─────────┼──────────┼─────────┤\n",
      "│ default │   0.330 │    0.015 │   0.000 │\n",
      "├─────────┼─────────┼──────────┼─────────┤\n",
      "│     set │   0.330 │    0.015 │   0.000 │\n",
      "└─────────┴─────────┴──────────┴─────────┘\n",
      "┌─────────┬─────────┬──────────┬─────────┐\n",
      "│\u001b[1m    Type \u001b[0m│\u001b[1m E [meV] \u001b[0m│\u001b[1m F [eV/A] \u001b[0m│\u001b[1m V [meV] \u001b[0m│\n",
      "├─────────┼─────────┼──────────┼─────────┤\n",
      "│ default │   0.523 │    0.051 │   0.000 │\n",
      "├─────────┼─────────┼──────────┼─────────┤\n",
      "│     set │   0.523 │    0.051 │   0.000 │\n",
      "└─────────┴─────────┴──────────┴─────────┘\n",
      "┌─────────┬─────────┬──────────┬─────────┐\n",
      "│\u001b[1m    Type \u001b[0m│\u001b[1m E [meV] \u001b[0m│\u001b[1m F [eV/A] \u001b[0m│\u001b[1m V [meV] \u001b[0m│\n",
      "├─────────┼─────────┼──────────┼─────────┤\n",
      "│ default │   0.330 │    0.015 │   0.000 │\n",
      "├─────────┼─────────┼──────────┼─────────┤\n",
      "│     set │   0.330 │    0.015 │   0.000 │\n",
      "└─────────┴─────────┴──────────┴─────────┘\n"
     ]
    },
    {
     "name": "stderr",
     "output_type": "stream",
     "text": [
      "\u001b[36m\u001b[1m[ \u001b[22m\u001b[39m\u001b[36m\u001b[1mInfo: \u001b[22m\u001b[39mRMSE Table\n",
      "\u001b[36m\u001b[1m[ \u001b[22m\u001b[39m\u001b[36m\u001b[1mInfo: \u001b[22m\u001b[39mMAE Table\n",
      "\u001b[36m\u001b[1m[ \u001b[22m\u001b[39m\u001b[36m\u001b[1mInfo: \u001b[22m\u001b[39mRMSE Table\n",
      "\u001b[36m\u001b[1m[ \u001b[22m\u001b[39m\u001b[36m\u001b[1mInfo: \u001b[22m\u001b[39mMAE Table\n"
     ]
    },
    {
     "name": "stdout",
     "output_type": "stream",
     "text": [
      "┌─────────┬──────────┬──────────┬─────────┐\n",
      "│\u001b[1m    Type \u001b[0m│\u001b[1m  E [meV] \u001b[0m│\u001b[1m F [eV/A] \u001b[0m│\u001b[1m V [meV] \u001b[0m│\n",
      "├─────────┼──────────┼──────────┼─────────┤\n",
      "│ default │ 2722.731 │    2.094 │   0.000 │\n",
      "├─────────┼──────────┼──────────┼─────────┤\n",
      "│     set │ 2722.731 │    2.094 │   0.000 │\n",
      "└─────────┴──────────┴──────────┴─────────┘\n",
      "┌─────────┬──────────┬──────────┬─────────┐\n",
      "│\u001b[1m    Type \u001b[0m│\u001b[1m  E [meV] \u001b[0m│\u001b[1m F [eV/A] \u001b[0m│\u001b[1m V [meV] \u001b[0m│\n",
      "├─────────┼──────────┼──────────┼─────────┤\n",
      "│ default │ 2679.817 │    1.667 │   0.000 │\n",
      "├─────────┼──────────┼──────────┼─────────┤\n",
      "│     set │ 2679.817 │    1.667 │   0.000 │\n",
      "└─────────┴──────────┴──────────┴─────────┘\n"
     ]
    },
    {
     "name": "stderr",
     "output_type": "stream",
     "text": [
      "\u001b[36m\u001b[1m[ \u001b[22m\u001b[39m\u001b[36m\u001b[1mInfo: \u001b[22m\u001b[39mRMSE Table\n",
      "\u001b[36m\u001b[1m[ \u001b[22m\u001b[39m\u001b[36m\u001b[1mInfo: \u001b[22m\u001b[39mMAE Table\n"
     ]
    },
    {
     "name": "stdout",
     "output_type": "stream",
     "text": [
      "┌─────────┬──────────┬──────────┬─────────┐\n",
      "│\u001b[1m    Type \u001b[0m│\u001b[1m  E [meV] \u001b[0m│\u001b[1m F [eV/A] \u001b[0m│\u001b[1m V [meV] \u001b[0m│\n",
      "├─────────┼──────────┼──────────┼─────────┤\n",
      "│ default │ 2722.731 │    2.094 │   0.000 │\n",
      "├─────────┼──────────┼──────────┼─────────┤\n",
      "│     set │ 2722.731 │    2.094 │   0.000 │\n",
      "└─────────┴──────────┴──────────┴─────────┘\n",
      "┌─────────┬──────────┬──────────┬─────────┐\n",
      "│\u001b[1m    Type \u001b[0m│\u001b[1m  E [meV] \u001b[0m│\u001b[1m F [eV/A] \u001b[0m│\u001b[1m V [meV] \u001b[0m│\n",
      "├─────────┼──────────┼──────────┼─────────┤\n",
      "│ default │ 2679.817 │    1.667 │   0.000 │\n",
      "├─────────┼──────────┼──────────┼─────────┤\n",
      "│     set │ 2679.817 │    1.667 │   0.000 │\n",
      "└─────────┴──────────┴──────────┴─────────┘\n",
      "\n",
      "This potential was saved with following versions:\n",
      "\n",
      "JuLIP v0.14.8\n",
      "ACEbase v0.4.4\n",
      "ACE1x v0.1.11\n",
      "ACE1 v0.12.5\n",
      "ACEmd v0.1.17\n",
      "ACEpotentials v0.6.7\n",
      "ACEfit v0.1.5\n",
      "\n",
      "If you have problems with using this potential, pin your installation to above versions.\n",
      "\n",
      "\n",
      "This potential was saved with following versions:\n",
      "\n",
      "JuLIP v0.14.8\n",
      "ACEbase v0.4.4\n",
      "ACE1x v0.1.11\n",
      "ACE1 v0.12.5\n",
      "ACEmd v0.1.17\n",
      "ACEpotentials v0.6.7\n",
      "ACEfit v0.1.5\n",
      "\n",
      "If you have problems with using this potential, pin your installation to above versions.\n",
      "\n"
     ]
    },
    {
     "name": "stderr",
     "output_type": "stream",
     "text": [
      "\u001b[36m\u001b[1m[ \u001b[22m\u001b[39m\u001b[36m\u001b[1mInfo: \u001b[22m\u001b[39mRMSE Table\n",
      "\u001b[36m\u001b[1m[ \u001b[22m\u001b[39m\u001b[36m\u001b[1mInfo: \u001b[22m\u001b[39mMAE Table\n"
     ]
    },
    {
     "name": "stdout",
     "output_type": "stream",
     "text": [
      "┌─────────┬─────────┬──────────┬─────────┐\n",
      "│\u001b[1m    Type \u001b[0m│\u001b[1m E [meV] \u001b[0m│\u001b[1m F [eV/A] \u001b[0m│\u001b[1m V [meV] \u001b[0m│\n",
      "├─────────┼─────────┼──────────┼─────────┤\n",
      "│ default │   0.523 │    0.051 │   0.000 │\n",
      "├─────────┼─────────┼──────────┼─────────┤\n",
      "│     set │   0.523 │    0.051 │   0.000 │\n",
      "└─────────┴─────────┴──────────┴─────────┘\n",
      "┌─────────┬─────────┬──────────┬─────────┐\n",
      "│\u001b[1m    Type \u001b[0m│\u001b[1m E [meV] \u001b[0m│\u001b[1m F [eV/A] \u001b[0m│\u001b[1m V [meV] \u001b[0m│\n",
      "├─────────┼─────────┼──────────┼─────────┤\n",
      "│ default │   0.330 │    0.015 │   0.000 │\n",
      "├─────────┼─────────┼──────────┼─────────┤\n",
      "│     set │   0.330 │    0.015 │   0.000 │\n",
      "└─────────┴─────────┴──────────┴─────────┘\n",
      "┌─────────┬─────────┬──────────┬─────────┐\n",
      "│\u001b[1m    Type \u001b[0m│\u001b[1m E [meV] \u001b[0m│\u001b[1m F [eV/A] \u001b[0m│\u001b[1m V [meV] \u001b[0m│\n",
      "├─────────┼─────────┼──────────┼─────────┤\n",
      "│ default │   0.523 │    0.051 │   0.000 │\n",
      "├─────────┼─────────┼──────────┼─────────┤\n",
      "│     set │   0.523 │    0.051 │   0.000 │\n",
      "└─────────┴─────────┴──────────┴─────────┘\n",
      "┌─────────┬─────────┬──────────┬─────────┐\n",
      "│\u001b[1m    Type \u001b[0m│\u001b[1m E [meV] \u001b[0m│\u001b[1m F [eV/A] \u001b[0m│\u001b[1m V [meV] \u001b[0m│\n",
      "├─────────┼─────────┼──────────┼─────────┤\n",
      "│ default │   0.330 │    0.015 │   0.000 │\n",
      "├─────────┼─────────┼──────────┼─────────┤\n",
      "│     set │   0.330 │    0.015 │   0.000 │\n",
      "└─────────┴─────────┴──────────┴─────────┘\n"
     ]
    },
    {
     "name": "stderr",
     "output_type": "stream",
     "text": [
      "\u001b[36m\u001b[1m[ \u001b[22m\u001b[39m\u001b[36m\u001b[1mInfo: \u001b[22m\u001b[39mRMSE Table\n",
      "\u001b[36m\u001b[1m[ \u001b[22m\u001b[39m\u001b[36m\u001b[1mInfo: \u001b[22m\u001b[39mMAE Table\n",
      "\u001b[36m\u001b[1m[ \u001b[22m\u001b[39m\u001b[36m\u001b[1mInfo: \u001b[22m\u001b[39mRMSE Table\n",
      "\u001b[36m\u001b[1m[ \u001b[22m\u001b[39m\u001b[36m\u001b[1mInfo: \u001b[22m\u001b[39mMAE Table\n"
     ]
    },
    {
     "name": "stdout",
     "output_type": "stream",
     "text": [
      "┌─────────┬──────────┬──────────┬─────────┐\n",
      "│\u001b[1m    Type \u001b[0m│\u001b[1m  E [meV] \u001b[0m│\u001b[1m F [eV/A] \u001b[0m│\u001b[1m V [meV] \u001b[0m│\n",
      "├─────────┼──────────┼──────────┼─────────┤\n",
      "│ default │ 2722.731 │    2.094 │   0.000 │\n",
      "├─────────┼──────────┼──────────┼─────────┤\n",
      "│     set │ 2722.731 │    2.094 │   0.000 │\n",
      "└─────────┴──────────┴──────────┴─────────┘\n",
      "┌─────────┬──────────┬──────────┬─────────┐\n",
      "│\u001b[1m    Type \u001b[0m│\u001b[1m  E [meV] \u001b[0m│\u001b[1m F [eV/A] \u001b[0m│\u001b[1m V [meV] \u001b[0m│\n",
      "├─────────┼──────────┼──────────┼─────────┤\n",
      "│ default │ 2679.817 │    1.667 │   0.000 │\n",
      "├─────────┼──────────┼──────────┼─────────┤\n",
      "│     set │ 2679.817 │    1.667 │   0.000 │\n",
      "└─────────┴──────────┴──────────┴─────────┘\n"
     ]
    },
    {
     "name": "stderr",
     "output_type": "stream",
     "text": [
      "\u001b[36m\u001b[1m[ \u001b[22m\u001b[39m\u001b[36m\u001b[1mInfo: \u001b[22m\u001b[39mRMSE Table\n",
      "\u001b[36m\u001b[1m[ \u001b[22m\u001b[39m\u001b[36m\u001b[1mInfo: \u001b[22m\u001b[39mMAE Table\n"
     ]
    },
    {
     "name": "stdout",
     "output_type": "stream",
     "text": [
      "┌─────────┬──────────┬──────────┬─────────┐\n",
      "│\u001b[1m    Type \u001b[0m│\u001b[1m  E [meV] \u001b[0m│\u001b[1m F [eV/A] \u001b[0m│\u001b[1m V [meV] \u001b[0m│\n",
      "├─────────┼──────────┼──────────┼─────────┤\n",
      "│ default │ 2722.731 │    2.094 │   0.000 │\n",
      "├─────────┼──────────┼──────────┼─────────┤\n",
      "│     set │ 2722.731 │    2.094 │   0.000 │\n",
      "└─────────┴──────────┴──────────┴─────────┘\n",
      "┌─────────┬──────────┬──────────┬─────────┐\n",
      "│\u001b[1m    Type \u001b[0m│\u001b[1m  E [meV] \u001b[0m│\u001b[1m F [eV/A] \u001b[0m│\u001b[1m V [meV] \u001b[0m│\n",
      "├─────────┼──────────┼──────────┼─────────┤\n",
      "│ default │ 2679.817 │    1.667 │   0.000 │\n",
      "├─────────┼──────────┼──────────┼─────────┤\n",
      "│     set │ 2679.817 │    1.667 │   0.000 │\n",
      "└─────────┴──────────┴──────────┴─────────┘\n",
      "\n",
      "This potential was saved with following versions:\n",
      "\n",
      "JuLIP v0.14.8\n",
      "ACEbase v0.4.4\n",
      "ACE1x v0.1.11\n",
      "ACE1 v0.12.5\n",
      "ACEmd v0.1.17\n",
      "ACEpotentials v0.6.7\n",
      "ACEfit v0.1.5\n",
      "\n",
      "If you have problems with using this potential, pin your installation to above versions.\n",
      "\n",
      "\n",
      "This potential was saved with following versions:\n",
      "\n",
      "JuLIP v0.14.8\n",
      "ACEbase v0.4.4\n",
      "ACE1x v0.1.11\n",
      "ACE1 v0.12.5\n",
      "ACEmd v0.1.17\n",
      "ACEpotentials v0.6.7\n",
      "ACEfit v0.1.5\n",
      "\n",
      "If you have problems with using this potential, pin your installation to above versions.\n",
      "\n",
      "┌─────────┬─────────┬──────────┬─────────┐\n",
      "│\u001b[1m    Type \u001b[0m│\u001b[1m E [meV] \u001b[0m│\u001b[1m F [eV/A] \u001b[0m│\u001b[1m V [meV] \u001b[0m│\n",
      "├─────────┼─────────┼──────────┼─────────┤\n",
      "│ default │   0.119 │    0.080 │   0.000 │\n",
      "├─────────┼─────────┼──────────┼─────────┤\n",
      "│     set │   0.119 │    0.080 │   0.000 │\n",
      "└─────────┴─────────┴──────────┴─────────┘\n",
      "┌─────────┬─────────┬──────────┬─────────┐\n",
      "│\u001b[1m    Type \u001b[0m│\u001b[1m E [meV] \u001b[0m│\u001b[1m F [eV/A] \u001b[0m│\u001b[1m V [meV] \u001b[0m│\n",
      "├─────────┼─────────┼──────────┼─────────┤\n",
      "│ default │   0.075 │    0.026 │   0.000 │\n",
      "├─────────┼─────────┼──────────┼─────────┤\n",
      "│     set │   0.075 │    0.026 │   0.000 │\n",
      "└─────────┴─────────┴──────────┴─────────┘\n",
      "┌─────────┬─────────┬──────────┬─────────┐\n",
      "│\u001b[1m    Type \u001b[0m│\u001b[1m E [meV] \u001b[0m│\u001b[1m F [eV/A] \u001b[0m│\u001b[1m V [meV] \u001b[0m│\n",
      "├─────────┼─────────┼──────────┼─────────┤\n",
      "│ default │   0.119 │    0.080 │   0.000 │\n",
      "├─────────┼─────────┼──────────┼─────────┤\n",
      "│     set │   0.119 │    0.080 │   0.000 │\n",
      "└─────────┴─────────┴──────────┴─────────┘\n",
      "┌─────────┬─────────┬──────────┬─────────┐\n",
      "│\u001b[1m    Type \u001b[0m│\u001b[1m E [meV] \u001b[0m│\u001b[1m F [eV/A] \u001b[0m│\u001b[1m V [meV] \u001b[0m│\n",
      "├─────────┼─────────┼──────────┼─────────┤\n",
      "│ default │   0.075 │    0.026 │   0.000 │\n",
      "├─────────┼─────────┼──────────┼─────────┤\n",
      "│     set │   0.075 │    0.026 │   0.000 │\n",
      "└─────────┴─────────┴──────────┴─────────┘\n"
     ]
    },
    {
     "name": "stderr",
     "output_type": "stream",
     "text": [
      "\u001b[36m\u001b[1m[ \u001b[22m\u001b[39m\u001b[36m\u001b[1mInfo: \u001b[22m\u001b[39mRMSE Table\n",
      "\u001b[36m\u001b[1m[ \u001b[22m\u001b[39m\u001b[36m\u001b[1mInfo: \u001b[22m\u001b[39mMAE Table\n",
      "\u001b[36m\u001b[1m[ \u001b[22m\u001b[39m\u001b[36m\u001b[1mInfo: \u001b[22m\u001b[39mRMSE Table\n",
      "\u001b[36m\u001b[1m[ \u001b[22m\u001b[39m\u001b[36m\u001b[1mInfo: \u001b[22m\u001b[39mMAE Table\n",
      "\u001b[36m\u001b[1m[ \u001b[22m\u001b[39m\u001b[36m\u001b[1mInfo: \u001b[22m\u001b[39mRMSE Table\n",
      "\u001b[36m\u001b[1m[ \u001b[22m\u001b[39m\u001b[36m\u001b[1mInfo: \u001b[22m\u001b[39mMAE Table\n"
     ]
    },
    {
     "name": "stdout",
     "output_type": "stream",
     "text": [
      "┌─────────┬──────────┬──────────┬─────────┐\n",
      "│\u001b[1m    Type \u001b[0m│\u001b[1m  E [meV] \u001b[0m│\u001b[1m F [eV/A] \u001b[0m│\u001b[1m V [meV] \u001b[0m│\n",
      "├─────────┼──────────┼──────────┼─────────┤\n",
      "│ default │ 3936.840 │    4.086 │   0.000 │\n",
      "├─────────┼──────────┼──────────┼─────────┤\n",
      "│     set │ 3936.840 │    4.086 │   0.000 │\n",
      "└─────────┴──────────┴──────────┴─────────┘\n",
      "┌─────────┬──────────┬──────────┬─────────┐\n",
      "│\u001b[1m    Type \u001b[0m│\u001b[1m  E [meV] \u001b[0m│\u001b[1m F [eV/A] \u001b[0m│\u001b[1m V [meV] \u001b[0m│\n",
      "├─────────┼──────────┼──────────┼─────────┤\n",
      "│ default │ 3804.972 │    2.858 │   0.000 │\n",
      "├─────────┼──────────┼──────────┼─────────┤\n",
      "│     set │ 3804.972 │    2.858 │   0.000 │\n",
      "└─────────┴──────────┴──────────┴─────────┘\n",
      "┌─────────┬──────────┬──────────┬─────────┐\n",
      "│\u001b[1m    Type \u001b[0m│\u001b[1m  E [meV] \u001b[0m│\u001b[1m F [eV/A] \u001b[0m│\u001b[1m V [meV] \u001b[0m│\n",
      "├─────────┼──────────┼──────────┼─────────┤\n",
      "│ default │ 3936.840 │    4.086 │   0.000 │\n",
      "├─────────┼──────────┼──────────┼─────────┤\n",
      "│     set │ 3936.840 │    4.086 │   0.000 │\n",
      "└─────────┴──────────┴──────────┴─────────┘\n",
      "┌─────────┬──────────┬──────────┬─────────┐\n",
      "│\u001b[1m    Type \u001b[0m│\u001b[1m  E [meV] \u001b[0m│\u001b[1m F [eV/A] \u001b[0m│\u001b[1m V [meV] \u001b[0m│\n",
      "├─────────┼──────────┼──────────┼─────────┤\n",
      "│ default │ 3804.972 │    2.858 │   0.000 │\n",
      "├─────────┼──────────┼──────────┼─────────┤\n",
      "│     set │ 3804.972 │    2.858 │   0.000 │\n",
      "└─────────┴──────────┴──────────┴─────────┘\n",
      "\n",
      "This potential was saved with following versions:\n"
     ]
    },
    {
     "name": "stderr",
     "output_type": "stream",
     "text": [
      "\u001b[36m\u001b[1m[ \u001b[22m\u001b[39m\u001b[36m\u001b[1mInfo: \u001b[22m\u001b[39mRMSE Table\n",
      "\u001b[36m\u001b[1m[ \u001b[22m\u001b[39m\u001b[36m\u001b[1mInfo: \u001b[22m\u001b[39mMAE Table\n",
      "\u001b[36m\u001b[1m[ \u001b[22m\u001b[39m\u001b[36m\u001b[1mInfo: \u001b[22m\u001b[39mRMSE Table\n",
      "\u001b[36m\u001b[1m[ \u001b[22m\u001b[39m\u001b[36m\u001b[1mInfo: \u001b[22m\u001b[39mMAE Table\n"
     ]
    },
    {
     "name": "stdout",
     "output_type": "stream",
     "text": [
      "\n",
      "JuLIP v0.14.8\n",
      "ACEbase v0.4.4\n",
      "ACE1x v0.1.11\n",
      "ACE1 v0.12.5\n",
      "ACEmd v0.1.17\n",
      "ACEpotentials v0.6.7\n",
      "ACEfit v0.1.5\n",
      "\n",
      "If you have problems with using this potential, pin your installation to above versions.\n",
      "\n",
      "\n",
      "This potential was saved with following versions:\n",
      "\n",
      "JuLIP v0.14.8\n",
      "ACEbase v0.4.4\n",
      "ACE1x v0.1.11\n",
      "ACE1 v0.12.5\n",
      "ACEmd v0.1.17\n",
      "ACEpotentials v0.6.7\n",
      "ACEfit v0.1.5\n",
      "\n",
      "If you have problems with using this potential, pin your installation to above versions.\n",
      "\n",
      "┌─────────┬─────────┬──────────┬─────────┐\n",
      "│\u001b[1m    Type \u001b[0m│\u001b[1m E [meV] \u001b[0m│\u001b[1m F [eV/A] \u001b[0m│\u001b[1m V [meV] \u001b[0m│\n",
      "├─────────┼─────────┼──────────┼─────────┤\n",
      "│ default │   0.134 │    0.079 │   0.000 │\n",
      "├─────────┼─────────┼──────────┼─────────┤\n",
      "│     set │   0.134 │    0.079 │   0.000 │\n",
      "└─────────┴─────────┴──────────┴─────────┘\n",
      "┌─────────┬─────────┬──────────┬─────────┐\n",
      "│\u001b[1m    Type \u001b[0m│\u001b[1m E [meV] \u001b[0m│\u001b[1m F [eV/A] \u001b[0m│\u001b[1m V [meV] \u001b[0m│\n",
      "├─────────┼─────────┼──────────┼─────────┤\n",
      "│ default │   0.083 │    0.025 │   0.000 │\n",
      "├─────────┼─────────┼──────────┼─────────┤\n",
      "│     set │   0.083 │    0.025 │   0.000 │\n",
      "└─────────┴─────────┴──────────┴─────────┘\n",
      "┌─────────┬─────────┬──────────┬─────────┐\n",
      "│\u001b[1m    Type \u001b[0m│\u001b[1m E [meV] \u001b[0m│\u001b[1m F [eV/A] \u001b[0m│\u001b[1m V [meV] \u001b[0m│\n",
      "├─────────┼─────────┼──────────┼─────────┤\n",
      "│ default │   0.119 │    0.080 │   0.000 │\n",
      "├─────────┼─────────┼──────────┼─────────┤\n",
      "│     set │   0.119 │    0.080 │   0.000 │\n",
      "└─────────┴─────────┴──────────┴─────────┘\n",
      "┌─────────┬─────────┬──────────┬─────────┐\n",
      "│\u001b[1m    Type \u001b[0m│\u001b[1m E [meV] \u001b[0m│\u001b[1m F [eV/A] \u001b[0m│\u001b[1m V [meV] \u001b[0m│\n",
      "├─────────┼─────────┼──────────┼─────────┤\n",
      "│ default │   0.075 │    0.026 │   0.000 │\n",
      "├─────────┼─────────┼──────────┼─────────┤\n",
      "│     set │   0.075 │    0.026 │   0.000 │\n",
      "└─────────┴─────────┴──────────┴─────────┘\n"
     ]
    },
    {
     "name": "stderr",
     "output_type": "stream",
     "text": [
      "\u001b[36m\u001b[1m[ \u001b[22m\u001b[39m\u001b[36m\u001b[1mInfo: \u001b[22m\u001b[39mRMSE Table\n",
      "\u001b[36m\u001b[1m[ \u001b[22m\u001b[39m\u001b[36m\u001b[1mInfo: \u001b[22m\u001b[39mMAE Table\n",
      "\u001b[36m\u001b[1m[ \u001b[22m\u001b[39m\u001b[36m\u001b[1mInfo: \u001b[22m\u001b[39mRMSE Table\n",
      "\u001b[36m\u001b[1m[ \u001b[22m\u001b[39m\u001b[36m\u001b[1mInfo: \u001b[22m\u001b[39mMAE Table\n"
     ]
    },
    {
     "name": "stdout",
     "output_type": "stream",
     "text": [
      "┌─────────┬───────────┬──────────┬─────────┐\n",
      "│\u001b[1m    Type \u001b[0m│\u001b[1m   E [meV] \u001b[0m│\u001b[1m F [eV/A] \u001b[0m│\u001b[1m V [meV] \u001b[0m│\n",
      "├─────────┼───────────┼──────────┼─────────┤\n",
      "│ default │ 10111.293 │    5.932 │   0.000 │\n",
      "├─────────┼───────────┼──────────┼─────────┤\n",
      "│     set │ 10111.293 │    5.932 │   0.000 │\n",
      "└─────────┴───────────┴──────────┴─────────┘\n",
      "┌─────────┬──────────┬──────────┬─────────┐\n",
      "│\u001b[1m    Type \u001b[0m│\u001b[1m  E [meV] \u001b[0m│\u001b[1m F [eV/A] \u001b[0m│\u001b[1m V [meV] \u001b[0m│\n",
      "├─────────┼──────────┼──────────┼─────────┤\n",
      "│ default │ 9989.676 │    4.300 │   0.000 │\n",
      "├─────────┼──────────┼──────────┼─────────┤\n",
      "│     set │ 9989.676 │    4.300 │   0.000 │\n",
      "└─────────┴──────────┴──────────┴─────────┘\n"
     ]
    },
    {
     "name": "stderr",
     "output_type": "stream",
     "text": [
      "\u001b[36m\u001b[1m[ \u001b[22m\u001b[39m\u001b[36m\u001b[1mInfo: \u001b[22m\u001b[39mRMSE Table\n",
      "\u001b[36m\u001b[1m[ \u001b[22m\u001b[39m\u001b[36m\u001b[1mInfo: \u001b[22m\u001b[39mMAE Table\n"
     ]
    },
    {
     "name": "stdout",
     "output_type": "stream",
     "text": [
      "┌─────────┬──────────┬──────────┬─────────┐\n",
      "│\u001b[1m    Type \u001b[0m│\u001b[1m  E [meV] \u001b[0m│\u001b[1m F [eV/A] \u001b[0m│\u001b[1m V [meV] \u001b[0m│\n",
      "├─────────┼──────────┼──────────┼─────────┤\n",
      "│ default │ 3936.840 │    4.086 │   0.000 │\n",
      "├─────────┼──────────┼──────────┼─────────┤\n",
      "│     set │ 3936.840 │    4.086 │   0.000 │\n",
      "└─────────┴──────────┴──────────┴─────────┘\n",
      "┌─────────┬──────────┬──────────┬─────────┐\n",
      "│\u001b[1m    Type \u001b[0m│\u001b[1m  E [meV] \u001b[0m│\u001b[1m F [eV/A] \u001b[0m│\u001b[1m V [meV] \u001b[0m│\n",
      "├─────────┼──────────┼──────────┼─────────┤\n",
      "│ default │ 3804.972 │    2.858 │   0.000 │\n",
      "├─────────┼──────────┼──────────┼─────────┤\n",
      "│     set │ 3804.972 │    2.858 │   0.000 │\n",
      "└─────────┴──────────┴──────────┴─────────┘\n",
      "\n",
      "This potential was saved with following versions:\n",
      "\n",
      "JuLIP v0.14.8\n",
      "ACEbase v0.4.4\n",
      "ACE1x v0.1.11\n",
      "ACE1 v0.12.5\n",
      "ACEmd v0.1.17\n",
      "ACEpotentials v0.6.7\n",
      "ACEfit v0.1.5\n",
      "\n",
      "If you have problems with using this potential, pin your installation to above versions.\n",
      "\n",
      "\n",
      "This potential was saved with following versions:\n",
      "\n",
      "JuLIP v0.14.8\n",
      "ACEbase v0.4.4\n",
      "ACE1x v0.1.11\n",
      "ACE1 v0.12.5\n",
      "ACEmd v0.1.17\n",
      "ACEpotentials v0.6.7\n",
      "ACEfit v0.1.5\n",
      "\n",
      "If you have problems with using this potential, pin your installation to above versions.\n",
      "\n"
     ]
    },
    {
     "name": "stderr",
     "output_type": "stream",
     "text": [
      "\u001b[36m\u001b[1m[ \u001b[22m\u001b[39m\u001b[36m\u001b[1mInfo: \u001b[22m\u001b[39mRMSE Table\n",
      "\u001b[36m\u001b[1m[ \u001b[22m\u001b[39m\u001b[36m\u001b[1mInfo: \u001b[22m\u001b[39mMAE Table\n"
     ]
    },
    {
     "name": "stdout",
     "output_type": "stream",
     "text": [
      "┌─────────┬─────────┬──────────┬─────────┐\n",
      "│\u001b[1m    Type \u001b[0m│\u001b[1m E [meV] \u001b[0m│\u001b[1m F [eV/A] \u001b[0m│\u001b[1m V [meV] \u001b[0m│\n",
      "├─────────┼─────────┼──────────┼─────────┤\n",
      "│ default │   0.158 │    0.078 │   0.000 │\n",
      "├─────────┼─────────┼──────────┼─────────┤\n",
      "│     set │   0.158 │    0.078 │   0.000 │\n",
      "└─────────┴─────────┴──────────┴─────────┘\n",
      "┌─────────┬─────────┬──────────┬─────────┐\n",
      "│\u001b[1m    Type \u001b[0m│\u001b[1m E [meV] \u001b[0m│\u001b[1m F [eV/A] \u001b[0m│\u001b[1m V [meV] \u001b[0m│\n",
      "├─────────┼─────────┼──────────┼─────────┤\n",
      "│ default │   0.099 │    0.025 │   0.000 │\n",
      "├─────────┼─────────┼──────────┼─────────┤\n",
      "│     set │   0.099 │    0.025 │   0.000 │\n",
      "└─────────┴─────────┴──────────┴─────────┘\n",
      "┌─────────┬─────────┬──────────┬─────────┐\n",
      "│\u001b[1m    Type \u001b[0m│\u001b[1m E [meV] \u001b[0m│\u001b[1m F [eV/A] \u001b[0m│\u001b[1m V [meV] \u001b[0m│\n",
      "├─────────┼─────────┼──────────┼─────────┤\n",
      "│ default │   0.119 │    0.080 │   0.000 │\n",
      "├─────────┼─────────┼──────────┼─────────┤\n",
      "│     set │   0.119 │    0.080 │   0.000 │\n",
      "└─────────┴─────────┴──────────┴─────────┘\n",
      "┌─────────┬─────────┬──────────┬─────────┐\n",
      "│\u001b[1m    Type \u001b[0m│\u001b[1m E [meV] \u001b[0m│\u001b[1m F [eV/A] \u001b[0m│\u001b[1m V [meV] \u001b[0m│\n",
      "├─────────┼─────────┼──────────┼─────────┤\n",
      "│ default │   0.075 │    0.026 │   0.000 │\n",
      "├─────────┼─────────┼──────────┼─────────┤\n",
      "│     set │   0.075 │    0.026 │   0.000 │\n",
      "└─────────┴─────────┴──────────┴─────────┘\n"
     ]
    },
    {
     "name": "stderr",
     "output_type": "stream",
     "text": [
      "\u001b[36m\u001b[1m[ \u001b[22m\u001b[39m\u001b[36m\u001b[1mInfo: \u001b[22m\u001b[39mRMSE Table\n",
      "\u001b[36m\u001b[1m[ \u001b[22m\u001b[39m\u001b[36m\u001b[1mInfo: \u001b[22m\u001b[39mMAE Table\n",
      "\u001b[36m\u001b[1m[ \u001b[22m\u001b[39m\u001b[36m\u001b[1mInfo: \u001b[22m\u001b[39mRMSE Table\n",
      "\u001b[36m\u001b[1m[ \u001b[22m\u001b[39m\u001b[36m\u001b[1mInfo: \u001b[22m\u001b[39mMAE Table\n"
     ]
    },
    {
     "name": "stdout",
     "output_type": "stream",
     "text": [
      "┌─────────┬───────────┬──────────┬─────────┐\n",
      "│\u001b[1m    Type \u001b[0m│\u001b[1m   E [meV] \u001b[0m│\u001b[1m F [eV/A] \u001b[0m│\u001b[1m V [meV] \u001b[0m│\n",
      "├─────────┼───────────┼──────────┼─────────┤\n",
      "│ default │ 19583.253 │   14.666 │   0.000 │\n",
      "├─────────┼───────────┼──────────┼─────────┤\n",
      "│     set │ 19583.253 │   14.666 │   0.000 │\n",
      "└─────────┴───────────┴──────────┴─────────┘\n",
      "┌─────────┬───────────┬──────────┬─────────┐\n",
      "│\u001b[1m    Type \u001b[0m│\u001b[1m   E [meV] \u001b[0m│\u001b[1m F [eV/A] \u001b[0m│\u001b[1m V [meV] \u001b[0m│\n",
      "├─────────┼───────────┼──────────┼─────────┤\n",
      "│ default │ 19101.380 │   11.107 │   0.000 │\n",
      "├─────────┼───────────┼──────────┼─────────┤\n",
      "│     set │ 19101.380 │   11.107 │   0.000 │\n",
      "└─────────┴───────────┴──────────┴─────────┘\n"
     ]
    },
    {
     "name": "stderr",
     "output_type": "stream",
     "text": [
      "\u001b[36m\u001b[1m[ \u001b[22m\u001b[39m\u001b[36m\u001b[1mInfo: \u001b[22m\u001b[39mRMSE Table\n",
      "\u001b[36m\u001b[1m[ \u001b[22m\u001b[39m\u001b[36m\u001b[1mInfo: \u001b[22m\u001b[39mMAE Table\n"
     ]
    },
    {
     "name": "stdout",
     "output_type": "stream",
     "text": [
      "┌─────────┬──────────┬──────────┬─────────┐\n",
      "│\u001b[1m    Type \u001b[0m│\u001b[1m  E [meV] \u001b[0m│\u001b[1m F [eV/A] \u001b[0m│\u001b[1m V [meV] \u001b[0m│\n",
      "├─────────┼──────────┼──────────┼─────────┤\n",
      "│ default │ 3936.840 │    4.086 │   0.000 │\n",
      "├─────────┼──────────┼──────────┼─────────┤\n",
      "│     set │ 3936.840 │    4.086 │   0.000 │\n",
      "└─────────┴──────────┴──────────┴─────────┘\n",
      "┌─────────┬──────────┬──────────┬─────────┐\n",
      "│\u001b[1m    Type \u001b[0m│\u001b[1m  E [meV] \u001b[0m│\u001b[1m F [eV/A] \u001b[0m│\u001b[1m V [meV] \u001b[0m│\n",
      "├─────────┼──────────┼──────────┼─────────┤\n",
      "│ default │ 3804.972 │    2.858 │   0.000 │\n",
      "├─────────┼──────────┼──────────┼─────────┤\n",
      "│     set │ 3804.972 │    2.858 │   0.000 │\n",
      "└─────────┴──────────┴──────────┴─────────┘\n",
      "\n",
      "This potential was saved with following versions:\n",
      "\n",
      "JuLIP v0.14.8\n",
      "ACEbase v0.4.4\n",
      "ACE1x v0.1.11\n",
      "ACE1 v0.12.5\n",
      "ACEmd v0.1.17\n",
      "ACEpotentials v0.6.7\n",
      "ACEfit v0.1.5\n",
      "\n",
      "If you have problems with using this potential, pin your installation to above versions.\n",
      "\n",
      "\n",
      "This potential was saved with following versions:\n",
      "\n",
      "JuLIP v0.14.8\n",
      "ACEbase v0.4.4\n",
      "ACE1x v0.1.11\n",
      "ACE1 v0.12.5\n",
      "ACEmd v0.1.17\n",
      "ACEpotentials v0.6.7\n",
      "ACEfit v0.1.5\n",
      "\n",
      "If you have problems with using this potential, pin your installation to above versions.\n",
      "\n",
      "┌─────────┬─────────┬──────────┬─────────┐\n",
      "│\u001b[1m    Type \u001b[0m│\u001b[1m E [meV] \u001b[0m│\u001b[1m F [eV/A] \u001b[0m│\u001b[1m V [meV] \u001b[0m│\n",
      "├─────────┼─────────┼──────────┼─────────┤\n",
      "│ default │   4.653 │    1.661 │   0.000 │\n",
      "├─────────┼─────────┼──────────┼─────────┤\n",
      "│     set │   4.653 │    1.661 │   0.000 │\n",
      "└─────────┴─────────┴──────────┴─────────┘\n",
      "┌─────────┬─────────┬──────────┬─────────┐\n",
      "│\u001b[1m    Type \u001b[0m│\u001b[1m E [meV] \u001b[0m│\u001b[1m F [eV/A] \u001b[0m│\u001b[1m V [meV] \u001b[0m│\n",
      "├─────────┼─────────┼──────────┼─────────┤\n",
      "│ default │   3.086 │    1.078 │   0.000 │\n",
      "├─────────┼─────────┼──────────┼─────────┤\n",
      "│     set │   3.086 │    1.078 │   0.000 │\n",
      "└─────────┴─────────┴──────────┴─────────┘\n",
      "┌─────────┬─────────┬──────────┬─────────┐\n",
      "│\u001b[1m    Type \u001b[0m│\u001b[1m E [meV] \u001b[0m│\u001b[1m F [eV/A] \u001b[0m│\u001b[1m V [meV] \u001b[0m│\n",
      "├─────────┼─────────┼──────────┼─────────┤\n",
      "│ default │   4.653 │    1.661 │   0.000 │\n",
      "├─────────┼─────────┼──────────┼─────────┤\n",
      "│     set │   4.653 │    1.661 │   0.000 │\n",
      "└─────────┴─────────┴──────────┴─────────┘\n",
      "┌─────────┬─────────┬──────────┬─────────┐\n",
      "│\u001b[1m    Type \u001b[0m│\u001b[1m E [meV] \u001b[0m│\u001b[1m F [eV/A] \u001b[0m│\u001b[1m V [meV] \u001b[0m│\n",
      "├─────────┼─────────┼──────────┼─────────┤\n",
      "│ default │   3.086 │    1.078 │   0.000 │\n",
      "├─────────┼─────────┼──────────┼─────────┤\n",
      "│     set │   3.086 │    1.078 │   0.000 │\n",
      "└─────────┴─────────┴──────────┴─────────┘\n"
     ]
    },
    {
     "name": "stderr",
     "output_type": "stream",
     "text": [
      "\u001b[36m\u001b[1m[ \u001b[22m\u001b[39m\u001b[36m\u001b[1mInfo: \u001b[22m\u001b[39mRMSE Table\n",
      "\u001b[36m\u001b[1m[ \u001b[22m\u001b[39m\u001b[36m\u001b[1mInfo: \u001b[22m\u001b[39mMAE Table\n",
      "\u001b[36m\u001b[1m[ \u001b[22m\u001b[39m\u001b[36m\u001b[1mInfo: \u001b[22m\u001b[39mRMSE Table\n",
      "\u001b[36m\u001b[1m[ \u001b[22m\u001b[39m\u001b[36m\u001b[1mInfo: \u001b[22m\u001b[39mMAE Table\n",
      "\u001b[36m\u001b[1m[ \u001b[22m\u001b[39m\u001b[36m\u001b[1mInfo: \u001b[22m\u001b[39mRMSE Table\n",
      "\u001b[36m\u001b[1m[ \u001b[22m\u001b[39m\u001b[36m\u001b[1mInfo: \u001b[22m\u001b[39mMAE Table\n"
     ]
    },
    {
     "name": "stdout",
     "output_type": "stream",
     "text": [
      "┌─────────┬──────────┬──────────┬─────────┐\n",
      "│\u001b[1m    Type \u001b[0m│\u001b[1m  E [meV] \u001b[0m│\u001b[1m F [eV/A] \u001b[0m│\u001b[1m V [meV] \u001b[0m│\n",
      "├─────────┼──────────┼──────────┼─────────┤\n",
      "│ default │ 1877.334 │    2.733 │   0.000 │\n",
      "├─────────┼──────────┼──────────┼─────────┤\n",
      "│     set │ 1877.334 │    2.733 │   0.000 │\n",
      "└─────────┴──────────┴──────────┴─────────┘\n",
      "┌─────────┬──────────┬──────────┬─────────┐\n",
      "│\u001b[1m    Type \u001b[0m│\u001b[1m  E [meV] \u001b[0m│\u001b[1m F [eV/A] \u001b[0m│\u001b[1m V [meV] \u001b[0m│\n",
      "├─────────┼──────────┼──────────┼─────────┤\n",
      "│ default │ 1850.928 │    2.002 │   0.000 │\n",
      "├─────────┼──────────┼──────────┼─────────┤\n",
      "│     set │ 1850.928 │    2.002 │   0.000 │\n",
      "└─────────┴──────────┴──────────┴─────────┘\n",
      "┌─────────┬──────────┬──────────┬─────────┐\n",
      "│\u001b[1m    Type \u001b[0m│\u001b[1m  E [meV] \u001b[0m│\u001b[1m F [eV/A] \u001b[0m│\u001b[1m V [meV] \u001b[0m│\n",
      "├─────────┼──────────┼──────────┼─────────┤\n",
      "│ default │ 1877.334 │    2.733 │   0.000 │\n",
      "├─────────┼──────────┼──────────┼─────────┤\n",
      "│     set │ 1877.334 │    2.733 │   0.000 │\n",
      "└─────────┴──────────┴──────────┴─────────┘\n",
      "┌─────────┬──────────┬──────────┬─────────┐\n",
      "│\u001b[1m    Type \u001b[0m│\u001b[1m  E [meV] \u001b[0m│\u001b[1m F [eV/A] \u001b[0m│\u001b[1m V [meV] \u001b[0m│\n",
      "├─────────┼──────────┼──────────┼─────────┤\n",
      "│ default │ 1850.928 │    2.002 │   0.000 │\n",
      "├─────────┼──────────┼──────────┼─────────┤\n",
      "│     set │ 1850.928 │    2.002 │   0.000 │\n",
      "└─────────┴──────────┴──────────┴─────────┘\n",
      "\n",
      "This potential was saved with following versions:\n"
     ]
    },
    {
     "name": "stderr",
     "output_type": "stream",
     "text": [
      "\u001b[36m\u001b[1m[ \u001b[22m\u001b[39m\u001b[36m\u001b[1mInfo: \u001b[22m\u001b[39mRMSE Table\n",
      "\u001b[36m\u001b[1m[ \u001b[22m\u001b[39m\u001b[36m\u001b[1mInfo: \u001b[22m\u001b[39mMAE Table\n",
      "\u001b[36m\u001b[1m[ \u001b[22m\u001b[39m\u001b[36m\u001b[1mInfo: \u001b[22m\u001b[39mRMSE Table\n",
      "\u001b[36m\u001b[1m[ \u001b[22m\u001b[39m\u001b[36m\u001b[1mInfo: \u001b[22m\u001b[39mMAE Table\n"
     ]
    },
    {
     "name": "stdout",
     "output_type": "stream",
     "text": [
      "\n",
      "JuLIP v0.14.8\n",
      "ACEbase v0.4.4\n",
      "ACE1x v0.1.11\n",
      "ACE1 v0.12.5\n",
      "ACEmd v0.1.17\n",
      "ACEpotentials v0.6.7\n",
      "ACEfit v0.1.5\n",
      "\n",
      "If you have problems with using this potential, pin your installation to above versions.\n",
      "\n",
      "\n",
      "This potential was saved with following versions:\n",
      "\n",
      "JuLIP v0.14.8\n",
      "ACEbase v0.4.4\n",
      "ACE1x v0.1.11\n",
      "ACE1 v0.12.5\n",
      "ACEmd v0.1.17\n",
      "ACEpotentials v0.6.7\n",
      "ACEfit v0.1.5\n",
      "\n",
      "If you have problems with using this potential, pin your installation to above versions.\n",
      "\n",
      "┌─────────┬─────────┬──────────┬─────────┐\n",
      "│\u001b[1m    Type \u001b[0m│\u001b[1m E [meV] \u001b[0m│\u001b[1m F [eV/A] \u001b[0m│\u001b[1m V [meV] \u001b[0m│\n",
      "├─────────┼─────────┼──────────┼─────────┤\n",
      "│ default │   0.000 │    0.430 │   0.000 │\n",
      "├─────────┼─────────┼──────────┼─────────┤\n",
      "│     set │   0.000 │    0.430 │   0.000 │\n",
      "└─────────┴─────────┴──────────┴─────────┘\n",
      "┌─────────┬─────────┬──────────┬─────────┐\n",
      "│\u001b[1m    Type \u001b[0m│\u001b[1m E [meV] \u001b[0m│\u001b[1m F [eV/A] \u001b[0m│\u001b[1m V [meV] \u001b[0m│\n",
      "├─────────┼─────────┼──────────┼─────────┤\n",
      "│ default │   0.000 │    0.289 │   0.000 │\n",
      "├─────────┼─────────┼──────────┼─────────┤\n",
      "│     set │   0.000 │    0.289 │   0.000 │\n",
      "└─────────┴─────────┴──────────┴─────────┘\n",
      "┌─────────┬─────────┬──────────┬─────────┐\n",
      "│\u001b[1m    Type \u001b[0m│\u001b[1m E [meV] \u001b[0m│\u001b[1m F [eV/A] \u001b[0m│\u001b[1m V [meV] \u001b[0m│\n",
      "├─────────┼─────────┼──────────┼─────────┤\n",
      "│ default │   0.000 │    0.602 │   0.000 │\n",
      "├─────────┼─────────┼──────────┼─────────┤\n",
      "│     set │   0.000 │    0.602 │   0.000 │\n",
      "└─────────┴─────────┴──────────┴─────────┘\n",
      "┌─────────┬─────────┬──────────┬─────────┐\n",
      "│\u001b[1m    Type \u001b[0m│\u001b[1m E [meV] \u001b[0m│\u001b[1m F [eV/A] \u001b[0m│\u001b[1m V [meV] \u001b[0m│\n",
      "├─────────┼─────────┼──────────┼─────────┤\n",
      "│ default │   0.000 │    0.404 │   0.000 │\n",
      "├─────────┼─────────┼──────────┼─────────┤\n",
      "│     set │   0.000 │    0.404 │   0.000 │\n",
      "└─────────┴─────────┴──────────┴─────────┘\n"
     ]
    },
    {
     "name": "stderr",
     "output_type": "stream",
     "text": [
      "\u001b[36m\u001b[1m[ \u001b[22m\u001b[39m\u001b[36m\u001b[1mInfo: \u001b[22m\u001b[39mRMSE Table\n",
      "\u001b[36m\u001b[1m[ \u001b[22m\u001b[39m\u001b[36m\u001b[1mInfo: \u001b[22m\u001b[39mMAE Table\n",
      "\u001b[36m\u001b[1m[ \u001b[22m\u001b[39m\u001b[36m\u001b[1mInfo: \u001b[22m\u001b[39mRMSE Table\n",
      "\u001b[36m\u001b[1m[ \u001b[22m\u001b[39m\u001b[36m\u001b[1mInfo: \u001b[22m\u001b[39mMAE Table\n"
     ]
    },
    {
     "name": "stdout",
     "output_type": "stream",
     "text": [
      "┌─────────┬──────────┬──────────┬─────────┐\n",
      "│\u001b[1m    Type \u001b[0m│\u001b[1m  E [meV] \u001b[0m│\u001b[1m F [eV/A] \u001b[0m│\u001b[1m V [meV] \u001b[0m│\n",
      "├─────────┼──────────┼──────────┼─────────┤\n",
      "│ default │ 3169.463 │    1.699 │   0.000 │\n",
      "├─────────┼──────────┼──────────┼─────────┤\n",
      "│     set │ 3169.463 │    1.699 │   0.000 │\n",
      "└─────────┴──────────┴──────────┴─────────┘\n",
      "┌─────────┬──────────┬──────────┬─────────┐\n",
      "│\u001b[1m    Type \u001b[0m│\u001b[1m  E [meV] \u001b[0m│\u001b[1m F [eV/A] \u001b[0m│\u001b[1m V [meV] \u001b[0m│\n",
      "├─────────┼──────────┼──────────┼─────────┤\n",
      "│ default │ 3156.099 │    1.255 │   0.000 │\n",
      "├─────────┼──────────┼──────────┼─────────┤\n",
      "│     set │ 3156.099 │    1.255 │   0.000 │\n",
      "└─────────┴──────────┴──────────┴─────────┘\n"
     ]
    },
    {
     "name": "stderr",
     "output_type": "stream",
     "text": [
      "\u001b[36m\u001b[1m[ \u001b[22m\u001b[39m\u001b[36m\u001b[1mInfo: \u001b[22m\u001b[39mRMSE Table\n",
      "\u001b[36m\u001b[1m[ \u001b[22m\u001b[39m\u001b[36m\u001b[1mInfo: \u001b[22m\u001b[39mMAE Table\n"
     ]
    },
    {
     "name": "stdout",
     "output_type": "stream",
     "text": [
      "┌─────────┬──────────┬──────────┬─────────┐\n",
      "│\u001b[1m    Type \u001b[0m│\u001b[1m  E [meV] \u001b[0m│\u001b[1m F [eV/A] \u001b[0m│\u001b[1m V [meV] \u001b[0m│\n",
      "├─────────┼──────────┼──────────┼─────────┤\n",
      "│ default │ 2519.013 │    2.131 │   0.000 │\n",
      "├─────────┼──────────┼──────────┼─────────┤\n",
      "│     set │ 2519.013 │    2.131 │   0.000 │\n",
      "└─────────┴──────────┴──────────┴─────────┘\n",
      "┌─────────┬──────────┬──────────┬─────────┐\n",
      "│\u001b[1m    Type \u001b[0m│\u001b[1m  E [meV] \u001b[0m│\u001b[1m F [eV/A] \u001b[0m│\u001b[1m V [meV] \u001b[0m│\n",
      "├─────────┼──────────┼──────────┼─────────┤\n",
      "│ default │ 2492.725 │    1.584 │   0.000 │\n",
      "├─────────┼──────────┼──────────┼─────────┤\n",
      "│     set │ 2492.725 │    1.584 │   0.000 │\n",
      "└─────────┴──────────┴──────────┴─────────┘\n",
      "\n",
      "This potential was saved with following versions:\n",
      "\n",
      "JuLIP v0.14.8\n",
      "ACEbase v0.4.4\n",
      "ACE1x v0.1.11\n",
      "ACE1 v0.12.5\n",
      "ACEmd v0.1.17\n",
      "ACEpotentials v0.6.7\n",
      "ACEfit v0.1.5\n",
      "\n",
      "If you have problems with using this potential, pin your installation to above versions.\n",
      "\n",
      "\n",
      "This potential was saved with following versions:\n",
      "\n",
      "JuLIP v0.14.8\n",
      "ACEbase v0.4.4\n",
      "ACE1x v0.1.11\n",
      "ACE1 v0.12.5\n",
      "ACEmd v0.1.17\n",
      "ACEpotentials v0.6.7\n",
      "ACEfit v0.1.5\n",
      "\n",
      "If you have problems with using this potential, pin your installation to above versions.\n",
      "\n"
     ]
    },
    {
     "name": "stderr",
     "output_type": "stream",
     "text": [
      "\u001b[36m\u001b[1m[ \u001b[22m\u001b[39m\u001b[36m\u001b[1mInfo: \u001b[22m\u001b[39mRMSE Table\n",
      "\u001b[36m\u001b[1m[ \u001b[22m\u001b[39m\u001b[36m\u001b[1mInfo: \u001b[22m\u001b[39mMAE Table\n"
     ]
    },
    {
     "name": "stdout",
     "output_type": "stream",
     "text": [
      "┌─────────┬─────────┬──────────┬─────────┐\n",
      "│\u001b[1m    Type \u001b[0m│\u001b[1m E [meV] \u001b[0m│\u001b[1m F [eV/A] \u001b[0m│\u001b[1m V [meV] \u001b[0m│\n",
      "├─────────┼─────────┼──────────┼─────────┤\n",
      "│ default │   0.000 │    0.467 │   0.000 │\n",
      "├─────────┼─────────┼──────────┼─────────┤\n",
      "│     set │   0.000 │    0.467 │   0.000 │\n",
      "└─────────┴─────────┴──────────┴─────────┘\n",
      "┌─────────┬─────────┬──────────┬─────────┐\n",
      "│\u001b[1m    Type \u001b[0m│\u001b[1m E [meV] \u001b[0m│\u001b[1m F [eV/A] \u001b[0m│\u001b[1m V [meV] \u001b[0m│\n",
      "├─────────┼─────────┼──────────┼─────────┤\n",
      "│ default │   0.000 │    0.315 │   0.000 │\n",
      "├─────────┼─────────┼──────────┼─────────┤\n",
      "│     set │   0.000 │    0.315 │   0.000 │\n",
      "└─────────┴─────────┴──────────┴─────────┘\n",
      "┌─────────┬─────────┬──────────┬─────────┐\n",
      "│\u001b[1m    Type \u001b[0m│\u001b[1m E [meV] \u001b[0m│\u001b[1m F [eV/A] \u001b[0m│\u001b[1m V [meV] \u001b[0m│\n",
      "├─────────┼─────────┼──────────┼─────────┤\n",
      "│ default │   0.000 │    0.603 │   0.000 │\n",
      "├─────────┼─────────┼──────────┼─────────┤\n",
      "│     set │   0.000 │    0.603 │   0.000 │\n",
      "└─────────┴─────────┴──────────┴─────────┘\n",
      "┌─────────┬─────────┬──────────┬─────────┐\n",
      "│\u001b[1m    Type \u001b[0m│\u001b[1m E [meV] \u001b[0m│\u001b[1m F [eV/A] \u001b[0m│\u001b[1m V [meV] \u001b[0m│\n",
      "├─────────┼─────────┼──────────┼─────────┤\n",
      "│ default │   0.000 │    0.405 │   0.000 │\n",
      "├─────────┼─────────┼──────────┼─────────┤\n",
      "│     set │   0.000 │    0.405 │   0.000 │\n",
      "└─────────┴─────────┴──────────┴─────────┘\n"
     ]
    },
    {
     "name": "stderr",
     "output_type": "stream",
     "text": [
      "\u001b[36m\u001b[1m[ \u001b[22m\u001b[39m\u001b[36m\u001b[1mInfo: \u001b[22m\u001b[39mRMSE Table\n",
      "\u001b[36m\u001b[1m[ \u001b[22m\u001b[39m\u001b[36m\u001b[1mInfo: \u001b[22m\u001b[39mMAE Table\n",
      "\u001b[36m\u001b[1m[ \u001b[22m\u001b[39m\u001b[36m\u001b[1mInfo: \u001b[22m\u001b[39mRMSE Table\n",
      "\u001b[36m\u001b[1m[ \u001b[22m\u001b[39m\u001b[36m\u001b[1mInfo: \u001b[22m\u001b[39mMAE Table\n"
     ]
    },
    {
     "name": "stdout",
     "output_type": "stream",
     "text": [
      "┌─────────┬──────────┬──────────┬─────────┐\n",
      "│\u001b[1m    Type \u001b[0m│\u001b[1m  E [meV] \u001b[0m│\u001b[1m F [eV/A] \u001b[0m│\u001b[1m V [meV] \u001b[0m│\n",
      "├─────────┼──────────┼──────────┼─────────┤\n",
      "│ default │ 4846.009 │    2.662 │   0.000 │\n",
      "├─────────┼──────────┼──────────┼─────────┤\n",
      "│     set │ 4846.009 │    2.662 │   0.000 │\n",
      "└─────────┴──────────┴──────────┴─────────┘\n",
      "┌─────────┬──────────┬──────────┬─────────┐\n",
      "│\u001b[1m    Type \u001b[0m│\u001b[1m  E [meV] \u001b[0m│\u001b[1m F [eV/A] \u001b[0m│\u001b[1m V [meV] \u001b[0m│\n",
      "├─────────┼──────────┼──────────┼─────────┤\n",
      "│ default │ 4812.693 │    1.988 │   0.000 │\n",
      "├─────────┼──────────┼──────────┼─────────┤\n",
      "│     set │ 4812.693 │    1.988 │   0.000 │\n",
      "└─────────┴──────────┴──────────┴─────────┘\n"
     ]
    },
    {
     "name": "stderr",
     "output_type": "stream",
     "text": [
      "\u001b[36m\u001b[1m[ \u001b[22m\u001b[39m\u001b[36m\u001b[1mInfo: \u001b[22m\u001b[39mRMSE Table\n",
      "\u001b[36m\u001b[1m[ \u001b[22m\u001b[39m\u001b[36m\u001b[1mInfo: \u001b[22m\u001b[39mMAE Table\n"
     ]
    },
    {
     "name": "stdout",
     "output_type": "stream",
     "text": [
      "┌─────────┬──────────┬──────────┬─────────┐\n",
      "│\u001b[1m    Type \u001b[0m│\u001b[1m  E [meV] \u001b[0m│\u001b[1m F [eV/A] \u001b[0m│\u001b[1m V [meV] \u001b[0m│\n",
      "├─────────┼──────────┼──────────┼─────────┤\n",
      "│ default │ 2516.459 │    2.125 │   0.000 │\n",
      "├─────────┼──────────┼──────────┼─────────┤\n",
      "│     set │ 2516.459 │    2.125 │   0.000 │\n",
      "└─────────┴──────────┴──────────┴─────────┘\n",
      "┌─────────┬──────────┬──────────┬─────────┐\n",
      "│\u001b[1m    Type \u001b[0m│\u001b[1m  E [meV] \u001b[0m│\u001b[1m F [eV/A] \u001b[0m│\u001b[1m V [meV] \u001b[0m│\n",
      "├─────────┼──────────┼──────────┼─────────┤\n",
      "│ default │ 2490.267 │    1.580 │   0.000 │\n",
      "├─────────┼──────────┼──────────┼─────────┤\n",
      "│     set │ 2490.267 │    1.580 │   0.000 │\n",
      "└─────────┴──────────┴──────────┴─────────┘\n"
     ]
    },
    {
     "name": "stderr",
     "output_type": "stream",
     "text": [
      "\u001b[36m\u001b[1m[ \u001b[22m\u001b[39m\u001b[36m\u001b[1mInfo: \u001b[22m\u001b[39mRMSE Table\n",
      "\u001b[36m\u001b[1m[ \u001b[22m\u001b[39m\u001b[36m\u001b[1mInfo: \u001b[22m\u001b[39mMAE Table\n"
     ]
    },
    {
     "name": "stdout",
     "output_type": "stream",
     "text": [
      "\n",
      "This potential was saved with following versions:\n",
      "\n",
      "JuLIP v0.14.8\n",
      "ACEbase v0.4.4\n",
      "ACE1x v0.1.11\n",
      "ACE1 v0.12.5\n",
      "ACEmd v0.1.17\n",
      "ACEpotentials v0.6.7\n",
      "ACEfit v0.1.5\n",
      "\n",
      "If you have problems with using this potential, pin your installation to above versions.\n",
      "\n",
      "\n",
      "This potential was saved with following versions:\n",
      "\n",
      "JuLIP v0.14.8\n",
      "ACEbase v0.4.4\n",
      "ACE1x v0.1.11\n",
      "ACE1 v0.12.5\n",
      "ACEmd v0.1.17\n",
      "ACEpotentials v0.6.7\n",
      "ACEfit v0.1.5\n",
      "\n",
      "If you have problems with using this potential, pin your installation to above versions.\n",
      "\n",
      "┌─────────┬─────────┬──────────┬─────────┐\n",
      "│\u001b[1m    Type \u001b[0m│\u001b[1m E [meV] \u001b[0m│\u001b[1m F [eV/A] \u001b[0m│\u001b[1m V [meV] \u001b[0m│\n",
      "├─────────┼─────────┼──────────┼─────────┤\n",
      "│ default │  55.222 │    0.720 │   0.000 │\n",
      "├─────────┼─────────┼──────────┼─────────┤\n",
      "│     set │  55.222 │    0.720 │   0.000 │\n",
      "└─────────┴─────────┴──────────┴─────────┘\n",
      "┌─────────┬─────────┬──────────┬─────────┐\n",
      "│\u001b[1m    Type \u001b[0m│\u001b[1m E [meV] \u001b[0m│\u001b[1m F [eV/A] \u001b[0m│\u001b[1m V [meV] \u001b[0m│\n",
      "├─────────┼─────────┼──────────┼─────────┤\n",
      "│ default │  44.186 │    0.529 │   0.000 │\n",
      "├─────────┼─────────┼──────────┼─────────┤\n",
      "│     set │  44.186 │    0.529 │   0.000 │\n",
      "└─────────┴─────────┴──────────┴─────────┘\n"
     ]
    },
    {
     "name": "stderr",
     "output_type": "stream",
     "text": [
      "\u001b[36m\u001b[1m[ \u001b[22m\u001b[39m\u001b[36m\u001b[1mInfo: \u001b[22m\u001b[39mRMSE Table\n",
      "\u001b[36m\u001b[1m[ \u001b[22m\u001b[39m\u001b[36m\u001b[1mInfo: \u001b[22m\u001b[39mMAE Table\n"
     ]
    },
    {
     "name": "stdout",
     "output_type": "stream",
     "text": [
      "┌─────────┬─────────┬──────────┬─────────┐\n",
      "│\u001b[1m    Type \u001b[0m│\u001b[1m E [meV] \u001b[0m│\u001b[1m F [eV/A] \u001b[0m│\u001b[1m V [meV] \u001b[0m│\n",
      "├─────────┼─────────┼──────────┼─────────┤\n",
      "│ default │  55.222 │    0.720 │   0.000 │\n",
      "├─────────┼─────────┼──────────┼─────────┤\n",
      "│     set │  55.222 │    0.720 │   0.000 │\n",
      "└─────────┴─────────┴──────────┴─────────┘\n",
      "┌─────────┬─────────┬──────────┬─────────┐\n",
      "│\u001b[1m    Type \u001b[0m│\u001b[1m E [meV] \u001b[0m│\u001b[1m F [eV/A] \u001b[0m│\u001b[1m V [meV] \u001b[0m│\n",
      "├─────────┼─────────┼──────────┼─────────┤\n",
      "│ default │  44.186 │    0.529 │   0.000 │\n",
      "├─────────┼─────────┼──────────┼─────────┤\n",
      "│     set │  44.186 │    0.529 │   0.000 │\n",
      "└─────────┴─────────┴──────────┴─────────┘\n",
      "┌─────────┬─────────┬──────────┬─────────┐\n",
      "│\u001b[1m    Type \u001b[0m│\u001b[1m E [meV] \u001b[0m│\u001b[1m F [eV/A] \u001b[0m│\u001b[1m V [meV] \u001b[0m│\n",
      "├─────────┼─────────┼──────────┼─────────┤\n",
      "│ default │  55.222 │    0.720 │   0.000 │\n",
      "├─────────┼─────────┼──────────┼─────────┤\n",
      "│     set │  55.222 │    0.720 │   0.000 │\n",
      "└─────────┴─────────┴──────────┴─────────┘\n",
      "┌─────────┬─────────┬──────────┬─────────┐\n",
      "│\u001b[1m    Type \u001b[0m│\u001b[1m E [meV] \u001b[0m│\u001b[1m F [eV/A] \u001b[0m│\u001b[1m V [meV] \u001b[0m│\n",
      "├─────────┼─────────┼──────────┼─────────┤\n",
      "│ default │  44.186 │    0.529 │   0.000 │\n",
      "├─────────┼─────────┼──────────┼─────────┤\n",
      "│     set │  44.186 │    0.529 │   0.000 │\n",
      "└─────────┴─────────┴──────────┴─────────┘\n"
     ]
    },
    {
     "name": "stderr",
     "output_type": "stream",
     "text": [
      "\u001b[36m\u001b[1m[ \u001b[22m\u001b[39m\u001b[36m\u001b[1mInfo: \u001b[22m\u001b[39mRMSE Table\n",
      "\u001b[36m\u001b[1m[ \u001b[22m\u001b[39m\u001b[36m\u001b[1mInfo: \u001b[22m\u001b[39mMAE Table\n",
      "\u001b[36m\u001b[1m[ \u001b[22m\u001b[39m\u001b[36m\u001b[1mInfo: \u001b[22m\u001b[39mRMSE Table\n",
      "\u001b[36m\u001b[1m[ \u001b[22m\u001b[39m\u001b[36m\u001b[1mInfo: \u001b[22m\u001b[39mMAE Table\n"
     ]
    },
    {
     "name": "stdout",
     "output_type": "stream",
     "text": [
      "┌─────────┬─────────┬──────────┬─────────┐\n",
      "│\u001b[1m    Type \u001b[0m│\u001b[1m E [meV] \u001b[0m│\u001b[1m F [eV/A] \u001b[0m│\u001b[1m V [meV] \u001b[0m│\n",
      "├─────────┼─────────┼──────────┼─────────┤\n",
      "│ default │  55.222 │    0.720 │   0.000 │\n",
      "├─────────┼─────────┼──────────┼─────────┤\n",
      "│     set │  55.222 │    0.720 │   0.000 │\n",
      "└─────────┴─────────┴──────────┴─────────┘\n",
      "┌─────────┬─────────┬──────────┬─────────┐\n",
      "│\u001b[1m    Type \u001b[0m│\u001b[1m E [meV] \u001b[0m│\u001b[1m F [eV/A] \u001b[0m│\u001b[1m V [meV] \u001b[0m│\n",
      "├─────────┼─────────┼──────────┼─────────┤\n",
      "│ default │  44.186 │    0.529 │   0.000 │\n",
      "├─────────┼─────────┼──────────┼─────────┤\n",
      "│     set │  44.186 │    0.529 │   0.000 │\n",
      "└─────────┴─────────┴──────────┴─────────┘\n",
      "\n",
      "This potential was saved with following versions:\n",
      "\n",
      "JuLIP v0.14.8\n",
      "ACEbase v0.4.4\n",
      "ACE1x v0.1.11\n",
      "ACE1 v0.12.5\n",
      "ACEmd v0.1.17\n",
      "ACEpotentials v0.6.7\n",
      "ACEfit v0.1.5\n",
      "\n",
      "If you have problems with using this potential, pin your installation to above versions.\n",
      "\n",
      "\n",
      "This potential was saved with following versions:\n",
      "\n",
      "JuLIP v0.14.8\n",
      "ACEbase v0.4.4\n",
      "ACE1x v0.1.11\n",
      "ACE1 v0.12.5\n",
      "ACEmd v0.1.17\n",
      "ACEpotentials v0.6.7\n",
      "ACEfit v0.1.5\n",
      "\n",
      "If you have problems with using this potential, pin your installation to above versions.\n",
      "\n"
     ]
    },
    {
     "name": "stderr",
     "output_type": "stream",
     "text": [
      "\u001b[36m\u001b[1m[ \u001b[22m\u001b[39m\u001b[36m\u001b[1mInfo: \u001b[22m\u001b[39mRMSE Table\n",
      "\u001b[36m\u001b[1m[ \u001b[22m\u001b[39m\u001b[36m\u001b[1mInfo: \u001b[22m\u001b[39mMAE Table\n"
     ]
    },
    {
     "name": "stdout",
     "output_type": "stream",
     "text": [
      "┌─────────┬─────────┬──────────┬─────────┐\n",
      "│\u001b[1m    Type \u001b[0m│\u001b[1m E [meV] \u001b[0m│\u001b[1m F [eV/A] \u001b[0m│\u001b[1m V [meV] \u001b[0m│\n",
      "├─────────┼─────────┼──────────┼─────────┤\n",
      "│ default │  24.237 │    0.484 │   0.000 │\n",
      "├─────────┼─────────┼──────────┼─────────┤\n",
      "│     set │  24.237 │    0.484 │   0.000 │\n",
      "└─────────┴─────────┴──────────┴─────────┘\n",
      "┌─────────┬─────────┬──────────┬─────────┐\n",
      "│\u001b[1m    Type \u001b[0m│\u001b[1m E [meV] \u001b[0m│\u001b[1m F [eV/A] \u001b[0m│\u001b[1m V [meV] \u001b[0m│\n",
      "├─────────┼─────────┼──────────┼─────────┤\n",
      "│ default │  19.651 │    0.353 │   0.000 │\n",
      "├─────────┼─────────┼──────────┼─────────┤\n",
      "│     set │  19.651 │    0.353 │   0.000 │\n",
      "└─────────┴─────────┴──────────┴─────────┘\n"
     ]
    },
    {
     "name": "stderr",
     "output_type": "stream",
     "text": [
      "\u001b[36m\u001b[1m[ \u001b[22m\u001b[39m\u001b[36m\u001b[1mInfo: \u001b[22m\u001b[39mRMSE Table\n",
      "\u001b[36m\u001b[1m[ \u001b[22m\u001b[39m\u001b[36m\u001b[1mInfo: \u001b[22m\u001b[39mMAE Table\n"
     ]
    },
    {
     "name": "stdout",
     "output_type": "stream",
     "text": [
      "┌─────────┬─────────┬──────────┬─────────┐\n",
      "│\u001b[1m    Type \u001b[0m│\u001b[1m E [meV] \u001b[0m│\u001b[1m F [eV/A] \u001b[0m│\u001b[1m V [meV] \u001b[0m│\n",
      "├─────────┼─────────┼──────────┼─────────┤\n",
      "│ default │  21.610 │    0.510 │   0.000 │\n",
      "├─────────┼─────────┼──────────┼─────────┤\n",
      "│     set │  21.610 │    0.510 │   0.000 │\n",
      "└─────────┴─────────┴──────────┴─────────┘\n",
      "┌─────────┬─────────┬──────────┬─────────┐\n",
      "│\u001b[1m    Type \u001b[0m│\u001b[1m E [meV] \u001b[0m│\u001b[1m F [eV/A] \u001b[0m│\u001b[1m V [meV] \u001b[0m│\n",
      "├─────────┼─────────┼──────────┼─────────┤\n",
      "│ default │  17.364 │    0.369 │   0.000 │\n",
      "├─────────┼─────────┼──────────┼─────────┤\n",
      "│     set │  17.364 │    0.369 │   0.000 │\n",
      "└─────────┴─────────┴──────────┴─────────┘\n"
     ]
    },
    {
     "name": "stderr",
     "output_type": "stream",
     "text": [
      "\u001b[36m\u001b[1m[ \u001b[22m\u001b[39m\u001b[36m\u001b[1mInfo: \u001b[22m\u001b[39mRMSE Table\n",
      "\u001b[36m\u001b[1m[ \u001b[22m\u001b[39m\u001b[36m\u001b[1mInfo: \u001b[22m\u001b[39mMAE Table\n"
     ]
    },
    {
     "name": "stdout",
     "output_type": "stream",
     "text": [
      "┌─────────┬─────────┬──────────┬─────────┐\n",
      "│\u001b[1m    Type \u001b[0m│\u001b[1m E [meV] \u001b[0m│\u001b[1m F [eV/A] \u001b[0m│\u001b[1m V [meV] \u001b[0m│\n",
      "├─────────┼─────────┼──────────┼─────────┤\n",
      "│ default │  24.237 │    0.484 │   0.000 │\n",
      "├─────────┼─────────┼──────────┼─────────┤\n",
      "│     set │  24.237 │    0.484 │   0.000 │\n",
      "└─────────┴─────────┴──────────┴─────────┘\n",
      "┌─────────┬─────────┬──────────┬─────────┐\n",
      "│\u001b[1m    Type \u001b[0m│\u001b[1m E [meV] \u001b[0m│\u001b[1m F [eV/A] \u001b[0m│\u001b[1m V [meV] \u001b[0m│\n",
      "├─────────┼─────────┼──────────┼─────────┤\n",
      "│ default │  19.651 │    0.353 │   0.000 │\n",
      "├─────────┼─────────┼──────────┼─────────┤\n",
      "│     set │  19.651 │    0.353 │   0.000 │\n",
      "└─────────┴─────────┴──────────┴─────────┘\n"
     ]
    },
    {
     "name": "stderr",
     "output_type": "stream",
     "text": [
      "\u001b[36m\u001b[1m[ \u001b[22m\u001b[39m\u001b[36m\u001b[1mInfo: \u001b[22m\u001b[39mRMSE Table\n",
      "\u001b[36m\u001b[1m[ \u001b[22m\u001b[39m\u001b[36m\u001b[1mInfo: \u001b[22m\u001b[39mMAE Table\n"
     ]
    },
    {
     "name": "stdout",
     "output_type": "stream",
     "text": [
      "┌─────────┬─────────┬──────────┬─────────┐\n",
      "│\u001b[1m    Type \u001b[0m│\u001b[1m E [meV] \u001b[0m│\u001b[1m F [eV/A] \u001b[0m│\u001b[1m V [meV] \u001b[0m│\n",
      "├─────────┼─────────┼──────────┼─────────┤\n",
      "│ default │  21.610 │    0.510 │   0.000 │\n",
      "├─────────┼─────────┼──────────┼─────────┤\n",
      "│     set │  21.610 │    0.510 │   0.000 │\n",
      "└─────────┴─────────┴──────────┴─────────┘\n",
      "┌─────────┬─────────┬──────────┬─────────┐\n",
      "│\u001b[1m    Type \u001b[0m│\u001b[1m E [meV] \u001b[0m│\u001b[1m F [eV/A] \u001b[0m│\u001b[1m V [meV] \u001b[0m│\n",
      "├─────────┼─────────┼──────────┼─────────┤\n",
      "│ default │  17.364 │    0.369 │   0.000 │\n",
      "├─────────┼─────────┼──────────┼─────────┤\n",
      "│     set │  17.364 │    0.369 │   0.000 │\n",
      "└─────────┴─────────┴──────────┴─────────┘\n",
      "\n",
      "This potential was saved with following versions:\n",
      "\n",
      "JuLIP v0.14.8\n",
      "ACEbase v0.4.4\n",
      "ACE1x v0.1.11\n",
      "ACE1 v0.12.5\n",
      "ACEmd v0.1.17\n",
      "ACEpotentials v0.6.7\n",
      "ACEfit v0.1.5\n",
      "\n",
      "If you have problems with using this potential, pin your installation to above versions.\n",
      "\n",
      "\n",
      "This potential was saved with following versions:\n",
      "\n",
      "JuLIP v0.14.8\n",
      "ACEbase v0.4.4\n",
      "ACE1x v0.1.11\n",
      "ACE1 v0.12.5\n",
      "ACEmd v0.1.17\n",
      "ACEpotentials v0.6.7\n",
      "ACEfit v0.1.5\n",
      "\n",
      "If you have problems with using this potential, pin your installation to above versions.\n",
      "\n"
     ]
    },
    {
     "name": "stderr",
     "output_type": "stream",
     "text": [
      "\u001b[36m\u001b[1m[ \u001b[22m\u001b[39m\u001b[36m\u001b[1mInfo: \u001b[22m\u001b[39mRMSE Table\n",
      "\u001b[36m\u001b[1m[ \u001b[22m\u001b[39m\u001b[36m\u001b[1mInfo: \u001b[22m\u001b[39mMAE Table\n"
     ]
    },
    {
     "name": "stdout",
     "output_type": "stream",
     "text": [
      "┌─────────┬─────────┬──────────┬─────────┐\n",
      "│\u001b[1m    Type \u001b[0m│\u001b[1m E [meV] \u001b[0m│\u001b[1m F [eV/A] \u001b[0m│\u001b[1m V [meV] \u001b[0m│\n",
      "├─────────┼─────────┼──────────┼─────────┤\n",
      "│ default │  24.424 │    0.463 │   0.000 │\n",
      "├─────────┼─────────┼──────────┼─────────┤\n",
      "│     set │  24.424 │    0.463 │   0.000 │\n",
      "└─────────┴─────────┴──────────┴─────────┘\n",
      "┌─────────┬─────────┬──────────┬─────────┐\n",
      "│\u001b[1m    Type \u001b[0m│\u001b[1m E [meV] \u001b[0m│\u001b[1m F [eV/A] \u001b[0m│\u001b[1m V [meV] \u001b[0m│\n",
      "├─────────┼─────────┼──────────┼─────────┤\n",
      "│ default │  19.875 │    0.338 │   0.000 │\n",
      "├─────────┼─────────┼──────────┼─────────┤\n",
      "│     set │  19.875 │    0.338 │   0.000 │\n",
      "└─────────┴─────────┴──────────┴─────────┘\n"
     ]
    },
    {
     "name": "stderr",
     "output_type": "stream",
     "text": [
      "\u001b[36m\u001b[1m[ \u001b[22m\u001b[39m\u001b[36m\u001b[1mInfo: \u001b[22m\u001b[39mRMSE Table\n",
      "\u001b[36m\u001b[1m[ \u001b[22m\u001b[39m\u001b[36m\u001b[1mInfo: \u001b[22m\u001b[39mMAE Table\n"
     ]
    },
    {
     "name": "stdout",
     "output_type": "stream",
     "text": [
      "┌─────────┬─────────┬──────────┬─────────┐\n",
      "│\u001b[1m    Type \u001b[0m│\u001b[1m E [meV] \u001b[0m│\u001b[1m F [eV/A] \u001b[0m│\u001b[1m V [meV] \u001b[0m│\n",
      "├─────────┼─────────┼──────────┼─────────┤\n",
      "│ default │  20.280 │    0.506 │   0.000 │\n",
      "├─────────┼─────────┼──────────┼─────────┤\n",
      "│     set │  20.280 │    0.506 │   0.000 │\n",
      "└─────────┴─────────┴──────────┴─────────┘\n",
      "┌─────────┬─────────┬──────────┬─────────┐\n",
      "│\u001b[1m    Type \u001b[0m│\u001b[1m E [meV] \u001b[0m│\u001b[1m F [eV/A] \u001b[0m│\u001b[1m V [meV] \u001b[0m│\n",
      "├─────────┼─────────┼──────────┼─────────┤\n",
      "│ default │  16.300 │    0.368 │   0.000 │\n",
      "├─────────┼─────────┼──────────┼─────────┤\n",
      "│     set │  16.300 │    0.368 │   0.000 │\n",
      "└─────────┴─────────┴──────────┴─────────┘\n"
     ]
    },
    {
     "name": "stderr",
     "output_type": "stream",
     "text": [
      "\u001b[36m\u001b[1m[ \u001b[22m\u001b[39m\u001b[36m\u001b[1mInfo: \u001b[22m\u001b[39mRMSE Table\n",
      "\u001b[36m\u001b[1m[ \u001b[22m\u001b[39m\u001b[36m\u001b[1mInfo: \u001b[22m\u001b[39mMAE Table\n"
     ]
    },
    {
     "name": "stdout",
     "output_type": "stream",
     "text": [
      "┌─────────┬─────────┬──────────┬─────────┐\n",
      "│\u001b[1m    Type \u001b[0m│\u001b[1m E [meV] \u001b[0m│\u001b[1m F [eV/A] \u001b[0m│\u001b[1m V [meV] \u001b[0m│\n",
      "├─────────┼─────────┼──────────┼─────────┤\n",
      "│ default │  24.424 │    0.463 │   0.000 │\n",
      "├─────────┼─────────┼──────────┼─────────┤\n",
      "│     set │  24.424 │    0.463 │   0.000 │\n",
      "└─────────┴─────────┴──────────┴─────────┘\n",
      "┌─────────┬─────────┬──────────┬─────────┐\n",
      "│\u001b[1m    Type \u001b[0m│\u001b[1m E [meV] \u001b[0m│\u001b[1m F [eV/A] \u001b[0m│\u001b[1m V [meV] \u001b[0m│\n",
      "├─────────┼─────────┼──────────┼─────────┤\n",
      "│ default │  19.875 │    0.338 │   0.000 │\n",
      "├─────────┼─────────┼──────────┼─────────┤\n",
      "│     set │  19.875 │    0.338 │   0.000 │\n",
      "└─────────┴─────────┴──────────┴─────────┘\n"
     ]
    },
    {
     "name": "stderr",
     "output_type": "stream",
     "text": [
      "\u001b[36m\u001b[1m[ \u001b[22m\u001b[39m\u001b[36m\u001b[1mInfo: \u001b[22m\u001b[39mRMSE Table\n",
      "\u001b[36m\u001b[1m[ \u001b[22m\u001b[39m\u001b[36m\u001b[1mInfo: \u001b[22m\u001b[39mMAE Table\n"
     ]
    },
    {
     "name": "stdout",
     "output_type": "stream",
     "text": [
      "┌─────────┬─────────┬──────────┬─────────┐\n",
      "│\u001b[1m    Type \u001b[0m│\u001b[1m E [meV] \u001b[0m│\u001b[1m F [eV/A] \u001b[0m│\u001b[1m V [meV] \u001b[0m│\n",
      "├─────────┼─────────┼──────────┼─────────┤\n",
      "│ default │  20.280 │    0.506 │   0.000 │\n",
      "├─────────┼─────────┼──────────┼─────────┤\n",
      "│     set │  20.280 │    0.506 │   0.000 │\n",
      "└─────────┴─────────┴──────────┴─────────┘\n",
      "┌─────────┬─────────┬──────────┬─────────┐\n",
      "│\u001b[1m    Type \u001b[0m│\u001b[1m E [meV] \u001b[0m│\u001b[1m F [eV/A] \u001b[0m│\u001b[1m V [meV] \u001b[0m│\n",
      "├─────────┼─────────┼──────────┼─────────┤\n",
      "│ default │  16.300 │    0.368 │   0.000 │\n",
      "├─────────┼─────────┼──────────┼─────────┤\n",
      "│     set │  16.300 │    0.368 │   0.000 │\n",
      "└─────────┴─────────┴──────────┴─────────┘\n"
     ]
    },
    {
     "name": "stderr",
     "output_type": "stream",
     "text": [
      "\u001b[36m\u001b[1m[ \u001b[22m\u001b[39m\u001b[36m\u001b[1mInfo: \u001b[22m\u001b[39mRMSE Table\n",
      "\u001b[36m\u001b[1m[ \u001b[22m\u001b[39m\u001b[36m\u001b[1mInfo: \u001b[22m\u001b[39mMAE Table\n"
     ]
    }
   ],
   "source": [
    "dsets = [\"Si2\", \"Si3\", \"Si4\", \"Si5\"]\n",
    "vset = \"Si5\"\n",
    "ecost = \"50.0\"\n",
    "elossweight = parse(Float64, ecost)\n",
    "weights = Dict(\"default\" => Dict(\"E\" => elossweight, \"F\" => 1.0))\n",
    "basisvals = [\"24.20\",\"24.20.16\",\"24.20.16.12\"]\n",
    "Vref = OneBody(:Si => -7881.32677981122) # Si2 isolated energy\n",
    "datakeys = (energy_key = \"energy\", force_key = \"forces\")\n",
    "val_data_dir = \"./datasets/$(vset).xyz\"; val_data = read_extxyz(val_data_dir)\n",
    "val_atoms = [ACEpotentials.AtomsData(v; weights=weights, v_ref=Vref, datakeys...) for v in val_data]\n",
    "\n",
    "pots = Dict()\n",
    "pots_pure = Dict()\n",
    "errs = Dict(\"train\" => Dict(), \"val\" => Dict())\n",
    "errs_pure = Dict(\"train\" => Dict(), \"val\" => Dict())\n",
    "\n",
    "for dset in dsets\n",
    "    train_data_dir = \"./datasets/$(dset).xyz\"; train_data = read_extxyz(train_data_dir)\n",
    "    train_atoms = [ACEpotentials.AtomsData(t; weights=weights, v_ref=Vref, datakeys...) for t in train_data]\n",
    "    for basisval in basisvals\n",
    "        # Load potential\n",
    "        pots[\"$(dset)_$(basisval)\"] = load_potential(\"./acejulia/$(dset)/$(basisval)/ecost$(ecost)/potential.json\")\n",
    "        pots_pure[\"$(dset)_$(basisval)\"] = load_potential(\"./acejulia/$(dset)_purify/$(basisval)/ecost$(ecost)/potential.json\")\n",
    "        # Compute errors\n",
    "        errs[\"train\"][\"$(dset)_$(basisval)\"] = ACEpotentials.linear_errors(train_atoms, pots[\"$(dset)_$(basisval)\"])\n",
    "        errs_pure[\"train\"][\"$(dset)_$(basisval)\"] = ACEpotentials.linear_errors(train_atoms, pots_pure[\"$(dset)_$(basisval)\"])\n",
    "        errs[\"val\"][\"$(dset)_$(basisval)\"] = ACEpotentials.linear_errors(val_atoms, pots[\"$(dset)_$(basisval)\"])\n",
    "        errs_pure[\"val\"][\"$(dset)_$(basisval)\"] = ACEpotentials.linear_errors(val_atoms, pots_pure[\"$(dset)_$(basisval)\"])\n",
    "    end\n",
    "end\n",
    "        \n"
   ]
  },
  {
   "cell_type": "code",
   "execution_count": 51,
   "id": "563647b7",
   "metadata": {},
   "outputs": [
    {
     "data": {
      "text/plain": [
       "3-element Vector{String}:\n",
       " \"24.20\"\n",
       " \"24.20.16\"\n",
       " \"24.20.16.12\""
      ]
     },
     "execution_count": 51,
     "metadata": {},
     "output_type": "execute_result"
    }
   ],
   "source": [
    "basisvals"
   ]
  },
  {
   "cell_type": "code",
   "execution_count": null,
   "id": "8a549b61",
   "metadata": {},
   "outputs": [
    {
     "name": "stdout",
     "output_type": "stream",
     "text": [
      "errors for Si2:\n",
      "  Si2_24.20:\n",
      "    Train MAE E: 0.0003295037669613521\n",
      "    Train MAE F: 0.014631883962682973\n",
      "    Val MAE E: 2.6798167614910544\n",
      "    Val MAE F: 1.666714735904054\n",
      "  Si2_24.20.16:\n",
      "    Train MAE E: 0.00032950376699773185\n",
      "    Train MAE F: 0.014631883959668676\n",
      "    Val MAE E: 2.679816761618633\n",
      "    Val MAE F: 1.6667147358113914\n",
      "  Si2_24.20.16.12:\n",
      "    Train MAE E: 0.00032950376699773185\n",
      "    Train MAE F: 0.014631883959668676\n",
      "    Val MAE E: 2.679816761876522\n",
      "    Val MAE F: 1.6667147357871739\n",
      "errors for Si3:\n",
      "  Si3_24.20:\n",
      "    Train MAE E: 7.514078691201576e-5\n",
      "    Train MAE F: 0.02571718896575403\n",
      "    Val MAE E: 3.804971636814831\n",
      "    Val MAE F: 2.858206490306253\n",
      "  Si3_24.20.16:\n",
      "    Train MAE E: 8.342407291820563e-5\n",
      "    Train MAE F: 0.02464874843622091\n",
      "    Val MAE E: 9.989676199672992\n",
      "    Val MAE F: 4.299827323724238\n",
      "  Si3_24.20.16.12:\n",
      "    Train MAE E: 9.917514633343671e-5\n",
      "    Train MAE F: 0.02548843020945877\n",
      "    Val MAE E: 19.1013800390616\n",
      "    Val MAE F: 11.106770035297926\n",
      "errors for Si4:\n",
      "  Si4_24.20:\n",
      "    Train MAE E: 0.003085885978980514\n",
      "    Train MAE F: 1.0782276506088444\n",
      "    Val MAE E: 1.8509284013997713\n",
      "    Val MAE F: 2.0021428579379537\n",
      "  Si4_24.20.16:\n",
      "    Train MAE E: 1.686203177087009e-11\n",
      "    Train MAE F: 0.2888260281035634\n",
      "    Val MAE E: 3.1560994092361545\n",
      "    Val MAE F: 1.2547983469787605\n",
      "  Si4_24.20.16.12:\n",
      "    Train MAE E: 2.4465407477691768e-11\n",
      "    Train MAE F: 0.31531139411432735\n",
      "    Val MAE E: 4.812692631112139\n",
      "    Val MAE F: 1.987820565434771\n",
      "errors for Si5:\n",
      "  Si5_24.20:\n",
      "    Train MAE E: 0.04418621288175018\n",
      "    Train MAE F: 0.5290207263058506\n",
      "    Val MAE E: 0.04418621288175018\n",
      "    Val MAE F: 0.5290207263058506\n",
      "  Si5_24.20.16:\n",
      "    Train MAE E: 0.019650559042183886\n",
      "    Train MAE F: 0.35292831700352423\n",
      "    Val MAE E: 0.019650559042183886\n",
      "    Val MAE F: 0.35292831700352423\n",
      "  Si5_24.20.16.12:\n",
      "    Train MAE E: 0.019875246442239584\n",
      "    Train MAE F: 0.338201333823165\n",
      "    Val MAE E: 0.019875246442239584\n",
      "    Val MAE F: 0.338201333823165\n"
     ]
    }
   ],
   "source": [
    "for dset in dsets\n",
    "    println(\"errors for $(dset):\")\n",
    "    for basisval in basisvals\n",
    "        println(\"  $(dset)_$(basisval):\")\n",
    "        println(\"    Train MAE E: \", errs[\"train\"][\"$(dset)_$(basisval)\"][\"mae\"][\"default\"][\"E\"])\n",
    "        println(\"    Train MAE F: \", errs[\"train\"][\"$(dset)_$(basisval)\"][\"mae\"][\"default\"][\"F\"])\n",
    "        println(\"    Val MAE E: \", errs[\"val\"][\"$(dset)_$(basisval)\"][\"mae\"][\"default\"][\"E\"])\n",
    "        println(\"    Val MAE F: \", errs[\"val\"][\"$(dset)_$(basisval)\"][\"mae\"][\"default\"][\"F\"])\n",
    "        # println(\"    Train MAE E: \", errs_pure[\"train\"][\"$(dset)_$(basisval)\"][\"mae\"][\"default\"][\"E\"])\n",
    "        # println(\"    Train MAE F: \", errs_pure[\"train\"][\"$(dset)_$(basisval)\"][\"mae\"][\"default\"][\"F\"])\n",
    "\n",
    "        # println(\"    Val MAE E: \", errs_pure[\"val\"][\"$(dset)_$(basisval)\"][\"mae\"][\"default\"][\"E\"])\n",
    "        # println(\"    Val MAE F: \", errs_pure[\"val\"][\"$(dset)_$(basisval)\"][\"mae\"][\"default\"][\"F\"])\n",
    "    end\n",
    "end\n"
   ]
  },
  {
   "cell_type": "code",
   "execution_count": 3,
   "id": "cff8116e",
   "metadata": {},
   "outputs": [
    {
     "name": "stdout",
     "output_type": "stream",
     "text": [
      "\n",
      "This potential was saved with following versions:\n",
      "\n",
      "JuLIP v0.14.8\n",
      "ACEbase v0.4.4\n",
      "ACE1x v0.1.11\n",
      "ACE1 v0.12.5\n",
      "ACEmd v0.1.17\n",
      "ACEpotentials v0.6.7\n",
      "ACEfit v0.1.5\n",
      "\n",
      "If you have problems with using this potential, pin your installation to above versions.\n",
      "\n",
      "\n",
      "This potential was saved with following versions:\n",
      "\n",
      "JuLIP v0.14.8\n",
      "ACEbase v0.4.4\n",
      "ACE1x v0.1.11\n",
      "ACE1 v0.12.5\n",
      "ACEmd v0.1.17\n",
      "ACEpotentials v0.6.7\n",
      "ACEfit v0.1.5\n",
      "\n",
      "If you have problems with using this potential, pin your installation to above versions.\n",
      "\n",
      "┌─────────┬─────────┬──────────┬─────────┐\n",
      "│\u001b[1m    Type \u001b[0m│\u001b[1m E [meV] \u001b[0m│\u001b[1m F [eV/A] \u001b[0m│\u001b[1m V [meV] \u001b[0m│\n",
      "├─────────┼─────────┼──────────┼─────────┤\n",
      "│ default │  24.424 │    0.000 │   0.000 │\n",
      "├─────────┼─────────┼──────────┼─────────┤\n",
      "│     set │  24.424 │    0.000 │   0.000 │\n",
      "└─────────┴─────────┴──────────┴─────────┘\n",
      "┌─────────┬─────────┬──────────┬─────────┐\n",
      "│\u001b[1m    Type \u001b[0m│\u001b[1m E [meV] \u001b[0m│\u001b[1m F [eV/A] \u001b[0m│\u001b[1m V [meV] \u001b[0m│\n",
      "├─────────┼─────────┼──────────┼─────────┤\n",
      "│ default │  19.875 │    0.000 │   0.000 │\n",
      "├─────────┼─────────┼──────────┼─────────┤\n",
      "│     set │  19.875 │    0.000 │   0.000 │\n",
      "└─────────┴─────────┴──────────┴─────────┘\n"
     ]
    },
    {
     "name": "stderr",
     "output_type": "stream",
     "text": [
      "\u001b[36m\u001b[1m[ \u001b[22m\u001b[39m\u001b[36m\u001b[1mInfo: \u001b[22m\u001b[39mRMSE Table\n",
      "\u001b[36m\u001b[1m[ \u001b[22m\u001b[39m\u001b[36m\u001b[1mInfo: \u001b[22m\u001b[39mMAE Table\n"
     ]
    },
    {
     "name": "stdout",
     "output_type": "stream",
     "text": [
      "┌─────────┬─────────┬──────────┬─────────┐\n",
      "│\u001b[1m    Type \u001b[0m│\u001b[1m E [meV] \u001b[0m│\u001b[1m F [eV/A] \u001b[0m│\u001b[1m V [meV] \u001b[0m│\n",
      "├─────────┼─────────┼──────────┼─────────┤\n",
      "│ default │  20.280 │    0.000 │   0.000 │\n",
      "├─────────┼─────────┼──────────┼─────────┤\n",
      "│     set │  20.280 │    0.000 │   0.000 │\n",
      "└─────────┴─────────┴──────────┴─────────┘\n",
      "┌─────────┬─────────┬──────────┬─────────┐\n",
      "│\u001b[1m    Type \u001b[0m│\u001b[1m E [meV] \u001b[0m│\u001b[1m F [eV/A] \u001b[0m│\u001b[1m V [meV] \u001b[0m│\n",
      "├─────────┼─────────┼──────────┼─────────┤\n",
      "│ default │  16.300 │    0.000 │   0.000 │\n",
      "├─────────┼─────────┼──────────┼─────────┤\n",
      "│     set │  16.300 │    0.000 │   0.000 │\n",
      "└─────────┴─────────┴──────────┴─────────┘\n",
      "┌─────────┬─────────┬──────────┬─────────┐\n",
      "│\u001b[1m    Type \u001b[0m│\u001b[1m E [meV] \u001b[0m│\u001b[1m F [eV/A] \u001b[0m│\u001b[1m V [meV] \u001b[0m│\n",
      "├─────────┼─────────┼──────────┼─────────┤\n",
      "│ default │  24.424 │    0.000 │   0.000 │\n",
      "├─────────┼─────────┼──────────┼─────────┤\n",
      "│     set │  24.424 │    0.000 │   0.000 │\n",
      "└─────────┴─────────┴──────────┴─────────┘\n",
      "┌─────────┬─────────┬──────────┬─────────┐\n",
      "│\u001b[1m    Type \u001b[0m│\u001b[1m E [meV] \u001b[0m│\u001b[1m F [eV/A] \u001b[0m│\u001b[1m V [meV] \u001b[0m│\n",
      "├─────────┼─────────┼──────────┼─────────┤\n",
      "│ default │  19.875 │    0.000 │   0.000 │\n",
      "├─────────┼─────────┼──────────┼─────────┤\n",
      "│     set │  19.875 │    0.000 │   0.000 │\n",
      "└─────────┴─────────┴──────────┴─────────┘\n",
      "┌─────────┬─────────┬──────────┬─────────┐\n",
      "│\u001b[1m    Type \u001b[0m│\u001b[1m E [meV] \u001b[0m│\u001b[1m F [eV/A] \u001b[0m│\u001b[1m V [meV] \u001b[0m│\n",
      "├─────────┼─────────┼──────────┼─────────┤\n",
      "│ default │  20.280 │    0.000 │   0.000 │\n",
      "├─────────┼─────────┼──────────┼─────────┤\n",
      "│     set │  20.280 │    0.000 │   0.000 │\n",
      "└─────────┴─────────┴──────────┴─────────┘\n",
      "┌─────────┬─────────┬──────────┬─────────┐\n",
      "│\u001b[1m    Type \u001b[0m│\u001b[1m E [meV] \u001b[0m│\u001b[1m F [eV/A] \u001b[0m│\u001b[1m V [meV] \u001b[0m│\n",
      "├─────────┼─────────┼──────────┼─────────┤\n",
      "│ default │  16.300 │    0.000 │   0.000 │\n",
      "├─────────┼─────────┼──────────┼─────────┤\n",
      "│     set │  16.300 │    0.000 │   0.000 │\n",
      "└─────────┴─────────┴──────────┴─────────┘\n"
     ]
    },
    {
     "name": "stderr",
     "output_type": "stream",
     "text": [
      "\u001b[36m\u001b[1m[ \u001b[22m\u001b[39m\u001b[36m\u001b[1mInfo: \u001b[22m\u001b[39mRMSE Table\n",
      "\u001b[36m\u001b[1m[ \u001b[22m\u001b[39m\u001b[36m\u001b[1mInfo: \u001b[22m\u001b[39mMAE Table\n",
      "\u001b[36m\u001b[1m[ \u001b[22m\u001b[39m\u001b[36m\u001b[1mInfo: \u001b[22m\u001b[39mRMSE Table\n",
      "\u001b[36m\u001b[1m[ \u001b[22m\u001b[39m\u001b[36m\u001b[1mInfo: \u001b[22m\u001b[39mMAE Table\n",
      "\u001b[36m\u001b[1m[ \u001b[22m\u001b[39m\u001b[36m\u001b[1mInfo: \u001b[22m\u001b[39mRMSE Table\n",
      "\u001b[36m\u001b[1m[ \u001b[22m\u001b[39m\u001b[36m\u001b[1mInfo: \u001b[22m\u001b[39mMAE Table\n"
     ]
    },
    {
     "data": {
      "text/plain": [
       "Dict{String, Dict{String, Any}} with 2 entries:\n",
       "  \"rmse\" => Dict(\"default\"=>Dict(\"V\"=>0.0, \"E\"=>0.0202798, \"F\"=>0.0), \"set\"=>Di…\n",
       "  \"mae\"  => Dict(\"default\"=>Dict(\"V\"=>0.0, \"E\"=>0.0163002, \"F\"=>0.0), \"set\"=>Di…"
      ]
     },
     "execution_count": 3,
     "metadata": {},
     "output_type": "execute_result"
    }
   ],
   "source": [
    "## Data load ## \n",
    "dset = \"Si5\"\n",
    "ecost = \"50.0\"\n",
    "basisvals = [\"24.20\",\"24.20.16\",\"24.20.16.12\"]\n",
    "pot = load_potential(\"./acejulia/$(dset)/$(basisvals[3])/ecost$(ecost)/potential.json\");\n",
    "pot_pure = load_potential(\"./acejulia/$(dset)_purify/$(basisvals[3])/ecost$(ecost)/potential.json\");\n",
    "\n",
    "# Validation data\n",
    "Vref = OneBody(:Si => -7881.32677981122) # Si2 isolated energy\n",
    "elossweight = parse(Float64, ecost)\n",
    "datakeys = (energy_key = \"energy\", force_key = \"force\")\n",
    "weights = Dict(\"default\" => Dict(\"E\" => elossweight, \"F\" => 1.0))\n",
    "train_data_dir = \"./datasets/$(dset).xyz\"; train_data = read_extxyz(train_data_dir)\n",
    "test_data_dir = \"./datasets/Si5.xyz\"; test_data = read_extxyz(test_data_dir)\n",
    "train = [ACEpotentials.AtomsData(t; weights=weights, v_ref=Vref, datakeys...) for t in train_data]\n",
    "test = [ACEpotentials.AtomsData(v; weights=weights, v_ref=Vref, datakeys...) for v in test_data]\n",
    "\n",
    "## Error extraction ## \n",
    "trainerrs = ACEpotentials.linear_errors(train, pot)\n",
    "trainerrs_pure = ACEpotentials.linear_errors(train, pot_pure)\n",
    "testerrs = ACEpotentials.linear_errors(test, pot)\n",
    "testerrs_pure = ACEpotentials.linear_errors(test, pot_pure)"
   ]
  },
  {
   "cell_type": "markdown",
   "id": "54a57293",
   "metadata": {},
   "source": [
    "## In-domain"
   ]
  },
  {
   "cell_type": "code",
   "execution_count": 8,
   "id": "b3a97206",
   "metadata": {},
   "outputs": [
    {
     "data": {
      "text/plain": [
       "export_dimers_to_dat (generic function with 1 method)"
      ]
     },
     "execution_count": 8,
     "metadata": {},
     "output_type": "execute_result"
    }
   ],
   "source": [
    "function export_dimers_to_dat(dimers_dict; filename)\n",
    "    for ((z1, z0), (rr, v01)) in dimers_dict\n",
    "        open(filename, \"w\") do io\n",
    "            for (r, v) in zip(rr, v01)\n",
    "                println(io, \"$r $v\")\n",
    "            end\n",
    "        end\n",
    "    end\n",
    "end"
   ]
  },
  {
   "cell_type": "code",
   "execution_count": 27,
   "id": "7aff78da",
   "metadata": {},
   "outputs": [
    {
     "name": "stdout",
     "output_type": "stream",
     "text": [
      "\n",
      "This potential was saved with following versions:\n",
      "\n",
      "JuLIP v0.14.8\n",
      "ACEbase v0.4.4\n",
      "ACE1x v0.1.11\n",
      "ACE1 v0.12.5\n",
      "ACEmd v0.1.17\n",
      "ACEpotentials v0.6.7\n",
      "ACEfit v0.1.5\n",
      "\n",
      "If you have problems with using this potential, pin your installation to above versions.\n",
      "\n",
      "\n",
      "This potential was saved with following versions:\n",
      "\n",
      "JuLIP v0.14.8\n",
      "ACEbase v0.4.4\n",
      "ACE1x v0.1.11\n",
      "ACE1 v0.12.5\n",
      "ACEmd v0.1.17\n",
      "ACEpotentials v0.6.7\n",
      "ACEfit v0.1.5\n",
      "\n",
      "If you have problems with using this potential, pin your installation to above versions.\n",
      "\n",
      "┌─────────┬─────────┬──────────┬─────────┐\n",
      "│\u001b[1m    Type \u001b[0m│\u001b[1m E [meV] \u001b[0m│\u001b[1m F [eV/A] \u001b[0m│\u001b[1m V [meV] \u001b[0m│\n",
      "├─────────┼─────────┼──────────┼─────────┤\n",
      "│ default │   0.605 │    0.033 │   0.000 │\n",
      "├─────────┼─────────┼──────────┼─────────┤\n",
      "│     set │   0.605 │    0.033 │   0.000 │\n",
      "└─────────┴─────────┴──────────┴─────────┘\n",
      "┌─────────┬─────────┬──────────┬─────────┐\n",
      "│\u001b[1m    Type \u001b[0m│\u001b[1m E [meV] \u001b[0m│\u001b[1m F [eV/A] \u001b[0m│\u001b[1m V [meV] \u001b[0m│\n",
      "├─────────┼─────────┼──────────┼─────────┤\n",
      "│ default │   0.319 │    0.010 │   0.000 │\n",
      "├─────────┼─────────┼──────────┼─────────┤\n",
      "│     set │   0.319 │    0.010 │   0.000 │\n",
      "└─────────┴─────────┴──────────┴─────────┘\n"
     ]
    },
    {
     "name": "stderr",
     "output_type": "stream",
     "text": [
      "\u001b[36m\u001b[1m[ \u001b[22m\u001b[39m\u001b[36m\u001b[1mInfo: \u001b[22m\u001b[39mRMSE Table\n",
      "\u001b[36m\u001b[1m[ \u001b[22m\u001b[39m\u001b[36m\u001b[1mInfo: \u001b[22m\u001b[39mMAE Table\n"
     ]
    },
    {
     "name": "stdout",
     "output_type": "stream",
     "text": [
      "┌─────────┬─────────┬──────────┬─────────┐\n",
      "│\u001b[1m    Type \u001b[0m│\u001b[1m E [meV] \u001b[0m│\u001b[1m F [eV/A] \u001b[0m│\u001b[1m V [meV] \u001b[0m│\n",
      "├─────────┼─────────┼──────────┼─────────┤\n",
      "│ default │   0.605 │    0.033 │   0.000 │\n",
      "├─────────┼─────────┼──────────┼─────────┤\n",
      "│     set │   0.605 │    0.033 │   0.000 │\n",
      "└─────────┴─────────┴──────────┴─────────┘\n",
      "┌─────────┬─────────┬──────────┬─────────┐\n",
      "│\u001b[1m    Type \u001b[0m│\u001b[1m E [meV] \u001b[0m│\u001b[1m F [eV/A] \u001b[0m│\u001b[1m V [meV] \u001b[0m│\n",
      "├─────────┼─────────┼──────────┼─────────┤\n",
      "│ default │   0.319 │    0.010 │   0.000 │\n",
      "├─────────┼─────────┼──────────┼─────────┤\n",
      "│     set │   0.319 │    0.010 │   0.000 │\n",
      "└─────────┴─────────┴──────────┴─────────┘\n"
     ]
    },
    {
     "name": "stderr",
     "output_type": "stream",
     "text": [
      "\u001b[36m\u001b[1m[ \u001b[22m\u001b[39m\u001b[36m\u001b[1mInfo: \u001b[22m\u001b[39mRMSE Table\n",
      "\u001b[36m\u001b[1m[ \u001b[22m\u001b[39m\u001b[36m\u001b[1mInfo: \u001b[22m\u001b[39mMAE Table\n"
     ]
    },
    {
     "name": "stdout",
     "output_type": "stream",
     "text": [
      "┌─────────┬─────────┬──────────┬─────────┐\n",
      "│\u001b[1m    Type \u001b[0m│\u001b[1m E [meV] \u001b[0m│\u001b[1m F [eV/A] \u001b[0m│\u001b[1m V [meV] \u001b[0m│\n",
      "├─────────┼─────────┼──────────┼─────────┤\n",
      "│ default │ 960.140 │    7.441 │   0.000 │\n",
      "├─────────┼─────────┼──────────┼─────────┤\n",
      "│     set │ 960.140 │    7.441 │   0.000 │\n",
      "└─────────┴─────────┴──────────┴─────────┘\n",
      "┌─────────┬─────────┬──────────┬─────────┐\n",
      "│\u001b[1m    Type \u001b[0m│\u001b[1m E [meV] \u001b[0m│\u001b[1m F [eV/A] \u001b[0m│\u001b[1m V [meV] \u001b[0m│\n",
      "├─────────┼─────────┼──────────┼─────────┤\n",
      "│ default │ 731.450 │    5.203 │   0.000 │\n",
      "├─────────┼─────────┼──────────┼─────────┤\n",
      "│     set │ 731.450 │    5.203 │   0.000 │\n",
      "└─────────┴─────────┴──────────┴─────────┘\n"
     ]
    },
    {
     "name": "stderr",
     "output_type": "stream",
     "text": [
      "\u001b[36m\u001b[1m[ \u001b[22m\u001b[39m\u001b[36m\u001b[1mInfo: \u001b[22m\u001b[39mRMSE Table\n",
      "\u001b[36m\u001b[1m[ \u001b[22m\u001b[39m\u001b[36m\u001b[1mInfo: \u001b[22m\u001b[39mMAE Table\n"
     ]
    },
    {
     "name": "stdout",
     "output_type": "stream",
     "text": [
      "┌─────────┬─────────┬──────────┬─────────┐\n",
      "│\u001b[1m    Type \u001b[0m│\u001b[1m E [meV] \u001b[0m│\u001b[1m F [eV/A] \u001b[0m│\u001b[1m V [meV] \u001b[0m│\n",
      "├─────────┼─────────┼──────────┼─────────┤\n",
      "│ default │ 960.140 │    7.441 │   0.000 │\n",
      "├─────────┼─────────┼──────────┼─────────┤\n",
      "│     set │ 960.140 │    7.441 │   0.000 │\n",
      "└─────────┴─────────┴──────────┴─────────┘\n",
      "┌─────────┬─────────┬──────────┬─────────┐\n",
      "│\u001b[1m    Type \u001b[0m│\u001b[1m E [meV] \u001b[0m│\u001b[1m F [eV/A] \u001b[0m│\u001b[1m V [meV] \u001b[0m│\n",
      "├─────────┼─────────┼──────────┼─────────┤\n",
      "│ default │ 731.449 │    5.203 │   0.000 │\n",
      "├─────────┼─────────┼──────────┼─────────┤\n",
      "│     set │ 731.449 │    5.203 │   0.000 │\n",
      "└─────────┴─────────┴──────────┴─────────┘\n",
      "\n",
      "This potential was saved with following versions:\n",
      "\n",
      "JuLIP v0.14.8\n",
      "ACEbase v0.4.4\n",
      "ACE1x v0.1.11\n",
      "ACE1 v0.12.5\n",
      "ACEmd v0.1.17\n",
      "ACEpotentials v0.6.7\n",
      "ACEfit v0.1.5\n",
      "\n",
      "If you have problems with using this potential, pin your installation to above versions.\n",
      "\n",
      "\n",
      "This potential was saved with following versions:\n"
     ]
    },
    {
     "name": "stderr",
     "output_type": "stream",
     "text": [
      "\u001b[36m\u001b[1m[ \u001b[22m\u001b[39m\u001b[36m\u001b[1mInfo: \u001b[22m\u001b[39mRMSE Table\n",
      "\u001b[36m\u001b[1m[ \u001b[22m\u001b[39m\u001b[36m\u001b[1mInfo: \u001b[22m\u001b[39mMAE Table\n"
     ]
    },
    {
     "name": "stdout",
     "output_type": "stream",
     "text": [
      "\n",
      "JuLIP v0.14.8\n",
      "ACEbase v0.4.4\n",
      "ACE1x v0.1.11\n",
      "ACE1 v0.12.5\n",
      "ACEmd v0.1.17\n",
      "ACEpotentials v0.6.7\n",
      "ACEfit v0.1.5\n",
      "\n",
      "If you have problems with using this potential, pin your installation to above versions.\n",
      "\n",
      "┌─────────┬─────────┬──────────┬─────────┐\n",
      "│\u001b[1m    Type \u001b[0m│\u001b[1m E [meV] \u001b[0m│\u001b[1m F [eV/A] \u001b[0m│\u001b[1m V [meV] \u001b[0m│\n",
      "├─────────┼─────────┼──────────┼─────────┤\n",
      "│ default │   0.601 │    0.033 │   0.000 │\n",
      "├─────────┼─────────┼──────────┼─────────┤\n",
      "│     set │   0.601 │    0.033 │   0.000 │\n",
      "└─────────┴─────────┴──────────┴─────────┘\n",
      "┌─────────┬─────────┬──────────┬─────────┐\n",
      "│\u001b[1m    Type \u001b[0m│\u001b[1m E [meV] \u001b[0m│\u001b[1m F [eV/A] \u001b[0m│\u001b[1m V [meV] \u001b[0m│\n",
      "├─────────┼─────────┼──────────┼─────────┤\n",
      "│ default │   0.315 │    0.010 │   0.000 │\n",
      "├─────────┼─────────┼──────────┼─────────┤\n",
      "│     set │   0.315 │    0.010 │   0.000 │\n",
      "└─────────┴─────────┴──────────┴─────────┘\n"
     ]
    },
    {
     "name": "stderr",
     "output_type": "stream",
     "text": [
      "\u001b[36m\u001b[1m[ \u001b[22m\u001b[39m\u001b[36m\u001b[1mInfo: \u001b[22m\u001b[39mRMSE Table\n",
      "\u001b[36m\u001b[1m[ \u001b[22m\u001b[39m\u001b[36m\u001b[1mInfo: \u001b[22m\u001b[39mMAE Table\n"
     ]
    },
    {
     "name": "stdout",
     "output_type": "stream",
     "text": [
      "┌─────────┬─────────┬──────────┬─────────┐\n",
      "│\u001b[1m    Type \u001b[0m│\u001b[1m E [meV] \u001b[0m│\u001b[1m F [eV/A] \u001b[0m│\u001b[1m V [meV] \u001b[0m│\n",
      "├─────────┼─────────┼──────────┼─────────┤\n",
      "│ default │   0.605 │    0.033 │   0.000 │\n",
      "├─────────┼─────────┼──────────┼─────────┤\n",
      "│     set │   0.605 │    0.033 │   0.000 │\n",
      "└─────────┴─────────┴──────────┴─────────┘\n",
      "┌─────────┬─────────┬──────────┬─────────┐\n",
      "│\u001b[1m    Type \u001b[0m│\u001b[1m E [meV] \u001b[0m│\u001b[1m F [eV/A] \u001b[0m│\u001b[1m V [meV] \u001b[0m│\n",
      "├─────────┼─────────┼──────────┼─────────┤\n",
      "│ default │   0.319 │    0.010 │   0.000 │\n",
      "├─────────┼─────────┼──────────┼─────────┤\n",
      "│     set │   0.319 │    0.010 │   0.000 │\n",
      "└─────────┴─────────┴──────────┴─────────┘\n"
     ]
    },
    {
     "name": "stderr",
     "output_type": "stream",
     "text": [
      "\u001b[36m\u001b[1m[ \u001b[22m\u001b[39m\u001b[36m\u001b[1mInfo: \u001b[22m\u001b[39mRMSE Table\n",
      "\u001b[36m\u001b[1m[ \u001b[22m\u001b[39m\u001b[36m\u001b[1mInfo: \u001b[22m\u001b[39mMAE Table\n"
     ]
    },
    {
     "name": "stdout",
     "output_type": "stream",
     "text": [
      "┌─────────┬──────────┬──────────┬─────────┐\n",
      "│\u001b[1m    Type \u001b[0m│\u001b[1m  E [meV] \u001b[0m│\u001b[1m F [eV/A] \u001b[0m│\u001b[1m V [meV] \u001b[0m│\n",
      "├─────────┼──────────┼──────────┼─────────┤\n",
      "│ default │ 2405.735 │   11.803 │   0.000 │\n",
      "├─────────┼──────────┼──────────┼─────────┤\n",
      "│     set │ 2405.735 │   11.803 │   0.000 │\n",
      "└─────────┴──────────┴──────────┴─────────┘\n",
      "┌─────────┬──────────┬──────────┬─────────┐\n",
      "│\u001b[1m    Type \u001b[0m│\u001b[1m  E [meV] \u001b[0m│\u001b[1m F [eV/A] \u001b[0m│\u001b[1m V [meV] \u001b[0m│\n",
      "├─────────┼──────────┼──────────┼─────────┤\n",
      "│ default │ 2145.457 │    8.785 │   0.000 │\n",
      "├─────────┼──────────┼──────────┼─────────┤\n",
      "│     set │ 2145.457 │    8.785 │   0.000 │\n",
      "└─────────┴──────────┴──────────┴─────────┘\n"
     ]
    },
    {
     "name": "stderr",
     "output_type": "stream",
     "text": [
      "\u001b[36m\u001b[1m[ \u001b[22m\u001b[39m\u001b[36m\u001b[1mInfo: \u001b[22m\u001b[39mRMSE Table\n",
      "\u001b[36m\u001b[1m[ \u001b[22m\u001b[39m\u001b[36m\u001b[1mInfo: \u001b[22m\u001b[39mMAE Table\n"
     ]
    },
    {
     "name": "stdout",
     "output_type": "stream",
     "text": [
      "┌─────────┬─────────┬──────────┬─────────┐\n",
      "│\u001b[1m    Type \u001b[0m│\u001b[1m E [meV] \u001b[0m│\u001b[1m F [eV/A] \u001b[0m│\u001b[1m V [meV] \u001b[0m│\n",
      "├─────────┼─────────┼──────────┼─────────┤\n",
      "│ default │ 960.140 │    7.441 │   0.000 │\n",
      "├─────────┼─────────┼──────────┼─────────┤\n",
      "│     set │ 960.140 │    7.441 │   0.000 │\n",
      "└─────────┴─────────┴──────────┴─────────┘\n",
      "┌─────────┬─────────┬──────────┬─────────┐\n",
      "│\u001b[1m    Type \u001b[0m│\u001b[1m E [meV] \u001b[0m│\u001b[1m F [eV/A] \u001b[0m│\u001b[1m V [meV] \u001b[0m│\n",
      "├─────────┼─────────┼──────────┼─────────┤\n",
      "│ default │ 731.449 │    5.203 │   0.000 │\n",
      "├─────────┼─────────┼──────────┼─────────┤\n",
      "│     set │ 731.449 │    5.203 │   0.000 │\n",
      "└─────────┴─────────┴──────────┴─────────┘\n",
      "\n",
      "This potential was saved with following versions:\n",
      "\n",
      "JuLIP v0.14.8\n",
      "ACEbase v0.4.4\n",
      "ACE1x v0.1.11\n",
      "ACE1 v0.12.5\n",
      "ACEmd v0.1.17\n",
      "ACEpotentials v0.6.7\n",
      "ACEfit v0.1.5\n",
      "\n",
      "If you have problems with using this potential, pin your installation to above versions.\n",
      "\n",
      "\n",
      "This potential was saved with following versions:\n"
     ]
    },
    {
     "name": "stderr",
     "output_type": "stream",
     "text": [
      "\u001b[36m\u001b[1m[ \u001b[22m\u001b[39m\u001b[36m\u001b[1mInfo: \u001b[22m\u001b[39mRMSE Table\n",
      "\u001b[36m\u001b[1m[ \u001b[22m\u001b[39m\u001b[36m\u001b[1mInfo: \u001b[22m\u001b[39mMAE Table\n"
     ]
    },
    {
     "name": "stdout",
     "output_type": "stream",
     "text": [
      "\n",
      "JuLIP v0.14.8\n",
      "ACEbase v0.4.4\n",
      "ACE1x v0.1.11\n",
      "ACE1 v0.12.5\n",
      "ACEmd v0.1.17\n",
      "ACEpotentials v0.6.7\n",
      "ACEfit v0.1.5\n",
      "\n",
      "If you have problems with using this potential, pin your installation to above versions.\n",
      "\n",
      "┌─────────┬─────────┬──────────┬─────────┐\n",
      "│\u001b[1m    Type \u001b[0m│\u001b[1m E [meV] \u001b[0m│\u001b[1m F [eV/A] \u001b[0m│\u001b[1m V [meV] \u001b[0m│\n",
      "├─────────┼─────────┼──────────┼─────────┤\n",
      "│ default │   0.601 │    0.033 │   0.000 │\n",
      "├─────────┼─────────┼──────────┼─────────┤\n",
      "│     set │   0.601 │    0.033 │   0.000 │\n",
      "└─────────┴─────────┴──────────┴─────────┘\n",
      "┌─────────┬─────────┬──────────┬─────────┐\n",
      "│\u001b[1m    Type \u001b[0m│\u001b[1m E [meV] \u001b[0m│\u001b[1m F [eV/A] \u001b[0m│\u001b[1m V [meV] \u001b[0m│\n",
      "├─────────┼─────────┼──────────┼─────────┤\n",
      "│ default │   0.315 │    0.010 │   0.000 │\n",
      "├─────────┼─────────┼──────────┼─────────┤\n",
      "│     set │   0.315 │    0.010 │   0.000 │\n",
      "└─────────┴─────────┴──────────┴─────────┘\n",
      "┌─────────┬─────────┬──────────┬─────────┐\n",
      "│\u001b[1m    Type \u001b[0m│\u001b[1m E [meV] \u001b[0m│\u001b[1m F [eV/A] \u001b[0m│\u001b[1m V [meV] \u001b[0m│\n",
      "├─────────┼─────────┼──────────┼─────────┤\n",
      "│ default │   0.605 │    0.033 │   0.000 │\n",
      "├─────────┼─────────┼──────────┼─────────┤\n",
      "│     set │   0.605 │    0.033 │   0.000 │\n",
      "└─────────┴─────────┴──────────┴─────────┘\n",
      "┌─────────┬─────────┬──────────┬─────────┐\n",
      "│\u001b[1m    Type \u001b[0m│\u001b[1m E [meV] \u001b[0m│\u001b[1m F [eV/A] \u001b[0m│\u001b[1m V [meV] \u001b[0m│\n",
      "├─────────┼─────────┼──────────┼─────────┤\n",
      "│ default │   0.319 │    0.010 │   0.000 │\n",
      "├─────────┼─────────┼──────────┼─────────┤\n",
      "│     set │   0.319 │    0.010 │   0.000 │\n",
      "└─────────┴─────────┴──────────┴─────────┘\n"
     ]
    },
    {
     "name": "stderr",
     "output_type": "stream",
     "text": [
      "\u001b[36m\u001b[1m[ \u001b[22m\u001b[39m\u001b[36m\u001b[1mInfo: \u001b[22m\u001b[39mRMSE Table\n",
      "\u001b[36m\u001b[1m[ \u001b[22m\u001b[39m\u001b[36m\u001b[1mInfo: \u001b[22m\u001b[39mMAE Table\n",
      "\u001b[36m\u001b[1m[ \u001b[22m\u001b[39m\u001b[36m\u001b[1mInfo: \u001b[22m\u001b[39mRMSE Table\n",
      "\u001b[36m\u001b[1m[ \u001b[22m\u001b[39m\u001b[36m\u001b[1mInfo: \u001b[22m\u001b[39mMAE Table\n"
     ]
    },
    {
     "name": "stdout",
     "output_type": "stream",
     "text": [
      "┌─────────┬──────────┬──────────┬─────────┐\n",
      "│\u001b[1m    Type \u001b[0m│\u001b[1m  E [meV] \u001b[0m│\u001b[1m F [eV/A] \u001b[0m│\u001b[1m V [meV] \u001b[0m│\n",
      "├─────────┼──────────┼──────────┼─────────┤\n",
      "│ default │ 5458.513 │   14.838 │   0.000 │\n",
      "├─────────┼──────────┼──────────┼─────────┤\n",
      "│     set │ 5458.513 │   14.838 │   0.000 │\n",
      "└─────────┴──────────┴──────────┴─────────┘\n",
      "┌─────────┬──────────┬──────────┬─────────┐\n",
      "│\u001b[1m    Type \u001b[0m│\u001b[1m  E [meV] \u001b[0m│\u001b[1m F [eV/A] \u001b[0m│\u001b[1m V [meV] \u001b[0m│\n",
      "├─────────┼──────────┼──────────┼─────────┤\n",
      "│ default │ 5201.991 │   10.868 │   0.000 │\n",
      "├─────────┼──────────┼──────────┼─────────┤\n",
      "│     set │ 5201.991 │   10.868 │   0.000 │\n",
      "└─────────┴──────────┴──────────┴─────────┘\n"
     ]
    },
    {
     "name": "stderr",
     "output_type": "stream",
     "text": [
      "\u001b[36m\u001b[1m[ \u001b[22m\u001b[39m\u001b[36m\u001b[1mInfo: \u001b[22m\u001b[39mRMSE Table\n",
      "\u001b[36m\u001b[1m[ \u001b[22m\u001b[39m\u001b[36m\u001b[1mInfo: \u001b[22m\u001b[39mMAE Table\n"
     ]
    },
    {
     "name": "stdout",
     "output_type": "stream",
     "text": [
      "┌─────────┬─────────┬──────────┬─────────┐\n",
      "│\u001b[1m    Type \u001b[0m│\u001b[1m E [meV] \u001b[0m│\u001b[1m F [eV/A] \u001b[0m│\u001b[1m V [meV] \u001b[0m│\n",
      "├─────────┼─────────┼──────────┼─────────┤\n",
      "│ default │ 960.140 │    7.441 │   0.000 │\n",
      "├─────────┼─────────┼──────────┼─────────┤\n",
      "│     set │ 960.140 │    7.441 │   0.000 │\n",
      "└─────────┴─────────┴──────────┴─────────┘\n",
      "┌─────────┬─────────┬──────────┬─────────┐\n",
      "│\u001b[1m    Type \u001b[0m│\u001b[1m E [meV] \u001b[0m│\u001b[1m F [eV/A] \u001b[0m│\u001b[1m V [meV] \u001b[0m│\n",
      "├─────────┼─────────┼──────────┼─────────┤\n",
      "│ default │ 731.450 │    5.203 │   0.000 │\n",
      "├─────────┼─────────┼──────────┼─────────┤\n",
      "│     set │ 731.450 │    5.203 │   0.000 │\n",
      "└─────────┴─────────┴──────────┴─────────┘\n"
     ]
    },
    {
     "name": "stderr",
     "output_type": "stream",
     "text": [
      "\u001b[36m\u001b[1m[ \u001b[22m\u001b[39m\u001b[36m\u001b[1mInfo: \u001b[22m\u001b[39mRMSE Table\n",
      "\u001b[36m\u001b[1m[ \u001b[22m\u001b[39m\u001b[36m\u001b[1mInfo: \u001b[22m\u001b[39mMAE Table\n"
     ]
    },
    {
     "name": "stdout",
     "output_type": "stream",
     "text": [
      "\n",
      "This potential was saved with following versions:\n",
      "\n",
      "JuLIP v0.14.8\n",
      "ACEbase v0.4.4\n",
      "ACE1x v0.1.11\n",
      "ACE1 v0.12.5\n",
      "ACEmd v0.1.17\n",
      "ACEpotentials v0.6.7\n",
      "ACEfit v0.1.5\n",
      "\n",
      "If you have problems with using this potential, pin your installation to above versions.\n",
      "\n",
      "\n",
      "This potential was saved with following versions:\n",
      "\n",
      "JuLIP v0.14.8\n",
      "ACEbase v0.4.4\n",
      "ACE1x v0.1.11\n",
      "ACE1 v0.12.5\n",
      "ACEmd v0.1.17\n",
      "ACEpotentials v0.6.7\n",
      "ACEfit v0.1.5\n",
      "\n",
      "If you have problems with using this potential, pin your installation to above versions.\n",
      "\n",
      "┌─────────┬─────────┬──────────┬─────────┐\n",
      "│\u001b[1m    Type \u001b[0m│\u001b[1m E [meV] \u001b[0m│\u001b[1m F [eV/A] \u001b[0m│\u001b[1m V [meV] \u001b[0m│\n",
      "├─────────┼─────────┼──────────┼─────────┤\n",
      "│ default │  18.822 │    0.459 │   0.000 │\n",
      "├─────────┼─────────┼──────────┼─────────┤\n",
      "│     set │  18.822 │    0.459 │   0.000 │\n",
      "└─────────┴─────────┴──────────┴─────────┘\n",
      "┌─────────┬─────────┬──────────┬─────────┐\n",
      "│\u001b[1m    Type \u001b[0m│\u001b[1m E [meV] \u001b[0m│\u001b[1m F [eV/A] \u001b[0m│\u001b[1m V [meV] \u001b[0m│\n",
      "├─────────┼─────────┼──────────┼─────────┤\n",
      "│ default │  12.824 │    0.268 │   0.000 │\n",
      "├─────────┼─────────┼──────────┼─────────┤\n",
      "│     set │  12.824 │    0.268 │   0.000 │\n",
      "└─────────┴─────────┴──────────┴─────────┘\n",
      "┌─────────┬─────────┬──────────┬─────────┐\n",
      "│\u001b[1m    Type \u001b[0m│\u001b[1m E [meV] \u001b[0m│\u001b[1m F [eV/A] \u001b[0m│\u001b[1m V [meV] \u001b[0m│\n",
      "├─────────┼─────────┼──────────┼─────────┤\n",
      "│ default │  18.822 │    0.459 │   0.000 │\n",
      "├─────────┼─────────┼──────────┼─────────┤\n",
      "│     set │  18.822 │    0.459 │   0.000 │\n",
      "└─────────┴─────────┴──────────┴─────────┘\n",
      "┌─────────┬─────────┬──────────┬─────────┐\n",
      "│\u001b[1m    Type \u001b[0m│\u001b[1m E [meV] \u001b[0m│\u001b[1m F [eV/A] \u001b[0m│\u001b[1m V [meV] \u001b[0m│\n",
      "├─────────┼─────────┼──────────┼─────────┤\n",
      "│ default │  12.824 │    0.268 │   0.000 │\n",
      "├─────────┼─────────┼──────────┼─────────┤\n",
      "│     set │  12.824 │    0.268 │   0.000 │\n",
      "└─────────┴─────────┴──────────┴─────────┘\n"
     ]
    },
    {
     "name": "stderr",
     "output_type": "stream",
     "text": [
      "\u001b[36m\u001b[1m[ \u001b[22m\u001b[39m\u001b[36m\u001b[1mInfo: \u001b[22m\u001b[39mRMSE Table\n",
      "\u001b[36m\u001b[1m[ \u001b[22m\u001b[39m\u001b[36m\u001b[1mInfo: \u001b[22m\u001b[39mMAE Table\n",
      "\u001b[36m\u001b[1m[ \u001b[22m\u001b[39m\u001b[36m\u001b[1mInfo: \u001b[22m\u001b[39mRMSE Table\n",
      "\u001b[36m\u001b[1m[ \u001b[22m\u001b[39m\u001b[36m\u001b[1mInfo: \u001b[22m\u001b[39mMAE Table\n"
     ]
    },
    {
     "name": "stdout",
     "output_type": "stream",
     "text": [
      "┌─────────┬─────────┬──────────┬─────────┐\n",
      "│\u001b[1m    Type \u001b[0m│\u001b[1m E [meV] \u001b[0m│\u001b[1m F [eV/A] \u001b[0m│\u001b[1m V [meV] \u001b[0m│\n",
      "├─────────┼─────────┼──────────┼─────────┤\n",
      "│ default │ 598.198 │    1.635 │   0.000 │\n",
      "├─────────┼─────────┼──────────┼─────────┤\n",
      "│     set │ 598.198 │    1.635 │   0.000 │\n",
      "└─────────┴─────────┴──────────┴─────────┘\n",
      "┌─────────┬─────────┬──────────┬─────────┐\n",
      "│\u001b[1m    Type \u001b[0m│\u001b[1m E [meV] \u001b[0m│\u001b[1m F [eV/A] \u001b[0m│\u001b[1m V [meV] \u001b[0m│\n",
      "├─────────┼─────────┼──────────┼─────────┤\n",
      "│ default │ 554.258 │    1.153 │   0.000 │\n",
      "├─────────┼─────────┼──────────┼─────────┤\n",
      "│     set │ 554.258 │    1.153 │   0.000 │\n",
      "└─────────┴─────────┴──────────┴─────────┘\n"
     ]
    },
    {
     "name": "stderr",
     "output_type": "stream",
     "text": [
      "\u001b[36m\u001b[1m[ \u001b[22m\u001b[39m\u001b[36m\u001b[1mInfo: \u001b[22m\u001b[39mRMSE Table\n",
      "\u001b[36m\u001b[1m[ \u001b[22m\u001b[39m\u001b[36m\u001b[1mInfo: \u001b[22m\u001b[39mMAE Table\n"
     ]
    },
    {
     "name": "stdout",
     "output_type": "stream",
     "text": [
      "┌─────────┬─────────┬──────────┬─────────┐\n",
      "│\u001b[1m    Type \u001b[0m│\u001b[1m E [meV] \u001b[0m│\u001b[1m F [eV/A] \u001b[0m│\u001b[1m V [meV] \u001b[0m│\n",
      "├─────────┼─────────┼──────────┼─────────┤\n",
      "│ default │ 598.198 │    1.635 │   0.000 │\n",
      "├─────────┼─────────┼──────────┼─────────┤\n",
      "│     set │ 598.198 │    1.635 │   0.000 │\n",
      "└─────────┴─────────┴──────────┴─────────┘\n",
      "┌─────────┬─────────┬──────────┬─────────┐\n",
      "│\u001b[1m    Type \u001b[0m│\u001b[1m E [meV] \u001b[0m│\u001b[1m F [eV/A] \u001b[0m│\u001b[1m V [meV] \u001b[0m│\n",
      "├─────────┼─────────┼──────────┼─────────┤\n",
      "│ default │ 554.258 │    1.153 │   0.000 │\n",
      "├─────────┼─────────┼──────────┼─────────┤\n",
      "│     set │ 554.258 │    1.153 │   0.000 │\n",
      "└─────────┴─────────┴──────────┴─────────┘\n"
     ]
    },
    {
     "name": "stderr",
     "output_type": "stream",
     "text": [
      "\u001b[36m\u001b[1m[ \u001b[22m\u001b[39m\u001b[36m\u001b[1mInfo: \u001b[22m\u001b[39mRMSE Table\n",
      "\u001b[36m\u001b[1m[ \u001b[22m\u001b[39m\u001b[36m\u001b[1mInfo: \u001b[22m\u001b[39mMAE Table\n"
     ]
    },
    {
     "name": "stdout",
     "output_type": "stream",
     "text": [
      "\n",
      "This potential was saved with following versions:\n",
      "\n",
      "JuLIP v0.14.8\n",
      "ACEbase v0.4.4\n",
      "ACE1x v0.1.11\n",
      "ACE1 v0.12.5\n",
      "ACEmd v0.1.17\n",
      "ACEpotentials v0.6.7\n",
      "ACEfit v0.1.5\n",
      "\n",
      "If you have problems with using this potential, pin your installation to above versions.\n",
      "\n",
      "\n",
      "This potential was saved with following versions:\n",
      "\n",
      "JuLIP v0.14.8\n",
      "ACEbase v0.4.4\n",
      "ACE1x v0.1.11\n",
      "ACE1 v0.12.5\n",
      "ACEmd v0.1.17\n",
      "ACEpotentials v0.6.7\n",
      "ACEfit v0.1.5\n",
      "\n",
      "If you have problems with using this potential, pin your installation to above versions.\n",
      "\n",
      "┌─────────┬─────────┬──────────┬─────────┐\n",
      "│\u001b[1m    Type \u001b[0m│\u001b[1m E [meV] \u001b[0m│\u001b[1m F [eV/A] \u001b[0m│\u001b[1m V [meV] \u001b[0m│\n",
      "├─────────┼─────────┼──────────┼─────────┤\n",
      "│ default │   0.593 │    0.035 │   0.000 │\n",
      "├─────────┼─────────┼──────────┼─────────┤\n",
      "│     set │   0.593 │    0.035 │   0.000 │\n",
      "└─────────┴─────────┴──────────┴─────────┘\n",
      "┌─────────┬─────────┬──────────┬─────────┐\n",
      "│\u001b[1m    Type \u001b[0m│\u001b[1m E [meV] \u001b[0m│\u001b[1m F [eV/A] \u001b[0m│\u001b[1m V [meV] \u001b[0m│\n",
      "├─────────┼─────────┼──────────┼─────────┤\n",
      "│ default │   0.305 │    0.017 │   0.000 │\n",
      "├─────────┼─────────┼──────────┼─────────┤\n",
      "│     set │   0.305 │    0.017 │   0.000 │\n",
      "└─────────┴─────────┴──────────┴─────────┘\n"
     ]
    },
    {
     "name": "stderr",
     "output_type": "stream",
     "text": [
      "\u001b[36m\u001b[1m[ \u001b[22m\u001b[39m\u001b[36m\u001b[1mInfo: \u001b[22m\u001b[39mRMSE Table\n",
      "\u001b[36m\u001b[1m[ \u001b[22m\u001b[39m\u001b[36m\u001b[1mInfo: \u001b[22m\u001b[39mMAE Table\n"
     ]
    },
    {
     "name": "stdout",
     "output_type": "stream",
     "text": [
      "┌─────────┬─────────┬──────────┬─────────┐\n",
      "│\u001b[1m    Type \u001b[0m│\u001b[1m E [meV] \u001b[0m│\u001b[1m F [eV/A] \u001b[0m│\u001b[1m V [meV] \u001b[0m│\n",
      "├─────────┼─────────┼──────────┼─────────┤\n",
      "│ default │   0.593 │    0.035 │   0.000 │\n",
      "├─────────┼─────────┼──────────┼─────────┤\n",
      "│     set │   0.593 │    0.035 │   0.000 │\n",
      "└─────────┴─────────┴──────────┴─────────┘\n",
      "┌─────────┬─────────┬──────────┬─────────┐\n",
      "│\u001b[1m    Type \u001b[0m│\u001b[1m E [meV] \u001b[0m│\u001b[1m F [eV/A] \u001b[0m│\u001b[1m V [meV] \u001b[0m│\n",
      "├─────────┼─────────┼──────────┼─────────┤\n",
      "│ default │   0.306 │    0.017 │   0.000 │\n",
      "├─────────┼─────────┼──────────┼─────────┤\n",
      "│     set │   0.306 │    0.017 │   0.000 │\n",
      "└─────────┴─────────┴──────────┴─────────┘\n"
     ]
    },
    {
     "name": "stderr",
     "output_type": "stream",
     "text": [
      "\u001b[36m\u001b[1m[ \u001b[22m\u001b[39m\u001b[36m\u001b[1mInfo: \u001b[22m\u001b[39mRMSE Table\n",
      "\u001b[36m\u001b[1m[ \u001b[22m\u001b[39m\u001b[36m\u001b[1mInfo: \u001b[22m\u001b[39mMAE Table\n"
     ]
    },
    {
     "name": "stdout",
     "output_type": "stream",
     "text": [
      "┌─────────┬─────────┬──────────┬─────────┐\n",
      "│\u001b[1m    Type \u001b[0m│\u001b[1m E [meV] \u001b[0m│\u001b[1m F [eV/A] \u001b[0m│\u001b[1m V [meV] \u001b[0m│\n",
      "├─────────┼─────────┼──────────┼─────────┤\n",
      "│ default │ 767.837 │    4.239 │   0.000 │\n",
      "├─────────┼─────────┼──────────┼─────────┤\n",
      "│     set │ 767.837 │    4.239 │   0.000 │\n",
      "└─────────┴─────────┴──────────┴─────────┘\n",
      "┌─────────┬─────────┬──────────┬─────────┐\n",
      "│\u001b[1m    Type \u001b[0m│\u001b[1m E [meV] \u001b[0m│\u001b[1m F [eV/A] \u001b[0m│\u001b[1m V [meV] \u001b[0m│\n",
      "├─────────┼─────────┼──────────┼─────────┤\n",
      "│ default │ 640.283 │    2.986 │   0.000 │\n",
      "├─────────┼─────────┼──────────┼─────────┤\n",
      "│     set │ 640.283 │    2.986 │   0.000 │\n",
      "└─────────┴─────────┴──────────┴─────────┘\n"
     ]
    },
    {
     "name": "stderr",
     "output_type": "stream",
     "text": [
      "\u001b[36m\u001b[1m[ \u001b[22m\u001b[39m\u001b[36m\u001b[1mInfo: \u001b[22m\u001b[39mRMSE Table\n",
      "\u001b[36m\u001b[1m[ \u001b[22m\u001b[39m\u001b[36m\u001b[1mInfo: \u001b[22m\u001b[39mMAE Table\n"
     ]
    },
    {
     "name": "stdout",
     "output_type": "stream",
     "text": [
      "┌─────────┬─────────┬──────────┬─────────┐\n",
      "│\u001b[1m    Type \u001b[0m│\u001b[1m E [meV] \u001b[0m│\u001b[1m F [eV/A] \u001b[0m│\u001b[1m V [meV] \u001b[0m│\n",
      "├─────────┼─────────┼──────────┼─────────┤\n",
      "│ default │ 913.815 │    5.724 │   0.000 │\n",
      "├─────────┼─────────┼──────────┼─────────┤\n",
      "│     set │ 913.815 │    5.724 │   0.000 │\n",
      "└─────────┴─────────┴──────────┴─────────┘\n",
      "┌─────────┬─────────┬──────────┬─────────┐\n",
      "│\u001b[1m    Type \u001b[0m│\u001b[1m E [meV] \u001b[0m│\u001b[1m F [eV/A] \u001b[0m│\u001b[1m V [meV] \u001b[0m│\n",
      "├─────────┼─────────┼──────────┼─────────┤\n",
      "│ default │ 759.818 │    3.629 │   0.000 │\n",
      "├─────────┼─────────┼──────────┼─────────┤\n",
      "│     set │ 759.818 │    3.629 │   0.000 │\n",
      "└─────────┴─────────┴──────────┴─────────┘\n"
     ]
    },
    {
     "name": "stderr",
     "output_type": "stream",
     "text": [
      "\u001b[36m\u001b[1m[ \u001b[22m\u001b[39m\u001b[36m\u001b[1mInfo: \u001b[22m\u001b[39mRMSE Table\n",
      "\u001b[36m\u001b[1m[ \u001b[22m\u001b[39m\u001b[36m\u001b[1mInfo: \u001b[22m\u001b[39mMAE Table\n"
     ]
    },
    {
     "name": "stdout",
     "output_type": "stream",
     "text": [
      "\n",
      "This potential was saved with following versions:\n",
      "\n",
      "JuLIP v0.14.8\n",
      "ACEbase v0.4.4\n",
      "ACE1x v0.1.11\n",
      "ACE1 v0.12.5\n",
      "ACEmd v0.1.17\n",
      "ACEpotentials v0.6.7\n",
      "ACEfit v0.1.5\n",
      "\n",
      "If you have problems with using this potential, pin your installation to above versions.\n",
      "\n",
      "\n",
      "This potential was saved with following versions:\n",
      "\n",
      "JuLIP v0.14.8\n",
      "ACEbase v0.4.4\n",
      "ACE1x v0.1.11\n",
      "ACE1 v0.12.5\n",
      "ACEmd v0.1.17\n",
      "ACEpotentials v0.6.7\n",
      "ACEfit v0.1.5\n",
      "\n",
      "If you have problems with using this potential, pin your installation to above versions.\n",
      "\n",
      "┌─────────┬─────────┬──────────┬─────────┐\n",
      "│\u001b[1m    Type \u001b[0m│\u001b[1m E [meV] \u001b[0m│\u001b[1m F [eV/A] \u001b[0m│\u001b[1m V [meV] \u001b[0m│\n",
      "├─────────┼─────────┼──────────┼─────────┤\n",
      "│ default │   0.589 │    0.035 │   0.000 │\n",
      "├─────────┼─────────┼──────────┼─────────┤\n",
      "│     set │   0.589 │    0.035 │   0.000 │\n",
      "└─────────┴─────────┴──────────┴─────────┘\n",
      "┌─────────┬─────────┬──────────┬─────────┐\n",
      "│\u001b[1m    Type \u001b[0m│\u001b[1m E [meV] \u001b[0m│\u001b[1m F [eV/A] \u001b[0m│\u001b[1m V [meV] \u001b[0m│\n",
      "├─────────┼─────────┼──────────┼─────────┤\n",
      "│ default │   0.303 │    0.017 │   0.000 │\n",
      "├─────────┼─────────┼──────────┼─────────┤\n",
      "│     set │   0.303 │    0.017 │   0.000 │\n",
      "└─────────┴─────────┴──────────┴─────────┘\n",
      "┌─────────┬─────────┬──────────┬─────────┐\n",
      "│\u001b[1m    Type \u001b[0m│\u001b[1m E [meV] \u001b[0m│\u001b[1m F [eV/A] \u001b[0m│\u001b[1m V [meV] \u001b[0m│\n",
      "├─────────┼─────────┼──────────┼─────────┤\n",
      "│ default │   0.593 │    0.035 │   0.000 │\n",
      "├─────────┼─────────┼──────────┼─────────┤\n",
      "│     set │   0.593 │    0.035 │   0.000 │\n",
      "└─────────┴─────────┴──────────┴─────────┘\n",
      "┌─────────┬─────────┬──────────┬─────────┐\n",
      "│\u001b[1m    Type \u001b[0m│\u001b[1m E [meV] \u001b[0m│\u001b[1m F [eV/A] \u001b[0m│\u001b[1m V [meV] \u001b[0m│\n",
      "├─────────┼─────────┼──────────┼─────────┤\n",
      "│ default │   0.306 │    0.017 │   0.000 │\n",
      "├─────────┼─────────┼──────────┼─────────┤\n",
      "│     set │   0.306 │    0.017 │   0.000 │\n",
      "└─────────┴─────────┴──────────┴─────────┘\n"
     ]
    },
    {
     "name": "stderr",
     "output_type": "stream",
     "text": [
      "\u001b[36m\u001b[1m[ \u001b[22m\u001b[39m\u001b[36m\u001b[1mInfo: \u001b[22m\u001b[39mRMSE Table\n",
      "\u001b[36m\u001b[1m[ \u001b[22m\u001b[39m\u001b[36m\u001b[1mInfo: \u001b[22m\u001b[39mMAE Table\n",
      "\u001b[36m\u001b[1m[ \u001b[22m\u001b[39m\u001b[36m\u001b[1mInfo: \u001b[22m\u001b[39mRMSE Table\n",
      "\u001b[36m\u001b[1m[ \u001b[22m\u001b[39m\u001b[36m\u001b[1mInfo: \u001b[22m\u001b[39mMAE Table\n"
     ]
    },
    {
     "name": "stdout",
     "output_type": "stream",
     "text": [
      "┌─────────┬─────────┬──────────┬─────────┐\n",
      "│\u001b[1m    Type \u001b[0m│\u001b[1m E [meV] \u001b[0m│\u001b[1m F [eV/A] \u001b[0m│\u001b[1m V [meV] \u001b[0m│\n",
      "├─────────┼─────────┼──────────┼─────────┤\n",
      "│ default │ 629.274 │    5.370 │   0.000 │\n",
      "├─────────┼─────────┼──────────┼─────────┤\n",
      "│     set │ 629.274 │    5.370 │   0.000 │\n",
      "└─────────┴─────────┴──────────┴─────────┘\n",
      "┌─────────┬─────────┬──────────┬─────────┐\n",
      "│\u001b[1m    Type \u001b[0m│\u001b[1m E [meV] \u001b[0m│\u001b[1m F [eV/A] \u001b[0m│\u001b[1m V [meV] \u001b[0m│\n",
      "├─────────┼─────────┼──────────┼─────────┤\n",
      "│ default │ 505.919 │    3.942 │   0.000 │\n",
      "├─────────┼─────────┼──────────┼─────────┤\n",
      "│     set │ 505.919 │    3.942 │   0.000 │\n",
      "└─────────┴─────────┴──────────┴─────────┘\n"
     ]
    },
    {
     "name": "stderr",
     "output_type": "stream",
     "text": [
      "\u001b[36m\u001b[1m[ \u001b[22m\u001b[39m\u001b[36m\u001b[1mInfo: \u001b[22m\u001b[39mRMSE Table\n",
      "\u001b[36m\u001b[1m[ \u001b[22m\u001b[39m\u001b[36m\u001b[1mInfo: \u001b[22m\u001b[39mMAE Table\n"
     ]
    },
    {
     "name": "stdout",
     "output_type": "stream",
     "text": [
      "┌─────────┬─────────┬──────────┬─────────┐\n",
      "│\u001b[1m    Type \u001b[0m│\u001b[1m E [meV] \u001b[0m│\u001b[1m F [eV/A] \u001b[0m│\u001b[1m V [meV] \u001b[0m│\n",
      "├─────────┼─────────┼──────────┼─────────┤\n",
      "│ default │ 913.815 │    5.724 │   0.000 │\n",
      "├─────────┼─────────┼──────────┼─────────┤\n",
      "│     set │ 913.815 │    5.724 │   0.000 │\n",
      "└─────────┴─────────┴──────────┴─────────┘\n",
      "┌─────────┬─────────┬──────────┬─────────┐\n",
      "│\u001b[1m    Type \u001b[0m│\u001b[1m E [meV] \u001b[0m│\u001b[1m F [eV/A] \u001b[0m│\u001b[1m V [meV] \u001b[0m│\n",
      "├─────────┼─────────┼──────────┼─────────┤\n",
      "│ default │ 759.818 │    3.629 │   0.000 │\n",
      "├─────────┼─────────┼──────────┼─────────┤\n",
      "│     set │ 759.818 │    3.629 │   0.000 │\n",
      "└─────────┴─────────┴──────────┴─────────┘\n"
     ]
    },
    {
     "name": "stderr",
     "output_type": "stream",
     "text": [
      "\u001b[36m\u001b[1m[ \u001b[22m\u001b[39m\u001b[36m\u001b[1mInfo: \u001b[22m\u001b[39mRMSE Table\n",
      "\u001b[36m\u001b[1m[ \u001b[22m\u001b[39m\u001b[36m\u001b[1mInfo: \u001b[22m\u001b[39mMAE Table\n"
     ]
    },
    {
     "name": "stdout",
     "output_type": "stream",
     "text": [
      "\n",
      "This potential was saved with following versions:\n",
      "\n",
      "JuLIP v0.14.8\n",
      "ACEbase v0.4.4\n",
      "ACE1x v0.1.11\n",
      "ACE1 v0.12.5\n",
      "ACEmd v0.1.17\n",
      "ACEpotentials v0.6.7\n",
      "ACEfit v0.1.5\n",
      "\n",
      "If you have problems with using this potential, pin your installation to above versions.\n",
      "\n",
      "\n",
      "This potential was saved with following versions:\n",
      "\n",
      "JuLIP v0.14.8\n",
      "ACEbase v0.4.4\n",
      "ACE1x v0.1.11\n",
      "ACE1 v0.12.5\n",
      "ACEmd v0.1.17\n",
      "ACEpotentials v0.6.7\n",
      "ACEfit v0.1.5\n",
      "\n",
      "If you have problems with using this potential, pin your installation to above versions.\n",
      "\n",
      "┌─────────┬─────────┬──────────┬─────────┐\n",
      "│\u001b[1m    Type \u001b[0m│\u001b[1m E [meV] \u001b[0m│\u001b[1m F [eV/A] \u001b[0m│\u001b[1m V [meV] \u001b[0m│\n",
      "├─────────┼─────────┼──────────┼─────────┤\n",
      "│ default │  81.305 │    0.624 │   0.000 │\n",
      "├─────────┼─────────┼──────────┼─────────┤\n",
      "│     set │  81.305 │    0.624 │   0.000 │\n",
      "└─────────┴─────────┴──────────┴─────────┘\n",
      "┌─────────┬─────────┬──────────┬─────────┐\n",
      "│\u001b[1m    Type \u001b[0m│\u001b[1m E [meV] \u001b[0m│\u001b[1m F [eV/A] \u001b[0m│\u001b[1m V [meV] \u001b[0m│\n",
      "├─────────┼─────────┼──────────┼─────────┤\n",
      "│ default │  62.832 │    0.443 │   0.000 │\n",
      "├─────────┼─────────┼──────────┼─────────┤\n",
      "│     set │  62.832 │    0.443 │   0.000 │\n",
      "└─────────┴─────────┴──────────┴─────────┘\n"
     ]
    },
    {
     "name": "stderr",
     "output_type": "stream",
     "text": [
      "\u001b[36m\u001b[1m[ \u001b[22m\u001b[39m\u001b[36m\u001b[1mInfo: \u001b[22m\u001b[39mRMSE Table\n",
      "\u001b[36m\u001b[1m[ \u001b[22m\u001b[39m\u001b[36m\u001b[1mInfo: \u001b[22m\u001b[39mMAE Table\n"
     ]
    },
    {
     "name": "stdout",
     "output_type": "stream",
     "text": [
      "┌─────────┬─────────┬──────────┬─────────┐\n",
      "│\u001b[1m    Type \u001b[0m│\u001b[1m E [meV] \u001b[0m│\u001b[1m F [eV/A] \u001b[0m│\u001b[1m V [meV] \u001b[0m│\n",
      "├─────────┼─────────┼──────────┼─────────┤\n",
      "│ default │  81.305 │    0.624 │   0.000 │\n",
      "├─────────┼─────────┼──────────┼─────────┤\n",
      "│     set │  81.305 │    0.624 │   0.000 │\n",
      "└─────────┴─────────┴──────────┴─────────┘\n",
      "┌─────────┬─────────┬──────────┬─────────┐\n",
      "│\u001b[1m    Type \u001b[0m│\u001b[1m E [meV] \u001b[0m│\u001b[1m F [eV/A] \u001b[0m│\u001b[1m V [meV] \u001b[0m│\n",
      "├─────────┼─────────┼──────────┼─────────┤\n",
      "│ default │  62.832 │    0.443 │   0.000 │\n",
      "├─────────┼─────────┼──────────┼─────────┤\n",
      "│     set │  62.832 │    0.443 │   0.000 │\n",
      "└─────────┴─────────┴──────────┴─────────┘\n",
      "┌─────────┬─────────┬──────────┬─────────┐\n",
      "│\u001b[1m    Type \u001b[0m│\u001b[1m E [meV] \u001b[0m│\u001b[1m F [eV/A] \u001b[0m│\u001b[1m V [meV] \u001b[0m│\n",
      "├─────────┼─────────┼──────────┼─────────┤\n",
      "│ default │  58.214 │    0.661 │   0.000 │\n",
      "├─────────┼─────────┼──────────┼─────────┤\n",
      "│     set │  58.214 │    0.661 │   0.000 │\n",
      "└─────────┴─────────┴──────────┴─────────┘\n",
      "┌─────────┬─────────┬──────────┬─────────┐\n",
      "│\u001b[1m    Type \u001b[0m│\u001b[1m E [meV] \u001b[0m│\u001b[1m F [eV/A] \u001b[0m│\u001b[1m V [meV] \u001b[0m│\n",
      "├─────────┼─────────┼──────────┼─────────┤\n",
      "│ default │  46.463 │    0.490 │   0.000 │\n",
      "├─────────┼─────────┼──────────┼─────────┤\n",
      "│     set │  46.463 │    0.490 │   0.000 │\n",
      "└─────────┴─────────┴──────────┴─────────┘\n"
     ]
    },
    {
     "name": "stderr",
     "output_type": "stream",
     "text": [
      "\u001b[36m\u001b[1m[ \u001b[22m\u001b[39m\u001b[36m\u001b[1mInfo: \u001b[22m\u001b[39mRMSE Table\n",
      "\u001b[36m\u001b[1m[ \u001b[22m\u001b[39m\u001b[36m\u001b[1mInfo: \u001b[22m\u001b[39mMAE Table\n",
      "\u001b[36m\u001b[1m[ \u001b[22m\u001b[39m\u001b[36m\u001b[1mInfo: \u001b[22m\u001b[39mRMSE Table\n",
      "\u001b[36m\u001b[1m[ \u001b[22m\u001b[39m\u001b[36m\u001b[1mInfo: \u001b[22m\u001b[39mMAE Table\n"
     ]
    },
    {
     "name": "stdout",
     "output_type": "stream",
     "text": [
      "┌─────────┬─────────┬──────────┬─────────┐\n",
      "│\u001b[1m    Type \u001b[0m│\u001b[1m E [meV] \u001b[0m│\u001b[1m F [eV/A] \u001b[0m│\u001b[1m V [meV] \u001b[0m│\n",
      "├─────────┼─────────┼──────────┼─────────┤\n",
      "│ default │  58.214 │    0.661 │   0.000 │\n",
      "├─────────┼─────────┼──────────┼─────────┤\n",
      "│     set │  58.214 │    0.661 │   0.000 │\n",
      "└─────────┴─────────┴──────────┴─────────┘\n",
      "┌─────────┬─────────┬──────────┬─────────┐\n",
      "│\u001b[1m    Type \u001b[0m│\u001b[1m E [meV] \u001b[0m│\u001b[1m F [eV/A] \u001b[0m│\u001b[1m V [meV] \u001b[0m│\n",
      "├─────────┼─────────┼──────────┼─────────┤\n",
      "│ default │  46.463 │    0.490 │   0.000 │\n",
      "├─────────┼─────────┼──────────┼─────────┤\n",
      "│     set │  46.463 │    0.490 │   0.000 │\n",
      "└─────────┴─────────┴──────────┴─────────┘\n",
      "\n",
      "This potential was saved with following versions:\n",
      "\n",
      "JuLIP v0.14.8\n",
      "ACEbase v0.4.4\n",
      "ACE1x v0.1.11\n",
      "ACE1 v0.12.5\n",
      "ACEmd v0.1.17\n",
      "ACEpotentials v0.6.7\n",
      "ACEfit v0.1.5\n",
      "\n",
      "If you have problems with using this potential, pin your installation to above versions.\n",
      "\n",
      "\n",
      "This potential was saved with following versions:\n"
     ]
    },
    {
     "name": "stderr",
     "output_type": "stream",
     "text": [
      "\u001b[36m\u001b[1m[ \u001b[22m\u001b[39m\u001b[36m\u001b[1mInfo: \u001b[22m\u001b[39mRMSE Table\n",
      "\u001b[36m\u001b[1m[ \u001b[22m\u001b[39m\u001b[36m\u001b[1mInfo: \u001b[22m\u001b[39mMAE Table\n"
     ]
    },
    {
     "name": "stdout",
     "output_type": "stream",
     "text": [
      "\n",
      "JuLIP v0.14.8\n",
      "ACEbase v0.4.4\n",
      "ACE1x v0.1.11\n",
      "ACE1 v0.12.5\n",
      "ACEmd v0.1.17\n",
      "ACEpotentials v0.6.7\n",
      "ACEfit v0.1.5\n",
      "\n",
      "If you have problems with using this potential, pin your installation to above versions.\n",
      "\n",
      "┌─────────┬─────────┬──────────┬─────────┐\n",
      "│\u001b[1m    Type \u001b[0m│\u001b[1m E [meV] \u001b[0m│\u001b[1m F [eV/A] \u001b[0m│\u001b[1m V [meV] \u001b[0m│\n",
      "├─────────┼─────────┼──────────┼─────────┤\n",
      "│ default │  15.844 │    0.399 │   0.000 │\n",
      "├─────────┼─────────┼──────────┼─────────┤\n",
      "│     set │  15.844 │    0.399 │   0.000 │\n",
      "└─────────┴─────────┴──────────┴─────────┘\n",
      "┌─────────┬─────────┬──────────┬─────────┐\n",
      "│\u001b[1m    Type \u001b[0m│\u001b[1m E [meV] \u001b[0m│\u001b[1m F [eV/A] \u001b[0m│\u001b[1m V [meV] \u001b[0m│\n",
      "├─────────┼─────────┼──────────┼─────────┤\n",
      "│ default │  11.173 │    0.279 │   0.000 │\n",
      "├─────────┼─────────┼──────────┼─────────┤\n",
      "│     set │  11.173 │    0.279 │   0.000 │\n",
      "└─────────┴─────────┴──────────┴─────────┘\n"
     ]
    },
    {
     "name": "stderr",
     "output_type": "stream",
     "text": [
      "\u001b[36m\u001b[1m[ \u001b[22m\u001b[39m\u001b[36m\u001b[1mInfo: \u001b[22m\u001b[39mRMSE Table\n",
      "\u001b[36m\u001b[1m[ \u001b[22m\u001b[39m\u001b[36m\u001b[1mInfo: \u001b[22m\u001b[39mMAE Table\n"
     ]
    },
    {
     "name": "stdout",
     "output_type": "stream",
     "text": [
      "┌─────────┬─────────┬──────────┬─────────┐\n",
      "│\u001b[1m    Type \u001b[0m│\u001b[1m E [meV] \u001b[0m│\u001b[1m F [eV/A] \u001b[0m│\u001b[1m V [meV] \u001b[0m│\n",
      "├─────────┼─────────┼──────────┼─────────┤\n",
      "│ default │  15.842 │    0.399 │   0.000 │\n",
      "├─────────┼─────────┼──────────┼─────────┤\n",
      "│     set │  15.842 │    0.399 │   0.000 │\n",
      "└─────────┴─────────┴──────────┴─────────┘\n",
      "┌─────────┬─────────┬──────────┬─────────┐\n",
      "│\u001b[1m    Type \u001b[0m│\u001b[1m E [meV] \u001b[0m│\u001b[1m F [eV/A] \u001b[0m│\u001b[1m V [meV] \u001b[0m│\n",
      "├─────────┼─────────┼──────────┼─────────┤\n",
      "│ default │  11.178 │    0.279 │   0.000 │\n",
      "├─────────┼─────────┼──────────┼─────────┤\n",
      "│     set │  11.178 │    0.279 │   0.000 │\n",
      "└─────────┴─────────┴──────────┴─────────┘\n"
     ]
    },
    {
     "name": "stderr",
     "output_type": "stream",
     "text": [
      "\u001b[36m\u001b[1m[ \u001b[22m\u001b[39m\u001b[36m\u001b[1mInfo: \u001b[22m\u001b[39mRMSE Table\n",
      "\u001b[36m\u001b[1m[ \u001b[22m\u001b[39m\u001b[36m\u001b[1mInfo: \u001b[22m\u001b[39mMAE Table\n"
     ]
    },
    {
     "name": "stdout",
     "output_type": "stream",
     "text": [
      "┌─────────┬─────────┬──────────┬─────────┐\n",
      "│\u001b[1m    Type \u001b[0m│\u001b[1m E [meV] \u001b[0m│\u001b[1m F [eV/A] \u001b[0m│\u001b[1m V [meV] \u001b[0m│\n",
      "├─────────┼─────────┼──────────┼─────────┤\n",
      "│ default │  15.113 │    0.417 │   0.000 │\n",
      "├─────────┼─────────┼──────────┼─────────┤\n",
      "│     set │  15.113 │    0.417 │   0.000 │\n",
      "└─────────┴─────────┴──────────┴─────────┘\n",
      "┌─────────┬─────────┬──────────┬─────────┐\n",
      "│\u001b[1m    Type \u001b[0m│\u001b[1m E [meV] \u001b[0m│\u001b[1m F [eV/A] \u001b[0m│\u001b[1m V [meV] \u001b[0m│\n",
      "├─────────┼─────────┼──────────┼─────────┤\n",
      "│ default │  11.583 │    0.309 │   0.000 │\n",
      "├─────────┼─────────┼──────────┼─────────┤\n",
      "│     set │  11.583 │    0.309 │   0.000 │\n",
      "└─────────┴─────────┴──────────┴─────────┘\n"
     ]
    },
    {
     "name": "stderr",
     "output_type": "stream",
     "text": [
      "\u001b[36m\u001b[1m[ \u001b[22m\u001b[39m\u001b[36m\u001b[1mInfo: \u001b[22m\u001b[39mRMSE Table\n",
      "\u001b[36m\u001b[1m[ \u001b[22m\u001b[39m\u001b[36m\u001b[1mInfo: \u001b[22m\u001b[39mMAE Table\n"
     ]
    },
    {
     "name": "stdout",
     "output_type": "stream",
     "text": [
      "┌─────────┬─────────┬──────────┬─────────┐\n",
      "│\u001b[1m    Type \u001b[0m│\u001b[1m E [meV] \u001b[0m│\u001b[1m F [eV/A] \u001b[0m│\u001b[1m V [meV] \u001b[0m│\n",
      "├─────────┼─────────┼──────────┼─────────┤\n",
      "│ default │  15.096 │    0.417 │   0.000 │\n",
      "├─────────┼─────────┼──────────┼─────────┤\n",
      "│     set │  15.096 │    0.417 │   0.000 │\n",
      "└─────────┴─────────┴──────────┴─────────┘\n",
      "┌─────────┬─────────┬──────────┬─────────┐\n",
      "│\u001b[1m    Type \u001b[0m│\u001b[1m E [meV] \u001b[0m│\u001b[1m F [eV/A] \u001b[0m│\u001b[1m V [meV] \u001b[0m│\n",
      "├─────────┼─────────┼──────────┼─────────┤\n",
      "│ default │  11.562 │    0.309 │   0.000 │\n",
      "├─────────┼─────────┼──────────┼─────────┤\n",
      "│     set │  11.562 │    0.309 │   0.000 │\n",
      "└─────────┴─────────┴──────────┴─────────┘\n"
     ]
    },
    {
     "name": "stderr",
     "output_type": "stream",
     "text": [
      "\u001b[36m\u001b[1m[ \u001b[22m\u001b[39m\u001b[36m\u001b[1mInfo: \u001b[22m\u001b[39mRMSE Table\n",
      "\u001b[36m\u001b[1m[ \u001b[22m\u001b[39m\u001b[36m\u001b[1mInfo: \u001b[22m\u001b[39mMAE Table\n"
     ]
    },
    {
     "name": "stdout",
     "output_type": "stream",
     "text": [
      "\n",
      "This potential was saved with following versions:\n",
      "\n",
      "JuLIP v0.14.8\n",
      "ACEbase v0.4.4\n",
      "ACE1x v0.1.11\n",
      "ACE1 v0.12.5\n",
      "ACEmd v0.1.17\n",
      "ACEpotentials v0.6.7\n",
      "ACEfit v0.1.5\n",
      "\n",
      "If you have problems with using this potential, pin your installation to above versions.\n",
      "\n",
      "\n",
      "This potential was saved with following versions:\n",
      "\n",
      "JuLIP v0.14.8\n",
      "ACEbase v0.4.4\n",
      "ACE1x v0.1.11\n",
      "ACE1 v0.12.5\n",
      "ACEmd v0.1.17\n",
      "ACEpotentials v0.6.7\n",
      "ACEfit v0.1.5\n",
      "\n",
      "If you have problems with using this potential, pin your installation to above versions.\n",
      "\n",
      "┌─────────┬─────────┬──────────┬─────────┐\n",
      "│\u001b[1m    Type \u001b[0m│\u001b[1m E [meV] \u001b[0m│\u001b[1m F [eV/A] \u001b[0m│\u001b[1m V [meV] \u001b[0m│\n",
      "├─────────┼─────────┼──────────┼─────────┤\n",
      "│ default │   9.647 │    0.334 │   0.000 │\n",
      "├─────────┼─────────┼──────────┼─────────┤\n",
      "│     set │   9.647 │    0.334 │   0.000 │\n",
      "└─────────┴─────────┴──────────┴─────────┘\n",
      "┌─────────┬─────────┬──────────┬─────────┐\n",
      "│\u001b[1m    Type \u001b[0m│\u001b[1m E [meV] \u001b[0m│\u001b[1m F [eV/A] \u001b[0m│\u001b[1m V [meV] \u001b[0m│\n",
      "├─────────┼─────────┼──────────┼─────────┤\n",
      "│ default │   6.814 │    0.230 │   0.000 │\n",
      "├─────────┼─────────┼──────────┼─────────┤\n",
      "│     set │   6.814 │    0.230 │   0.000 │\n",
      "└─────────┴─────────┴──────────┴─────────┘\n"
     ]
    },
    {
     "name": "stderr",
     "output_type": "stream",
     "text": [
      "\u001b[36m\u001b[1m[ \u001b[22m\u001b[39m\u001b[36m\u001b[1mInfo: \u001b[22m\u001b[39mRMSE Table\n",
      "\u001b[36m\u001b[1m[ \u001b[22m\u001b[39m\u001b[36m\u001b[1mInfo: \u001b[22m\u001b[39mMAE Table\n"
     ]
    },
    {
     "name": "stdout",
     "output_type": "stream",
     "text": [
      "┌─────────┬─────────┬──────────┬─────────┐\n",
      "│\u001b[1m    Type \u001b[0m│\u001b[1m E [meV] \u001b[0m│\u001b[1m F [eV/A] \u001b[0m│\u001b[1m V [meV] \u001b[0m│\n",
      "├─────────┼─────────┼──────────┼─────────┤\n",
      "│ default │   9.577 │    0.332 │   0.000 │\n",
      "├─────────┼─────────┼──────────┼─────────┤\n",
      "│     set │   9.577 │    0.332 │   0.000 │\n",
      "└─────────┴─────────┴──────────┴─────────┘\n",
      "┌─────────┬─────────┬──────────┬─────────┐\n",
      "│\u001b[1m    Type \u001b[0m│\u001b[1m E [meV] \u001b[0m│\u001b[1m F [eV/A] \u001b[0m│\u001b[1m V [meV] \u001b[0m│\n",
      "├─────────┼─────────┼──────────┼─────────┤\n",
      "│ default │   6.726 │    0.229 │   0.000 │\n",
      "├─────────┼─────────┼──────────┼─────────┤\n",
      "│     set │   6.726 │    0.229 │   0.000 │\n",
      "└─────────┴─────────┴──────────┴─────────┘\n"
     ]
    },
    {
     "name": "stderr",
     "output_type": "stream",
     "text": [
      "\u001b[36m\u001b[1m[ \u001b[22m\u001b[39m\u001b[36m\u001b[1mInfo: \u001b[22m\u001b[39mRMSE Table\n",
      "\u001b[36m\u001b[1m[ \u001b[22m\u001b[39m\u001b[36m\u001b[1mInfo: \u001b[22m\u001b[39mMAE Table\n"
     ]
    },
    {
     "name": "stdout",
     "output_type": "stream",
     "text": [
      "┌─────────┬─────────┬──────────┬─────────┐\n",
      "│\u001b[1m    Type \u001b[0m│\u001b[1m E [meV] \u001b[0m│\u001b[1m F [eV/A] \u001b[0m│\u001b[1m V [meV] \u001b[0m│\n",
      "├─────────┼─────────┼──────────┼─────────┤\n",
      "│ default │  11.641 │    0.375 │   0.000 │\n",
      "├─────────┼─────────┼──────────┼─────────┤\n",
      "│     set │  11.641 │    0.375 │   0.000 │\n",
      "└─────────┴─────────┴──────────┴─────────┘\n",
      "┌─────────┬─────────┬──────────┬─────────┐\n",
      "│\u001b[1m    Type \u001b[0m│\u001b[1m E [meV] \u001b[0m│\u001b[1m F [eV/A] \u001b[0m│\u001b[1m V [meV] \u001b[0m│\n",
      "├─────────┼─────────┼──────────┼─────────┤\n",
      "│ default │   9.026 │    0.277 │   0.000 │\n",
      "├─────────┼─────────┼──────────┼─────────┤\n",
      "│     set │   9.026 │    0.277 │   0.000 │\n",
      "└─────────┴─────────┴──────────┴─────────┘\n"
     ]
    },
    {
     "name": "stderr",
     "output_type": "stream",
     "text": [
      "\u001b[36m\u001b[1m[ \u001b[22m\u001b[39m\u001b[36m\u001b[1mInfo: \u001b[22m\u001b[39mRMSE Table\n",
      "\u001b[36m\u001b[1m[ \u001b[22m\u001b[39m\u001b[36m\u001b[1mInfo: \u001b[22m\u001b[39mMAE Table\n"
     ]
    },
    {
     "name": "stdout",
     "output_type": "stream",
     "text": [
      "┌─────────┬─────────┬──────────┬─────────┐\n",
      "│\u001b[1m    Type \u001b[0m│\u001b[1m E [meV] \u001b[0m│\u001b[1m F [eV/A] \u001b[0m│\u001b[1m V [meV] \u001b[0m│\n",
      "├─────────┼─────────┼──────────┼─────────┤\n",
      "│ default │  11.568 │    0.373 │   0.000 │\n",
      "├─────────┼─────────┼──────────┼─────────┤\n",
      "│     set │  11.568 │    0.373 │   0.000 │\n",
      "└─────────┴─────────┴──────────┴─────────┘\n",
      "┌─────────┬─────────┬──────────┬─────────┐\n",
      "│\u001b[1m    Type \u001b[0m│\u001b[1m E [meV] \u001b[0m│\u001b[1m F [eV/A] \u001b[0m│\u001b[1m V [meV] \u001b[0m│\n",
      "├─────────┼─────────┼──────────┼─────────┤\n",
      "│ default │   8.963 │    0.276 │   0.000 │\n",
      "├─────────┼─────────┼──────────┼─────────┤\n",
      "│     set │   8.963 │    0.276 │   0.000 │\n",
      "└─────────┴─────────┴──────────┴─────────┘\n"
     ]
    },
    {
     "name": "stderr",
     "output_type": "stream",
     "text": [
      "\u001b[36m\u001b[1m[ \u001b[22m\u001b[39m\u001b[36m\u001b[1mInfo: \u001b[22m\u001b[39mRMSE Table\n",
      "\u001b[36m\u001b[1m[ \u001b[22m\u001b[39m\u001b[36m\u001b[1mInfo: \u001b[22m\u001b[39mMAE Table\n"
     ]
    }
   ],
   "source": [
    "dsets = [\"Si23\", \"Si234\", \"Si2345\"]\n",
    "vset = \"Si5\"\n",
    "ecost = \"50.0\"\n",
    "elossweight = parse(Float64, ecost)\n",
    "weights = Dict(\"default\" => Dict(\"E\" => elossweight, \"F\" => 1.0))\n",
    "basisvals = [\"24.20\",\"24.20.16\",\"24.20.16.12\"]\n",
    "Vref = OneBody(:Si => -7881.32677981122) # Si2 isolated energy\n",
    "datakeys = (energy_key = \"energy\", force_key = \"forces\")\n",
    "val_data_dir = \"./datasets/$(vset).xyz\"; val_data = read_extxyz(val_data_dir)\n",
    "val_atoms = [ACEpotentials.AtomsData(v; weights=weights, v_ref=Vref, datakeys...) for v in val_data]\n",
    "\n",
    "pots = Dict()\n",
    "pots_pure = Dict()\n",
    "errs = Dict(\"train\" => Dict(), \"val\" => Dict())\n",
    "errs_pure = Dict(\"train\" => Dict(), \"val\" => Dict())\n",
    "\n",
    "for dset in dsets\n",
    "    train_data_dir = \"./datasets/$(dset).xyz\"; train_data = read_extxyz(train_data_dir)\n",
    "    train_atoms = [ACEpotentials.AtomsData(t; weights=weights, v_ref=Vref, datakeys...) for t in train_data]\n",
    "    for basisval in basisvals\n",
    "        pots[\"$(dset)_$(basisval)\"] = load_potential(\"./acejulia/$(dset)/$(basisval)/ecost$(ecost)/potential.json\")\n",
    "        pots_pure[\"$(dset)_$(basisval)\"] = load_potential(\"./acejulia/$(dset)_purify/$(basisval)/ecost$(ecost)/potential.json\")\n",
    "\n",
    "        # Errors\n",
    "        errs[\"train\"][\"$(dset)_$(basisval)\"] = ACEpotentials.linear_errors(train_atoms, pots[\"$(dset)_$(basisval)\"])\n",
    "        errs_pure[\"train\"][\"$(dset)_$(basisval)\"] = ACEpotentials.linear_errors(train_atoms, pots_pure[\"$(dset)_$(basisval)\"])\n",
    "        errs[\"val\"][\"$(dset)_$(basisval)\"] = ACEpotentials.linear_errors(val_atoms, pots[\"$(dset)_$(basisval)\"])\n",
    "        errs_pure[\"val\"][\"$(dset)_$(basisval)\"] = ACEpotentials.linear_errors(val_atoms, pots_pure[\"$(dset)_$(basisval)\"])\n",
    "\n",
    "        # Dimers\n",
    "        DSI = ACEpotentials.dimers(pots[\"$(dset)_$(basisval)\"], [:Si,]; rr = range(0.529177, 7.0, length=200))\n",
    "        D = ACEpotentials.dimers(pots_pure[\"$(dset)_$(basisval)\"], [:Si,]; rr = range(0.529177, 7.0, length=200))\n",
    "        export_dimers_to_dat(DSI, filename=\"./acejulia/$(dset)/$(basisval)/ecost$(ecost)/dimers.dat\")\n",
    "        export_dimers_to_dat(D, filename=\"./acejulia/$(dset)_purify/$(basisval)/ecost$(ecost)/dimercurve.dat\")\n",
    "    end\n",
    "end\n",
    "\n"
   ]
  },
  {
   "cell_type": "code",
   "execution_count": 33,
   "id": "f8f5809b",
   "metadata": {},
   "outputs": [
    {
     "name": "stdout",
     "output_type": "stream",
     "text": [
      "Validation errors for Si23:\n",
      "  Si23_24.20:\n",
      "    Val MAE E: 0.7314496303867745\n",
      "    Val MAE F: 5.202882369477908\n",
      "  Si23_24.20.16:\n",
      "    Val MAE E: 2.145457214576374\n",
      "    Val MAE F: 8.785332757678953\n",
      "  Si23_24.20.16.12:\n",
      "    Val MAE E: 5.201990817811364\n",
      "    Val MAE F: 10.867899320684742\n",
      "Validation errors for Si234:\n",
      "  Si234_24.20:\n",
      "    Val MAE E: 0.5542576591895013\n",
      "    Val MAE F: 1.1525539959336513\n",
      "  Si234_24.20.16:\n",
      "    Val MAE E: 0.6402825581082853\n",
      "    Val MAE F: 2.9861313822092117\n",
      "  Si234_24.20.16.12:\n",
      "    Val MAE E: 0.5059191758755059\n",
      "    Val MAE F: 3.941926090041813\n",
      "Validation errors for Si2345:\n",
      "  Si2345_24.20:\n",
      "    Val MAE E: 0.04646340991892066\n",
      "    Val MAE F: 0.4900724250143046\n",
      "  Si2345_24.20.16:\n",
      "    Val MAE E: 0.011582635910943282\n",
      "    Val MAE F: 0.309479880769104\n",
      "  Si2345_24.20.16.12:\n",
      "    Val MAE E: 0.009026467484913155\n",
      "    Val MAE F: 0.27748206529634856\n"
     ]
    }
   ],
   "source": [
    "# for dset in dsets\n",
    "#     println(\"Train errors for $(dset):\")\n",
    "#     for basisval in basisvals\n",
    "#         println(\"  $(dset)_$(basisval):\")\n",
    "#         # println(\"    Train MAE E: \", errs[\"train\"][\"$(dset)_$(basisval)\"][\"mae\"][\"default\"][\"E\"])\n",
    "#         # println(\"    Train MAE F: \", errs[\"train\"][\"$(dset)_$(basisval)\"][\"mae\"][\"default\"][\"F\"])\n",
    "#         # println(\"    Train MAE E: \", errs_pure[\"train\"][\"$(dset)_$(basisval)\"][\"mae\"][\"default\"][\"E\"])\n",
    "#         # println(\"    Train MAE F: \", errs_pure[\"train\"][\"$(dset)_$(basisval)\"][\"mae\"][\"default\"][\"F\"])\n",
    "#     end\n",
    "# end\n",
    "for dset in dsets\n",
    "    println(\"Validation errors for $(dset):\")\n",
    "    for basisval in basisvals\n",
    "        println(\"  $(dset)_$(basisval):\")\n",
    "        println(\"    Val MAE E: \", errs[\"val\"][\"$(dset)_$(basisval)\"][\"mae\"][\"default\"][\"E\"])\n",
    "        println(\"    Val MAE F: \", errs[\"val\"][\"$(dset)_$(basisval)\"][\"mae\"][\"default\"][\"F\"])\n",
    "        # println(\"    Val MAE E: \", errs_pure[\"val\"][\"$(dset)_$(basisval)\"][\"mae\"][\"default\"][\"E\"])\n",
    "        # println(\"    Val MAE F: \", errs_pure[\"val\"][\"$(dset)_$(basisval)\"][\"mae\"][\"default\"][\"F\"])\n",
    "    end\n",
    "end"
   ]
  },
  {
   "cell_type": "markdown",
   "id": "23a5874f",
   "metadata": {},
   "source": [
    "## Plotting"
   ]
  },
  {
   "cell_type": "code",
   "execution_count": null,
   "id": "e5bb805b",
   "metadata": {},
   "outputs": [],
   "source": []
  },
  {
   "cell_type": "markdown",
   "id": "6c67fca1",
   "metadata": {},
   "source": [
    "# Single tests"
   ]
  },
  {
   "cell_type": "code",
   "execution_count": null,
   "id": "8f3b1e13",
   "metadata": {},
   "outputs": [],
   "source": [
    "train_data_c = \"./datasets/\""
   ]
  },
  {
   "cell_type": "code",
   "execution_count": 10,
   "id": "370caae5",
   "metadata": {},
   "outputs": [
    {
     "data": {
      "text/plain": [
       "100-element Vector{AtomsData}:\n",
       " AtomsData(JuLIP.Atoms with 2 atoms, \"energy\", \"forces\", nothing, Dict(\"E\" => 50.0, \"F\" => 1.0), -15762.65355962244)\n",
       " AtomsData(JuLIP.Atoms with 2 atoms, \"energy\", \"forces\", nothing, Dict(\"E\" => 50.0, \"F\" => 1.0), -15762.65355962244)\n",
       " AtomsData(JuLIP.Atoms with 2 atoms, \"energy\", \"forces\", nothing, Dict(\"E\" => 50.0, \"F\" => 1.0), -15762.65355962244)\n",
       " AtomsData(JuLIP.Atoms with 2 atoms, \"energy\", \"forces\", nothing, Dict(\"E\" => 50.0, \"F\" => 1.0), -15762.65355962244)\n",
       " AtomsData(JuLIP.Atoms with 2 atoms, \"energy\", \"forces\", nothing, Dict(\"E\" => 50.0, \"F\" => 1.0), -15762.65355962244)\n",
       " AtomsData(JuLIP.Atoms with 2 atoms, \"energy\", \"forces\", nothing, Dict(\"E\" => 50.0, \"F\" => 1.0), -15762.65355962244)\n",
       " AtomsData(JuLIP.Atoms with 2 atoms, \"energy\", \"forces\", nothing, Dict(\"E\" => 50.0, \"F\" => 1.0), -15762.65355962244)\n",
       " AtomsData(JuLIP.Atoms with 2 atoms, \"energy\", \"forces\", nothing, Dict(\"E\" => 50.0, \"F\" => 1.0), -15762.65355962244)\n",
       " AtomsData(JuLIP.Atoms with 2 atoms, \"energy\", \"forces\", nothing, Dict(\"E\" => 50.0, \"F\" => 1.0), -15762.65355962244)\n",
       " AtomsData(JuLIP.Atoms with 2 atoms, \"energy\", \"forces\", nothing, Dict(\"E\" => 50.0, \"F\" => 1.0), -15762.65355962244)\n",
       " AtomsData(JuLIP.Atoms with 2 atoms, \"energy\", \"forces\", nothing, Dict(\"E\" => 50.0, \"F\" => 1.0), -15762.65355962244)\n",
       " AtomsData(JuLIP.Atoms with 2 atoms, \"energy\", \"forces\", nothing, Dict(\"E\" => 50.0, \"F\" => 1.0), -15762.65355962244)\n",
       " AtomsData(JuLIP.Atoms with 2 atoms, \"energy\", \"forces\", nothing, Dict(\"E\" => 50.0, \"F\" => 1.0), -15762.65355962244)\n",
       " ⋮\n",
       " AtomsData(JuLIP.Atoms with 2 atoms, \"energy\", \"forces\", nothing, Dict(\"E\" => 50.0, \"F\" => 1.0), -15762.65355962244)\n",
       " AtomsData(JuLIP.Atoms with 2 atoms, \"energy\", \"forces\", nothing, Dict(\"E\" => 50.0, \"F\" => 1.0), -15762.65355962244)\n",
       " AtomsData(JuLIP.Atoms with 2 atoms, \"energy\", \"forces\", nothing, Dict(\"E\" => 50.0, \"F\" => 1.0), -15762.65355962244)\n",
       " AtomsData(JuLIP.Atoms with 2 atoms, \"energy\", \"forces\", nothing, Dict(\"E\" => 50.0, \"F\" => 1.0), -15762.65355962244)\n",
       " AtomsData(JuLIP.Atoms with 2 atoms, \"energy\", \"forces\", nothing, Dict(\"E\" => 50.0, \"F\" => 1.0), -15762.65355962244)\n",
       " AtomsData(JuLIP.Atoms with 2 atoms, \"energy\", \"forces\", nothing, Dict(\"E\" => 50.0, \"F\" => 1.0), -15762.65355962244)\n",
       " AtomsData(JuLIP.Atoms with 2 atoms, \"energy\", \"forces\", nothing, Dict(\"E\" => 50.0, \"F\" => 1.0), -15762.65355962244)\n",
       " AtomsData(JuLIP.Atoms with 2 atoms, \"energy\", \"forces\", nothing, Dict(\"E\" => 50.0, \"F\" => 1.0), -15762.65355962244)\n",
       " AtomsData(JuLIP.Atoms with 2 atoms, \"energy\", \"forces\", nothing, Dict(\"E\" => 50.0, \"F\" => 1.0), -15762.65355962244)\n",
       " AtomsData(JuLIP.Atoms with 2 atoms, \"energy\", \"forces\", nothing, Dict(\"E\" => 50.0, \"F\" => 1.0), -15762.65355962244)\n",
       " AtomsData(JuLIP.Atoms with 2 atoms, \"energy\", \"forces\", nothing, Dict(\"E\" => 50.0, \"F\" => 1.0), -15762.65355962244)\n",
       " AtomsData(JuLIP.Atoms with 2 atoms, \"energy\", \"forces\", nothing, Dict(\"E\" => 50.0, \"F\" => 1.0), -15762.65355962244)"
      ]
     },
     "execution_count": 10,
     "metadata": {},
     "output_type": "execute_result"
    }
   ],
   "source": [
    "basis = ACE1x.ace_basis(\n",
    "    elements = [:Si],\n",
    "    order = 2,\n",
    "    totaldegree = [24,20],\n",
    "    rcut = 6.0,\n",
    "    r0 = 2.20707071, # for silicon dataset\n",
    "    pure = false)\n",
    "Vref = OneBody(:Si => -7881.32677981122) \n",
    "weights = Dict(\"default\" => Dict(\"E\" => 50.0, \"F\" => 1.0))\n",
    "datakeys = (energy_key = \"energy\", force_key = \"forces\")\n",
    "train_data_dir = \"./datasets/Si2.xyz\"; train_data = read_extxyz(train_data_dir)\n",
    "train = [ACEpotentials.AtomsData(t; weights=weights, v_ref=Vref, datakeys...) for t in train_data]\n"
   ]
  },
  {
   "cell_type": "code",
   "execution_count": 14,
   "id": "128f5df7",
   "metadata": {},
   "outputs": [
    {
     "data": {
      "text/plain": [
       "35.35533905932737"
      ]
     },
     "execution_count": 14,
     "metadata": {},
     "output_type": "execute_result"
    }
   ],
   "source": [
    "50/sqrt(2)"
   ]
  },
  {
   "cell_type": "code",
   "execution_count": 11,
   "id": "8fd2ebb2",
   "metadata": {},
   "outputs": [
    {
     "name": "stderr",
     "output_type": "stream",
     "text": [
      "\u001b[36m\u001b[1m[ \u001b[22m\u001b[39m\u001b[36m\u001b[1mInfo: \u001b[22m\u001b[39mAssembling linear problem.\n",
      "\u001b[36m\u001b[1m[ \u001b[22m\u001b[39m\u001b[36m\u001b[1mInfo: \u001b[22m\u001b[39m  - Creating feature matrix with size (700, 297).\n",
      "\u001b[36m\u001b[1m[ \u001b[22m\u001b[39m\u001b[36m\u001b[1mInfo: \u001b[22m\u001b[39m  - Beginning assembly with processor count:  1.\n",
      "\u001b[32mProgress: 100%|█████████████████████████████████████████| Time: 0:00:32\u001b[39m\n",
      "\u001b[36m\u001b[1m[ \u001b[22m\u001b[39m\u001b[36m\u001b[1mInfo: \u001b[22m\u001b[39m  - Assembly completed.\n",
      "\u001b[36m\u001b[1m[ \u001b[22m\u001b[39m\u001b[36m\u001b[1mInfo: \u001b[22m\u001b[39mAssembling full weight vector.\n"
     ]
    },
    {
     "data": {
      "text/plain": [
       "700-element Vector{Float64}:\n",
       " 35.35533905932737\n",
       "  1.0\n",
       "  1.0\n",
       "  1.0\n",
       "  1.0\n",
       "  1.0\n",
       "  1.0\n",
       " 35.35533905932737\n",
       "  1.0\n",
       "  1.0\n",
       "  1.0\n",
       "  1.0\n",
       "  1.0\n",
       "  ⋮\n",
       "  1.0\n",
       "  1.0\n",
       "  1.0\n",
       "  1.0\n",
       "  1.0\n",
       " 35.35533905932737\n",
       "  1.0\n",
       "  1.0\n",
       "  1.0\n",
       "  1.0\n",
       "  1.0\n",
       "  1.0"
      ]
     },
     "execution_count": 11,
     "metadata": {},
     "output_type": "execute_result"
    }
   ],
   "source": [
    "A, Y, W = ACEfit.assemble(train, basis)\n",
    "W"
   ]
  },
  {
   "cell_type": "code",
   "execution_count": 12,
   "id": "d33054fa",
   "metadata": {},
   "outputs": [
    {
     "name": "stderr",
     "output_type": "stream",
     "text": [
      "\u001b[33m\u001b[1m┌ \u001b[22m\u001b[39m\u001b[33m\u001b[1mWarning: \u001b[22m\u001b[39mx_tol is deprecated. Use x_abstol or x_reltol instead. The provided value (1.0e-8) will be used as x_abstol.\n",
      "\u001b[33m\u001b[1m└ \u001b[22m\u001b[39m\u001b[90m@ Optim ~/.julia/packages/Optim/8dE7C/src/types.jl:110\u001b[39m\n"
     ]
    },
    {
     "name": "stdout",
     "output_type": "stream",
     "text": [
      "Iter     Function value   Gradient norm \n",
      "     0     7.826287e+02     6.780059e+02\n",
      " * time: 0.00023293495178222656\n",
      "     1     7.351944e+01     1.852416e+03\n",
      " * time: 0.6013479232788086\n",
      "     2    -1.340990e+02     2.513636e+03\n",
      " * time: 0.6064169406890869\n",
      "     3    -1.012240e+03     2.493659e+03\n",
      " * time: 0.9000759124755859\n",
      "     4    -1.014787e+03     1.057912e+03\n",
      " * time: 1.1052100658416748\n",
      "     5    -1.015726e+03     8.607151e+01\n",
      " * time: 1.2043519020080566\n",
      "     6    -1.015814e+03     3.208683e+02\n",
      " * time: 1.499202013015747\n",
      "     7    -1.046059e+03     2.731556e+03\n",
      " * time: 1.900547981262207\n",
      "     8    -1.050169e+03     5.895866e+01\n",
      " * time: 1.9061388969421387\n",
      "     9    -1.050412e+03     3.115028e+02\n",
      " * time: 2.0072529315948486\n",
      "    10    -1.050553e+03     1.892590e+02\n",
      " * time: 2.105297088623047\n",
      "    11    -1.050578e+03     1.591120e-01\n",
      " * time: 2.2038018703460693\n",
      "    12    -1.050578e+03     3.098871e-02\n",
      " * time: 2.299154043197632\n",
      "    13    -1.050578e+03     3.768848e-06\n",
      " * time: 2.3070380687713623\n",
      "    14    -1.050578e+03     3.086463e-07\n",
      " * time: 2.4017438888549805\n",
      "    15    -1.050578e+03     8.131318e-07\n",
      " * time: 2.6010029315948486\n",
      " * Status: success\n",
      "\n",
      " * Candidate solution\n",
      "    Final objective value:     -1.050578e+03\n",
      "\n",
      " * Found with\n",
      "    Algorithm:     L-BFGS\n",
      "\n",
      " * Convergence measures\n",
      "    |x - x'|               = 3.92e-09 ≤ 1.0e-08\n",
      "    |x - x'|/|x'|          = 1.23e-09 ≰ 0.0e+00\n",
      "    |f(x) - f(x')|         = 3.06e-07 ≰ 0.0e+00\n",
      "    |f(x) - f(x')|/|f(x')| = 2.92e-10 ≰ 0.0e+00\n",
      "    |g(x)|                 = 8.13e-07 ≰ 0.0e+00\n",
      "\n",
      " * Work counters\n",
      "    Seconds run:   3  (vs limit Inf)\n",
      "    Iterations:    15\n",
      "    f(x) calls:    76\n",
      "    ∇f(x) calls:   76\n",
      "\n"
     ]
    },
    {
     "data": {
      "text/plain": [
       "JuLIP.MLIPs.SumIP{Any}(Any[OneBody{Float64}(Dict(:Si => -7881.32677981122)), PolyPairPot{Float64, ACE1.OrthPolys.TransformedPolys{Float64, ACE1.Transforms.Agnesi2Transform{Float64, Int64}, ACE1.OrthPolys.OrthPolyBasis{Float64}, PolyEnvelope{Float64}}, 1, 0}([-9.461223073737807, 4.451298402044143, 3.417304499315813, -3.9413912748613944, 1.285982099938214, -2.5381855106037348, -0.42576554262159894, 1.1689259902210356, -1.1624541618956739, 3.0747099360348202  …  3.0950383456658566, -1.907114696828274, 2.8773013663436005, -2.0816932311439382, 1.7839415423435572, -1.3336958649343704, 0.7178619926030388, -0.5315765759910964, 0.1479782356684918, -0.11070297689131842], PolyPairBasis{ACE1.OrthPolys.TransformedPolys{Float64, ACE1.Transforms.Agnesi2Transform{Float64, Int64}, ACE1.OrthPolys.OrthPolyBasis{Float64}, PolyEnvelope{Float64}}, 1}(JuLIP.Potentials.SZList{1}(AtomicNumber[<14>]), ACE1.OrthPolys.TransformedPolys{Float64, ACE1.Transforms.Agnesi2Transform{Float64, Int64}, ACE1.OrthPolys.OrthPolyBasis{Float64}, PolyEnvelope{Float64}}[ACE1.OrthPolys.TransformedPolys{Float64, ACE1.Transforms.Agnesi2Transform{Float64, Int64}, ACE1.OrthPolys.OrthPolyBasis{Float64}, PolyEnvelope{Float64}}(ACE1.OrthPolys.OrthPolyBasis{Float64}(0, 0.5937706986413976, 0, 1.0, [0.9999999999999998, 8.52745810212222, 9.534002296841784, 9.70897698393885, 9.76950383126166, 9.797421026549184, 9.812582825851042, 9.821745033106122, 9.82771946337589, 9.831846536948635  …  9.841338278051099, 9.842290973642095, 9.84310642480218, 9.843818217208847, 9.844450871328768, 9.845022627927166, 9.845547283802953, 9.846035430620148, 9.846495308778701, 9.846933407212887], [0.0, -6.7954064285272855, -7.597506750743115, -7.736941515392731, -7.785174473264858, -7.807421277183603, -7.819503492916602, -7.826804721645606, -7.831565657598128, -7.83485446206382  …  -7.84241829148791, -7.8431774806467445, -7.843827301729301, -7.844394518669928, -7.844898671469283, -7.845354295925926, -7.845772386506769, -7.846161383553717, -7.846527853720738, -7.846876967944501], [0.0, 0.0, -1.1180356658063482, -1.0183527003297113, -1.0062341117321947, -1.0028575857862734, -1.0015475296265277, -1.0009337202464743, -1.0006082860275853, -1.0004199421430453  …  -1.0001155395437646, -1.0000968054917383, -1.000082851763076, -1.0000723137976797, -1.0000642691795163, -1.0000580790747826, -1.0000532914849949, -1.0000495804655056, -1.0000467069371806, -1.0000444928292236], [0.593973813292077, 0.5943800425934356, 0.5947862718947942, 0.5951925011961527, 0.5955987304975114, 0.59600495979887, 0.5964111891002286, 0.5968174184015872, 0.5972236477029458, 0.5976298770043044  …  0.9961408216370933, 0.9965470509384519, 0.9969532802398104, 0.997359509541169, 0.9977657388425276, 0.9981719681438862, 0.9985781974452449, 0.9989844267466035, 0.9993906560479621, 0.9997968853493207], [0.001, 0.001, 0.001, 0.001, 0.001, 0.001, 0.001, 0.001, 0.001, 0.001  …  0.001, 0.001, 0.001, 0.001, 0.001, 0.001, 0.001, 0.001, 0.001, 0.001]), ACE1.Transforms.Agnesi2Transform{Float64, Int64}(2.20707071, 1, 3, 0.2857142857142857, 0.0), 0.0, 6.0, PolyEnvelope{Float64}(2, 2.20707071, 6.0));;], [0;;]), nothing), PIPotential{Float64, 1, PIBasis{BasicPSH1pBasis{Float64, 1, ACE1.OrthPolys.TransformedPolys{Float64, ACE1.Transforms.MultiTransform{1, ACE1.Transforms.AffineT{Float64, ACE1.Transforms.Agnesi2Transform{Float64, Int64}}}, ACE1.OrthPolys.OrthPolyBasis{Float64}, ACE1.OrthPolys.OneEnvelope}}, 1, ACE1.DAGEvaluator}, ACE1.DAGEvaluator, 0}(PIBasis{BasicPSH1pBasis{Float64, 1, ACE1.OrthPolys.TransformedPolys{Float64, ACE1.Transforms.MultiTransform{1, ACE1.Transforms.AffineT{Float64, ACE1.Transforms.Agnesi2Transform{Float64, Int64}}}, ACE1.OrthPolys.OrthPolyBasis{Float64}, ACE1.OrthPolys.OneEnvelope}}, 1, ACE1.DAGEvaluator}(BasicPSH1pBasis{Float64, 1, ACE1.OrthPolys.TransformedPolys{Float64, ACE1.Transforms.MultiTransform{1, ACE1.Transforms.AffineT{Float64, ACE1.Transforms.Agnesi2Transform{Float64, Int64}}}, ACE1.OrthPolys.OrthPolyBasis{Float64}, ACE1.OrthPolys.OneEnvelope}}(ACE1.OrthPolys.TransformedPolys{Float64, ACE1.Transforms.MultiTransform{1, ACE1.Transforms.AffineT{Float64, ACE1.Transforms.Agnesi2Transform{Float64, Int64}}}, ACE1.OrthPolys.OrthPolyBasis{Float64}, ACE1.OrthPolys.OneEnvelope}(ACE1.OrthPolys.OrthPolyBasis{Float64}(2, -1.0, 2, 1.0, [1.5687375497513916, 3.316624790355401, 2.6739483914241924, 2.430862174022013, 2.3048861143233235, 2.2291771507065796, 2.179449471771357, 2.1447610589554333, 2.11947811973324, 2.1004201260569073  …  2.0504988310623005, 2.0451427085842933, 2.040603465820524, 2.036721704555277, 2.033375370377712, 2.0304696591267, 2.0279299862665594, 2.0256969960336706, 2.0237229578976863, 2.0219691245768256], [0.0, -2.0786140873094945e-18, -7.017609472481619e-18, 2.412551411320251e-17, -4.62164749360015e-17, 8.442290037528487e-17, -1.036773538695508e-16, 1.0425048391689846e-16, -1.0935396246574519e-16, 1.1420171246516114e-16  …  -3.011360817815889e-16, 1.9856740318865658e-16, -2.592931134744672e-16, 2.3664166166660827e-16, -2.959961914097984e-16, 3.1192203016778236e-16, -3.9710567149721224e-16, 2.333366325414061e-16, -3.514638572109894e-16, 3.1569443326017467e-16], [0.0, 0.0, -0.8062257748298566, -0.9090909090909166, -0.9481763873554975, -0.9671528397232887, -0.9776923610941106, -0.9840838646340674, -0.9882117688044432, -0.9910081668223438  …  -0.998356999795269, -0.9985709912230949, -0.9987492190052062, -0.998898881989018, -0.9990255017705761, -0.9991333629368506, -0.9992258256629107, -0.9993055509473108, -0.9993746650901816, -0.999434881291792], [-0.999, -0.997, -0.995, -0.993, -0.991, -0.989, -0.987, -0.985, -0.983, -0.981  …  0.981, 0.983, 0.985, 0.987, 0.989, 0.991, 0.993, 0.995, 0.997, 0.999], [0.001, 0.001, 0.001, 0.001, 0.001, 0.001, 0.001, 0.001, 0.001, 0.001  …  0.001, 0.001, 0.001, 0.001, 0.001, 0.001, 0.001, 0.001, 0.001, 0.001]), ACE1.Transforms.MultiTransform{1, ACE1.Transforms.AffineT{Float64, ACE1.Transforms.Agnesi2Transform{Float64, Int64}}}(JuLIP.Potentials.SZList{1}(AtomicNumber[<14>]), ACE1.Transforms.AffineT{Float64, ACE1.Transforms.Agnesi2Transform{Float64, Int64}}[ACE1.Transforms.AffineT{Float64, ACE1.Transforms.Agnesi2Transform{Float64, Int64}}(ACE1.Transforms.Agnesi2Transform{Float64, Int64}(2.20707071, 2, 4, 0.7692307692307693, 0.0), 1.0, 0.16646139824952627, -1.0, 1.0);;]), 0.0, 6.000000000000001, ACE1.OrthPolys.OneEnvelope()), ACE1.SphericalHarmonics.SHBasis{Float64}(6, ACE1.SphericalHarmonics.ALPCoefficients{Float64}([-0.3874784528791743, 0.0, 0.2074053273332406, 1.9364916731037085, 0.3612786649796307, 0.0, 1.9720265943665387, 2.091650066335189, 0.4471985859310075, 0.0  …  2.48746859276655, 0.0, 0.0, 1.9930434571835665, 2.0213149892370277, 2.1139418156609704, 2.301368353023109, 2.6739483914241875, 0.0, 0.0], [0.39641574041163086, 13.600825605043868, -0.1957199924191972, -0.5773502691896257, -0.25338579085544516, 9.64879892027883, -0.5163977794943222, -0.4472135954999579, -0.6816131575602197, 12.349765081292922  …  -0.3333333333333333, -9.587455035995928, 0.8060762987700889, -0.502518907629606, -0.49236596391733095, -0.4605661864718383, -0.40201512610368484, -0.30151134457776363, -0.3656730838361601, -0.6523106983213205])), JuLIP.Potentials.SZList{1}(AtomicNumber[<14>]), ACE1.RPI.PSH1pBasisFcn[znlm[0|1,0,0], znlm[0|1,1,-1], znlm[0|1,1,0], znlm[0|1,1,1], znlm[0|1,2,-2], znlm[0|1,2,-1], znlm[0|1,2,0], znlm[0|1,2,1], znlm[0|1,2,2], znlm[0|1,3,-3]  …  znlm[0|16,1,-1], znlm[0|16,1,0], znlm[0|16,1,1], znlm[0|17,0,0], znlm[0|18,0,0], znlm[0|19,0,0], znlm[0|20,0,0], znlm[0|21,0,0], znlm[0|22,0,0], znlm[0|23,0,0]], UnitRange{Int64}[1:326;;]), JuLIP.Potentials.SZList{1}(AtomicNumber[<14>]), (ACE1.InnerPIBasis([1, 1, 1, 1, 1, 1, 1, 1, 1, 1  …  2, 2, 2, 2, 2, 2, 2, 2, 2, 2], [1 0; 50 0; … ; 249 281; 265 265], Dict{ACE1.PIBasisFcn, Int64}(ACE1.PIBasisFcn{2, ACE1.RPI.PSH1pBasisFcn}(<14>, (znlm[14|5,1,0], znlm[14|11,1,0]), ACE1.RPI.PSH1pBasisFcn) => 831, ACE1.PIBasisFcn{2, ACE1.RPI.PSH1pBasisFcn}(<14>, (znlm[14|1,6,-3], znlm[14|1,6,3]), ACE1.RPI.PSH1pBasisFcn) => 321, ACE1.PIBasisFcn{2, ACE1.RPI.PSH1pBasisFcn}(<14>, (znlm[14|4,2,-2], znlm[14|7,2,2]), ACE1.RPI.PSH1pBasisFcn) => 746, ACE1.PIBasisFcn{2, ACE1.RPI.PSH1pBasisFcn}(<14>, (znlm[14|4,1,1], znlm[14|8,1,-1]), ACE1.RPI.PSH1pBasisFcn) => 737, ACE1.PIBasisFcn{2, ACE1.RPI.PSH1pBasisFcn}(<14>, (znlm[14|5,1,-1], znlm[14|8,1,1]), ACE1.RPI.PSH1pBasisFcn) => 820, ACE1.PIBasisFcn{2, ACE1.RPI.PSH1pBasisFcn}(<14>, (znlm[14|4,3,-3], znlm[14|7,3,3]), ACE1.RPI.PSH1pBasisFcn) => 779, ACE1.PIBasisFcn{2, ACE1.RPI.PSH1pBasisFcn}(<14>, (znlm[14|3,3,1], znlm[14|7,3,-1]), ACE1.RPI.PSH1pBasisFcn) => 666, ACE1.PIBasisFcn{2, ACE1.RPI.PSH1pBasisFcn}(<14>, (znlm[14|4,2,-2], znlm[14|8,2,2]), ACE1.RPI.PSH1pBasisFcn) => 747, ACE1.PIBasisFcn{2, ACE1.RPI.PSH1pBasisFcn}(<14>, (znlm[14|4,1,0], znlm[14|7,1,0]), ACE1.RPI.PSH1pBasisFcn) => 727, ACE1.PIBasisFcn{2, ACE1.RPI.PSH1pBasisFcn}(<14>, (znlm[14|1,2,0], znlm[14|1,2,0]), ACE1.RPI.PSH1pBasisFcn) => 116…), Dict{Any, Int64}(), 1:947, <14>, ACE1.DAG.CorrEvalGraph{Int64, Int64}([(1, 0), (2, 0), (3, 0), (4, 0), (5, 0), (6, 0), (7, 0), (8, 0), (9, 0), (10, 0)  …  (233, 290), (234, 236), (234, 252), (235, 235), (235, 251), (236, 250), (249, 249), (249, 265), (249, 281), (265, 265)], [1, 0, 0, 0, 0, 0, 0, 0, 0, 0  …  938, 939, 940, 941, 942, 943, 944, 945, 946, 947], 326, 326)),), ACE1.DAGEvaluator()), ([6.687950734109818e-10, -1.4256481937276594e-10, 2.562123307215626e-10, 9.48654713529814e-11, -1.3230643070897064e-10, 7.122965564287159e-11, 4.115062547901977e-11, -1.3573704789908894e-10, 4.572343669681402e-11, 3.5900817268260676e-11  …  -5.881919292921276e-12, -2.071839078024195e-11, -1.0270395427560824e-11, 1.0359195390120977e-11, 1.0270395427560827e-11, -1.0270395427560827e-11, -3.478724392657662e-11, 2.362723012976347e-11, -1.496166650808621e-12, -4.056816937024104e-11],), (ACE1.DAG.CorrEvalGraph{Float64, Int64}([(1, 0), (2, 0), (3, 0), (4, 0), (5, 0), (6, 0), (7, 0), (8, 0), (9, 0), (10, 0)  …  (233, 290), (234, 236), (234, 252), (235, 235), (235, 251), (236, 250), (249, 249), (249, 265), (249, 281), (265, 265)], [6.687950734109818e-10, 0.0, 0.0, 0.0, 0.0, 0.0, 0.0, 0.0, 0.0, 0.0  …  -5.881919292921276e-12, -2.071839078024195e-11, -1.0270395427560824e-11, 1.0359195390120977e-11, 1.0270395427560827e-11, -1.0270395427560827e-11, -3.478724392657662e-11, 2.362723012976347e-11, -1.496166650808621e-12, -4.056816937024104e-11], 326, 326),), ACE1.DAGEvaluator(), nothing)])"
      ]
     },
     "execution_count": 12,
     "metadata": {},
     "output_type": "execute_result"
    }
   ],
   "source": [
    "\n",
    "solver = ACEfit.BLR()\n",
    "results = ACEfit.solve(solver, W .* A, W .* Y)\n",
    "pot = JuLIP.MLIPs.SumIP(Vref, JuLIP.MLIPs.combine(basis, results[\"C\"]))"
   ]
  },
  {
   "cell_type": "code",
   "execution_count": 13,
   "id": "23c3d355",
   "metadata": {},
   "outputs": [
    {
     "name": "stdout",
     "output_type": "stream",
     "text": [
      "┌─────────┬─────────┬──────────┬─────────┐\n",
      "│\u001b[1m    Type \u001b[0m│\u001b[1m E [meV] \u001b[0m│\u001b[1m F [eV/A] \u001b[0m│\u001b[1m V [meV] \u001b[0m│\n",
      "├─────────┼─────────┼──────────┼─────────┤\n",
      "│ default │   0.697 │    0.042 │   0.000 │\n",
      "├─────────┼─────────┼──────────┼─────────┤\n",
      "│     set │   0.697 │    0.042 │   0.000 │\n",
      "└─────────┴─────────┴──────────┴─────────┘\n",
      "┌─────────┬─────────┬──────────┬─────────┐\n",
      "│\u001b[1m    Type \u001b[0m│\u001b[1m E [meV] \u001b[0m│\u001b[1m F [eV/A] \u001b[0m│\u001b[1m V [meV] \u001b[0m│\n",
      "├─────────┼─────────┼──────────┼─────────┤\n",
      "│ default │   0.404 │    0.012 │   0.000 │\n",
      "├─────────┼─────────┼──────────┼─────────┤\n",
      "│     set │   0.404 │    0.012 │   0.000 │\n",
      "└─────────┴─────────┴──────────┴─────────┘\n"
     ]
    },
    {
     "name": "stderr",
     "output_type": "stream",
     "text": [
      "\u001b[36m\u001b[1m[ \u001b[22m\u001b[39m\u001b[36m\u001b[1mInfo: \u001b[22m\u001b[39mRMSE Table\n",
      "\u001b[36m\u001b[1m[ \u001b[22m\u001b[39m\u001b[36m\u001b[1mInfo: \u001b[22m\u001b[39mMAE Table\n"
     ]
    },
    {
     "name": "stdout",
     "output_type": "stream",
     "text": [
      "┌─────────┬──────────┬──────────┬─────────┐\n",
      "│\u001b[1m    Type \u001b[0m│\u001b[1m  E [meV] \u001b[0m│\u001b[1m F [eV/A] \u001b[0m│\u001b[1m V [meV] \u001b[0m│\n",
      "├─────────┼──────────┼──────────┼─────────┤\n",
      "│ default │ 2722.917 │    2.097 │   0.000 │\n",
      "├─────────┼──────────┼──────────┼─────────┤\n",
      "│     set │ 2722.917 │    2.097 │   0.000 │\n",
      "└─────────┴──────────┴──────────┴─────────┘\n",
      "┌─────────┬──────────┬──────────┬─────────┐\n",
      "│\u001b[1m    Type \u001b[0m│\u001b[1m  E [meV] \u001b[0m│\u001b[1m F [eV/A] \u001b[0m│\u001b[1m V [meV] \u001b[0m│\n",
      "├─────────┼──────────┼──────────┼─────────┤\n",
      "│ default │ 2679.989 │    1.669 │   0.000 │\n",
      "├─────────┼──────────┼──────────┼─────────┤\n",
      "│     set │ 2679.989 │    1.669 │   0.000 │\n",
      "└─────────┴──────────┴──────────┴─────────┘\n"
     ]
    },
    {
     "name": "stderr",
     "output_type": "stream",
     "text": [
      "\u001b[36m\u001b[1m[ \u001b[22m\u001b[39m\u001b[36m\u001b[1mInfo: \u001b[22m\u001b[39mRMSE Table\n",
      "\u001b[36m\u001b[1m[ \u001b[22m\u001b[39m\u001b[36m\u001b[1mInfo: \u001b[22m\u001b[39mMAE Table\n"
     ]
    },
    {
     "data": {
      "text/plain": [
       "Dict{String, Dict{String, Any}} with 2 entries:\n",
       "  \"rmse\" => Dict(\"default\"=>Dict(\"V\"=>0.0, \"E\"=>2.72292, \"F\"=>2.09683), \"set\"=>…\n",
       "  \"mae\"  => Dict(\"default\"=>Dict(\"V\"=>0.0, \"E\"=>2.67999, \"F\"=>1.66915), \"set\"=>…"
      ]
     },
     "execution_count": 13,
     "metadata": {},
     "output_type": "execute_result"
    }
   ],
   "source": [
    "test_data_dir = \"./datasets/Si5.xyz\"; test_data = read_extxyz(test_data_dir)\n",
    "test = [ACEpotentials.AtomsData(v; weights=weights, v_ref=Vref, datakeys...) for v in test_data];\n",
    "\n",
    "ACEpotentials.linear_errors(train, pot)\n",
    "ACEpotentials.linear_errors(test, pot)"
   ]
  },
  {
   "cell_type": "markdown",
   "id": "35bf1382",
   "metadata": {},
   "source": [
    "# Quick plots"
   ]
  }
 ],
 "metadata": {
  "kernelspec": {
   "display_name": "Julia 1.10.6",
   "language": "julia",
   "name": "julia-1.10"
  },
  "language_info": {
   "file_extension": ".jl",
   "mimetype": "application/julia",
   "name": "julia",
   "version": "1.10.6"
  }
 },
 "nbformat": 4,
 "nbformat_minor": 5
}
