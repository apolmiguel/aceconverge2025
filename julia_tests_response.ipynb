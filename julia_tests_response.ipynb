{
 "cells": [
  {
   "cell_type": "code",
   "execution_count": 1,
   "id": "1287b8a9",
   "metadata": {},
   "outputs": [
    {
     "name": "stderr",
     "output_type": "stream",
     "text": [
      "\u001b[32m\u001b[1m  Activating\u001b[22m\u001b[39m project at `/leonardo_work/Sis25_degironc_0/apol/aceconverge2025`\n"
     ]
    }
   ],
   "source": [
    "ENV[\"JULIA_PKG_USE_CLI_GIT\"] = \"true\"\n",
    "cd(\"/leonardo_work/Sis25_degironc_0/apol/aceconverge2025/\")\n",
    "pwd()\n",
    "\n",
    "import Pkg\n",
    "Pkg.activate(\".\")\n",
    "using ACEpotentials, LinearAlgebra, Printf"
   ]
  },
  {
   "cell_type": "markdown",
   "id": "8b9784c1",
   "metadata": {},
   "source": [
    "# Basis checking"
   ]
  },
  {
   "cell_type": "markdown",
   "id": "eac4ce51",
   "metadata": {},
   "source": [
    "## Carbon"
   ]
  },
  {
   "cell_type": "markdown",
   "id": "542aa20e",
   "metadata": {},
   "source": [
    "## Silicon "
   ]
  },
  {
   "cell_type": "code",
   "execution_count": 9,
   "id": "baad5ddb",
   "metadata": {},
   "outputs": [
    {
     "name": "stdout",
     "output_type": "stream",
     "text": [
      "basis_bin[\"24.20\"]\n",
      "297\n",
      "basis_bin[\"24.20.16\"]\n",
      "802\n",
      "basis_bin[\"24.20.16.12\"]\n",
      "929\n"
     ]
    }
   ],
   "source": [
    "basis_bin = Dict()\n",
    "orders = [2,3,4]\n",
    "degrees = [[24,20],[24,20,16],[24,20,16,12]]\n",
    "basis_tags = [\"24.20\",\"24.20.16\",\"24.20.16.12\"]\n",
    "\n",
    "for (i,ord) in enumerate(orders)\n",
    "    basis = ACE1x.ace_basis(\n",
    "        elements = [:Si],\n",
    "        order = ord,\n",
    "        totaldegree = degrees[i],\n",
    "        rcut = 6.0,\n",
    "        r0 = 2.20707071, # for silicon dataset\n",
    "        pure = false)\n",
    "    basis_bin[basis_tags[i]] = basis\n",
    "    println(\"basis_bin[\\\"\" * basis_tags[i] * \"\\\"]\")\n",
    "    println(length(basis))\n",
    "end\n",
    "\n",
    "# basis_bin_pure = Dict()\n",
    "# for (i,ord) in enumerate(orders)\n",
    "#     basis = ACE1x.ace_basis(\n",
    "#         elements = [:Si],\n",
    "#         order = ord,\n",
    "#         totaldegree = degrees[i],\n",
    "#         rcut = 6.0,\n",
    "#         r0 = 2.20707071, # for silicon dataset\n",
    "#         pure = true)\n",
    "#     basis_bin_pure[basis_tags[i]] = basis\n",
    "#     println(\"basis_bin[\\\"\" * basis_tags[i] * \"\\\"]\")\n",
    "#     println(length(basis))\n",
    "# end"
   ]
  },
  {
   "cell_type": "code",
   "execution_count": null,
   "id": "e69c9004",
   "metadata": {},
   "outputs": [],
   "source": []
  },
  {
   "cell_type": "markdown",
   "id": "5c284d7b",
   "metadata": {},
   "source": [
    "# Error extraction from complete potentials"
   ]
  },
  {
   "cell_type": "markdown",
   "id": "1e5c1afd",
   "metadata": {},
   "source": [
    "## Carbon"
   ]
  },
  {
   "cell_type": "code",
   "execution_count": 3,
   "id": "cb7f8cc2",
   "metadata": {},
   "outputs": [
    {
     "name": "stdout",
     "output_type": "stream",
     "text": [
      "\n",
      "This potential was saved with following versions:\n",
      "\n",
      "JuLIP v0.14.8\n",
      "ACEbase v0.4.4\n",
      "ACE1x v0.1.11\n",
      "ACE1 v0.12.5\n",
      "ACEmd v0.1.17\n",
      "ACEpotentials v0.6.7\n",
      "ACEfit v0.1.5\n",
      "\n",
      "If you have problems with using this potential, pin your installation to above versions.\n",
      "\n",
      "\n",
      "This potential was saved with following versions:\n",
      "\n",
      "JuLIP v0.14.8\n",
      "ACEbase v0.4.4\n",
      "ACE1x v0.1.11\n",
      "ACE1 v0.12.5\n",
      "ACEmd v0.1.17\n",
      "ACEpotentials v0.6.7\n",
      "ACEfit v0.1.5\n",
      "\n",
      "If you have problems with using this potential, pin your installation to above versions.\n",
      "\n"
     ]
    },
    {
     "name": "stderr",
     "output_type": "stream",
     "text": [
      "\u001b[36m\u001b[1m[ \u001b[22m\u001b[39m\u001b[36m\u001b[1mInfo: \u001b[22m\u001b[39mRMSE Table\n"
     ]
    },
    {
     "name": "stdout",
     "output_type": "stream",
     "text": [
      "┌──────────────┬─────────┬──────────┬─────────┐\n",
      "│\u001b[1m         Type \u001b[0m│\u001b[1m E [meV] \u001b[0m│\u001b[1m F [eV/A] \u001b[0m│\u001b[1m V [meV] \u001b[0m│\n",
      "├──────────────┼─────────┼──────────┼─────────┤\n",
      "│ shaiducarbon │  48.993 │    0.530 │   0.000 │\n",
      "├──────────────┼─────────┼──────────┼─────────┤\n",
      "│          set │  48.993 │    0.530 │   0.000 │\n",
      "└──────────────┴─────────┴──────────┴─────────┘\n",
      "┌──────────────┬─────────┬──────────┬─────────┐\n",
      "│\u001b[1m         Type \u001b[0m│\u001b[1m E [meV] \u001b[0m│\u001b[1m F [eV/A] \u001b[0m│\u001b[1m V [meV] \u001b[0m│\n",
      "├──────────────┼─────────┼──────────┼─────────┤\n",
      "│ shaiducarbon │  33.432 │    0.337 │   0.000 │\n",
      "├──────────────┼─────────┼──────────┼─────────┤\n",
      "│          set │  33.432 │    0.337 │   0.000 │\n",
      "└──────────────┴─────────┴──────────┴─────────┘\n"
     ]
    },
    {
     "name": "stderr",
     "output_type": "stream",
     "text": [
      "\u001b[36m\u001b[1m[ \u001b[22m\u001b[39m\u001b[36m\u001b[1mInfo: \u001b[22m\u001b[39mMAE Table\n"
     ]
    },
    {
     "name": "stdout",
     "output_type": "stream",
     "text": [
      "┌──────────────┬─────────┬──────────┬─────────┐\n",
      "│\u001b[1m         Type \u001b[0m│\u001b[1m E [meV] \u001b[0m│\u001b[1m F [eV/A] \u001b[0m│\u001b[1m V [meV] \u001b[0m│\n",
      "├──────────────┼─────────┼──────────┼─────────┤\n",
      "│ shaiducarbon │  48.993 │    0.530 │   0.000 │\n",
      "├──────────────┼─────────┼──────────┼─────────┤\n",
      "│          set │  48.993 │    0.530 │   0.000 │\n",
      "└──────────────┴─────────┴──────────┴─────────┘\n",
      "┌──────────────┬─────────┬──────────┬─────────┐\n",
      "│\u001b[1m         Type \u001b[0m│\u001b[1m E [meV] \u001b[0m│\u001b[1m F [eV/A] \u001b[0m│\u001b[1m V [meV] \u001b[0m│\n",
      "├──────────────┼─────────┼──────────┼─────────┤\n",
      "│ shaiducarbon │  33.432 │    0.337 │   0.000 │\n",
      "├──────────────┼─────────┼──────────┼─────────┤\n",
      "│          set │  33.432 │    0.337 │   0.000 │\n",
      "└──────────────┴─────────┴──────────┴─────────┘\n"
     ]
    },
    {
     "name": "stderr",
     "output_type": "stream",
     "text": [
      "\u001b[36m\u001b[1m[ \u001b[22m\u001b[39m\u001b[36m\u001b[1mInfo: \u001b[22m\u001b[39mRMSE Table\n",
      "\u001b[36m\u001b[1m[ \u001b[22m\u001b[39m\u001b[36m\u001b[1mInfo: \u001b[22m\u001b[39mMAE Table\n"
     ]
    },
    {
     "name": "stdout",
     "output_type": "stream",
     "text": [
      "┌──────────────┬─────────┬──────────┬─────────┐\n",
      "│\u001b[1m         Type \u001b[0m│\u001b[1m E [meV] \u001b[0m│\u001b[1m F [eV/A] \u001b[0m│\u001b[1m V [meV] \u001b[0m│\n",
      "├──────────────┼─────────┼──────────┼─────────┤\n",
      "│ shaiducarbon │  65.509 │    0.558 │   0.000 │\n",
      "├──────────────┼─────────┼──────────┼─────────┤\n",
      "│          set │  65.509 │    0.558 │   0.000 │\n",
      "└──────────────┴─────────┴──────────┴─────────┘\n",
      "┌──────────────┬─────────┬──────────┬─────────┐\n",
      "│\u001b[1m         Type \u001b[0m│\u001b[1m E [meV] \u001b[0m│\u001b[1m F [eV/A] \u001b[0m│\u001b[1m V [meV] \u001b[0m│\n",
      "├──────────────┼─────────┼──────────┼─────────┤\n",
      "│ shaiducarbon │  38.103 │    0.337 │   0.000 │\n",
      "├──────────────┼─────────┼──────────┼─────────┤\n",
      "│          set │  38.103 │    0.337 │   0.000 │\n",
      "└──────────────┴─────────┴──────────┴─────────┘\n"
     ]
    },
    {
     "name": "stderr",
     "output_type": "stream",
     "text": [
      "\u001b[36m\u001b[1m[ \u001b[22m\u001b[39m\u001b[36m\u001b[1mInfo: \u001b[22m\u001b[39mRMSE Table\n",
      "\u001b[36m\u001b[1m[ \u001b[22m\u001b[39m\u001b[36m\u001b[1mInfo: \u001b[22m\u001b[39mMAE Table\n"
     ]
    },
    {
     "name": "stdout",
     "output_type": "stream",
     "text": [
      "┌──────────────┬─────────┬──────────┬─────────┐\n",
      "│\u001b[1m         Type \u001b[0m│\u001b[1m E [meV] \u001b[0m│\u001b[1m F [eV/A] \u001b[0m│\u001b[1m V [meV] \u001b[0m│\n",
      "├──────────────┼─────────┼──────────┼─────────┤\n",
      "│ shaiducarbon │  65.509 │    0.558 │   0.000 │\n",
      "├──────────────┼─────────┼──────────┼─────────┤\n",
      "│          set │  65.509 │    0.558 │   0.000 │\n",
      "└──────────────┴─────────┴──────────┴─────────┘\n",
      "┌──────────────┬─────────┬──────────┬─────────┐\n",
      "│\u001b[1m         Type \u001b[0m│\u001b[1m E [meV] \u001b[0m│\u001b[1m F [eV/A] \u001b[0m│\u001b[1m V [meV] \u001b[0m│\n",
      "├──────────────┼─────────┼──────────┼─────────┤\n",
      "│ shaiducarbon │  38.103 │    0.337 │   0.000 │\n",
      "├──────────────┼─────────┼──────────┼─────────┤\n",
      "│          set │  38.103 │    0.337 │   0.000 │\n",
      "└──────────────┴─────────┴──────────┴─────────┘\n",
      "\n",
      "This potential was saved with following versions:\n",
      "\n",
      "JuLIP v0.14.8\n",
      "ACEbase v0.4.4\n",
      "ACE1x v0.1.11\n",
      "ACE1 v0.12.5\n",
      "ACEmd v0.1.17\n",
      "ACEpotentials v0.6.7\n",
      "ACEfit v0.1.5\n",
      "\n",
      "If you have problems with using this potential, pin your installation to above versions.\n",
      "\n"
     ]
    },
    {
     "name": "stderr",
     "output_type": "stream",
     "text": [
      "\u001b[36m\u001b[1m[ \u001b[22m\u001b[39m\u001b[36m\u001b[1mInfo: \u001b[22m\u001b[39mRMSE Table\n",
      "\u001b[36m\u001b[1m[ \u001b[22m\u001b[39m\u001b[36m\u001b[1mInfo: \u001b[22m\u001b[39mMAE Table\n"
     ]
    },
    {
     "name": "stdout",
     "output_type": "stream",
     "text": [
      "\n",
      "This potential was saved with following versions:\n",
      "\n",
      "JuLIP v0.14.8\n",
      "ACEbase v0.4.4\n",
      "ACE1x v0.1.11\n",
      "ACE1 v0.12.5\n",
      "ACEmd v0.1.17\n",
      "ACEpotentials v0.6.7\n",
      "ACEfit v0.1.5\n",
      "\n",
      "If you have problems with using this potential, pin your installation to above versions.\n",
      "\n",
      "┌──────────────┬─────────┬──────────┬─────────┐\n",
      "│\u001b[1m         Type \u001b[0m│\u001b[1m E [meV] \u001b[0m│\u001b[1m F [eV/A] \u001b[0m│\u001b[1m V [meV] \u001b[0m│\n",
      "├──────────────┼─────────┼──────────┼─────────┤\n",
      "│ shaiducarbon │  23.954 │    0.326 │   0.000 │\n",
      "├──────────────┼─────────┼──────────┼─────────┤\n",
      "│          set │  23.954 │    0.326 │   0.000 │\n",
      "└──────────────┴─────────┴──────────┴─────────┘\n",
      "┌──────────────┬─────────┬──────────┬─────────┐\n",
      "│\u001b[1m         Type \u001b[0m│\u001b[1m E [meV] \u001b[0m│\u001b[1m F [eV/A] \u001b[0m│\u001b[1m V [meV] \u001b[0m│\n",
      "├──────────────┼─────────┼──────────┼─────────┤\n",
      "│ shaiducarbon │  16.091 │    0.205 │   0.000 │\n",
      "├──────────────┼─────────┼──────────┼─────────┤\n",
      "│          set │  16.091 │    0.205 │   0.000 │\n",
      "└──────────────┴─────────┴──────────┴─────────┘\n"
     ]
    },
    {
     "name": "stderr",
     "output_type": "stream",
     "text": [
      "\u001b[36m\u001b[1m[ \u001b[22m\u001b[39m\u001b[36m\u001b[1mInfo: \u001b[22m\u001b[39mRMSE Table\n",
      "\u001b[36m\u001b[1m[ \u001b[22m\u001b[39m\u001b[36m\u001b[1mInfo: \u001b[22m\u001b[39mMAE Table\n"
     ]
    },
    {
     "name": "stdout",
     "output_type": "stream",
     "text": [
      "┌──────────────┬─────────┬──────────┬─────────┐\n",
      "│\u001b[1m         Type \u001b[0m│\u001b[1m E [meV] \u001b[0m│\u001b[1m F [eV/A] \u001b[0m│\u001b[1m V [meV] \u001b[0m│\n",
      "├──────────────┼─────────┼──────────┼─────────┤\n",
      "│ shaiducarbon │  23.917 │    0.326 │   0.000 │\n",
      "├──────────────┼─────────┼──────────┼─────────┤\n",
      "│          set │  23.917 │    0.326 │   0.000 │\n",
      "└──────────────┴─────────┴──────────┴─────────┘\n",
      "┌──────────────┬─────────┬──────────┬─────────┐\n",
      "│\u001b[1m         Type \u001b[0m│\u001b[1m E [meV] \u001b[0m│\u001b[1m F [eV/A] \u001b[0m│\u001b[1m V [meV] \u001b[0m│\n",
      "├──────────────┼─────────┼──────────┼─────────┤\n",
      "│ shaiducarbon │  16.078 │    0.205 │   0.000 │\n",
      "├──────────────┼─────────┼──────────┼─────────┤\n",
      "│          set │  16.078 │    0.205 │   0.000 │\n",
      "└──────────────┴─────────┴──────────┴─────────┘\n"
     ]
    },
    {
     "name": "stderr",
     "output_type": "stream",
     "text": [
      "\u001b[36m\u001b[1m[ \u001b[22m\u001b[39m\u001b[36m\u001b[1mInfo: \u001b[22m\u001b[39mRMSE Table\n",
      "\u001b[36m\u001b[1m[ \u001b[22m\u001b[39m\u001b[36m\u001b[1mInfo: \u001b[22m\u001b[39mMAE Table\n"
     ]
    },
    {
     "name": "stdout",
     "output_type": "stream",
     "text": [
      "┌──────────────┬─────────┬──────────┬─────────┐\n",
      "│\u001b[1m         Type \u001b[0m│\u001b[1m E [meV] \u001b[0m│\u001b[1m F [eV/A] \u001b[0m│\u001b[1m V [meV] \u001b[0m│\n",
      "├──────────────┼─────────┼──────────┼─────────┤\n",
      "│ shaiducarbon │  28.997 │    0.380 │   0.000 │\n",
      "├──────────────┼─────────┼──────────┼─────────┤\n",
      "│          set │  28.997 │    0.380 │   0.000 │\n",
      "└──────────────┴─────────┴──────────┴─────────┘\n",
      "┌──────────────┬─────────┬──────────┬─────────┐\n",
      "│\u001b[1m         Type \u001b[0m│\u001b[1m E [meV] \u001b[0m│\u001b[1m F [eV/A] \u001b[0m│\u001b[1m V [meV] \u001b[0m│\n",
      "├──────────────┼─────────┼──────────┼─────────┤\n",
      "│ shaiducarbon │  17.999 │    0.210 │   0.000 │\n",
      "├──────────────┼─────────┼──────────┼─────────┤\n",
      "│          set │  17.999 │    0.210 │   0.000 │\n",
      "└──────────────┴─────────┴──────────┴─────────┘\n"
     ]
    },
    {
     "name": "stderr",
     "output_type": "stream",
     "text": [
      "\u001b[36m\u001b[1m[ \u001b[22m\u001b[39m\u001b[36m\u001b[1mInfo: \u001b[22m\u001b[39mRMSE Table\n",
      "\u001b[36m\u001b[1m[ \u001b[22m\u001b[39m\u001b[36m\u001b[1mInfo: \u001b[22m\u001b[39mMAE Table\n"
     ]
    },
    {
     "ename": "LoadError",
     "evalue": "InterruptException:",
     "output_type": "error",
     "traceback": [
      "InterruptException:",
      "",
      "Stacktrace:",
      "  [1] pow_body(x::Float64, n::Int64)",
      "    @ Base.Math ./math.jl:1251",
      "  [2] ^",
      "    @ ./math.jl:1248 [inlined]",
      "  [3] transform(t::ACE1.Transforms.Agnesi2Transform{Float64, Int64}, r::Float64)",
      "    @ ACE1.Transforms ~/.julia/packages/ACE1/UJw9H/src/polynomials/transforms.jl:246",
      "  [4] transform",
      "    @ ~/.julia/packages/ACE1/UJw9H/src/polynomials/transforms.jl:359 [inlined]",
      "  [5] transform(t::ACE1.Transforms.MultiTransform{1, ACE1.Transforms.AffineT{Float64, ACE1.Transforms.Agnesi2Transform{Float64, Int64}}}, r::Float64, z::AtomicNumber, z0::AtomicNumber)",
      "    @ ACE1.Transforms ~/.julia/packages/ACE1/UJw9H/src/polynomials/transforms.jl:449",
      "  [6] evaluate!(::Vector{Float64}, ::Nothing, ::ACE1.OrthPolys.TransformedPolys{Float64, ACE1.Transforms.MultiTransform{1, ACE1.Transforms.AffineT{Float64, ACE1.Transforms.Agnesi2Transform{Float64, Int64}}}, ACE1.OrthPolys.OrthPolyBasis{Float64}, ACE1.OrthPolys.OneEnvelope}, ::Float64, ::AtomicNumber, ::Vararg{AtomicNumber}; maxn::Int64)",
      "    @ ACE1.OrthPolys ~/.julia/packages/ACE1/UJw9H/src/polynomials/orthpolys.jl:303",
      "  [7] evaluate!",
      "    @ ~/.julia/packages/ACE1/UJw9H/src/polynomials/orthpolys.jl:301 [inlined]",
      "  [8] add_into_A!(A::SubArray{ComplexF64, 1, Vector{ComplexF64}, Tuple{UnitRange{Int64}}, true}, tmp::@NamedTuple{BJ::Vector{Float64}, tmpJ::Nothing, BY::Vector{ComplexF64}, tmpY::@NamedTuple{P::Vector{Float64}}}, basis::BasicPSH1pBasis{Float64, 1, ACE1.OrthPolys.TransformedPolys{Float64, ACE1.Transforms.MultiTransform{1, ACE1.Transforms.AffineT{Float64, ACE1.Transforms.Agnesi2Transform{Float64, Int64}}}, ACE1.OrthPolys.OrthPolyBasis{Float64}, ACE1.OrthPolys.OneEnvelope}}, R::StaticArraysCore.SVector{3, Float64}, iz::Int64, iz0::Int64)",
      "    @ ACE1.RPI ~/.julia/packages/ACE1/UJw9H/src/rpi/rpi_basic1pbasis.jl:167",
      "  [9] evaluate!(A::Vector{ComplexF64}, tmp::@NamedTuple{BJ::Vector{Float64}, tmpJ::Nothing, BY::Vector{ComplexF64}, tmpY::@NamedTuple{P::Vector{Float64}}}, basis::BasicPSH1pBasis{Float64, 1, ACE1.OrthPolys.TransformedPolys{Float64, ACE1.Transforms.MultiTransform{1, ACE1.Transforms.AffineT{Float64, ACE1.Transforms.Agnesi2Transform{Float64, Int64}}}, ACE1.OrthPolys.OrthPolyBasis{Float64}, ACE1.OrthPolys.OneEnvelope}}, Rs::SubArray{StaticArraysCore.SVector{3, Float64}, 1, Vector{StaticArraysCore.SVector{3, Float64}}, Tuple{UnitRange{Int64}}, true}, Zs::SubArray{AtomicNumber, 1, Vector{AtomicNumber}, Tuple{UnitRange{Int64}}, true}, z0::AtomicNumber)",
      "    @ ACE1 ~/.julia/packages/ACE1/UJw9H/src/oneparticlebasis.jl:15",
      " [10] evaluate!(tmp::@NamedTuple{R::Vector{StaticArraysCore.SVector{3, Float64}}, Z::Vector{AtomicNumber}, tmp_basis1p::@NamedTuple{BJ::Vector{Float64}, tmpJ::Nothing, BY::Vector{ComplexF64}, tmpY::@NamedTuple{P::Vector{Float64}}}, AA::Vector{ComplexF64}, A::Vector{ComplexF64}}, V::PIPotential{Float64, 1, PIBasis{BasicPSH1pBasis{Float64, 1, ACE1.OrthPolys.TransformedPolys{Float64, ACE1.Transforms.MultiTransform{1, ACE1.Transforms.AffineT{Float64, ACE1.Transforms.Agnesi2Transform{Float64, Int64}}}, ACE1.OrthPolys.OrthPolyBasis{Float64}, ACE1.OrthPolys.OneEnvelope}}, 1, ACE1.DAGEvaluator}, ACE1.DAGEvaluator, 0}, ::ACE1.DAGEvaluator, Rs::SubArray{StaticArraysCore.SVector{3, Float64}, 1, Vector{StaticArraysCore.SVector{3, Float64}}, Tuple{UnitRange{Int64}}, true}, Zs::SubArray{AtomicNumber, 1, Vector{AtomicNumber}, Tuple{UnitRange{Int64}}, true}, z0::AtomicNumber)",
      "    @ ACE1 ~/.julia/packages/ACE1/UJw9H/src/pipot.jl:309",
      " [11] evaluate!",
      "    @ ~/.julia/packages/ACE1/UJw9H/src/pipot.jl:177 [inlined]",
      " [12] energy!(tmp::Vector{@NamedTuple{R::Vector{StaticArraysCore.SVector{3, Float64}}, Z::Vector{AtomicNumber}, tmp_basis1p::@NamedTuple{BJ::Vector{Float64}, tmpJ::Nothing, BY::Vector{ComplexF64}, tmpY::@NamedTuple{P::Vector{Float64}}}, AA::Vector{ComplexF64}, A::Vector{ComplexF64}}}, calc::PIPotential{Float64, 1, PIBasis{BasicPSH1pBasis{Float64, 1, ACE1.OrthPolys.TransformedPolys{Float64, ACE1.Transforms.MultiTransform{1, ACE1.Transforms.AffineT{Float64, ACE1.Transforms.Agnesi2Transform{Float64, Int64}}}, ACE1.OrthPolys.OrthPolyBasis{Float64}, ACE1.OrthPolys.OneEnvelope}}, 1, ACE1.DAGEvaluator}, ACE1.DAGEvaluator, 0}, at::Atoms{Float64}; domain::UnitRange{Int64})",
      "    @ JuLIP.Potentials ~/.julia/packages/JuLIP/2bVLG/src/Potentials.jl:225",
      " [13] energy!(tmp::Vector{@NamedTuple{R::Vector{StaticArraysCore.SVector{3, Float64}}, Z::Vector{AtomicNumber}, tmp_basis1p::@NamedTuple{BJ::Vector{Float64}, tmpJ::Nothing, BY::Vector{ComplexF64}, tmpY::@NamedTuple{P::Vector{Float64}}}, AA::Vector{ComplexF64}, A::Vector{ComplexF64}}}, calc::PIPotential{Float64, 1, PIBasis{BasicPSH1pBasis{Float64, 1, ACE1.OrthPolys.TransformedPolys{Float64, ACE1.Transforms.MultiTransform{1, ACE1.Transforms.AffineT{Float64, ACE1.Transforms.Agnesi2Transform{Float64, Int64}}}, ACE1.OrthPolys.OrthPolyBasis{Float64}, ACE1.OrthPolys.OneEnvelope}}, 1, ACE1.DAGEvaluator}, ACE1.DAGEvaluator, 0}, at::Atoms{Float64})",
      "    @ JuLIP.Potentials ~/.julia/packages/JuLIP/2bVLG/src/Potentials.jl:217",
      " [14] energy(V::PIPotential{Float64, 1, PIBasis{BasicPSH1pBasis{Float64, 1, ACE1.OrthPolys.TransformedPolys{Float64, ACE1.Transforms.MultiTransform{1, ACE1.Transforms.AffineT{Float64, ACE1.Transforms.Agnesi2Transform{Float64, Int64}}}, ACE1.OrthPolys.OrthPolyBasis{Float64}, ACE1.OrthPolys.OneEnvelope}}, 1, ACE1.DAGEvaluator}, ACE1.DAGEvaluator, 0}, at::Atoms{Float64}; kwargs::@Kwargs{})",
      "    @ JuLIP.Potentials ~/.julia/packages/JuLIP/2bVLG/src/Potentials.jl:195",
      " [15] energy",
      "    @ ~/.julia/packages/JuLIP/2bVLG/src/Potentials.jl:193 [inlined]",
      " [16] #26",
      "    @ ./none:0 [inlined]",
      " [17] (::Base.MappingRF{JuLIP.MLIPs.var\"#26#27\"{@Kwargs{}, Atoms{Float64}}, Base.BottomRF{typeof(Base.add_sum)}})(acc::Float64, x::PIPotential{Float64, 1, PIBasis{BasicPSH1pBasis{Float64, 1, ACE1.OrthPolys.TransformedPolys{Float64, ACE1.Transforms.MultiTransform{1, ACE1.Transforms.AffineT{Float64, ACE1.Transforms.Agnesi2Transform{Float64, Int64}}}, ACE1.OrthPolys.OrthPolyBasis{Float64}, ACE1.OrthPolys.OneEnvelope}}, 1, ACE1.DAGEvaluator}, ACE1.DAGEvaluator, 0})",
      "    @ Base ./reduce.jl:100",
      " [18] _foldl_impl(op::Base.MappingRF{JuLIP.MLIPs.var\"#26#27\"{@Kwargs{}, Atoms{Float64}}, Base.BottomRF{typeof(Base.add_sum)}}, init::Base._InitialValue, itr::Vector{AbstractCalculator})",
      "    @ Base ./reduce.jl:62",
      " [19] foldl_impl",
      "    @ ./reduce.jl:48 [inlined]",
      " [20] mapfoldl_impl",
      "    @ ./reduce.jl:44 [inlined]",
      " [21] mapfoldl",
      "    @ ./reduce.jl:175 [inlined]",
      " [22] mapreduce",
      "    @ ./reduce.jl:307 [inlined]",
      " [23] sum",
      "    @ ./reduce.jl:535 [inlined]",
      " [24] sum",
      "    @ ./reduce.jl:564 [inlined]",
      " [25] energy(sumip::JuLIP.MLIPs.SumIP{AbstractCalculator}, at::Atoms{Float64})",
      "    @ JuLIP.MLIPs ~/.julia/packages/JuLIP/2bVLG/src/mlips.jl:172",
      " [26] linear_errors(data::Vector{AtomsData}, model::JuLIP.MLIPs.SumIP{AbstractCalculator}; group_key::String, verbose::Bool)",
      "    @ ACEpotentials ~/.julia/packages/ACEpotentials/FshzX/src/atoms_data.jl:179",
      " [27] linear_errors(data::Vector{AtomsData}, model::JuLIP.MLIPs.SumIP{AbstractCalculator})",
      "    @ ACEpotentials ~/.julia/packages/ACEpotentials/FshzX/src/atoms_data.jl:156",
      " [28] top-level scope",
      "    @ In[3]:28"
     ]
    }
   ],
   "source": [
    "vset = \"Val1k_n\"\n",
    "dsets = [\"Tr1k_n\"]\n",
    "ecost = \"10.0\"\n",
    "elossweight = parse(Float64, ecost)\n",
    "weights = Dict(\"shaiducarbon\" => Dict(\"E\" => elossweight, \"F\" => 1.0))\n",
    "basisvals = [\"24.20\",\"24.20.16\",\"24.20.16.12\"]\n",
    "Vref = OneBody(:C => -245.44385736)\n",
    "datakeys = (energy_key = \"energy\", force_key = \"force\")\n",
    "val_data_dir = \"./datasets/$(vset).xyz\"; val_data = read_extxyz(val_data_dir)\n",
    "val_atoms = [ACEpotentials.AtomsData(v; weights=weights, v_ref=Vref, datakeys...) for v in val_data]\n",
    "\n",
    "pots = Dict()\n",
    "pots_pure = Dict()\n",
    "errs = Dict(\"train\" => Dict(), \"val\" => Dict())\n",
    "errs_pure = Dict(\"train\" => Dict(), \"val\" => Dict())\n",
    "\n",
    "for dset in dsets\n",
    "    train_data_dir = \"./datasets/$(dset).xyz\"; train_data = read_extxyz(train_data_dir)\n",
    "    train_atoms = [ACEpotentials.AtomsData(t; weights=weights, v_ref=Vref, datakeys...) for t in train_data]\n",
    "    for basisval in basisvals\n",
    "        # Load potential\n",
    "        pots[\"$(dset)_$(basisval)\"] = load_potential(\"./acejulia/$(dset)/$(basisval)/ecost$(ecost)/potential.json\")\n",
    "        pots_pure[\"$(dset)_$(basisval)\"] = load_potential(\"./acejulia/$(dset)_purify/$(basisval)/ecost$(ecost)/potential.json\")\n",
    "        # Compute errors\n",
    "        errs[\"train\"][\"$(dset)_$(basisval)\"] = ACEpotentials.linear_errors(train_atoms, pots[\"$(dset)_$(basisval)\"])\n",
    "        errs_pure[\"train\"][\"$(dset)_$(basisval)\"] = ACEpotentials.linear_errors(train_atoms, pots_pure[\"$(dset)_$(basisval)\"])\n",
    "        errs[\"val\"][\"$(dset)_$(basisval)\"] = ACEpotentials.linear_errors(val_atoms, pots[\"$(dset)_$(basisval)\"])\n",
    "        errs_pure[\"val\"][\"$(dset)_$(basisval)\"] = ACEpotentials.linear_errors(val_atoms, pots_pure[\"$(dset)_$(basisval)\"])\n",
    "    end\n",
    "end"
   ]
  },
  {
   "cell_type": "markdown",
   "id": "7851767a",
   "metadata": {},
   "source": [
    "## Out-of-domain"
   ]
  },
  {
   "cell_type": "code",
   "execution_count": 2,
   "id": "ea7f380b",
   "metadata": {},
   "outputs": [
    {
     "name": "stdout",
     "output_type": "stream",
     "text": [
      "\n",
      "This potential was saved with following versions:\n",
      "\n",
      "JuLIP v0.14.8\n",
      "ACEbase v0.4.4\n",
      "ACE1x v0.1.11\n",
      "ACE1 v0.12.5\n",
      "ACEmd v0.1.17\n",
      "ACEpotentials v0.6.7\n",
      "ACEfit v0.1.5\n",
      "\n",
      "If you have problems with using this potential, pin your installation to above versions.\n",
      "\n",
      "\n",
      "This potential was saved with following versions:\n",
      "\n",
      "JuLIP v0.14.8\n",
      "ACEbase v0.4.4\n",
      "ACE1x v0.1.11\n",
      "ACE1 v0.12.5\n",
      "ACEmd v0.1.17\n",
      "ACEpotentials v0.6.7\n",
      "ACEfit v0.1.5\n",
      "\n",
      "If you have problems with using this potential, pin your installation to above versions.\n",
      "\n"
     ]
    },
    {
     "name": "stderr",
     "output_type": "stream",
     "text": [
      "\u001b[36m\u001b[1m[ \u001b[22m\u001b[39m\u001b[36m\u001b[1mInfo: \u001b[22m\u001b[39mRMSE Table\n"
     ]
    },
    {
     "name": "stdout",
     "output_type": "stream",
     "text": [
      "┌─────────┬─────────┬──────────┬─────────┐\n",
      "│\u001b[1m    Type \u001b[0m│\u001b[1m E [meV] \u001b[0m│\u001b[1m F [eV/A] \u001b[0m│\u001b[1m V [meV] \u001b[0m│\n",
      "├─────────┼─────────┼──────────┼─────────┤\n",
      "│ default │   0.733 │    0.043 │   0.000 │\n",
      "├─────────┼─────────┼──────────┼─────────┤\n",
      "│     set │   0.733 │    0.043 │   0.000 │\n",
      "└─────────┴─────────┴──────────┴─────────┘\n",
      "┌─────────┬─────────┬──────────┬─────────┐\n",
      "│\u001b[1m    Type \u001b[0m│\u001b[1m E [meV] \u001b[0m│\u001b[1m F [eV/A] \u001b[0m│\u001b[1m V [meV] \u001b[0m│\n",
      "├─────────┼─────────┼──────────┼─────────┤\n",
      "│ default │   0.432 │    0.012 │   0.000 │\n",
      "├─────────┼─────────┼──────────┼─────────┤\n",
      "│     set │   0.432 │    0.012 │   0.000 │\n",
      "└─────────┴─────────┴──────────┴─────────┘\n",
      "┌─────────┬─────────┬──────────┬─────────┐\n",
      "│\u001b[1m    Type \u001b[0m│\u001b[1m E [meV] \u001b[0m│\u001b[1m F [eV/A] \u001b[0m│\u001b[1m V [meV] \u001b[0m│\n",
      "├─────────┼─────────┼──────────┼─────────┤\n",
      "│ default │   0.733 │    0.043 │   0.000 │\n",
      "├─────────┼─────────┼──────────┼─────────┤\n",
      "│     set │   0.733 │    0.043 │   0.000 │\n",
      "└─────────┴─────────┴──────────┴─────────┘\n",
      "┌─────────┬─────────┬──────────┬─────────┐\n",
      "│\u001b[1m    Type \u001b[0m│\u001b[1m E [meV] \u001b[0m│\u001b[1m F [eV/A] \u001b[0m│\u001b[1m V [meV] \u001b[0m│\n",
      "├─────────┼─────────┼──────────┼─────────┤\n",
      "│ default │   0.432 │    0.012 │   0.000 │\n",
      "├─────────┼─────────┼──────────┼─────────┤\n",
      "│     set │   0.432 │    0.012 │   0.000 │\n",
      "└─────────┴─────────┴──────────┴─────────┘\n",
      "┌─────────┬─────────┬──────────┬─────────┐\n",
      "│\u001b[1m    Type \u001b[0m│\u001b[1m E [meV] \u001b[0m│\u001b[1m F [eV/A] \u001b[0m│\u001b[1m V [meV] \u001b[0m│\n",
      "├─────────┼─────────┼──────────┼─────────┤\n",
      "│ default │   0.291 │    0.036 │   0.000 │\n",
      "├─────────┼─────────┼──────────┼─────────┤\n",
      "│     set │   0.291 │    0.036 │   0.000 │\n",
      "└─────────┴─────────┴──────────┴─────────┘\n",
      "┌─────────┬─────────┬──────────┬─────────┐\n",
      "│\u001b[1m    Type \u001b[0m│\u001b[1m E [meV] \u001b[0m│\u001b[1m F [eV/A] \u001b[0m│\u001b[1m V [meV] \u001b[0m│\n",
      "├─────────┼─────────┼──────────┼─────────┤\n",
      "│ default │   0.227 │    0.010 │   0.000 │\n",
      "├─────────┼─────────┼──────────┼─────────┤\n",
      "│     set │   0.227 │    0.010 │   0.000 │\n",
      "└─────────┴─────────┴──────────┴─────────┘\n",
      "┌─────────┬─────────┬──────────┬─────────┐\n",
      "│\u001b[1m    Type \u001b[0m│\u001b[1m E [meV] \u001b[0m│\u001b[1m F [eV/A] \u001b[0m│\u001b[1m V [meV] \u001b[0m│\n",
      "├─────────┼─────────┼──────────┼─────────┤\n",
      "│ default │   0.291 │    0.036 │   0.000 │\n",
      "├─────────┼─────────┼──────────┼─────────┤\n",
      "│     set │   0.291 │    0.036 │   0.000 │\n",
      "└─────────┴─────────┴──────────┴─────────┘\n",
      "┌─────────┬─────────┬──────────┬─────────┐\n",
      "│\u001b[1m    Type \u001b[0m│\u001b[1m E [meV] \u001b[0m│\u001b[1m F [eV/A] \u001b[0m│\u001b[1m V [meV] \u001b[0m│\n",
      "├─────────┼─────────┼──────────┼─────────┤\n",
      "│ default │   0.227 │    0.010 │   0.000 │\n",
      "├─────────┼─────────┼──────────┼─────────┤\n",
      "│     set │   0.227 │    0.010 │   0.000 │\n",
      "└─────────┴─────────┴──────────┴─────────┘\n",
      "\n",
      "This potential was saved with following versions:\n"
     ]
    },
    {
     "name": "stderr",
     "output_type": "stream",
     "text": [
      "\u001b[36m\u001b[1m[ \u001b[22m\u001b[39m\u001b[36m\u001b[1mInfo: \u001b[22m\u001b[39mMAE Table\n",
      "\u001b[36m\u001b[1m[ \u001b[22m\u001b[39m\u001b[36m\u001b[1mInfo: \u001b[22m\u001b[39mRMSE Table\n",
      "\u001b[36m\u001b[1m[ \u001b[22m\u001b[39m\u001b[36m\u001b[1mInfo: \u001b[22m\u001b[39mMAE Table\n",
      "\u001b[36m\u001b[1m[ \u001b[22m\u001b[39m\u001b[36m\u001b[1mInfo: \u001b[22m\u001b[39mRMSE Table\n",
      "\u001b[36m\u001b[1m[ \u001b[22m\u001b[39m\u001b[36m\u001b[1mInfo: \u001b[22m\u001b[39mMAE Table\n",
      "\u001b[36m\u001b[1m[ \u001b[22m\u001b[39m\u001b[36m\u001b[1mInfo: \u001b[22m\u001b[39mRMSE Table\n",
      "\u001b[36m\u001b[1m[ \u001b[22m\u001b[39m\u001b[36m\u001b[1mInfo: \u001b[22m\u001b[39mMAE Table\n"
     ]
    },
    {
     "name": "stdout",
     "output_type": "stream",
     "text": [
      "\n",
      "JuLIP v0.14.8\n",
      "ACEbase v0.4.4\n",
      "ACE1x v0.1.11\n",
      "ACE1 v0.12.5\n",
      "ACEmd v0.1.17\n",
      "ACEpotentials v0.6.7\n",
      "ACEfit v0.1.5\n",
      "\n",
      "If you have problems with using this potential, pin your installation to above versions.\n",
      "\n",
      "\n",
      "This potential was saved with following versions:\n",
      "\n",
      "JuLIP v0.14.8\n",
      "ACEbase v0.4.4\n",
      "ACE1x v0.1.11\n",
      "ACE1 v0.12.5\n",
      "ACEmd v0.1.17\n",
      "ACEpotentials v0.6.7\n",
      "ACEfit v0.1.5\n",
      "\n",
      "If you have problems with using this potential, pin your installation to above versions.\n",
      "\n",
      "┌─────────┬─────────┬──────────┬─────────┐\n",
      "│\u001b[1m    Type \u001b[0m│\u001b[1m E [meV] \u001b[0m│\u001b[1m F [eV/A] \u001b[0m│\u001b[1m V [meV] \u001b[0m│\n",
      "├─────────┼─────────┼──────────┼─────────┤\n",
      "│ default │   0.733 │    0.043 │   0.000 │\n",
      "├─────────┼─────────┼──────────┼─────────┤\n",
      "│     set │   0.733 │    0.043 │   0.000 │\n",
      "└─────────┴─────────┴──────────┴─────────┘\n",
      "┌─────────┬─────────┬──────────┬─────────┐\n",
      "│\u001b[1m    Type \u001b[0m│\u001b[1m E [meV] \u001b[0m│\u001b[1m F [eV/A] \u001b[0m│\u001b[1m V [meV] \u001b[0m│\n",
      "├─────────┼─────────┼──────────┼─────────┤\n",
      "│ default │   0.432 │    0.012 │   0.000 │\n",
      "├─────────┼─────────┼──────────┼─────────┤\n",
      "│     set │   0.432 │    0.012 │   0.000 │\n",
      "└─────────┴─────────┴──────────┴─────────┘\n",
      "┌─────────┬─────────┬──────────┬─────────┐\n",
      "│\u001b[1m    Type \u001b[0m│\u001b[1m E [meV] \u001b[0m│\u001b[1m F [eV/A] \u001b[0m│\u001b[1m V [meV] \u001b[0m│\n",
      "├─────────┼─────────┼──────────┼─────────┤\n",
      "│ default │   0.733 │    0.043 │   0.000 │\n",
      "├─────────┼─────────┼──────────┼─────────┤\n",
      "│     set │   0.733 │    0.043 │   0.000 │\n",
      "└─────────┴─────────┴──────────┴─────────┘\n",
      "┌─────────┬─────────┬──────────┬─────────┐\n",
      "│\u001b[1m    Type \u001b[0m│\u001b[1m E [meV] \u001b[0m│\u001b[1m F [eV/A] \u001b[0m│\u001b[1m V [meV] \u001b[0m│\n",
      "├─────────┼─────────┼──────────┼─────────┤\n",
      "│ default │   0.432 │    0.012 │   0.000 │\n",
      "├─────────┼─────────┼──────────┼─────────┤\n",
      "│     set │   0.432 │    0.012 │   0.000 │\n",
      "└─────────┴─────────┴──────────┴─────────┘\n",
      "┌─────────┬─────────┬──────────┬─────────┐\n",
      "│\u001b[1m    Type \u001b[0m│\u001b[1m E [meV] \u001b[0m│\u001b[1m F [eV/A] \u001b[0m│\u001b[1m V [meV] \u001b[0m│\n",
      "├─────────┼─────────┼──────────┼─────────┤\n",
      "│ default │   0.291 │    0.036 │   0.000 │\n",
      "├─────────┼─────────┼──────────┼─────────┤\n",
      "│     set │   0.291 │    0.036 │   0.000 │\n",
      "└─────────┴─────────┴──────────┴─────────┘\n",
      "┌─────────┬─────────┬──────────┬─────────┐\n",
      "│\u001b[1m    Type \u001b[0m│\u001b[1m E [meV] \u001b[0m│\u001b[1m F [eV/A] \u001b[0m│\u001b[1m V [meV] \u001b[0m│\n",
      "├─────────┼─────────┼──────────┼─────────┤\n",
      "│ default │   0.227 │    0.010 │   0.000 │\n",
      "├─────────┼─────────┼──────────┼─────────┤\n",
      "│     set │   0.227 │    0.010 │   0.000 │\n",
      "└─────────┴─────────┴──────────┴─────────┘\n",
      "┌─────────┬─────────┬──────────┬─────────┐\n",
      "│\u001b[1m    Type \u001b[0m│\u001b[1m E [meV] \u001b[0m│\u001b[1m F [eV/A] \u001b[0m│\u001b[1m V [meV] \u001b[0m│\n",
      "├─────────┼─────────┼──────────┼─────────┤\n",
      "│ default │   0.291 │    0.036 │   0.000 │\n",
      "├─────────┼─────────┼──────────┼─────────┤\n",
      "│     set │   0.291 │    0.036 │   0.000 │\n",
      "└─────────┴─────────┴──────────┴─────────┘\n",
      "┌─────────┬─────────┬──────────┬─────────┐\n",
      "│\u001b[1m    Type \u001b[0m│\u001b[1m E [meV] \u001b[0m│\u001b[1m F [eV/A] \u001b[0m│\u001b[1m V [meV] \u001b[0m│\n",
      "├─────────┼─────────┼──────────┼─────────┤\n",
      "│ default │   0.227 │    0.010 │   0.000 │\n",
      "├─────────┼─────────┼──────────┼─────────┤\n",
      "│     set │   0.227 │    0.010 │   0.000 │\n",
      "└─────────┴─────────┴──────────┴─────────┘\n",
      "\n",
      "This potential was saved with following versions:\n"
     ]
    },
    {
     "name": "stderr",
     "output_type": "stream",
     "text": [
      "\u001b[36m\u001b[1m[ \u001b[22m\u001b[39m\u001b[36m\u001b[1mInfo: \u001b[22m\u001b[39mRMSE Table\n",
      "\u001b[36m\u001b[1m[ \u001b[22m\u001b[39m\u001b[36m\u001b[1mInfo: \u001b[22m\u001b[39mMAE Table\n",
      "\u001b[36m\u001b[1m[ \u001b[22m\u001b[39m\u001b[36m\u001b[1mInfo: \u001b[22m\u001b[39mRMSE Table\n",
      "\u001b[36m\u001b[1m[ \u001b[22m\u001b[39m\u001b[36m\u001b[1mInfo: \u001b[22m\u001b[39mMAE Table\n",
      "\u001b[36m\u001b[1m[ \u001b[22m\u001b[39m\u001b[36m\u001b[1mInfo: \u001b[22m\u001b[39mRMSE Table\n",
      "\u001b[36m\u001b[1m[ \u001b[22m\u001b[39m\u001b[36m\u001b[1mInfo: \u001b[22m\u001b[39mMAE Table\n",
      "\u001b[36m\u001b[1m[ \u001b[22m\u001b[39m\u001b[36m\u001b[1mInfo: \u001b[22m\u001b[39mRMSE Table\n",
      "\u001b[36m\u001b[1m[ \u001b[22m\u001b[39m\u001b[36m\u001b[1mInfo: \u001b[22m\u001b[39mMAE Table\n"
     ]
    },
    {
     "name": "stdout",
     "output_type": "stream",
     "text": [
      "\n",
      "JuLIP v0.14.8\n",
      "ACEbase v0.4.4\n",
      "ACE1x v0.1.11\n",
      "ACE1 v0.12.5\n",
      "ACEmd v0.1.17\n",
      "ACEpotentials v0.6.7\n",
      "ACEfit v0.1.5\n",
      "\n",
      "If you have problems with using this potential, pin your installation to above versions.\n",
      "\n",
      "\n",
      "This potential was saved with following versions:\n",
      "\n",
      "JuLIP v0.14.8\n",
      "ACEbase v0.4.4\n",
      "ACE1x v0.1.11\n",
      "ACE1 v0.12.5\n",
      "ACEmd v0.1.17\n",
      "ACEpotentials v0.6.7\n",
      "ACEfit v0.1.5\n",
      "\n",
      "If you have problems with using this potential, pin your installation to above versions.\n",
      "\n",
      "┌─────────┬─────────┬──────────┬─────────┐\n",
      "│\u001b[1m    Type \u001b[0m│\u001b[1m E [meV] \u001b[0m│\u001b[1m F [eV/A] \u001b[0m│\u001b[1m V [meV] \u001b[0m│\n",
      "├─────────┼─────────┼──────────┼─────────┤\n",
      "│ default │   0.733 │    0.043 │   0.000 │\n",
      "├─────────┼─────────┼──────────┼─────────┤\n",
      "│     set │   0.733 │    0.043 │   0.000 │\n",
      "└─────────┴─────────┴──────────┴─────────┘\n",
      "┌─────────┬─────────┬──────────┬─────────┐\n",
      "│\u001b[1m    Type \u001b[0m│\u001b[1m E [meV] \u001b[0m│\u001b[1m F [eV/A] \u001b[0m│\u001b[1m V [meV] \u001b[0m│\n",
      "├─────────┼─────────┼──────────┼─────────┤\n",
      "│ default │   0.432 │    0.012 │   0.000 │\n",
      "├─────────┼─────────┼──────────┼─────────┤\n",
      "│     set │   0.432 │    0.012 │   0.000 │\n",
      "└─────────┴─────────┴──────────┴─────────┘\n",
      "┌─────────┬─────────┬──────────┬─────────┐\n",
      "│\u001b[1m    Type \u001b[0m│\u001b[1m E [meV] \u001b[0m│\u001b[1m F [eV/A] \u001b[0m│\u001b[1m V [meV] \u001b[0m│\n",
      "├─────────┼─────────┼──────────┼─────────┤\n",
      "│ default │   0.733 │    0.043 │   0.000 │\n",
      "├─────────┼─────────┼──────────┼─────────┤\n",
      "│     set │   0.733 │    0.043 │   0.000 │\n",
      "└─────────┴─────────┴──────────┴─────────┘\n",
      "┌─────────┬─────────┬──────────┬─────────┐\n",
      "│\u001b[1m    Type \u001b[0m│\u001b[1m E [meV] \u001b[0m│\u001b[1m F [eV/A] \u001b[0m│\u001b[1m V [meV] \u001b[0m│\n",
      "├─────────┼─────────┼──────────┼─────────┤\n",
      "│ default │   0.432 │    0.012 │   0.000 │\n",
      "├─────────┼─────────┼──────────┼─────────┤\n",
      "│     set │   0.432 │    0.012 │   0.000 │\n",
      "└─────────┴─────────┴──────────┴─────────┘\n",
      "┌─────────┬─────────┬──────────┬─────────┐\n",
      "│\u001b[1m    Type \u001b[0m│\u001b[1m E [meV] \u001b[0m│\u001b[1m F [eV/A] \u001b[0m│\u001b[1m V [meV] \u001b[0m│\n",
      "├─────────┼─────────┼──────────┼─────────┤\n",
      "│ default │   0.291 │    0.036 │   0.000 │\n",
      "├─────────┼─────────┼──────────┼─────────┤\n",
      "│     set │   0.291 │    0.036 │   0.000 │\n",
      "└─────────┴─────────┴──────────┴─────────┘\n",
      "┌─────────┬─────────┬──────────┬─────────┐\n",
      "│\u001b[1m    Type \u001b[0m│\u001b[1m E [meV] \u001b[0m│\u001b[1m F [eV/A] \u001b[0m│\u001b[1m V [meV] \u001b[0m│\n",
      "├─────────┼─────────┼──────────┼─────────┤\n",
      "│ default │   0.227 │    0.010 │   0.000 │\n",
      "├─────────┼─────────┼──────────┼─────────┤\n",
      "│     set │   0.227 │    0.010 │   0.000 │\n",
      "└─────────┴─────────┴──────────┴─────────┘\n",
      "┌─────────┬─────────┬──────────┬─────────┐\n",
      "│\u001b[1m    Type \u001b[0m│\u001b[1m E [meV] \u001b[0m│\u001b[1m F [eV/A] \u001b[0m│\u001b[1m V [meV] \u001b[0m│\n",
      "├─────────┼─────────┼──────────┼─────────┤\n",
      "│ default │   0.291 │    0.036 │   0.000 │\n",
      "├─────────┼─────────┼──────────┼─────────┤\n",
      "│     set │   0.291 │    0.036 │   0.000 │\n",
      "└─────────┴─────────┴──────────┴─────────┘\n",
      "┌─────────┬─────────┬──────────┬─────────┐\n",
      "│\u001b[1m    Type \u001b[0m│\u001b[1m E [meV] \u001b[0m│\u001b[1m F [eV/A] \u001b[0m│\u001b[1m V [meV] \u001b[0m│\n",
      "├─────────┼─────────┼──────────┼─────────┤\n",
      "│ default │   0.227 │    0.010 │   0.000 │\n",
      "├─────────┼─────────┼──────────┼─────────┤\n",
      "│     set │   0.227 │    0.010 │   0.000 │\n",
      "└─────────┴─────────┴──────────┴─────────┘\n"
     ]
    },
    {
     "name": "stderr",
     "output_type": "stream",
     "text": [
      "\u001b[36m\u001b[1m[ \u001b[22m\u001b[39m\u001b[36m\u001b[1mInfo: \u001b[22m\u001b[39mRMSE Table\n",
      "\u001b[36m\u001b[1m[ \u001b[22m\u001b[39m\u001b[36m\u001b[1mInfo: \u001b[22m\u001b[39mMAE Table\n",
      "\u001b[36m\u001b[1m[ \u001b[22m\u001b[39m\u001b[36m\u001b[1mInfo: \u001b[22m\u001b[39mRMSE Table\n",
      "\u001b[36m\u001b[1m[ \u001b[22m\u001b[39m\u001b[36m\u001b[1mInfo: \u001b[22m\u001b[39mMAE Table\n",
      "\u001b[36m\u001b[1m[ \u001b[22m\u001b[39m\u001b[36m\u001b[1mInfo: \u001b[22m\u001b[39mRMSE Table\n",
      "\u001b[36m\u001b[1m[ \u001b[22m\u001b[39m\u001b[36m\u001b[1mInfo: \u001b[22m\u001b[39mMAE Table\n",
      "\u001b[36m\u001b[1m[ \u001b[22m\u001b[39m\u001b[36m\u001b[1mInfo: \u001b[22m\u001b[39mRMSE Table\n",
      "\u001b[36m\u001b[1m[ \u001b[22m\u001b[39m\u001b[36m\u001b[1mInfo: \u001b[22m\u001b[39mMAE Table\n"
     ]
    }
   ],
   "source": [
    "vset = \"Si2_val\"\n",
    "# dsets = [\"Si345_train\", \"Si3_train\", \"Si4_train\", \"Si5_train\"]\n",
    "dsets = [\"Si2_train\"]\n",
    "ecost = \"50.0\"\n",
    "elossweight = parse(Float64, ecost)\n",
    "weights = Dict(\"default\" => Dict(\"E\" => elossweight, \"F\" => 1.0))\n",
    "basisvals = [\"24.20\",\"24.20.16\",\"24.20.16.12\"]\n",
    "Vref = OneBody(:Si => -7881.32677981122) # Si2 isolated energy\n",
    "datakeys = (energy_key = \"energy\", force_key = \"forces\")\n",
    "val_data_dir = \"./datasets/$(vset).xyz\"; val_data = read_extxyz(val_data_dir)\n",
    "val_atoms = [ACEpotentials.AtomsData(v; weights=weights, v_ref=Vref, datakeys...) for v in val_data]\n",
    "\n",
    "pots = Dict()\n",
    "pots_pure = Dict()\n",
    "errs = Dict(\"train\" => Dict(), \"val\" => Dict())\n",
    "errs_pure = Dict(\"train\" => Dict(), \"val\" => Dict())\n",
    "\n",
    "for dset in dsets\n",
    "    train_data_dir = \"./datasets/$(dset).xyz\"; train_data = read_extxyz(train_data_dir)\n",
    "    train_atoms = [ACEpotentials.AtomsData(t; weights=weights, v_ref=Vref, datakeys...) for t in train_data]\n",
    "    for basisval in basisvals\n",
    "        # Load potential\n",
    "        pots[\"$(dset)_$(basisval)\"] = load_potential(\"./acejulia/$(dset)/$(basisval)/ecost$(ecost)/potential.json\")\n",
    "        pots_pure[\"$(dset)_$(basisval)\"] = load_potential(\"./acejulia/$(dset)_purify/$(basisval)/ecost$(ecost)/potential.json\")\n",
    "        # Compute errors\n",
    "        errs[\"train\"][\"$(dset)_$(basisval)\"] = ACEpotentials.linear_errors(train_atoms, pots[\"$(dset)_$(basisval)\"])\n",
    "        errs_pure[\"train\"][\"$(dset)_$(basisval)\"] = ACEpotentials.linear_errors(train_atoms, pots_pure[\"$(dset)_$(basisval)\"])\n",
    "        errs[\"val\"][\"$(dset)_$(basisval)\"] = ACEpotentials.linear_errors(val_atoms, pots[\"$(dset)_$(basisval)\"])\n",
    "        errs_pure[\"val\"][\"$(dset)_$(basisval)\"] = ACEpotentials.linear_errors(val_atoms, pots_pure[\"$(dset)_$(basisval)\"])\n",
    "    end\n",
    "end"
   ]
  },
  {
   "cell_type": "code",
   "execution_count": 18,
   "id": "44a12d2d",
   "metadata": {},
   "outputs": [
    {
     "data": {
      "text/plain": [
       "4×3 adjoint(::Matrix{Float64}) with eltype Float64:\n",
       " 0.505453  0.567527  0.282194\n",
       " 0.92107   0.92107   0.92107\n",
       " 0.393557  0.434733  0.434733\n",
       " 0.516895  0.445244  0.428659"
      ]
     },
     "execution_count": 18,
     "metadata": {},
     "output_type": "execute_result"
    }
   ],
   "source": [
    "entries = length(keys(errs[\"val\"]))\n",
    "en_err = zeros(entries)\n",
    "f_err = zeros(entries)\n",
    "en_err_pure = zeros(entries)\n",
    "f_err_pure = zeros(entries)\n",
    "\n",
    "for (i,tsetbset) in enumerate(sort(collect(keys(errs[\"val\"]))))\n",
    "    # println(tsetbset) # uncomment to understand the structure \n",
    "    en_err[i] = errs[\"val\"][tsetbset][\"mae\"][\"default\"][\"E\"]\n",
    "    f_err[i] = errs[\"val\"][tsetbset][\"mae\"][\"default\"][\"F\"]\n",
    "    en_err_pure[i] = errs_pure[\"val\"][tsetbset][\"mae\"][\"default\"][\"E\"]\n",
    "    f_err_pure[i] = errs_pure[\"val\"][tsetbset][\"mae\"][\"default\"][\"F\"]\n",
    "end\n",
    "\n",
    "en_err = reshape(en_err, (3, 4))' # transposed with (')\n",
    "f_err = reshape(f_err, (3, 4))'\n",
    "en_err_pure = reshape(en_err_pure, (3, 4))'\n",
    "f_err_pure = reshape(f_err_pure, (3, 4))'"
   ]
  },
  {
   "cell_type": "code",
   "execution_count": 19,
   "id": "d6ba657e",
   "metadata": {},
   "outputs": [],
   "source": [
    "open(\"./acejulia/si_errors/ood_vset$(vset)_en_err.dat\", \"w\") do io\n",
    "    for row in eachrow(en_err)\n",
    "        for val in row\n",
    "            @printf(io, \"%.16f \", val)\n",
    "        end\n",
    "        println(io)\n",
    "    end\n",
    "end\n",
    "open(\"./acejulia/si_errors/ood_vset$(vset)_f_err.dat\", \"w\") do io\n",
    "    for row in eachrow(f_err)\n",
    "        for val in row\n",
    "            @printf(io, \"%.16f \", val)\n",
    "        end\n",
    "        println(io)\n",
    "    end\n",
    "end\n",
    "open(\"./acejulia/si_errors/ood_vset$(vset)_en_err_pure.dat\", \"w\") do io\n",
    "    for row in eachrow(en_err_pure)\n",
    "        for val in row\n",
    "            @printf(io, \"%.16f \", val)\n",
    "        end\n",
    "        println(io)\n",
    "    end\n",
    "end\n",
    "open(\"./acejulia/si_errors/ood_vset$(vset)_f_err_pure.dat\", \"w\") do io\n",
    "    for row in eachrow(f_err_pure)\n",
    "        for val in row\n",
    "            @printf(io, \"%.16f \", val)\n",
    "        end\n",
    "        println(io)\n",
    "    end\n",
    "end"
   ]
  },
  {
   "cell_type": "code",
   "execution_count": 15,
   "id": "563647b7",
   "metadata": {},
   "outputs": [
    {
     "data": {
      "text/plain": [
       "1.8509284013241813"
      ]
     },
     "execution_count": 15,
     "metadata": {},
     "output_type": "execute_result"
    }
   ],
   "source": [
    "errs[\"val\"][\"Si4_24.20\"][\"mae\"][\"default\"][\"E\"]\n",
    "errs_pure[\"val\"][\"Si4_24.20\"][\"mae\"][\"default\"][\"E\"]"
   ]
  },
  {
   "cell_type": "code",
   "execution_count": 59,
   "id": "cff8116e",
   "metadata": {},
   "outputs": [
    {
     "name": "stdout",
     "output_type": "stream",
     "text": [
      "\n",
      "This potential was saved with following versions:\n",
      "\n",
      "JuLIP v0.14.8\n",
      "ACEbase v0.4.4\n",
      "ACE1x v0.1.11\n",
      "ACE1 v0.12.5\n",
      "ACEmd v0.1.17\n",
      "ACEpotentials v0.6.7\n",
      "ACEfit v0.1.5\n",
      "\n",
      "If you have problems with using this potential, pin your installation to above versions.\n",
      "\n",
      "\n",
      "This potential was saved with following versions:\n",
      "\n",
      "JuLIP v0.14.8\n",
      "ACEbase v0.4.4\n",
      "ACE1x v0.1.11\n",
      "ACE1 v0.12.5\n",
      "ACEmd v0.1.17\n",
      "ACEpotentials v0.6.7\n",
      "ACEfit v0.1.5\n",
      "\n",
      "If you have problems with using this potential, pin your installation to above versions.\n",
      "\n",
      "┌─────────┬─────────┬──────────┬─────────┐\n",
      "│\u001b[1m    Type \u001b[0m│\u001b[1m E [meV] \u001b[0m│\u001b[1m F [eV/A] \u001b[0m│\u001b[1m V [meV] \u001b[0m│\n",
      "├─────────┼─────────┼──────────┼─────────┤\n",
      "│ default │  24.424 │    0.000 │   0.000 │\n",
      "├─────────┼─────────┼──────────┼─────────┤\n",
      "│     set │  24.424 │    0.000 │   0.000 │\n",
      "└─────────┴─────────┴──────────┴─────────┘\n",
      "┌─────────┬─────────┬──────────┬─────────┐\n",
      "│\u001b[1m    Type \u001b[0m│\u001b[1m E [meV] \u001b[0m│\u001b[1m F [eV/A] \u001b[0m│\u001b[1m V [meV] \u001b[0m│\n",
      "├─────────┼─────────┼──────────┼─────────┤\n",
      "│ default │  19.875 │    0.000 │   0.000 │\n",
      "├─────────┼─────────┼──────────┼─────────┤\n",
      "│     set │  19.875 │    0.000 │   0.000 │\n",
      "└─────────┴─────────┴──────────┴─────────┘\n"
     ]
    },
    {
     "name": "stderr",
     "output_type": "stream",
     "text": [
      "\u001b[36m\u001b[1m[ \u001b[22m\u001b[39m\u001b[36m\u001b[1mInfo: \u001b[22m\u001b[39mRMSE Table\n",
      "\u001b[36m\u001b[1m[ \u001b[22m\u001b[39m\u001b[36m\u001b[1mInfo: \u001b[22m\u001b[39mMAE Table\n"
     ]
    },
    {
     "name": "stdout",
     "output_type": "stream",
     "text": [
      "┌─────────┬─────────┬──────────┬─────────┐\n",
      "│\u001b[1m    Type \u001b[0m│\u001b[1m E [meV] \u001b[0m│\u001b[1m F [eV/A] \u001b[0m│\u001b[1m V [meV] \u001b[0m│\n",
      "├─────────┼─────────┼──────────┼─────────┤\n",
      "│ default │  20.280 │    0.000 │   0.000 │\n",
      "├─────────┼─────────┼──────────┼─────────┤\n",
      "│     set │  20.280 │    0.000 │   0.000 │\n",
      "└─────────┴─────────┴──────────┴─────────┘\n",
      "┌─────────┬─────────┬──────────┬─────────┐\n",
      "│\u001b[1m    Type \u001b[0m│\u001b[1m E [meV] \u001b[0m│\u001b[1m F [eV/A] \u001b[0m│\u001b[1m V [meV] \u001b[0m│\n",
      "├─────────┼─────────┼──────────┼─────────┤\n",
      "│ default │  16.300 │    0.000 │   0.000 │\n",
      "├─────────┼─────────┼──────────┼─────────┤\n",
      "│     set │  16.300 │    0.000 │   0.000 │\n",
      "└─────────┴─────────┴──────────┴─────────┘\n",
      "┌─────────┬─────────┬──────────┬─────────┐\n",
      "│\u001b[1m    Type \u001b[0m│\u001b[1m E [meV] \u001b[0m│\u001b[1m F [eV/A] \u001b[0m│\u001b[1m V [meV] \u001b[0m│\n",
      "├─────────┼─────────┼──────────┼─────────┤\n",
      "│ default │  24.424 │    0.000 │   0.000 │\n",
      "├─────────┼─────────┼──────────┼─────────┤\n",
      "│     set │  24.424 │    0.000 │   0.000 │\n",
      "└─────────┴─────────┴──────────┴─────────┘\n",
      "┌─────────┬─────────┬──────────┬─────────┐\n",
      "│\u001b[1m    Type \u001b[0m│\u001b[1m E [meV] \u001b[0m│\u001b[1m F [eV/A] \u001b[0m│\u001b[1m V [meV] \u001b[0m│\n",
      "├─────────┼─────────┼──────────┼─────────┤\n",
      "│ default │  19.875 │    0.000 │   0.000 │\n",
      "├─────────┼─────────┼──────────┼─────────┤\n",
      "│     set │  19.875 │    0.000 │   0.000 │\n",
      "└─────────┴─────────┴──────────┴─────────┘\n"
     ]
    },
    {
     "name": "stderr",
     "output_type": "stream",
     "text": [
      "\u001b[36m\u001b[1m[ \u001b[22m\u001b[39m\u001b[36m\u001b[1mInfo: \u001b[22m\u001b[39mRMSE Table\n",
      "\u001b[36m\u001b[1m[ \u001b[22m\u001b[39m\u001b[36m\u001b[1mInfo: \u001b[22m\u001b[39mMAE Table\n",
      "\u001b[36m\u001b[1m[ \u001b[22m\u001b[39m\u001b[36m\u001b[1mInfo: \u001b[22m\u001b[39mRMSE Table\n",
      "\u001b[36m\u001b[1m[ \u001b[22m\u001b[39m\u001b[36m\u001b[1mInfo: \u001b[22m\u001b[39mMAE Table\n"
     ]
    },
    {
     "name": "stdout",
     "output_type": "stream",
     "text": [
      "┌─────────┬─────────┬──────────┬─────────┐\n",
      "│\u001b[1m    Type \u001b[0m│\u001b[1m E [meV] \u001b[0m│\u001b[1m F [eV/A] \u001b[0m│\u001b[1m V [meV] \u001b[0m│\n",
      "├─────────┼─────────┼──────────┼─────────┤\n",
      "│ default │  20.280 │    0.000 │   0.000 │\n",
      "├─────────┼─────────┼──────────┼─────────┤\n",
      "│     set │  20.280 │    0.000 │   0.000 │\n",
      "└─────────┴─────────┴──────────┴─────────┘\n",
      "┌─────────┬─────────┬──────────┬─────────┐\n",
      "│\u001b[1m    Type \u001b[0m│\u001b[1m E [meV] \u001b[0m│\u001b[1m F [eV/A] \u001b[0m│\u001b[1m V [meV] \u001b[0m│\n",
      "├─────────┼─────────┼──────────┼─────────┤\n",
      "│ default │  16.300 │    0.000 │   0.000 │\n",
      "├─────────┼─────────┼──────────┼─────────┤\n",
      "│     set │  16.300 │    0.000 │   0.000 │\n",
      "└─────────┴─────────┴──────────┴─────────┘\n"
     ]
    },
    {
     "name": "stderr",
     "output_type": "stream",
     "text": [
      "\u001b[36m\u001b[1m[ \u001b[22m\u001b[39m\u001b[36m\u001b[1mInfo: \u001b[22m\u001b[39mRMSE Table\n",
      "\u001b[36m\u001b[1m[ \u001b[22m\u001b[39m\u001b[36m\u001b[1mInfo: \u001b[22m\u001b[39mMAE Table\n"
     ]
    },
    {
     "data": {
      "text/plain": [
       "Dict{String, Dict{String, Any}} with 2 entries:\n",
       "  \"rmse\" => Dict(\"default\"=>Dict(\"V\"=>0.0, \"E\"=>0.0202798, \"F\"=>0.0), \"set\"=>Di…\n",
       "  \"mae\"  => Dict(\"default\"=>Dict(\"V\"=>0.0, \"E\"=>0.0163002, \"F\"=>0.0), \"set\"=>Di…"
      ]
     },
     "execution_count": 59,
     "metadata": {},
     "output_type": "execute_result"
    }
   ],
   "source": [
    "## Data load ## \n",
    "dset = \"Si5\"\n",
    "ecost = \"50.0\"\n",
    "basisvals = [\"24.20\",\"24.20.16\",\"24.20.16.12\"]\n",
    "pot = load_potential(\"./acejulia/$(dset)/$(basisvals[3])/ecost$(ecost)/potential.json\");\n",
    "pot_pure = load_potential(\"./acejulia/$(dset)_purify/$(basisvals[3])/ecost$(ecost)/potential.json\");\n",
    "\n",
    "# Validation data\n",
    "Vref = OneBody(:Si => -7881.32677981122) # Si2 isolated energy\n",
    "elossweight = parse(Float64, ecost)\n",
    "datakeys = (energy_key = \"energy\", force_key = \"force\")\n",
    "weights = Dict(\"default\" => Dict(\"E\" => elossweight, \"F\" => 1.0))\n",
    "train_data_dir = \"./datasets/$(dset).xyz\"; train_data = read_extxyz(train_data_dir)\n",
    "test_data_dir = \"./datasets/Si5.xyz\"; test_data = read_extxyz(test_data_dir)\n",
    "train = [ACEpotentials.AtomsData(t; weights=weights, v_ref=Vref, datakeys...) for t in train_data]\n",
    "test = [ACEpotentials.AtomsData(v; weights=weights, v_ref=Vref, datakeys...) for v in test_data]\n",
    "\n",
    "## Error extraction ## \n",
    "trainerrs = ACEpotentials.linear_errors(train, pot)\n",
    "trainerrs_pure = ACEpotentials.linear_errors(train, pot_pure)\n",
    "testerrs = ACEpotentials.linear_errors(test, pot)\n",
    "testerrs_pure = ACEpotentials.linear_errors(test, pot_pure)"
   ]
  },
  {
   "cell_type": "markdown",
   "id": "54a57293",
   "metadata": {},
   "source": [
    "## In-domain"
   ]
  },
  {
   "cell_type": "code",
   "execution_count": 2,
   "id": "b3a97206",
   "metadata": {},
   "outputs": [
    {
     "data": {
      "text/plain": [
       "export_dimers_to_dat (generic function with 1 method)"
      ]
     },
     "execution_count": 2,
     "metadata": {},
     "output_type": "execute_result"
    }
   ],
   "source": [
    "function export_dimers_to_dat(dimers_dict; filename)\n",
    "    for ((z1, z0), (rr, v01)) in dimers_dict\n",
    "        open(filename, \"w\") do io\n",
    "            for (r, v) in zip(rr, v01)\n",
    "                println(io, \"$r $v\")\n",
    "            end\n",
    "        end\n",
    "    end\n",
    "end"
   ]
  },
  {
   "cell_type": "code",
   "execution_count": 15,
   "id": "7aff78da",
   "metadata": {},
   "outputs": [
    {
     "name": "stdout",
     "output_type": "stream",
     "text": [
      "\n",
      "This potential was saved with following versions:\n",
      "\n",
      "JuLIP v0.14.8\n",
      "ACEbase v0.4.4\n",
      "ACE1x v0.1.11\n",
      "ACE1 v0.12.5\n",
      "ACEmd v0.1.17\n",
      "ACEpotentials v0.6.7\n",
      "ACEfit v0.1.5\n",
      "\n",
      "If you have problems with using this potential, pin your installation to above versions.\n",
      "\n",
      "\n",
      "This potential was saved with following versions:\n",
      "\n",
      "JuLIP v0.14.8\n",
      "ACEbase v0.4.4\n",
      "ACE1x v0.1.11\n",
      "ACE1 v0.12.5\n",
      "ACEmd v0.1.17\n",
      "ACEpotentials v0.6.7\n",
      "ACEfit v0.1.5\n",
      "\n",
      "If you have problems with using this potential, pin your installation to above versions.\n",
      "\n",
      "\n",
      "This potential was saved with following versions:\n",
      "\n",
      "JuLIP v0.14.8\n",
      "ACEbase v0.4.4\n",
      "ACE1x v0.1.11\n",
      "ACE1 v0.12.5\n",
      "ACEmd v0.1.17\n",
      "ACEpotentials v0.6.7\n",
      "ACEfit v0.1.5\n",
      "\n",
      "If you have problems with using this potential, pin your installation to above versions.\n",
      "\n",
      "\n",
      "This potential was saved with following versions:\n",
      "\n",
      "JuLIP v0.14.8\n",
      "ACEbase v0.4.4\n",
      "ACE1x v0.1.11\n",
      "ACE1 v0.12.5\n",
      "ACEmd v0.1.17\n",
      "ACEpotentials v0.6.7\n",
      "ACEfit v0.1.5\n",
      "\n",
      "If you have problems with using this potential, pin your installation to above versions.\n",
      "\n",
      "\n",
      "This potential was saved with following versions:\n",
      "\n",
      "JuLIP v0.14.8\n",
      "ACEbase v0.4.4\n",
      "ACE1x v0.1.11\n",
      "ACE1 v0.12.5\n",
      "ACEmd v0.1.17\n",
      "ACEpotentials v0.6.7\n",
      "ACEfit v0.1.5\n",
      "\n",
      "If you have problems with using this potential, pin your installation to above versions.\n",
      "\n",
      "\n",
      "This potential was saved with following versions:\n",
      "\n",
      "JuLIP v0.14.8\n",
      "ACEbase v0.4.4\n",
      "ACE1x v0.1.11\n",
      "ACE1 v0.12.5\n",
      "ACEmd v0.1.17\n",
      "ACEpotentials v0.6.7\n",
      "ACEfit v0.1.5\n",
      "\n",
      "If you have problems with using this potential, pin your installation to above versions.\n",
      "\n",
      "\n",
      "This potential was saved with following versions:\n",
      "\n",
      "JuLIP v0.14.8\n",
      "ACEbase v0.4.4\n",
      "ACE1x v0.1.11\n",
      "ACE1 v0.12.5\n",
      "ACEmd v0.1.17\n",
      "ACEpotentials v0.6.7\n",
      "ACEfit v0.1.5\n",
      "\n",
      "If you have problems with using this potential, pin your installation to above versions.\n",
      "\n",
      "\n",
      "This potential was saved with following versions:\n",
      "\n",
      "JuLIP v0.14.8\n",
      "ACEbase v0.4.4\n",
      "ACE1x v0.1.11\n",
      "ACE1 v0.12.5\n",
      "ACEmd v0.1.17\n",
      "ACEpotentials v0.6.7\n",
      "ACEfit v0.1.5\n",
      "\n",
      "If you have problems with using this potential, pin your installation to above versions.\n",
      "\n",
      "\n",
      "This potential was saved with following versions:\n",
      "\n",
      "JuLIP v0.14.8\n",
      "ACEbase v0.4.4\n",
      "ACE1x v0.1.11\n",
      "ACE1 v0.12.5\n",
      "ACEmd v0.1.17\n",
      "ACEpotentials v0.6.7\n",
      "ACEfit v0.1.5\n",
      "\n",
      "If you have problems with using this potential, pin your installation to above versions.\n",
      "\n",
      "\n",
      "This potential was saved with following versions:\n",
      "\n",
      "JuLIP v0.14.8\n",
      "ACEbase v0.4.4\n",
      "ACE1x v0.1.11\n",
      "ACE1 v0.12.5\n",
      "ACEmd v0.1.17\n",
      "ACEpotentials v0.6.7\n",
      "ACEfit v0.1.5\n",
      "\n",
      "If you have problems with using this potential, pin your installation to above versions.\n",
      "\n",
      "\n",
      "This potential was saved with following versions:\n",
      "\n",
      "JuLIP v0.14.8\n",
      "ACEbase v0.4.4\n",
      "ACE1x v0.1.11\n",
      "ACE1 v0.12.5\n",
      "ACEmd v0.1.17\n",
      "ACEpotentials v0.6.7\n",
      "ACEfit v0.1.5\n",
      "\n",
      "If you have problems with using this potential, pin your installation to above versions.\n",
      "\n",
      "\n",
      "This potential was saved with following versions:\n",
      "\n",
      "JuLIP v0.14.8\n",
      "ACEbase v0.4.4\n",
      "ACE1x v0.1.11\n",
      "ACE1 v0.12.5\n",
      "ACEmd v0.1.17\n",
      "ACEpotentials v0.6.7\n",
      "ACEfit v0.1.5\n",
      "\n",
      "If you have problems with using this potential, pin your installation to above versions.\n",
      "\n",
      "\n",
      "This potential was saved with following versions:\n",
      "\n",
      "JuLIP v0.14.8\n",
      "ACEbase v0.4.4\n",
      "ACE1x v0.1.11\n",
      "ACE1 v0.12.5\n",
      "ACEmd v0.1.17\n",
      "ACEpotentials v0.6.7\n",
      "ACEfit v0.1.5\n",
      "\n",
      "If you have problems with using this potential, pin your installation to above versions.\n",
      "\n",
      "\n",
      "This potential was saved with following versions:\n",
      "\n",
      "JuLIP v0.14.8\n",
      "ACEbase v0.4.4\n",
      "ACE1x v0.1.11\n",
      "ACE1 v0.12.5\n",
      "ACEmd v0.1.17\n",
      "ACEpotentials v0.6.7\n",
      "ACEfit v0.1.5\n",
      "\n",
      "If you have problems with using this potential, pin your installation to above versions.\n",
      "\n",
      "\n",
      "This potential was saved with following versions:\n",
      "\n",
      "JuLIP v0.14.8\n",
      "ACEbase v0.4.4\n",
      "ACE1x v0.1.11\n",
      "ACE1 v0.12.5\n",
      "ACEmd v0.1.17\n",
      "ACEpotentials v0.6.7\n",
      "ACEfit v0.1.5\n",
      "\n",
      "If you have problems with using this potential, pin your installation to above versions.\n",
      "\n",
      "\n",
      "This potential was saved with following versions:\n",
      "\n",
      "JuLIP v0.14.8\n",
      "ACEbase v0.4.4\n",
      "ACE1x v0.1.11\n",
      "ACE1 v0.12.5\n",
      "ACEmd v0.1.17\n",
      "ACEpotentials v0.6.7\n",
      "ACEfit v0.1.5\n",
      "\n",
      "If you have problems with using this potential, pin your installation to above versions.\n",
      "\n",
      "\n",
      "This potential was saved with following versions:\n",
      "\n",
      "JuLIP v0.14.8\n",
      "ACEbase v0.4.4\n",
      "ACE1x v0.1.11\n",
      "ACE1 v0.12.5\n",
      "ACEmd v0.1.17\n",
      "ACEpotentials v0.6.7\n",
      "ACEfit v0.1.5\n",
      "\n",
      "If you have problems with using this potential, pin your installation to above versions.\n",
      "\n",
      "\n",
      "This potential was saved with following versions:\n",
      "\n",
      "JuLIP v0.14.8\n",
      "ACEbase v0.4.4\n",
      "ACE1x v0.1.11\n",
      "ACE1 v0.12.5\n",
      "ACEmd v0.1.17\n",
      "ACEpotentials v0.6.7\n",
      "ACEfit v0.1.5\n",
      "\n",
      "If you have problems with using this potential, pin your installation to above versions.\n",
      "\n",
      "\n",
      "This potential was saved with following versions:\n",
      "\n",
      "JuLIP v0.14.8\n",
      "ACEbase v0.4.4\n",
      "ACE1x v0.1.11\n",
      "ACE1 v0.12.5\n",
      "ACEmd v0.1.17\n",
      "ACEpotentials v0.6.7\n",
      "ACEfit v0.1.5\n",
      "\n",
      "If you have problems with using this potential, pin your installation to above versions.\n",
      "\n",
      "\n",
      "This potential was saved with following versions:\n",
      "\n",
      "JuLIP v0.14.8\n",
      "ACEbase v0.4.4\n",
      "ACE1x v0.1.11\n",
      "ACE1 v0.12.5\n",
      "ACEmd v0.1.17\n",
      "ACEpotentials v0.6.7\n",
      "ACEfit v0.1.5\n",
      "\n",
      "If you have problems with using this potential, pin your installation to above versions.\n",
      "\n",
      "\n",
      "This potential was saved with following versions:\n",
      "\n",
      "JuLIP v0.14.8\n",
      "ACEbase v0.4.4\n",
      "ACE1x v0.1.11\n",
      "ACE1 v0.12.5\n",
      "ACEmd v0.1.17\n",
      "ACEpotentials v0.6.7\n",
      "ACEfit v0.1.5\n",
      "\n",
      "If you have problems with using this potential, pin your installation to above versions.\n",
      "\n",
      "\n",
      "This potential was saved with following versions:\n",
      "\n",
      "JuLIP v0.14.8\n",
      "ACEbase v0.4.4\n",
      "ACE1x v0.1.11\n",
      "ACE1 v0.12.5\n",
      "ACEmd v0.1.17\n",
      "ACEpotentials v0.6.7\n",
      "ACEfit v0.1.5\n",
      "\n",
      "If you have problems with using this potential, pin your installation to above versions.\n",
      "\n",
      "\n",
      "This potential was saved with following versions:\n",
      "\n",
      "JuLIP v0.14.8\n",
      "ACEbase v0.4.4\n",
      "ACE1x v0.1.11\n",
      "ACE1 v0.12.5\n",
      "ACEmd v0.1.17\n",
      "ACEpotentials v0.6.7\n",
      "ACEfit v0.1.5\n",
      "\n",
      "If you have problems with using this potential, pin your installation to above versions.\n",
      "\n",
      "\n",
      "This potential was saved with following versions:\n",
      "\n",
      "JuLIP v0.14.8\n",
      "ACEbase v0.4.4\n",
      "ACE1x v0.1.11\n",
      "ACE1 v0.12.5\n",
      "ACEmd v0.1.17\n",
      "ACEpotentials v0.6.7\n",
      "ACEfit v0.1.5\n",
      "\n",
      "If you have problems with using this potential, pin your installation to above versions.\n",
      "\n"
     ]
    }
   ],
   "source": [
    "vset = \"Si2_val\"\n",
    "# dsets = [\"Si2_train\", \"Si23_train\", \"Si234_train\", \"Si2345_train\"]\n",
    "dsets = [\"Si345_train\", \"Si3_train\", \"Si4_train\", \"Si5_train\"]\n",
    "ecost = \"50.0\"\n",
    "elossweight = parse(Float64, ecost)\n",
    "weights = Dict(\"default\" => Dict(\"E\" => elossweight, \"F\" => 1.0))\n",
    "basisvals = [\"24.20\",\"24.20.16\",\"24.20.16.12\"]\n",
    "Vref = OneBody(:Si => -7881.32677981122) # Si2 isolated energy\n",
    "datakeys = (energy_key = \"energy\", force_key = \"forces\")\n",
    "val_data_dir = \"./datasets/$(vset).xyz\"; val_data = read_extxyz(val_data_dir)\n",
    "val_atoms = [ACEpotentials.AtomsData(v; weights=weights, v_ref=Vref, datakeys...) for v in val_data]\n",
    "\n",
    "pots = Dict()\n",
    "pots_pure = Dict()\n",
    "errs = Dict(\"train\" => Dict(), \"val\" => Dict())\n",
    "errs_pure = Dict(\"train\" => Dict(), \"val\" => Dict())\n",
    "\n",
    "for dset in dsets\n",
    "    train_data_dir = \"./datasets/$(dset).xyz\"; train_data = read_extxyz(train_data_dir)\n",
    "    train_atoms = [ACEpotentials.AtomsData(t; weights=weights, v_ref=Vref, datakeys...) for t in train_data]\n",
    "    for basisval in basisvals\n",
    "        pots[\"$(dset)_$(basisval)\"] = load_potential(\"./acejulia/$(dset)/$(basisval)/ecost$(ecost)/potential.json\")\n",
    "        pots_pure[\"$(dset)_$(basisval)\"] = load_potential(\"./acejulia/$(dset)_purify/$(basisval)/ecost$(ecost)/potential.json\")\n",
    "\n",
    "        # # Errors\n",
    "        # errs[\"train\"][\"$(dset)_$(basisval)\"] = ACEpotentials.linear_errors(train_atoms, pots[\"$(dset)_$(basisval)\"])\n",
    "        # errs_pure[\"train\"][\"$(dset)_$(basisval)\"] = ACEpotentials.linear_errors(train_atoms, pots_pure[\"$(dset)_$(basisval)\"])\n",
    "        # errs[\"val\"][\"$(dset)_$(basisval)\"] = ACEpotentials.linear_errors(val_atoms, pots[\"$(dset)_$(basisval)\"])\n",
    "        # errs_pure[\"val\"][\"$(dset)_$(basisval)\"] = ACEpotentials.linear_errors(val_atoms, pots_pure[\"$(dset)_$(basisval)\"])\n",
    "\n",
    "        # Dimers\n",
    "        DSI = ACEpotentials.dimers(pots[\"$(dset)_$(basisval)\"], [:Si,]; rr = range(0.529177, 7.0, length=200))\n",
    "        D = ACEpotentials.dimers(pots_pure[\"$(dset)_$(basisval)\"], [:Si,]; rr = range(0.529177, 7.0, length=200))\n",
    "        export_dimers_to_dat(DSI, filename=\"./acejulia/$(dset)/$(basisval)/ecost$(ecost)/dimercurve.dat\")\n",
    "        export_dimers_to_dat(D, filename=\"./acejulia/$(dset)_purify/$(basisval)/ecost$(ecost)/dimercurve.dat\")\n",
    "    end\n",
    "end"
   ]
  },
  {
   "cell_type": "code",
   "execution_count": 14,
   "id": "8963a29e",
   "metadata": {},
   "outputs": [
    {
     "data": {
      "text/plain": [
       "0.0004315767705116337"
      ]
     },
     "execution_count": 14,
     "metadata": {},
     "output_type": "execute_result"
    }
   ],
   "source": [
    "errs_pure[\"train\"][\"Si2_train_24.20.16\"][\"mae\"][\"default\"][\"E\"]"
   ]
  },
  {
   "cell_type": "code",
   "execution_count": 15,
   "id": "09c3d7b6",
   "metadata": {},
   "outputs": [
    {
     "data": {
      "text/plain": [
       "0.0004315767705116337"
      ]
     },
     "execution_count": 15,
     "metadata": {},
     "output_type": "execute_result"
    }
   ],
   "source": [
    "errs[\"train\"][\"Si2_train_24.20.16\"][\"mae\"][\"default\"][\"E\"]"
   ]
  },
  {
   "cell_type": "code",
   "execution_count": 14,
   "id": "5d56a1d8",
   "metadata": {},
   "outputs": [
    {
     "name": "stdout",
     "output_type": "stream",
     "text": [
      "Si2_train_24.20\n",
      "Si2_train_24.20.16\n",
      "Si2_train_24.20.16.12\n",
      "Si23_train_24.20\n",
      "Si23_train_24.20.16\n",
      "Si23_train_24.20.16.12\n",
      "Si234_train_24.20\n",
      "Si234_train_24.20.16\n",
      "Si234_train_24.20.16.12\n",
      "Si2345_train_24.20\n",
      "Si2345_train_24.20.16\n",
      "Si2345_train_24.20.16.12\n"
     ]
    },
    {
     "data": {
      "text/plain": [
       "4×3 adjoint(::Matrix{Float64}) with eltype Float64:\n",
       " 0.291216   0.291216   0.291216\n",
       " 0.0216064  0.0216064  0.0216064\n",
       " 0.146202   0.0212015  0.0212015\n",
       " 0.219781   0.0886132  0.0573303"
      ]
     },
     "execution_count": 14,
     "metadata": {},
     "output_type": "execute_result"
    }
   ],
   "source": [
    "entries = length(keys(errs[\"val\"]))\n",
    "en_err = zeros(entries)\n",
    "f_err = zeros(entries)\n",
    "en_err_pure = zeros(entries)\n",
    "f_err_pure = zeros(entries)\n",
    "\n",
    "idx_order = [10,11,12,7, 8, 9, 4, 5, 6, 1, 2, 3]\n",
    "# idx_order = [1,2,3,4,5,6,7,8,9,10,11,12]\n",
    "sorted_keys = sort(collect(keys(errs[\"val\"])))[idx_order]\n",
    "for (i,tsetbset) in enumerate(sorted_keys)\n",
    "    println(tsetbset) # uncomment to understand the structure \n",
    "    en_err[i] = errs[\"val\"][tsetbset][\"mae\"][\"default\"][\"E\"]\n",
    "    f_err[i] = errs[\"val\"][tsetbset][\"mae\"][\"default\"][\"F\"]\n",
    "    en_err_pure[i] = errs_pure[\"val\"][tsetbset][\"mae\"][\"default\"][\"E\"]\n",
    "    f_err_pure[i] = errs_pure[\"val\"][tsetbset][\"mae\"][\"default\"][\"F\"]\n",
    "end\n",
    "\n",
    "\n",
    "\n",
    "en_err = reshape(en_err, (3, 4))' # transposed with (')\n",
    "f_err = reshape(f_err, (3, 4))'\n",
    "en_err_pure = reshape(en_err_pure, (3, 4))'\n",
    "f_err_pure = reshape(f_err_pure, (3, 4))'"
   ]
  },
  {
   "cell_type": "code",
   "execution_count": 15,
   "id": "51d3c7f7",
   "metadata": {},
   "outputs": [],
   "source": [
    "open(\"./acejulia/si_errors/ind_vset$(vset)_en_err.dat\", \"w\") do io\n",
    "    for row in eachrow(en_err)\n",
    "        for val in row\n",
    "            @printf(io, \"%.16f \", val)\n",
    "        end\n",
    "        println(io)\n",
    "    end\n",
    "end\n",
    "open(\"./acejulia/si_errors/ind_vset$(vset)_f_err.dat\", \"w\") do io\n",
    "    for row in eachrow(f_err)\n",
    "        for val in row\n",
    "            @printf(io, \"%.16f \", val)\n",
    "        end\n",
    "        println(io)\n",
    "    end\n",
    "end\n",
    "open(\"./acejulia/si_errors/ind_vset$(vset)_en_err_pure.dat\", \"w\") do io\n",
    "    for row in eachrow(en_err_pure)\n",
    "        for val in row\n",
    "            @printf(io, \"%.16f \", val)\n",
    "        end\n",
    "        println(io)\n",
    "    end\n",
    "end\n",
    "open(\"./acejulia/si_errors/ind_vset$(vset)_f_err_pure.dat\", \"w\") do io\n",
    "    for row in eachrow(f_err_pure)\n",
    "        for val in row\n",
    "            @printf(io, \"%.16f \", val)\n",
    "        end\n",
    "        println(io)\n",
    "    end\n",
    "end"
   ]
  },
  {
   "cell_type": "markdown",
   "id": "ab49eb53",
   "metadata": {},
   "source": [
    "# Testing"
   ]
  },
  {
   "cell_type": "markdown",
   "id": "a115bde7",
   "metadata": {},
   "source": [
    "## Silicon"
   ]
  },
  {
   "cell_type": "code",
   "execution_count": 5,
   "id": "8e6c858b",
   "metadata": {},
   "outputs": [
    {
     "data": {
      "text/plain": [
       "2.20707071"
      ]
     },
     "execution_count": 5,
     "metadata": {},
     "output_type": "execute_result"
    }
   ],
   "source": [
    "# For self-interacting basis, Si_2-trained data\n",
    "train_data = read_extxyz(\"./datasets/Si234_train.xyz\")\n",
    "Vref = OneBody(:Si => -7881.32677981122) \n",
    "weights = Dict(\"default\" => Dict(\"E\" => 50.0, \"F\" => 1.0))\n",
    "datakeys = (energy_key = \"energy\", force_key = \"forces\")\n",
    "train_atoms = [ACEpotentials.AtomsData(t; weights=weights, v_ref=Vref, datakeys...) for t in train_data]\n",
    "orders = [2,3,4]\n",
    "degrees = [[24,20],[24,20,16],[24,20,16,12]]\n",
    "basis_tags = [\"24.20\",\"24.20.16\",\"24.20.16.12\"]\n",
    "\n",
    "# orders = [2]\n",
    "# degrees = [[24,20]]\n",
    "# basis_tags = [\"24.20\"]\n",
    "r0 = 2.20707071 # Si2 dip length"
   ]
  },
  {
   "cell_type": "code",
   "execution_count": 3,
   "id": "9800cbd5",
   "metadata": {},
   "outputs": [
    {
     "name": "stdout",
     "output_type": "stream",
     "text": [
      "basis_bin[\"24.20\"]\n",
      "297\n",
      "basis_bin[\"24.20.16\"]\n",
      "802\n",
      "basis_bin[\"24.20.16.12\"]\n",
      "929\n"
     ]
    }
   ],
   "source": [
    "basis_bin = Dict()\n",
    "for (i,label) in enumerate(basis_tags)\n",
    "    basis = ACE1x.ace_basis(\n",
    "        elements = [:Si],\n",
    "        order = orders[i],\n",
    "        totaldegree = degrees[i],\n",
    "        rcut = 6.0,\n",
    "        r0 = r0,\n",
    "        pure = false\n",
    "    )\n",
    "    basis_bin[basis_tags[i]] = basis\n",
    "    println(\"basis_bin[\\\"\" * basis_tags[i] * \"\\\"]\")\n",
    "    println(length(basis))\n",
    "end"
   ]
  },
  {
   "cell_type": "code",
   "execution_count": null,
   "id": "693d2bc1",
   "metadata": {},
   "outputs": [
    {
     "name": "stderr",
     "output_type": "stream",
     "text": [
      "\u001b[36m\u001b[1m[ \u001b[22m\u001b[39m\u001b[36m\u001b[1mInfo: \u001b[22m\u001b[39mAssembling linear problem.\n",
      "\u001b[36m\u001b[1m[ \u001b[22m\u001b[39m\u001b[36m\u001b[1mInfo: \u001b[22m\u001b[39m  - Creating feature matrix with size (2700, 297).\n",
      "\u001b[36m\u001b[1m[ \u001b[22m\u001b[39m\u001b[36m\u001b[1mInfo: \u001b[22m\u001b[39m  - Beginning assembly with processor count:  1.\n"
     ]
    }
   ],
   "source": [
    "pot_bin = Dict()\n",
    "# coeffs_bin = Dict()\n",
    "for (i, basis) in enumerate(basis_bin)\n",
    "    basis_entry = basis_bin[basis_tags[i]]\n",
    "    A, Y, W = ACEfit.assemble(train_atoms, basis_entry)\n",
    "    solver = ACEfit.BLR()\n",
    "    results = ACEfit.solve(solver, W .* A, W .* Y)\n",
    "    # coeffs_bin[basis_tags[i]] = results[\"C\"]\n",
    "    results[\"C\"][25:end] .= 0.0 # Keeping only 2-body coefficients\n",
    "    pot = JuLIP.MLIPs.SumIP(Vref, JuLIP.MLIPs.combine(basis_entry, results[\"C\"]))\n",
    "    pot_bin[basis_tags[i]] = pot\n",
    "end\n",
    "\n",
    "# basis_entry = basis_bin[\"24.20\"]\n",
    "# A, Y, W = ACEfit.assemble(train_atoms, basis_entry)\n",
    "# solver = ACEfit.BLR()\n",
    "# results = ACEfit.solve(solver, W .* A, W .* Y)\n",
    "# coeffs_bin[\"24.20\"] = results[\"C\"]\n",
    "# pot = JuLIP.MLIPs.SumIP(Vref, JuLIP.MLIPs.combine(basis_entry, results[\"C\"]))\n",
    "# pot_bin[\"24.20\"] = pot\n"
   ]
  },
  {
   "cell_type": "code",
   "execution_count": 6,
   "id": "3fb61d71",
   "metadata": {},
   "outputs": [
    {
     "data": {
      "text/plain": [
       "export_dimers_to_dat (generic function with 1 method)"
      ]
     },
     "execution_count": 6,
     "metadata": {},
     "output_type": "execute_result"
    }
   ],
   "source": [
    "function export_dimers_to_dat(dimers_dict; filename)\n",
    "    for ((z1, z0), (rr, v01)) in dimers_dict\n",
    "        open(filename, \"w\") do io\n",
    "            for (r, v) in zip(rr, v01)\n",
    "                println(io, \"$r $v\")\n",
    "            end\n",
    "        end\n",
    "    end\n",
    "end"
   ]
  },
  {
   "cell_type": "code",
   "execution_count": null,
   "id": "9f1ac6dd",
   "metadata": {},
   "outputs": [],
   "source": [
    "for (j,pot) in enumerate(pot_bin)\n",
    "    save_potential(\"./acejulia/Si234_train/$(basis_tags[j])/ecost50.0/potential_v2.json\", pot_bin[basis_tags[j]])\n",
    "    D = ACEpotentials.dimers(pot_bin[basis_tags[j]], [:Si]; rr= range(0.529177, 7.0, length=200))\n",
    "    export_dimers_to_dat(D, filename=\"./acejulia/Si234_train/$(basis_tags[j])/ecost50.0/dimercurve_v2.dat\")\n",
    "end"
   ]
  },
  {
   "cell_type": "code",
   "execution_count": 6,
   "id": "e367978f",
   "metadata": {},
   "outputs": [
    {
     "data": {
      "text/plain": [
       "Dict{Any, Any} with 3 entries:\n",
       "  \"24.20\"       => SumIP{Any}(Any[OneBody{Float64}(Dict(:Si=>-7881.33)), PolyPa…\n",
       "  \"24.20.16\"    => SumIP{Any}(Any[OneBody{Float64}(Dict(:Si=>-7881.33)), PolyPa…\n",
       "  \"24.20.16.12\" => SumIP{Any}(Any[OneBody{Float64}(Dict(:Si=>-7881.33)), PolyPa…"
      ]
     },
     "execution_count": 6,
     "metadata": {},
     "output_type": "execute_result"
    }
   ],
   "source": [
    "pot_bin"
   ]
  },
  {
   "cell_type": "code",
   "execution_count": 37,
   "id": "8e370d4d",
   "metadata": {},
   "outputs": [],
   "source": [
    "pot = JuLIP.MLIPs.SumIP(Vref, JuLIP.MLIPs.combine(basis_entry, results[\"C\"]))\n",
    "save_potential(\"./acejulia/Si2_train/24.20/ecost10.0/potential_test.json\", pot)"
   ]
  },
  {
   "cell_type": "code",
   "execution_count": null,
   "id": "88935c7d",
   "metadata": {},
   "outputs": [],
   "source": [
    "for \n",
    "\n",
    "\n",
    "for basisval in basisvals\n",
    "\n",
    "\n",
    "    pots[\"$(dset)_$(basisval)\"] = load_potential(\"./acejulia/$(dset)/$(basisval)/ecost$(ecost)/potential.json\")\n",
    "    pots_pure[\"$(dset)_$(basisval)\"] = load_potential(\"./acejulia/$(dset)_purify/$(basisval)/ecost$(ecost)/potential.json\")\n",
    "\n",
    "    # Errors\n",
    "    errs[\"train\"][\"$(dset)_$(basisval)\"] = ACEpotentials.linear_errors(train_atoms, pots[\"$(dset)_$(basisval)\"])\n",
    "    errs_pure[\"train\"][\"$(dset)_$(basisval)\"] = ACEpotentials.linear_errors(train_atoms, pots_pure[\"$(dset)_$(basisval)\"])\n",
    "    errs[\"val\"][\"$(dset)_$(basisval)\"] = ACEpotentials.linear_errors(val_atoms, pots[\"$(dset)_$(basisval)\"])\n",
    "    errs_pure[\"val\"][\"$(dset)_$(basisval)\"] = ACEpotentials.linear_errors(val_atoms, pots_pure[\"$(dset)_$(basisval)\"])"
   ]
  },
  {
   "cell_type": "code",
   "execution_count": 10,
   "id": "dfe21b55",
   "metadata": {},
   "outputs": [
    {
     "data": {
      "text/plain": [
       "Vector{Float64}\u001b[90m (alias for \u001b[39m\u001b[90mArray{Float64, 1}\u001b[39m\u001b[90m)\u001b[39m"
      ]
     },
     "execution_count": 10,
     "metadata": {},
     "output_type": "execute_result"
    }
   ],
   "source": [
    "typeof(coeffs_bin[\"24.20.16.12\"])"
   ]
  },
  {
   "cell_type": "code",
   "execution_count": 13,
   "id": "614b3bfd",
   "metadata": {},
   "outputs": [],
   "source": [
    "open(\"./acejulia/Tr1k_n/24.20.16.12/ecost10.0/Si2_train_coeffs.dat\", \"w\") do io\n",
    "    for val in coeffs_bin[\"24.20.16.12\"]\n",
    "        @printf(io, \"%.16f\\n\", val)\n",
    "    end\n",
    "end"
   ]
  },
  {
   "cell_type": "code",
   "execution_count": null,
   "id": "21887506",
   "metadata": {},
   "outputs": [
    {
     "name": "stderr",
     "output_type": "stream",
     "text": [
      "\u001b[36m\u001b[1m[ \u001b[22m\u001b[39m\u001b[36m\u001b[1mInfo: \u001b[22m\u001b[39mOption `pure = true` overrides `pure2b=true`\n",
      "\u001b[36m\u001b[1m[ \u001b[22m\u001b[39m\u001b[36m\u001b[1mInfo: \u001b[22m\u001b[39mAssembling linear problem.\n",
      "\u001b[36m\u001b[1m[ \u001b[22m\u001b[39m\u001b[36m\u001b[1mInfo: \u001b[22m\u001b[39m  - Creating feature matrix with size (56464, 297).\n",
      "\u001b[36m\u001b[1m[ \u001b[22m\u001b[39m\u001b[36m\u001b[1mInfo: \u001b[22m\u001b[39m  - Beginning assembly with processor count:  1.\n",
      "\u001b[32mProgress: 100%|█████████████████████████████████████████| Time: 0:05:36\u001b[39m\n",
      "\u001b[36m\u001b[1m[ \u001b[22m\u001b[39m\u001b[36m\u001b[1mInfo: \u001b[22m\u001b[39m  - Assembly completed.\n",
      "\u001b[36m\u001b[1m[ \u001b[22m\u001b[39m\u001b[36m\u001b[1mInfo: \u001b[22m\u001b[39mAssembling full weight vector.\n",
      "\u001b[32mProgress: 100%|█████████████████████████████████████████| Time: 0:00:00\u001b[39m\n"
     ]
    },
    {
     "data": {
      "text/plain": [
       "([37.624610770022905 2.5782215599982052 … 5637.36156668107 8328.796955723703; 0.06354458939749953 0.12522013025997497 … -6.769737485998181 -187.53147347250487; … ; 0.1224541843760176 0.15764186343642442 … -149.75282804023328 318.6745449392501; -0.11660688973395512 -0.1645267083691735 … 11.269120439063737 -67.30582231528219], [3599.2570850482753, 1.05030881, -2.75287513, 1.84020509, -0.16404716, 7.1137196, -3.81588423, 1.02033137, 0.34978635, 5.47147015  …  -0.81395657, 1.73665199, 3.29929223, 1.13340608, -3.12077233, -3.39871874, -0.53944195, 4.46108407, -4.76241929, 0.9232435], [12.5, 1.0, 1.0, 1.0, 1.0, 1.0, 1.0, 1.0, 1.0, 1.0  …  1.0, 1.0, 1.0, 1.0, 1.0, 1.0, 1.0, 1.0, 1.0, 1.0])"
      ]
     },
     "execution_count": 4,
     "metadata": {},
     "output_type": "execute_result"
    }
   ],
   "source": [
    "A, Y, W = ACEfit.assemble(train_atoms, basis_bin[\"24.20\"])\n",
    "P = smoothness_prior(basis; p = 4)"
   ]
  },
  {
   "cell_type": "code",
   "execution_count": 6,
   "id": "24727f41",
   "metadata": {},
   "outputs": [
    {
     "name": "stdout",
     "output_type": "stream",
     "text": [
      "damp  1.0e-8\n",
      "atol  1.0e-6\n",
      "maxiter  100000\n",
      "Converged"
     ]
    },
    {
     "name": "stderr",
     "output_type": "stream",
     "text": [
      "\u001b[33m\u001b[1m┌ \u001b[22m\u001b[39m\u001b[33m\u001b[1mWarning: \u001b[22m\u001b[39mNeed to apply preconditioner in LSQR.\n",
      "\u001b[33m\u001b[1m└ \u001b[22m\u001b[39m\u001b[90m@ ACEfit ~/.julia/packages/ACEfit/9u2t5/src/solvers.jl:94\u001b[39m\n"
     ]
    },
    {
     "name": "stdout",
     "output_type": "stream",
     "text": [
      " after 344 iterations.\n",
      "relative RMS error  0.014585094728896127\n"
     ]
    },
    {
     "data": {
      "text/plain": [
       "Dict{String, Any} with 1 entry:\n",
       "  \"C\" => [44.3956, 1.77958, -22.5581, -6.91417, -8.74336, 3.03488, 18.751, 12.3…"
      ]
     },
     "execution_count": 6,
     "metadata": {},
     "output_type": "execute_result"
    }
   ],
   "source": [
    "P = smoothness_prior(basis; p = 5)\n",
    "# solver = ACEfit.BLR()\n",
    "solver = ACEfit.LSQR(damp = 1e-8, atol = 1e-6, P=P)\n",
    "results = ACEfit.solve(solver, W .* A, W .* Y)"
   ]
  },
  {
   "cell_type": "code",
   "execution_count": 13,
   "id": "8a231552",
   "metadata": {},
   "outputs": [],
   "source": [
    "pot = JuLIP.MLIPs.SumIP(Vref, JuLIP.MLIPs.combine(basis, results[\"C\"]))\n",
    "save_potential(\"./acejulia/Tr1k_n_morse/24.20/ecost50.0/potential_LSQR.json\", pot)"
   ]
  },
  {
   "cell_type": "code",
   "execution_count": 15,
   "id": "5b19bc7f",
   "metadata": {},
   "outputs": [
    {
     "ename": "LoadError",
     "evalue": "ArgumentError: typeof: too few arguments (expected 1)",
     "output_type": "error",
     "traceback": [
      "ArgumentError: typeof: too few arguments (expected 1)",
      "",
      "Stacktrace:",
      " [1] top-level scope",
      "   @ In[15]:1"
     ]
    }
   ],
   "source": [
    "typeof()"
   ]
  },
  {
   "cell_type": "code",
   "execution_count": 11,
   "id": "4f3d910e",
   "metadata": {},
   "outputs": [],
   "source": [
    "D = ACEpotentials.dimers(pot, [:C]; rr= range(0.529177, 7.0, length=200))\n",
    "export_dimers_to_dat(D, filename=\"./acejulia/Tr1k_n_morse/24.20/ecost50.0/dimercurve_LSQR.dat\")"
   ]
  },
  {
   "cell_type": "code",
   "execution_count": 18,
   "id": "81bfe5ea",
   "metadata": {},
   "outputs": [
    {
     "name": "stdout",
     "output_type": "stream",
     "text": [
      "damp  1.0e-15\n",
      "atol  1.0e-6\n",
      "maxiter  100000\n",
      "Converged"
     ]
    },
    {
     "name": "stderr",
     "output_type": "stream",
     "text": [
      "\u001b[33m\u001b[1m┌ \u001b[22m\u001b[39m\u001b[33m\u001b[1mWarning: \u001b[22m\u001b[39mNeed to apply preconditioner in LSQR.\n",
      "\u001b[33m\u001b[1m└ \u001b[22m\u001b[39m\u001b[90m@ ACEfit ~/.julia/packages/ACEfit/9u2t5/src/solvers.jl:94\u001b[39m\n"
     ]
    },
    {
     "name": "stdout",
     "output_type": "stream",
     "text": [
      " after 344 iterations.\n",
      "relative RMS error  0.014585094728896127\n",
      "damp  1.0e-8\n",
      "atol  1.0e-6\n",
      "maxiter  100000\n",
      "Converged"
     ]
    },
    {
     "name": "stderr",
     "output_type": "stream",
     "text": [
      "\u001b[33m\u001b[1m┌ \u001b[22m\u001b[39m\u001b[33m\u001b[1mWarning: \u001b[22m\u001b[39mNeed to apply preconditioner in LSQR.\n",
      "\u001b[33m\u001b[1m└ \u001b[22m\u001b[39m\u001b[90m@ ACEfit ~/.julia/packages/ACEfit/9u2t5/src/solvers.jl:94\u001b[39m\n"
     ]
    },
    {
     "name": "stdout",
     "output_type": "stream",
     "text": [
      " after 344 iterations.\n",
      "relative RMS error  0.014585094728896127\n"
     ]
    },
    {
     "ename": "",
     "evalue": "",
     "output_type": "error",
     "traceback": [
      "\u001b[1;31mThe Kernel crashed while executing code in the current cell or a previous cell. \n",
      "\u001b[1;31mPlease review the code in the cell(s) to identify a possible cause of the failure. \n",
      "\u001b[1;31mClick <a href='https://aka.ms/vscodeJupyterKernelCrash'>here</a> for more info. \n",
      "\u001b[1;31mView Jupyter <a href='command:jupyter.viewOutput'>log</a> for further details."
     ]
    }
   ],
   "source": [
    "pots = Dict()\n",
    "for dampval in [1e-15, 1e-8, 1e-5, 1e-2]\n",
    "    solver = ACEfit.LSQR(damp = dampval, atol = 1e-6, P=P)\n",
    "    results = ACEfit.solve(solver, W .* A, W .* Y)\n",
    "    pot = JuLIP.MLIPs.SumIP(Vref, JuLIP.MLIPs.combine(basis, results[\"C\"]))\n",
    "    pots[\"damp$(dampval)\"] = pot\n",
    "    save_potential(\"./acejulia/Tr1k_n_morse/24.20/ecost50.0/potential_LSQR_damp$(dampval).json\", pot)\n",
    "end\n",
    "for (dampval, pot) in pots\n",
    "    D = ACEpotentials.dimers(pot, [:C]; rr= range(0.529177, 7.0, length=200))\n",
    "    export_dimers_to_dat(D, filename=\"./acejulia/Tr1k_n_morse/24.20/ecost50.0/dimercurve_LSQR_$(dampval).dat\")\n",
    "end"
   ]
  },
  {
   "cell_type": "markdown",
   "id": "41d01bf3",
   "metadata": {},
   "source": [
    "## Carbon"
   ]
  },
  {
   "cell_type": "code",
   "execution_count": null,
   "id": "563bda82",
   "metadata": {},
   "outputs": [],
   "source": []
  },
  {
   "cell_type": "markdown",
   "id": "9ea7ccf7",
   "metadata": {},
   "source": [
    "# Dimer curve extraction"
   ]
  },
  {
   "cell_type": "code",
   "execution_count": null,
   "id": "06a0d250",
   "metadata": {},
   "outputs": [],
   "source": []
  },
  {
   "cell_type": "code",
   "execution_count": 20,
   "id": "945d77a7",
   "metadata": {},
   "outputs": [
    {
     "name": "stdout",
     "output_type": "stream",
     "text": [
      "\n",
      "This potential was saved with following versions:\n",
      "\n",
      "JuLIP v0.14.8\n",
      "ACEbase v0.4.4\n",
      "ACE1x v0.1.11\n",
      "ACE1 v0.12.5\n",
      "ACEmd v0.1.17\n",
      "ACEpotentials v0.6.7\n",
      "ACEfit v0.1.5\n",
      "\n",
      "If you have problems with using this potential, pin your installation to above versions.\n",
      "\n"
     ]
    }
   ],
   "source": [
    "function export_dimers_to_dat(dimers_dict; filename)\n",
    "    for ((z1, z0), (rr, v01)) in dimers_dict\n",
    "        open(filename, \"w\") do io\n",
    "            for (r, v) in zip(rr, v01)\n",
    "                println(io, \"$r $v\")\n",
    "            end\n",
    "        end\n",
    "    end\n",
    "end\n",
    "\n",
    "pot = load_potential(\"acejulia/Tr1k_n_purify/46.20.14.10/ecost10.0/potential_BLR.json\")\n",
    "D = ACEpotentials.dimers(pot, [:C,]; rr = range(0.529177, 7.0, length=200))\n",
    "export_dimers_to_dat(D, filename=\"acejulia/Tr1k_n_purify/46.20.14.10/ecost10.0/dimercurve_BLR.dat\")"
   ]
  }
 ],
 "metadata": {
  "kernelspec": {
   "display_name": "Julia 1.10.6",
   "language": "julia",
   "name": "julia-1.10"
  },
  "language_info": {
   "file_extension": ".jl",
   "mimetype": "application/julia",
   "name": "julia",
   "version": "1.10.6"
  }
 },
 "nbformat": 4,
 "nbformat_minor": 5
}
