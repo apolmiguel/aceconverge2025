{
 "cells": [
  {
   "cell_type": "code",
   "execution_count": 1,
   "metadata": {},
   "outputs": [
    {
     "name": "stderr",
     "output_type": "stream",
     "text": [
      "\u001b[32m\u001b[1m  Activating\u001b[22m\u001b[39m project at `/leonardo_work/Sis25_degironc_0/apol/aceconverge2025`\n"
     ]
    }
   ],
   "source": [
    "ENV[\"JULIA_PKG_USE_CLI_GIT\"] = \"true\"\n",
    "cd(\"/leonardo_work/Sis25_degironc_0/apol/aceconverge2025/\")\n",
    "pwd()\n",
    "\n",
    "import Pkg\n",
    "Pkg.activate(\".\")\n",
    "# Pkg.add(Pkg.PackageSpec(;name=\"ACEpotentials\", version=\"0.6.7\"))\n",
    "using ACEpotentials, LinearAlgebra"
   ]
  },
  {
   "cell_type": "markdown",
   "metadata": {},
   "source": [
    "# `trainmodel.jl` tester"
   ]
  },
  {
   "cell_type": "code",
   "execution_count": 3,
   "metadata": {},
   "outputs": [],
   "source": [
    "train_data = read_extxyz(\"datasets/Tr100_n.xyz\");"
   ]
  },
  {
   "cell_type": "code",
   "execution_count": 4,
   "metadata": {},
   "outputs": [
    {
     "name": "stdout",
     "output_type": "stream",
     "text": [
      "\n",
      "Assigning offset.\n",
      "Vref: OneBody{Float64}(Dict(:C => -245.44385736))\n",
      "Assigning weights.\n",
      "Weights: Dict(\"shaiducarbon\" => Dict(\"E\" => 50.0, \"F\" => 1.0))\n"
     ]
    }
   ],
   "source": [
    "elossweight = 50.0\n",
    "rcut = 5.0\n",
    "pureflag = false\n",
    "\n",
    "println(\"\\nAssigning offset.\")\n",
    "Vref = OneBody(:C => -245.44385736) # one-body energy\n",
    "println(\"Vref: \", Vref)\n",
    "println(\"Assigning weights.\")\n",
    "weights = Dict(\"shaiducarbon\" => Dict(\"E\" => elossweight, \"F\" => 1.0))\n",
    "println(\"Weights: \", weights)\n",
    "datakeys = (energy_key = \"energy\", force_key = \"force\")\n",
    "train_atoms = [ACEpotentials.AtomsData(t; weights=weights, v_ref=Vref, datakeys...) for t in train_data];"
   ]
  },
  {
   "cell_type": "code",
   "execution_count": 8,
   "metadata": {},
   "outputs": [
    {
     "name": "stdout",
     "output_type": "stream",
     "text": [
      "\n",
      "Creating basis for order 2, with per-correlation degrees [16, 12] and algebraic prior of order 1.\n",
      "r0 = 1.286958464, rcut = 5.0.\n",
      "Basis for 16.12 created, with 83 basis functions.\n",
      "Assembling linear problem elements: A, Y, W for basis set: 16.12.\n"
     ]
    },
    {
     "name": "stderr",
     "output_type": "stream",
     "text": [
      "\u001b[36m\u001b[1m[ \u001b[22m\u001b[39m\u001b[36m\u001b[1mInfo: \u001b[22m\u001b[39mAssembling linear problem.\n",
      "\u001b[36m\u001b[1m[ \u001b[22m\u001b[39m\u001b[36m\u001b[1mInfo: \u001b[22m\u001b[39m  - Creating feature matrix with size (5476, 83).\n",
      "\u001b[36m\u001b[1m[ \u001b[22m\u001b[39m\u001b[36m\u001b[1mInfo: \u001b[22m\u001b[39m  - Beginning assembly with processor count:  1.\n",
      "\u001b[32mProgress: 100%|█████████████████████████████████████████| Time: 0:00:28\u001b[39m\n"
     ]
    },
    {
     "name": "stdout",
     "output_type": "stream",
     "text": [
      "Creating priors and modifying A.\n",
      "Solving linear problem.\n",
      "Iter     Function value   Gradient norm \n",
      "     0     1.204286e+04     6.249257e+03\n",
      " * time: 5.888938903808594e-5\n"
     ]
    },
    {
     "name": "stderr",
     "output_type": "stream",
     "text": [
      "\u001b[36m\u001b[1m[ \u001b[22m\u001b[39m\u001b[36m\u001b[1mInfo: \u001b[22m\u001b[39m  - Assembly completed.\n",
      "\u001b[36m\u001b[1m[ \u001b[22m\u001b[39m\u001b[36m\u001b[1mInfo: \u001b[22m\u001b[39mAssembling full weight vector.\n",
      "\u001b[33m\u001b[1m┌ \u001b[22m\u001b[39m\u001b[33m\u001b[1mWarning: \u001b[22m\u001b[39mx_tol is deprecated. Use x_abstol or x_reltol instead. The provided value (1.0e-8) will be used as x_abstol.\n",
      "\u001b[33m\u001b[1m└ \u001b[22m\u001b[39m\u001b[90m@ Optim ~/.julia/packages/Optim/8dE7C/src/types.jl:110\u001b[39m\n"
     ]
    },
    {
     "name": "stdout",
     "output_type": "stream",
     "text": [
      "     1     1.090504e+04     1.010624e+03\n",
      " * time: 0.17289495468139648\n",
      "     2     1.050090e+04     5.140492e+02\n",
      " * time: 0.2672548294067383\n",
      "     3     1.038404e+04     7.189669e+02\n",
      " * time: 0.27135682106018066\n",
      "     4     1.014086e+04     7.961390e+02\n",
      " * time: 0.2752540111541748\n",
      "     5     1.002360e+04     2.048217e+02\n",
      " * time: 0.36981701850891113\n",
      "     6     9.991253e+03     3.154718e+02\n",
      " * time: 0.3737950325012207\n",
      "     7     9.911072e+03     4.918799e+02\n",
      " * time: 0.4702479839324951\n",
      "     8     9.884331e+03     5.838556e+01\n",
      " * time: 0.4746060371398926\n",
      "     9     9.883448e+03     3.501281e+01\n",
      " * time: 0.5686788558959961\n",
      "    10     9.882130e+03     7.517210e+00\n",
      " * time: 0.5740058422088623\n",
      "    11     9.882126e+03     1.074041e-03\n",
      " * time: 0.6684768199920654\n",
      "    12     9.882126e+03     4.652605e-04\n",
      " * time: 0.6726119518280029\n",
      "    13     9.882126e+03     2.053929e-04\n",
      " * time: 0.6754498481750488\n",
      "    14     9.882126e+03     1.557518e-04\n",
      " * time: 0.7700819969177246\n",
      "    15     9.882126e+03     6.390480e-05\n",
      " * time: 0.7742760181427002\n",
      "    16     9.882126e+03     3.843706e-05\n",
      " * time: 0.8672499656677246\n",
      "    17     9.882126e+03     1.432896e-05\n",
      " * time: 0.8740179538726807\n",
      "    18     9.882126e+03     8.307143e-06\n",
      " * time: 0.9675569534301758\n",
      " * Status: success\n",
      "\n",
      " * Candidate solution\n",
      "    Final objective value:     9.882126e+03\n",
      "\n",
      " * Found with\n",
      "    Algorithm:     L-BFGS\n",
      "\n",
      " * Convergence measures\n",
      "    |x - x'|               = 2.58e-09 ≤ 1.0e-08\n",
      "    |x - x'|/|x'|          = 1.86e-10 ≰ 0.0e+00\n",
      "    |f(x) - f(x')|         = 2.72e-05 ≰ 0.0e+00\n",
      "    |f(x) - f(x')|/|f(x')| = 2.75e-09 ≰ 0.0e+00\n",
      "    |g(x)|                 = 8.31e-06 ≰ 0.0e+00\n",
      "\n",
      " * Work counters\n",
      "    Seconds run:   1  (vs limit Inf)\n",
      "    Iterations:    18\n",
      "    f(x) calls:    79\n",
      "    ∇f(x) calls:   79\n",
      "\n",
      "Assembling potential.\n",
      "\n",
      "Creating basis for order 2, with per-correlation degrees [16, 12] and algebraic prior of order 3.\n",
      "r0 = 1.286958464, rcut = 5.0.\n",
      "Basis for 16.12 created, with 83 basis functions.\n",
      "Assembling linear problem elements: A, Y, W for basis set: 16.12.\n"
     ]
    },
    {
     "name": "stderr",
     "output_type": "stream",
     "text": [
      "\u001b[36m\u001b[1m[ \u001b[22m\u001b[39m\u001b[36m\u001b[1mInfo: \u001b[22m\u001b[39mAssembling linear problem.\n",
      "\u001b[36m\u001b[1m[ \u001b[22m\u001b[39m\u001b[36m\u001b[1mInfo: \u001b[22m\u001b[39m  - Creating feature matrix with size (5476, 83).\n",
      "\u001b[36m\u001b[1m[ \u001b[22m\u001b[39m\u001b[36m\u001b[1mInfo: \u001b[22m\u001b[39m  - Beginning assembly with processor count:  1.\n",
      "\u001b[32mProgress: 100%|█████████████████████████████████████████| Time: 0:00:28\u001b[39m\n"
     ]
    },
    {
     "name": "stdout",
     "output_type": "stream",
     "text": [
      "Creating priors and modifying A.\n",
      "Solving linear problem.\n",
      "Iter     Function value   Gradient norm \n",
      "     0     2.434359e+04     2.478027e+04\n",
      " * time: 2.193450927734375e-5\n"
     ]
    },
    {
     "name": "stderr",
     "output_type": "stream",
     "text": [
      "\u001b[36m\u001b[1m[ \u001b[22m\u001b[39m\u001b[36m\u001b[1mInfo: \u001b[22m\u001b[39m  - Assembly completed.\n",
      "\u001b[36m\u001b[1m[ \u001b[22m\u001b[39m\u001b[36m\u001b[1mInfo: \u001b[22m\u001b[39mAssembling full weight vector.\n",
      "\u001b[33m\u001b[1m┌ \u001b[22m\u001b[39m\u001b[33m\u001b[1mWarning: \u001b[22m\u001b[39mx_tol is deprecated. Use x_abstol or x_reltol instead. The provided value (1.0e-8) will be used as x_abstol.\n",
      "\u001b[33m\u001b[1m└ \u001b[22m\u001b[39m\u001b[90m@ Optim ~/.julia/packages/Optim/8dE7C/src/types.jl:110\u001b[39m\n"
     ]
    },
    {
     "name": "stdout",
     "output_type": "stream",
     "text": [
      "     1     2.273450e+04     2.164663e+02\n",
      " * time: 0.09484004974365234\n",
      "     2     1.934873e+04     3.989128e+02\n",
      " * time: 0.19384503364562988\n",
      "     3     1.189668e+04     1.027329e+03\n",
      " * time: 0.19552302360534668\n",
      "     4     1.180788e+04     3.575772e+02\n",
      " * time: 0.2902100086212158\n",
      "     5     1.177334e+04     1.009932e+02\n",
      " * time: 0.2925760746002197\n",
      "     6     1.176307e+04     1.814322e+02\n",
      " * time: 0.2950150966644287\n",
      "     7     1.150478e+04     9.301422e+02\n",
      " * time: 0.29915308952331543\n",
      "     8     1.108441e+04     8.326988e+02\n",
      " * time: 0.3919229507446289\n",
      "     9     1.082389e+04     3.011316e+02\n",
      " * time: 0.39453887939453125\n",
      "    10     1.071793e+04     3.366014e+02\n",
      " * time: 0.3963179588317871\n",
      "    11     1.048876e+04     1.199157e+03\n",
      " * time: 0.3989078998565674\n",
      "    12     1.020552e+04     8.538903e+02\n",
      " * time: 0.49245405197143555\n",
      "    13     1.006838e+04     2.602970e+02\n",
      " * time: 0.4954380989074707\n",
      "    14     1.003653e+04     2.489013e+02\n",
      " * time: 0.497485876083374\n",
      "    15     9.970031e+03     4.231818e+02\n",
      " * time: 0.5912220478057861\n",
      "    16     9.951062e+03     3.910855e+01\n",
      " * time: 0.5939888954162598\n",
      "    17     9.950799e+03     1.372205e+01\n",
      " * time: 0.596574068069458\n",
      "    18     9.950437e+03     2.558603e+00\n",
      " * time: 0.6908230781555176\n",
      "    19     9.950434e+03     3.596877e-01\n",
      " * time: 0.6951100826263428\n",
      "    20     9.950434e+03     2.174977e-03\n",
      " * time: 0.6996200084686279\n",
      "    21     9.950434e+03     3.209036e-05\n",
      " * time: 0.7936201095581055\n",
      "    22     9.950434e+03     8.358362e-06\n",
      " * time: 0.7966170310974121\n",
      "    23     9.950434e+03     3.458082e-05\n",
      " * time: 0.9909899234771729\n",
      "    24     9.950433e+03     1.903627e-04\n",
      " * time: 0.9939858913421631\n",
      "    25     9.950433e+03     3.630472e-05\n",
      " * time: 0.9982891082763672\n",
      "    26     9.950433e+03     4.376160e-05\n",
      " * time: 1.0909960269927979\n",
      "    27     9.950434e+03     4.422175e-05\n",
      " * time: 1.094115972518921\n",
      "    28     9.950434e+03     3.030110e-06\n",
      " * time: 1.0991809368133545\n",
      "    29     9.950434e+03     1.294382e-04\n",
      " * time: 1.193593978881836\n",
      " * Status: success\n",
      "\n",
      " * Candidate solution\n",
      "    Final objective value:     9.950434e+03\n",
      "\n",
      " * Found with\n",
      "    Algorithm:     L-BFGS\n",
      "\n",
      " * Convergence measures\n",
      "    |x - x'|               = 8.04e-09 ≤ 1.0e-08\n",
      "    |x - x'|/|x'|          = 1.62e-11 ≰ 0.0e+00\n",
      "    |f(x) - f(x')|         = 1.50e-04 ≰ 0.0e+00\n",
      "    |f(x) - f(x')|/|f(x')| = 1.51e-08 ≰ 0.0e+00\n",
      "    |g(x)|                 = 1.29e-04 ≰ 0.0e+00\n",
      "\n",
      " * Work counters\n",
      "    Seconds run:   1  (vs limit Inf)\n",
      "    Iterations:    29\n",
      "    f(x) calls:    117\n",
      "    ∇f(x) calls:   117\n",
      "\n",
      "Assembling potential.\n",
      "\n",
      "Creating basis for order 2, with per-correlation degrees [16, 12] and algebraic prior of order 5.\n",
      "r0 = 1.286958464, rcut = 5.0.\n",
      "Basis for 16.12 created, with 83 basis functions.\n",
      "Assembling linear problem elements: A, Y, W for basis set: 16.12.\n"
     ]
    },
    {
     "name": "stderr",
     "output_type": "stream",
     "text": [
      "\u001b[36m\u001b[1m[ \u001b[22m\u001b[39m\u001b[36m\u001b[1mInfo: \u001b[22m\u001b[39mAssembling linear problem.\n",
      "\u001b[36m\u001b[1m[ \u001b[22m\u001b[39m\u001b[36m\u001b[1mInfo: \u001b[22m\u001b[39m  - Creating feature matrix with size (5476, 83).\n",
      "\u001b[36m\u001b[1m[ \u001b[22m\u001b[39m\u001b[36m\u001b[1mInfo: \u001b[22m\u001b[39m  - Beginning assembly with processor count:  1.\n",
      "\u001b[32mProgress: 100%|█████████████████████████████████████████| Time: 0:00:27\u001b[39m\n"
     ]
    },
    {
     "name": "stdout",
     "output_type": "stream",
     "text": [
      "Creating priors and modifying A.\n",
      "Solving linear problem.\n",
      "Iter     Function value   Gradient norm \n",
      "     0     1.034957e+05     1.307121e+05\n",
      " * time: 4.1961669921875e-5\n",
      "     1     6.956372e+04     4.183094e-02\n",
      " * time: 0.0021491050720214844\n",
      "     2     6.320430e+04     1.337875e-01\n",
      " * time: 0.07851910591125488\n"
     ]
    },
    {
     "name": "stderr",
     "output_type": "stream",
     "text": [
      "\u001b[36m\u001b[1m[ \u001b[22m\u001b[39m\u001b[36m\u001b[1mInfo: \u001b[22m\u001b[39m  - Assembly completed.\n",
      "\u001b[36m\u001b[1m[ \u001b[22m\u001b[39m\u001b[36m\u001b[1mInfo: \u001b[22m\u001b[39mAssembling full weight vector.\n",
      "\u001b[33m\u001b[1m┌ \u001b[22m\u001b[39m\u001b[33m\u001b[1mWarning: \u001b[22m\u001b[39mx_tol is deprecated. Use x_abstol or x_reltol instead. The provided value (1.0e-8) will be used as x_abstol.\n",
      "\u001b[33m\u001b[1m└ \u001b[22m\u001b[39m\u001b[90m@ Optim ~/.julia/packages/Optim/8dE7C/src/types.jl:110\u001b[39m\n"
     ]
    },
    {
     "name": "stdout",
     "output_type": "stream",
     "text": [
      "     3     1.798209e+04     5.410688e+02\n",
      " * time: 0.17583608627319336\n",
      "     4     1.007135e+04     3.024927e+02\n",
      " * time: 0.4753279685974121\n",
      "     5     1.006730e+04     2.302915e+02\n",
      " * time: 0.4802579879760742\n",
      "     6     1.006215e+04     2.276719e+00\n",
      " * time: 0.482806921005249\n",
      "     7     1.006215e+04     3.422421e-04\n",
      " * time: 0.5754730701446533\n",
      "     8     1.006212e+04     1.901115e+01\n",
      " * time: 0.6781539916992188\n",
      "     9     1.006040e+04     5.869730e+00\n",
      " * time: 0.7745180130004883\n",
      "    10     1.006034e+04     1.962356e+00\n",
      " * time: 0.7782549858093262\n",
      "    11     1.006034e+04     1.167958e-01\n",
      " * time: 0.7808380126953125\n",
      "    12     1.006034e+04     4.629008e-04\n",
      " * time: 0.7834110260009766\n",
      "    13     1.006034e+04     1.232866e-04\n",
      " * time: 0.8786270618438721\n",
      "    14     1.006034e+04     3.844093e-05\n",
      " * time: 0.8833601474761963\n",
      "    15     1.006034e+04     5.279160e-05\n",
      " * time: 0.9836530685424805\n",
      "    16     1.006034e+04     1.155978e-04\n",
      " * time: 1.0798490047454834\n",
      "    17     1.006034e+04     2.701028e-05\n",
      " * time: 1.1743500232696533\n",
      "    18     1.006034e+04     8.939256e-05\n",
      " * time: 1.1800501346588135\n",
      "    19     1.006034e+04     5.210783e-05\n",
      " * time: 1.2760860919952393\n",
      "    20     1.006034e+04     1.006939e-04\n",
      " * time: 1.2783710956573486\n",
      "    21     1.006034e+04     3.799156e-05\n",
      " * time: 1.2816059589385986\n",
      "    22     1.006034e+04     6.918742e-05\n",
      " * time: 1.3768291473388672\n",
      "    23     1.006034e+04     1.998243e-05\n",
      " * time: 1.3791000843048096\n",
      "    24     1.006034e+04     1.023625e-04\n",
      " * time: 1.4748561382293701\n",
      " * Status: success\n",
      "\n",
      " * Candidate solution\n",
      "    Final objective value:     1.006034e+04\n",
      "\n",
      " * Found with\n",
      "    Algorithm:     L-BFGS\n",
      "\n",
      " * Convergence measures\n",
      "    |x - x'|               = 5.02e-09 ≤ 1.0e-08\n",
      "    |x - x'|/|x'|          = 6.94e-14 ≰ 0.0e+00\n",
      "    |f(x) - f(x')|         = 2.98e-06 ≰ 0.0e+00\n",
      "    |f(x) - f(x')|/|f(x')| = 2.96e-10 ≰ 0.0e+00\n",
      "    |g(x)|                 = 1.02e-04 ≰ 0.0e+00\n",
      "\n",
      " * Work counters\n",
      "    Seconds run:   1  (vs limit Inf)\n",
      "    Iterations:    24\n",
      "    f(x) calls:    130\n",
      "    ∇f(x) calls:   130\n",
      "\n",
      "Assembling potential.\n",
      "\n",
      "Creating basis for order 3, with per-correlation degrees [16, 12, 8] and algebraic prior of order 1.\n",
      "r0 = 1.286958464, rcut = 5.0.\n",
      "Basis for 16.12.8 created, with 106 basis functions.\n",
      "Assembling linear problem elements: A, Y, W for basis set: 16.12.8.\n"
     ]
    },
    {
     "name": "stderr",
     "output_type": "stream",
     "text": [
      "\u001b[36m\u001b[1m[ \u001b[22m\u001b[39m\u001b[36m\u001b[1mInfo: \u001b[22m\u001b[39mAssembling linear problem.\n",
      "\u001b[36m\u001b[1m[ \u001b[22m\u001b[39m\u001b[36m\u001b[1mInfo: \u001b[22m\u001b[39m  - Creating feature matrix with size (5476, 106).\n",
      "\u001b[36m\u001b[1m[ \u001b[22m\u001b[39m\u001b[36m\u001b[1mInfo: \u001b[22m\u001b[39m  - Beginning assembly with processor count:  1.\n",
      "\u001b[32mProgress: 100%|█████████████████████████████████████████| Time: 0:00:27\u001b[39m\n"
     ]
    },
    {
     "name": "stdout",
     "output_type": "stream",
     "text": [
      "Creating priors and modifying A.\n",
      "Solving linear problem.\n",
      "Iter     Function value   Gradient norm \n",
      "     0     1.016444e+04     3.178488e+03\n",
      " * time: 3.790855407714844e-5\n",
      "     1     9.839396e+03     9.965688e+02\n",
      " * time: 0.047312021255493164\n",
      "     2     9.667059e+03     4.620004e+02\n",
      " * time: 0.04933285713195801\n",
      "     3     9.595897e+03     5.191397e+02\n",
      " * time: 0.05133390426635742\n",
      "     4     9.335478e+03     1.107024e+03\n",
      " * time: 0.0538640022277832\n"
     ]
    },
    {
     "name": "stderr",
     "output_type": "stream",
     "text": [
      "\u001b[36m\u001b[1m[ \u001b[22m\u001b[39m\u001b[36m\u001b[1mInfo: \u001b[22m\u001b[39m  - Assembly completed.\n",
      "\u001b[36m\u001b[1m[ \u001b[22m\u001b[39m\u001b[36m\u001b[1mInfo: \u001b[22m\u001b[39mAssembling full weight vector.\n",
      "\u001b[33m\u001b[1m┌ \u001b[22m\u001b[39m\u001b[33m\u001b[1mWarning: \u001b[22m\u001b[39mx_tol is deprecated. Use x_abstol or x_reltol instead. The provided value (1.0e-8) will be used as x_abstol.\n",
      "\u001b[33m\u001b[1m└ \u001b[22m\u001b[39m\u001b[90m@ Optim ~/.julia/packages/Optim/8dE7C/src/types.jl:110\u001b[39m\n"
     ]
    },
    {
     "name": "stdout",
     "output_type": "stream",
     "text": [
      "     5     9.191242e+03     4.223461e+02\n",
      " * time: 0.14607906341552734\n",
      "     6     9.163134e+03     1.166914e+02\n",
      " * time: 0.14751791954040527\n",
      "     7     9.115588e+03     6.027815e+02\n",
      " * time: 0.1501610279083252\n",
      "     8     9.091775e+03     1.097389e+02\n",
      " * time: 0.1522378921508789\n",
      "     9     9.086738e+03     9.586293e+01\n",
      " * time: 0.24441099166870117\n",
      "    10     9.085668e+03     2.323525e+01\n",
      " * time: 0.24660706520080566\n",
      "    11     9.085585e+03     3.403035e+00\n",
      " * time: 0.2485520839691162\n",
      "    12     9.085584e+03     1.163041e-01\n",
      " * time: 0.2504298686981201\n",
      "    13     9.085584e+03     2.482456e-04\n",
      " * time: 0.252316951751709\n",
      "    14     9.085584e+03     1.059626e-04\n",
      " * time: 0.25369691848754883\n",
      "    15     9.085583e+03     1.741601e-04\n",
      " * time: 0.3450589179992676\n",
      "    16     9.085584e+03     1.036078e-04\n",
      " * time: 0.34702587127685547\n",
      "    17     9.085584e+03     2.553772e-04\n",
      " * time: 0.3506910800933838\n",
      "    18     9.085584e+03     3.131341e-04\n",
      " * time: 0.3520479202270508\n",
      "    19     9.085584e+03     5.769572e-05\n",
      " * time: 0.4442000389099121\n",
      "    20     9.085584e+03     3.195917e-04\n",
      " * time: 0.44582295417785645\n",
      "    21     9.085584e+03     7.765254e-06\n",
      " * time: 0.5459048748016357\n",
      "    22     9.085584e+03     1.005604e-04\n",
      " * time: 0.548011064529419\n",
      "    23     9.085584e+03     3.880014e-05\n",
      " * time: 0.5501439571380615\n",
      "    24     9.085584e+03     1.135034e-04\n",
      " * time: 0.5532510280609131\n",
      "    25     9.085583e+03     3.317205e-04\n",
      " * time: 0.6453180313110352\n",
      "    26     9.085584e+03     3.188506e-04\n",
      " * time: 0.6473848819732666\n",
      "    27     9.085584e+03     1.732809e-04\n",
      " * time: 0.6488199234008789\n",
      "    28     9.085583e+03     2.757747e-04\n",
      " * time: 0.6502640247344971\n",
      "    29     9.085584e+03     7.569660e-06\n",
      " * time: 0.6522719860076904\n",
      "    30     9.085584e+03     2.967688e-04\n",
      " * time: 0.6537189483642578\n",
      "    31     9.085584e+03     6.761100e-05\n",
      " * time: 0.746985912322998\n",
      "    32     9.085584e+03     4.414365e-05\n",
      " * time: 0.7513949871063232\n",
      "    33     9.085584e+03     8.332622e-06\n",
      " * time: 0.8453688621520996\n",
      "    34     9.085584e+03     5.430940e-05\n",
      " * time: 0.8473589420318604\n",
      " * Status: success\n",
      "\n",
      " * Candidate solution\n",
      "    Final objective value:     9.085584e+03\n",
      "\n",
      " * Found with\n",
      "    Algorithm:     L-BFGS\n",
      "\n",
      " * Convergence measures\n",
      "    |x - x'|               = 8.60e-09 ≤ 1.0e-08\n",
      "    |x - x'|/|x'|          = 6.46e-10 ≰ 0.0e+00\n",
      "    |f(x) - f(x')|         = 2.93e-05 ≰ 0.0e+00\n",
      "    |f(x) - f(x')|/|f(x')| = 3.22e-09 ≰ 0.0e+00\n",
      "    |g(x)|                 = 5.43e-05 ≰ 0.0e+00\n",
      "\n",
      " * Work counters\n",
      "    Seconds run:   1  (vs limit Inf)\n",
      "    Iterations:    34\n",
      "    f(x) calls:    132\n",
      "    ∇f(x) calls:   132\n",
      "\n",
      "Assembling potential.\n",
      "\n",
      "Creating basis for order 3, with per-correlation degrees [16, 12, 8] and algebraic prior of order 3.\n",
      "r0 = 1.286958464, rcut = 5.0.\n",
      "Basis for 16.12.8 created, with 106 basis functions.\n",
      "Assembling linear problem elements: A, Y, W for basis set: 16.12.8.\n"
     ]
    },
    {
     "name": "stderr",
     "output_type": "stream",
     "text": [
      "\u001b[36m\u001b[1m[ \u001b[22m\u001b[39m\u001b[36m\u001b[1mInfo: \u001b[22m\u001b[39mAssembling linear problem.\n",
      "\u001b[36m\u001b[1m[ \u001b[22m\u001b[39m\u001b[36m\u001b[1mInfo: \u001b[22m\u001b[39m  - Creating feature matrix with size (5476, 106).\n",
      "\u001b[36m\u001b[1m[ \u001b[22m\u001b[39m\u001b[36m\u001b[1mInfo: \u001b[22m\u001b[39m  - Beginning assembly with processor count:  1.\n",
      "\u001b[32mProgress: 100%|█████████████████████████████████████████| Time: 0:00:26\u001b[39m\n"
     ]
    },
    {
     "name": "stdout",
     "output_type": "stream",
     "text": [
      "Creating priors and modifying A.\n",
      "Solving linear problem.\n",
      "Iter     Function value   Gradient norm \n",
      "     0     1.416998e+04     7.824892e+03\n",
      " * time: 2.4080276489257812e-5\n",
      "     1     1.353872e+04     1.103685e+03\n",
      " * time: 0.08214306831359863\n",
      "     2     1.105546e+04     1.371962e+03\n",
      " * time: 0.08428502082824707\n",
      "     3     1.031376e+04     5.739373e+02\n",
      " * time: 0.0886850357055664\n",
      "     4     1.026347e+04     3.873383e+02\n",
      " * time: 0.09012103080749512\n"
     ]
    },
    {
     "name": "stderr",
     "output_type": "stream",
     "text": [
      "\u001b[36m\u001b[1m[ \u001b[22m\u001b[39m\u001b[36m\u001b[1mInfo: \u001b[22m\u001b[39m  - Assembly completed.\n",
      "\u001b[36m\u001b[1m[ \u001b[22m\u001b[39m\u001b[36m\u001b[1mInfo: \u001b[22m\u001b[39mAssembling full weight vector.\n",
      "\u001b[33m\u001b[1m┌ \u001b[22m\u001b[39m\u001b[33m\u001b[1mWarning: \u001b[22m\u001b[39mx_tol is deprecated. Use x_abstol or x_reltol instead. The provided value (1.0e-8) will be used as x_abstol.\n",
      "\u001b[33m\u001b[1m└ \u001b[22m\u001b[39m\u001b[90m@ Optim ~/.julia/packages/Optim/8dE7C/src/types.jl:110\u001b[39m\n"
     ]
    },
    {
     "name": "stdout",
     "output_type": "stream",
     "text": [
      "     5     1.021098e+04     4.489024e+02\n",
      " * time: 0.18204307556152344\n",
      "     6     9.991477e+03     4.203190e+02\n",
      " * time: 0.18433308601379395\n",
      "     7     9.111958e+03     3.069042e+01\n",
      " * time: 0.18718314170837402\n",
      "     8     9.111892e+03     2.356602e+00\n",
      " * time: 0.18830394744873047\n",
      "     9     9.110211e+03     4.667283e+01\n",
      " * time: 0.2812190055847168\n",
      "    10     9.110075e+03     1.633841e-01\n",
      " * time: 0.2827799320220947\n",
      "    11     9.110075e+03     2.856717e-02\n",
      " * time: 0.2843739986419678\n",
      "    12     9.110075e+03     4.604971e-04\n",
      " * time: 0.28577613830566406\n",
      "    13     9.110075e+03     1.247638e-04\n",
      " * time: 0.28722691535949707\n",
      "    14     9.110075e+03     6.124996e-05\n",
      " * time: 0.29059600830078125\n",
      "    15     9.110075e+03     1.983781e-04\n",
      " * time: 0.3822009563446045\n",
      "    16     9.110075e+03     2.753825e-04\n",
      " * time: 0.3840310573577881\n",
      "    17     9.110075e+03     2.036454e-05\n",
      " * time: 0.387282133102417\n",
      "    18     9.110075e+03     1.789070e-05\n",
      " * time: 0.38828611373901367\n",
      "    19     9.110075e+03     1.728140e-05\n",
      " * time: 0.48589205741882324\n",
      "    20     9.110075e+03     1.588239e-05\n",
      " * time: 0.5827500820159912\n",
      "    21     9.110075e+03     6.487859e-06\n",
      " * time: 0.5877330303192139\n",
      " * Status: success\n",
      "\n",
      " * Candidate solution\n",
      "    Final objective value:     9.110075e+03\n",
      "\n",
      " * Found with\n",
      "    Algorithm:     L-BFGS\n",
      "\n",
      " * Convergence measures\n",
      "    |x - x'|               = 9.78e-09 ≤ 1.0e-08\n",
      "    |x - x'|/|x'|          = 5.05e-11 ≰ 0.0e+00\n",
      "    |f(x) - f(x')|         = 4.40e-06 ≰ 0.0e+00\n",
      "    |f(x) - f(x')|/|f(x')| = 4.83e-10 ≰ 0.0e+00\n",
      "    |g(x)|                 = 6.49e-06 ≰ 0.0e+00\n",
      "\n",
      " * Work counters\n",
      "    Seconds run:   1  (vs limit Inf)\n",
      "    Iterations:    21\n",
      "    f(x) calls:    125\n",
      "    ∇f(x) calls:   125\n",
      "\n",
      "Assembling potential.\n",
      "\n",
      "Creating basis for order 3, with per-correlation degrees [16, 12, 8] and algebraic prior of order 5.\n",
      "r0 = 1.286958464, rcut = 5.0.\n",
      "Basis for 16.12.8 created, with 106 basis functions.\n",
      "Assembling linear problem elements: A, Y, W for basis set: 16.12.8.\n"
     ]
    },
    {
     "name": "stderr",
     "output_type": "stream",
     "text": [
      "\u001b[36m\u001b[1m[ \u001b[22m\u001b[39m\u001b[36m\u001b[1mInfo: \u001b[22m\u001b[39mAssembling linear problem.\n",
      "\u001b[36m\u001b[1m[ \u001b[22m\u001b[39m\u001b[36m\u001b[1mInfo: \u001b[22m\u001b[39m  - Creating feature matrix with size (5476, 106).\n",
      "\u001b[36m\u001b[1m[ \u001b[22m\u001b[39m\u001b[36m\u001b[1mInfo: \u001b[22m\u001b[39m  - Beginning assembly with processor count:  1.\n",
      "\u001b[32mProgress: 100%|█████████████████████████████████████████| Time: 0:00:28\u001b[39m\n"
     ]
    },
    {
     "name": "stdout",
     "output_type": "stream",
     "text": [
      "Creating priors and modifying A.\n",
      "Solving linear problem.\n",
      "Iter     Function value   Gradient norm \n",
      "     0     6.074315e+04     6.515199e+04\n",
      " * time: 7.319450378417969e-5\n",
      "     1     5.817858e+04     3.352496e-01\n",
      " * time: 0.007861137390136719\n"
     ]
    },
    {
     "name": "stderr",
     "output_type": "stream",
     "text": [
      "\u001b[36m\u001b[1m[ \u001b[22m\u001b[39m\u001b[36m\u001b[1mInfo: \u001b[22m\u001b[39m  - Assembly completed.\n",
      "\u001b[36m\u001b[1m[ \u001b[22m\u001b[39m\u001b[36m\u001b[1mInfo: \u001b[22m\u001b[39mAssembling full weight vector.\n",
      "\u001b[33m\u001b[1m┌ \u001b[22m\u001b[39m\u001b[33m\u001b[1mWarning: \u001b[22m\u001b[39mx_tol is deprecated. Use x_abstol or x_reltol instead. The provided value (1.0e-8) will be used as x_abstol.\n",
      "\u001b[33m\u001b[1m└ \u001b[22m\u001b[39m\u001b[90m@ Optim ~/.julia/packages/Optim/8dE7C/src/types.jl:110\u001b[39m\n"
     ]
    },
    {
     "name": "stdout",
     "output_type": "stream",
     "text": [
      "     2     5.333388e+04     8.135747e-01\n",
      " * time: 0.18953704833984375\n",
      "     3     4.870982e+04     1.897686e+00\n",
      " * time: 0.1921710968017578\n",
      "     4     4.274285e+04     5.667569e+00\n",
      " * time: 0.19508600234985352\n",
      "     5     3.880426e+04     1.168124e+01\n",
      " * time: 0.2946341037750244\n",
      "     6     2.385128e+04     1.836885e+02\n",
      " * time: 0.2992110252380371\n",
      "     7     9.611608e+03     1.485750e+03\n",
      " * time: 0.5907900333404541\n",
      "     8     9.349309e+03     9.914469e+02\n",
      " * time: 0.7970590591430664\n",
      "     9     9.283477e+03     8.705326e+02\n",
      " * time: 0.8914639949798584\n",
      "    10     9.246221e+03     5.346693e+01\n",
      " * time: 0.8961629867553711\n",
      "    11     9.246031e+03     4.575905e-01\n",
      " * time: 0.9904990196228027\n",
      "    12     9.246031e+03     3.644235e-03\n",
      " * time: 0.9933781623840332\n",
      "    13     9.246031e+03     3.063304e-01\n",
      " * time: 1.092717170715332\n",
      "    14     9.236040e+03     1.276442e+02\n",
      " * time: 1.1977801322937012\n",
      "    15     9.234879e+03     9.696200e+00\n",
      " * time: 1.290471076965332\n",
      "    16     9.234774e+03     3.851593e+00\n",
      " * time: 1.2928199768066406\n",
      "    17     9.234773e+03     8.011286e-03\n",
      " * time: 1.2949800491333008\n",
      "    18     9.234773e+03     5.507963e-05\n",
      " * time: 1.2973129749298096\n",
      "    19     9.234773e+03     1.578106e-05\n",
      " * time: 1.2986860275268555\n",
      "    20     9.234773e+03     4.337618e-05\n",
      " * time: 1.3903861045837402\n",
      "    21     9.234773e+03     2.785143e-04\n",
      " * time: 1.393928050994873\n",
      "    22     9.234773e+03     4.349979e-05\n",
      " * time: 1.3963730335235596\n",
      "    23     9.234773e+03     4.044300e-05\n",
      " * time: 1.4899530410766602\n",
      "    24     9.234773e+03     6.437886e-05\n",
      " * time: 1.493636131286621\n",
      "    25     9.234773e+03     1.280461e-04\n",
      " * time: 1.495901107788086\n",
      "    26     9.234773e+03     1.041037e-04\n",
      " * time: 1.589341163635254\n",
      "    27     9.234773e+03     4.511921e-04\n",
      " * time: 1.5910611152648926\n",
      "    28     9.234773e+03     2.477689e-04\n",
      " * time: 1.592534065246582\n",
      "    29     9.234773e+03     2.169688e-04\n",
      " * time: 1.5939640998840332\n",
      "    30     9.234773e+03     4.202793e-05\n",
      " * time: 1.5954921245574951\n",
      "    31     9.234773e+03     1.405321e-05\n",
      " * time: 1.597208023071289\n",
      " * Status: success\n",
      "\n",
      " * Candidate solution\n",
      "    Final objective value:     9.234773e+03\n",
      "\n",
      " * Found with\n",
      "    Algorithm:     L-BFGS\n",
      "\n",
      " * Convergence measures\n",
      "    |x - x'|               = 3.21e-09 ≤ 1.0e-08\n",
      "    |x - x'|/|x'|          = 1.75e-13 ≰ 0.0e+00\n",
      "    |f(x) - f(x')|         = 2.52e-04 ≰ 0.0e+00\n",
      "    |f(x) - f(x')|/|f(x')| = 2.73e-08 ≰ 0.0e+00\n",
      "    |g(x)|                 = 1.41e-05 ≰ 0.0e+00\n",
      "\n",
      " * Work counters\n",
      "    Seconds run:   2  (vs limit Inf)\n",
      "    Iterations:    31\n",
      "    f(x) calls:    142\n",
      "    ∇f(x) calls:   142\n",
      "\n",
      "Assembling potential.\n"
     ]
    }
   ],
   "source": [
    "orders = [2,3]\n",
    "# degrees = [[26,22],[26,22,18],[26,22,18,14]]\n",
    "# basis_tags = [\"26.22\",\"26.22.18\",\"26.22.18.14\"]\n",
    "degrees = [[16,12],[16,12,8]]\n",
    "basis_tags = [\"16.12\",\"16.12.8\"]\n",
    "r0 = 1.286958464 # equilibrium length from dimer dataset\n",
    "potlist = Dict()\n",
    "\n",
    "for (i,label) in enumerate(basis_tags)\n",
    "    for priorval in [1 3 5]\n",
    "        println(\"\\nCreating basis for order $(orders[i]), with per-correlation degrees $(degrees[i]) and algebraic prior of order $(priorval).\")\n",
    "        println(\"r0 = $r0, rcut = $rcut.\")\n",
    "        basis = ACE1x.ace_basis(\n",
    "            elements = [:C],\n",
    "            order = orders[i],\n",
    "            totaldegree = degrees[i],\n",
    "            rcut = rcut,\n",
    "            r0 = r0,\n",
    "            pure = pureflag)\n",
    "        println(\"Basis for $label created, with $(length(basis)) basis functions.\")\n",
    "\n",
    "        println(\"Assembling linear problem elements: A, Y, W for basis set: $label.\")\n",
    "        A, Y, W = ACEfit.assemble(train_atoms, basis)\n",
    "        println(\"Creating priors and modifying A.\")\n",
    "        P = smoothness_prior(basis; p=priorval)\n",
    "        Ap = Diagonal(W) * (A/P)\n",
    "        yp = Diagonal(W) * Y\n",
    "        println(\"Solving linear problem.\")\n",
    "        results = ACEfit.solve(ACEfit.BLR(; verbose=true), Ap, yp)\n",
    "        println(\"Assembling potential.\")\n",
    "        potlist[label*\",P=\"*string(priorval)] = JuLIP.MLIPs.SumIP(Vref, JuLIP.MLIPs.combine(basis, results[\"C\"]))\n",
    "    end\n",
    "end"
   ]
  },
  {
   "cell_type": "code",
   "execution_count": 9,
   "metadata": {},
   "outputs": [
    {
     "data": {
      "text/plain": [
       "Dict{Any, Any} with 6 entries:\n",
       "  \"16.12.8,P=1\" => SumIP{Any}(Any[OneBody{Float64}(Dict(:C=>-245.444)), PolyPai…\n",
       "  \"16.12.8,P=5\" => SumIP{Any}(Any[OneBody{Float64}(Dict(:C=>-245.444)), PolyPai…\n",
       "  \"16.12,P=3\"   => SumIP{Any}(Any[OneBody{Float64}(Dict(:C=>-245.444)), PolyPai…\n",
       "  \"16.12,P=1\"   => SumIP{Any}(Any[OneBody{Float64}(Dict(:C=>-245.444)), PolyPai…\n",
       "  \"16.12,P=5\"   => SumIP{Any}(Any[OneBody{Float64}(Dict(:C=>-245.444)), PolyPai…\n",
       "  \"16.12.8,P=3\" => SumIP{Any}(Any[OneBody{Float64}(Dict(:C=>-245.444)), PolyPai…"
      ]
     },
     "execution_count": 9,
     "metadata": {},
     "output_type": "execute_result"
    }
   ],
   "source": [
    "potlist"
   ]
  },
  {
   "cell_type": "code",
   "execution_count": 13,
   "metadata": {},
   "outputs": [
    {
     "name": "stdout",
     "output_type": "stream",
     "text": [
      "\n",
      "Creating basis for order 2, with per-correlation degrees [16, 12] and no prior included.\n",
      "r0 = 1.286958464, rcut = 5.0.\n",
      "Basis for 16.12 created, with 83 basis functions.\n",
      "Assembling linear problem elements: A, Y, W for basis set: 16.12.\n"
     ]
    },
    {
     "name": "stderr",
     "output_type": "stream",
     "text": [
      "\u001b[36m\u001b[1m[ \u001b[22m\u001b[39m\u001b[36m\u001b[1mInfo: \u001b[22m\u001b[39mAssembling linear problem.\n",
      "\u001b[36m\u001b[1m[ \u001b[22m\u001b[39m\u001b[36m\u001b[1mInfo: \u001b[22m\u001b[39m  - Creating feature matrix with size (5476, 83).\n",
      "\u001b[36m\u001b[1m[ \u001b[22m\u001b[39m\u001b[36m\u001b[1mInfo: \u001b[22m\u001b[39m  - Beginning assembly with processor count:  1.\n",
      "\u001b[32mProgress: 100%|█████████████████████████████████████████| Time: 0:00:33\u001b[39m\n"
     ]
    },
    {
     "name": "stdout",
     "output_type": "stream",
     "text": [
      "Solving linear problem.\n"
     ]
    },
    {
     "name": "stderr",
     "output_type": "stream",
     "text": [
      "\u001b[36m\u001b[1m[ \u001b[22m\u001b[39m\u001b[36m\u001b[1mInfo: \u001b[22m\u001b[39m  - Assembly completed.\n",
      "\u001b[36m\u001b[1m[ \u001b[22m\u001b[39m\u001b[36m\u001b[1mInfo: \u001b[22m\u001b[39mAssembling full weight vector.\n"
     ]
    },
    {
     "name": "stdout",
     "output_type": "stream",
     "text": [
      "Iter     Function value   Gradient norm \n",
      "     0     1.060718e+04     4.681348e+03\n",
      " * time: 5.888938903808594e-5\n"
     ]
    },
    {
     "name": "stderr",
     "output_type": "stream",
     "text": [
      "\u001b[33m\u001b[1m┌ \u001b[22m\u001b[39m\u001b[33m\u001b[1mWarning: \u001b[22m\u001b[39mx_tol is deprecated. Use x_abstol or x_reltol instead. The provided value (1.0e-8) will be used as x_abstol.\n",
      "\u001b[33m\u001b[1m└ \u001b[22m\u001b[39m\u001b[90m@ Optim ~/.julia/packages/Optim/8dE7C/src/types.jl:110\u001b[39m\n"
     ]
    },
    {
     "name": "stdout",
     "output_type": "stream",
     "text": [
      "     1     9.971796e+03     4.986985e+02\n",
      " * time: 0.12290191650390625\n",
      "     2     9.943099e+03     7.903638e+01\n",
      " * time: 0.21631693840026855\n",
      "     3     9.940911e+03     8.351185e+01\n",
      " * time: 0.22013282775878906\n",
      "     4     9.921677e+03     2.945626e+01\n",
      " * time: 0.31581592559814453\n",
      "     5     9.920121e+03     5.192168e+01\n",
      " * time: 0.3200359344482422\n",
      "     6     9.919642e+03     2.340004e+01\n",
      " * time: 0.32364392280578613\n",
      "     7     9.919591e+03     2.946920e-01\n",
      " * time: 0.4160139560699463\n",
      "     8     9.919591e+03     3.657823e-03\n",
      " * time: 0.41893696784973145\n",
      "     9     9.919591e+03     2.735906e-04\n",
      " * time: 0.42292189598083496\n",
      "    10     9.919591e+03     1.894539e-05\n",
      " * time: 0.5174989700317383\n",
      "    11     9.919591e+03     3.937717e-05\n",
      " * time: 0.6144418716430664\n",
      "    12     9.919591e+03     3.942512e-05\n",
      " * time: 0.6210968494415283\n",
      "    13     9.919591e+03     3.458738e-05\n",
      " * time: 0.6236109733581543\n",
      "    14     9.919591e+03     7.551645e-05\n",
      " * time: 0.7158408164978027\n",
      " * Status: success\n",
      "\n",
      " * Candidate solution\n",
      "    Final objective value:     9.919591e+03\n",
      "\n",
      " * Found with\n",
      "    Algorithm:     L-BFGS\n",
      "\n",
      " * Convergence measures\n",
      "    |x - x'|               = 2.62e-09 ≤ 1.0e-08\n",
      "    |x - x'|/|x'|          = 1.36e-09 ≰ 0.0e+00\n",
      "    |f(x) - f(x')|         = 5.54e-05 ≰ 0.0e+00\n",
      "    |f(x) - f(x')|/|f(x')| = 5.58e-09 ≰ 0.0e+00\n",
      "    |g(x)|                 = 7.55e-05 ≰ 0.0e+00\n",
      "\n",
      " * Work counters\n",
      "    Seconds run:   1  (vs limit Inf)\n",
      "    Iterations:    14\n",
      "    f(x) calls:    68\n",
      "    ∇f(x) calls:   68\n",
      "\n",
      "Assembling potential.\n",
      "\n",
      "Creating basis for order 3, with per-correlation degrees [16, 12, 8] and no prior included.\n",
      "r0 = 1.286958464, rcut = 5.0.\n",
      "Basis for 16.12.8 created, with 106 basis functions.\n",
      "Assembling linear problem elements: A, Y, W for basis set: 16.12.8.\n"
     ]
    },
    {
     "name": "stderr",
     "output_type": "stream",
     "text": [
      "\u001b[36m\u001b[1m[ \u001b[22m\u001b[39m\u001b[36m\u001b[1mInfo: \u001b[22m\u001b[39mAssembling linear problem.\n",
      "\u001b[36m\u001b[1m[ \u001b[22m\u001b[39m\u001b[36m\u001b[1mInfo: \u001b[22m\u001b[39m  - Creating feature matrix with size (5476, 106).\n",
      "\u001b[36m\u001b[1m[ \u001b[22m\u001b[39m\u001b[36m\u001b[1mInfo: \u001b[22m\u001b[39m  - Beginning assembly with processor count:  1.\n",
      "\u001b[32mProgress: 100%|█████████████████████████████████████████| Time: 0:00:33\u001b[39m\n"
     ]
    },
    {
     "name": "stdout",
     "output_type": "stream",
     "text": [
      "Solving linear problem.\n",
      "Iter     Function value   Gradient norm \n",
      "     0     9.320388e+03     1.847546e+03\n",
      " * time: 0.00017213821411132812\n"
     ]
    },
    {
     "name": "stderr",
     "output_type": "stream",
     "text": [
      "\u001b[36m\u001b[1m[ \u001b[22m\u001b[39m\u001b[36m\u001b[1mInfo: \u001b[22m\u001b[39m  - Assembly completed.\n",
      "\u001b[36m\u001b[1m[ \u001b[22m\u001b[39m\u001b[36m\u001b[1mInfo: \u001b[22m\u001b[39mAssembling full weight vector.\n",
      "\u001b[33m\u001b[1m┌ \u001b[22m\u001b[39m\u001b[33m\u001b[1mWarning: \u001b[22m\u001b[39mx_tol is deprecated. Use x_abstol or x_reltol instead. The provided value (1.0e-8) will be used as x_abstol.\n",
      "\u001b[33m\u001b[1m└ \u001b[22m\u001b[39m\u001b[90m@ Optim ~/.julia/packages/Optim/8dE7C/src/types.jl:110\u001b[39m\n"
     ]
    },
    {
     "name": "stdout",
     "output_type": "stream",
     "text": [
      "     1     9.221434e+03     6.514496e+02\n",
      " * time: 0.20316410064697266\n",
      "     2     9.185284e+03     1.190660e+02\n",
      " * time: 0.20610904693603516\n",
      "     3     9.181592e+03     1.119533e+02\n",
      " * time: 0.29952502250671387\n",
      "     4     9.150839e+03     1.873185e+02\n",
      " * time: 0.3052811622619629\n",
      "     5     9.148357e+03     1.765600e+01\n",
      " * time: 0.3080329895019531\n",
      "     6     9.147638e+03     2.614479e+00\n",
      " * time: 0.5015621185302734\n",
      "     7     9.147635e+03     4.759169e-01\n",
      " * time: 0.5046119689941406\n",
      "     8     9.147635e+03     7.759911e-04\n",
      " * time: 0.508411169052124\n",
      "     9     9.147636e+03     1.095968e-04\n",
      " * time: 0.6024620532989502\n",
      "    10     9.147635e+03     2.667480e-04\n",
      " * time: 0.6994011402130127\n",
      "    11     9.147635e+03     3.677285e-05\n",
      " * time: 0.7032570838928223\n",
      "    12     9.147635e+03     1.685794e-04\n",
      " * time: 0.8032171726226807\n",
      "    13     9.147635e+03     1.685794e-04\n",
      " * time: 1.3065500259399414\n",
      " * Status: success\n",
      "\n",
      " * Candidate solution\n",
      "    Final objective value:     9.147635e+03\n",
      "\n",
      " * Found with\n",
      "    Algorithm:     L-BFGS\n",
      "\n",
      " * Convergence measures\n",
      "    |x - x'|               = 3.11e-15 ≤ 1.0e-08\n",
      "    |x - x'|/|x'|          = 1.52e-15 ≰ 0.0e+00\n",
      "    |f(x) - f(x')|         = 0.00e+00 ≤ 0.0e+00\n",
      "    |f(x) - f(x')|/|f(x')| = 0.00e+00 ≤ 0.0e+00\n",
      "    |g(x)|                 = 1.69e-04 ≰ 0.0e+00\n",
      "\n",
      " * Work counters\n",
      "    Seconds run:   1  (vs limit Inf)\n",
      "    Iterations:    13\n",
      "    f(x) calls:    112\n",
      "    ∇f(x) calls:   112\n",
      "\n",
      "Assembling potential.\n"
     ]
    }
   ],
   "source": [
    "for (i,label) in enumerate(basis_tags)\n",
    "    println(\"\\nCreating basis for order $(orders[i]), with per-correlation degrees $(degrees[i]) and no prior included.\")\n",
    "    println(\"r0 = $r0, rcut = $rcut.\")\n",
    "    basis = ACE1x.ace_basis(\n",
    "        elements = [:C],\n",
    "        order = orders[i],\n",
    "        totaldegree = degrees[i],\n",
    "        rcut = rcut,\n",
    "        r0 = r0,\n",
    "        pure = pureflag)\n",
    "    println(\"Basis for $label created, with $(length(basis)) basis functions.\")\n",
    "    println(\"Assembling linear problem elements: A, Y, W for basis set: $label.\")\n",
    "    A, Y, W = ACEfit.assemble(train_atoms, basis)\n",
    "    println(\"Solving linear problem.\")\n",
    "    solver = ACEfit.BLR(; verbose=true)\n",
    "    results = ACEfit.solve(solver, W .* A, W .* Y)\n",
    "    println(\"Assembling potential.\")\n",
    "    potlist[label*\",default\"] = JuLIP.MLIPs.SumIP(Vref, JuLIP.MLIPs.combine(basis, results[\"C\"]))\n",
    "end"
   ]
  },
  {
   "cell_type": "code",
   "execution_count": 14,
   "metadata": {},
   "outputs": [
    {
     "data": {
      "text/plain": [
       "Dict{Any, Any} with 8 entries:\n",
       "  \"16.12.8,default\" => SumIP{Any}(Any[OneBody{Float64}(Dict(:C=>-245.444)), Pol…\n",
       "  \"16.12.8,P=1\"     => SumIP{Any}(Any[OneBody{Float64}(Dict(:C=>-245.444)), Pol…\n",
       "  \"16.12.8,P=5\"     => SumIP{Any}(Any[OneBody{Float64}(Dict(:C=>-245.444)), Pol…\n",
       "  \"16.12,P=3\"       => SumIP{Any}(Any[OneBody{Float64}(Dict(:C=>-245.444)), Pol…\n",
       "  \"16.12,P=1\"       => SumIP{Any}(Any[OneBody{Float64}(Dict(:C=>-245.444)), Pol…\n",
       "  \"16.12,default\"   => SumIP{Any}(Any[OneBody{Float64}(Dict(:C=>-245.444)), Pol…\n",
       "  \"16.12,P=5\"       => SumIP{Any}(Any[OneBody{Float64}(Dict(:C=>-245.444)), Pol…\n",
       "  \"16.12.8,P=3\"     => SumIP{Any}(Any[OneBody{Float64}(Dict(:C=>-245.444)), Pol…"
      ]
     },
     "execution_count": 14,
     "metadata": {},
     "output_type": "execute_result"
    }
   ],
   "source": [
    "potlist"
   ]
  },
  {
   "cell_type": "code",
   "execution_count": 10,
   "metadata": {},
   "outputs": [],
   "source": [
    "using Plots, LaTeXStrings"
   ]
  },
  {
   "cell_type": "code",
   "execution_count": 20,
   "metadata": {},
   "outputs": [
    {
     "data": {
      "image/png": "[encoded data removed]",
      "image/svg+xml": [
       "<?xml version=\"1.0\" encoding=\"utf-8\"?>\n",
       "<svg xmlns=\"http://www.w3.org/2000/svg\" xmlns:xlink=\"http://www.w3.org/1999/xlink\" width=\"800\" height=\"450\" viewBox=\"0 0 3200 1800\">\n",
       "<defs>\n",
       "  <clipPath id=\"clip060\">\n",
       "    <rect x=\"0\" y=\"0\" width=\"3200\" height=\"1800\"/>\n",
       "  </clipPath>\n",
       "</defs>\n",
       "<path clip-path=\"url(#clip060)\" d=\"M0 1800 L3200 1800 L3200 0 L0 0  Z\" fill=\"#ffffff\" fill-rule=\"evenodd\" fill-opacity=\"1\"/>\n",
       "<defs>\n",
       "  <clipPath id=\"clip061\">\n",
       "    <rect x=\"640\" y=\"0\" width=\"2241\" height=\"1800\"/>\n",
       "  </clipPath>\n",
       "</defs>\n",
       "<path clip-path=\"url(#clip060)\" d=\"M242.71 1634 L3152.76 1634 L3152.76 47.2441 L242.71 47.2441  Z\" fill=\"#ffffff\" fill-rule=\"evenodd\" fill-opacity=\"1\"/>\n",
       "<defs>\n",
       "  <clipPath id=\"clip062\">\n",
       "    <rect x=\"242\" y=\"47\" width=\"2911\" height=\"1588\"/>\n",
       "  </clipPath>\n",
       "</defs>\n",
       "<polyline clip-path=\"url(#clip062)\" style=\"stroke:#000000; stroke-linecap:round; stroke-linejoin:round; stroke-width:2; stroke-opacity:0.1; fill:none\" points=\"336.582,1634 336.582,47.2441 \"/>\n",
       "<polyline clip-path=\"url(#clip062)\" style=\"stroke:#000000; stroke-linecap:round; stroke-linejoin:round; stroke-width:2; stroke-opacity:0.1; fill:none\" points=\"805.944,1634 805.944,47.2441 \"/>\n",
       "<polyline clip-path=\"url(#clip062)\" style=\"stroke:#000000; stroke-linecap:round; stroke-linejoin:round; stroke-width:2; stroke-opacity:0.1; fill:none\" points=\"1275.31,1634 1275.31,47.2441 \"/>\n",
       "<polyline clip-path=\"url(#clip062)\" style=\"stroke:#000000; stroke-linecap:round; stroke-linejoin:round; stroke-width:2; stroke-opacity:0.1; fill:none\" points=\"1744.67,1634 1744.67,47.2441 \"/>\n",
       "<polyline clip-path=\"url(#clip062)\" style=\"stroke:#000000; stroke-linecap:round; stroke-linejoin:round; stroke-width:2; stroke-opacity:0.1; fill:none\" points=\"2214.03,1634 2214.03,47.2441 \"/>\n",
       "<polyline clip-path=\"url(#clip062)\" style=\"stroke:#000000; stroke-linecap:round; stroke-linejoin:round; stroke-width:2; stroke-opacity:0.1; fill:none\" points=\"2683.39,1634 2683.39,47.2441 \"/>\n",
       "<polyline clip-path=\"url(#clip062)\" style=\"stroke:#000000; stroke-linecap:round; stroke-linejoin:round; stroke-width:2; stroke-opacity:0.1; fill:none\" points=\"3152.76,1634 3152.76,47.2441 \"/>\n",
       "<polyline clip-path=\"url(#clip062)\" style=\"stroke:#000000; stroke-linecap:round; stroke-linejoin:round; stroke-width:2; stroke-opacity:0.1; fill:none\" points=\"242.71,1489.75 3152.76,1489.75 \"/>\n",
       "<polyline clip-path=\"url(#clip062)\" style=\"stroke:#000000; stroke-linecap:round; stroke-linejoin:round; stroke-width:2; stroke-opacity:0.1; fill:none\" points=\"242.71,1129.13 3152.76,1129.13 \"/>\n",
       "<polyline clip-path=\"url(#clip062)\" style=\"stroke:#000000; stroke-linecap:round; stroke-linejoin:round; stroke-width:2; stroke-opacity:0.1; fill:none\" points=\"242.71,768.499 3152.76,768.499 \"/>\n",
       "<polyline clip-path=\"url(#clip062)\" style=\"stroke:#000000; stroke-linecap:round; stroke-linejoin:round; stroke-width:2; stroke-opacity:0.1; fill:none\" points=\"242.71,407.872 3152.76,407.872 \"/>\n",
       "<polyline clip-path=\"url(#clip062)\" style=\"stroke:#000000; stroke-linecap:round; stroke-linejoin:round; stroke-width:2; stroke-opacity:0.1; fill:none\" points=\"242.71,47.2441 3152.76,47.2441 \"/>\n",
       "<polyline clip-path=\"url(#clip060)\" style=\"stroke:#000000; stroke-linecap:round; stroke-linejoin:round; stroke-width:4; stroke-opacity:1; fill:none\" points=\"242.71,1634 3152.76,1634 \"/>\n",
       "<polyline clip-path=\"url(#clip060)\" style=\"stroke:#000000; stroke-linecap:round; stroke-linejoin:round; stroke-width:4; stroke-opacity:1; fill:none\" points=\"336.582,1634 336.582,1615.11 \"/>\n",
       "<polyline clip-path=\"url(#clip060)\" style=\"stroke:#000000; stroke-linecap:round; stroke-linejoin:round; stroke-width:4; stroke-opacity:1; fill:none\" points=\"805.944,1634 805.944,1615.11 \"/>\n",
       "<polyline clip-path=\"url(#clip060)\" style=\"stroke:#000000; stroke-linecap:round; stroke-linejoin:round; stroke-width:4; stroke-opacity:1; fill:none\" points=\"1275.31,1634 1275.31,1615.11 \"/>\n",
       "<polyline clip-path=\"url(#clip060)\" style=\"stroke:#000000; stroke-linecap:round; stroke-linejoin:round; stroke-width:4; stroke-opacity:1; fill:none\" points=\"1744.67,1634 1744.67,1615.11 \"/>\n",
       "<polyline clip-path=\"url(#clip060)\" style=\"stroke:#000000; stroke-linecap:round; stroke-linejoin:round; stroke-width:4; stroke-opacity:1; fill:none\" points=\"2214.03,1634 2214.03,1615.11 \"/>\n",
       "<polyline clip-path=\"url(#clip060)\" style=\"stroke:#000000; stroke-linecap:round; stroke-linejoin:round; stroke-width:4; stroke-opacity:1; fill:none\" points=\"2683.39,1634 2683.39,1615.11 \"/>\n",
       "<polyline clip-path=\"url(#clip060)\" style=\"stroke:#000000; stroke-linecap:round; stroke-linejoin:round; stroke-width:4; stroke-opacity:1; fill:none\" points=\"3152.76,1634 3152.76,1615.11 \"/>\n",
       "<path clip-path=\"url(#clip060)\" d=\"M326.964 1698.87 L334.603 1698.87 L334.603 1672.5 L326.293 1674.17 L326.293 1669.91 L334.557 1668.24 L339.233 1668.24 L339.233 1698.87 L346.871 1698.87 L346.871 1702.8 L326.964 1702.8 L326.964 1698.87 Z\" fill=\"#000000\" fill-rule=\"nonzero\" fill-opacity=\"1\" /><path clip-path=\"url(#clip060)\" d=\"M800.597 1698.87 L816.917 1698.87 L816.917 1702.8 L794.972 1702.8 L794.972 1698.87 Q797.634 1696.12 802.218 1691.49 Q806.824 1686.83 808.005 1685.49 Q810.25 1682.97 811.13 1681.23 Q812.032 1679.47 812.032 1677.78 Q812.032 1675.03 810.088 1673.29 Q808.167 1671.56 805.065 1671.56 Q802.866 1671.56 800.412 1672.32 Q797.982 1673.08 795.204 1674.63 L795.204 1669.91 Q798.028 1668.78 800.481 1668.2 Q802.935 1667.62 804.972 1667.62 Q810.343 1667.62 813.537 1670.31 Q816.731 1672.99 816.731 1677.48 Q816.731 1679.61 815.921 1681.53 Q815.134 1683.43 813.028 1686.02 Q812.449 1686.69 809.347 1689.91 Q806.245 1693.11 800.597 1698.87 Z\" fill=\"#000000\" fill-rule=\"nonzero\" fill-opacity=\"1\" /><path clip-path=\"url(#clip060)\" d=\"M1279.55 1684.17 Q1282.91 1684.89 1284.79 1687.16 Q1286.68 1689.43 1286.68 1692.76 Q1286.68 1697.87 1283.17 1700.68 Q1279.65 1703.48 1273.17 1703.48 Q1270.99 1703.48 1268.67 1703.04 Q1266.38 1702.62 1263.93 1701.76 L1263.93 1697.25 Q1265.87 1698.38 1268.19 1698.96 Q1270.5 1699.54 1273.03 1699.54 Q1277.42 1699.54 1279.72 1697.8 Q1282.03 1696.07 1282.03 1692.76 Q1282.03 1689.7 1279.88 1687.99 Q1277.75 1686.25 1273.93 1686.25 L1269.9 1686.25 L1269.9 1682.41 L1274.11 1682.41 Q1277.56 1682.41 1279.39 1681.05 Q1281.22 1679.66 1281.22 1677.06 Q1281.22 1674.4 1279.32 1672.99 Q1277.45 1671.56 1273.93 1671.56 Q1272.01 1671.56 1269.81 1671.97 Q1267.61 1672.39 1264.97 1673.27 L1264.97 1669.1 Q1267.63 1668.36 1269.95 1667.99 Q1272.29 1667.62 1274.35 1667.62 Q1279.67 1667.62 1282.77 1670.05 Q1285.87 1672.46 1285.87 1676.58 Q1285.87 1679.45 1284.23 1681.44 Q1282.59 1683.41 1279.55 1684.17 Z\" fill=\"#000000\" fill-rule=\"nonzero\" fill-opacity=\"1\" /><path clip-path=\"url(#clip060)\" d=\"M1747.68 1672.32 L1735.87 1690.77 L1747.68 1690.77 L1747.68 1672.32 M1746.45 1668.24 L1752.33 1668.24 L1752.33 1690.77 L1757.26 1690.77 L1757.26 1694.66 L1752.33 1694.66 L1752.33 1702.8 L1747.68 1702.8 L1747.68 1694.66 L1732.08 1694.66 L1732.08 1690.14 L1746.45 1668.24 Z\" fill=\"#000000\" fill-rule=\"nonzero\" fill-opacity=\"1\" /><path clip-path=\"url(#clip060)\" d=\"M2204.31 1668.24 L2222.67 1668.24 L2222.67 1672.18 L2208.59 1672.18 L2208.59 1680.65 Q2209.61 1680.3 2210.63 1680.14 Q2211.65 1679.96 2212.67 1679.96 Q2218.45 1679.96 2221.83 1683.13 Q2225.21 1686.3 2225.21 1691.72 Q2225.21 1697.3 2221.74 1700.4 Q2218.27 1703.48 2211.95 1703.48 Q2209.77 1703.48 2207.5 1703.11 Q2205.26 1702.74 2202.85 1701.99 L2202.85 1697.3 Q2204.93 1698.43 2207.16 1698.99 Q2209.38 1699.54 2211.86 1699.54 Q2215.86 1699.54 2218.2 1697.43 Q2220.54 1695.33 2220.54 1691.72 Q2220.54 1688.11 2218.2 1686 Q2215.86 1683.89 2211.86 1683.89 Q2209.98 1683.89 2208.11 1684.31 Q2206.25 1684.73 2204.31 1685.61 L2204.31 1668.24 Z\" fill=\"#000000\" fill-rule=\"nonzero\" fill-opacity=\"1\" /><path clip-path=\"url(#clip060)\" d=\"M2683.8 1683.66 Q2680.65 1683.66 2678.8 1685.81 Q2676.97 1687.97 2676.97 1691.72 Q2676.97 1695.44 2678.8 1697.62 Q2680.65 1699.77 2683.8 1699.77 Q2686.95 1699.77 2688.78 1697.62 Q2690.63 1695.44 2690.63 1691.72 Q2690.63 1687.97 2688.78 1685.81 Q2686.95 1683.66 2683.8 1683.66 M2693.08 1669.01 L2693.08 1673.27 Q2691.32 1672.43 2689.52 1671.99 Q2687.73 1671.56 2685.97 1671.56 Q2681.35 1671.56 2678.89 1674.68 Q2676.46 1677.8 2676.11 1684.12 Q2677.48 1682.11 2679.54 1681.05 Q2681.6 1679.96 2684.08 1679.96 Q2689.28 1679.96 2692.29 1683.13 Q2695.33 1686.28 2695.33 1691.72 Q2695.33 1697.04 2692.18 1700.26 Q2689.03 1703.48 2683.8 1703.48 Q2677.8 1703.48 2674.63 1698.89 Q2671.46 1694.29 2671.46 1685.56 Q2671.46 1677.37 2675.35 1672.5 Q2679.24 1667.62 2685.79 1667.62 Q2687.55 1667.62 2689.33 1667.97 Q2691.14 1668.31 2693.08 1669.01 Z\" fill=\"#000000\" fill-rule=\"nonzero\" fill-opacity=\"1\" /><path clip-path=\"url(#clip060)\" d=\"M3141.64 1668.24 L3163.87 1668.24 L3163.87 1670.24 L3151.32 1702.8 L3146.44 1702.8 L3158.24 1672.18 L3141.64 1672.18 L3141.64 1668.24 Z\" fill=\"#000000\" fill-rule=\"nonzero\" fill-opacity=\"1\" /><path clip-path=\"url(#clip060)\" d=\"M1564.75 1749.68 L1556.03 1773.33 L1573.51 1773.33 L1564.75 1749.68 M1561.12 1743.35 L1568.41 1743.35 L1586.52 1790.87 L1579.84 1790.87 L1575.51 1778.68 L1554.09 1778.68 L1549.76 1790.87 L1542.98 1790.87 L1561.12 1743.35 Z\" fill=\"#000000\" fill-rule=\"nonzero\" fill-opacity=\"1\" /><path clip-path=\"url(#clip060)\" d=\"M1622.84 1769.35 L1622.84 1790.87 L1616.98 1790.87 L1616.98 1769.54 Q1616.98 1764.48 1615.01 1761.97 Q1613.04 1759.45 1609.09 1759.45 Q1604.35 1759.45 1601.61 1762.48 Q1598.87 1765.5 1598.87 1770.72 L1598.87 1790.87 L1592.99 1790.87 L1592.99 1755.22 L1598.87 1755.22 L1598.87 1760.76 Q1600.97 1757.54 1603.81 1755.95 Q1606.67 1754.36 1610.4 1754.36 Q1616.54 1754.36 1619.69 1758.18 Q1622.84 1761.97 1622.84 1769.35 Z\" fill=\"#000000\" fill-rule=\"nonzero\" fill-opacity=\"1\" /><path clip-path=\"url(#clip060)\" d=\"M1657.98 1772.63 Q1657.98 1766.27 1655.34 1762.76 Q1652.73 1759.26 1647.98 1759.26 Q1643.27 1759.26 1640.63 1762.76 Q1638.02 1766.27 1638.02 1772.63 Q1638.02 1778.96 1640.63 1782.47 Q1643.27 1785.97 1647.98 1785.97 Q1652.73 1785.97 1655.34 1782.47 Q1657.98 1778.96 1657.98 1772.63 M1663.84 1786.44 Q1663.84 1795.55 1659.79 1799.97 Q1655.75 1804.43 1647.41 1804.43 Q1644.32 1804.43 1641.59 1803.95 Q1638.85 1803.5 1636.27 1802.55 L1636.27 1796.85 Q1638.85 1798.25 1641.36 1798.92 Q1643.88 1799.59 1646.49 1799.59 Q1652.25 1799.59 1655.11 1796.57 Q1657.98 1793.57 1657.98 1787.5 L1657.98 1784.6 Q1656.16 1787.75 1653.33 1789.31 Q1650.5 1790.87 1646.55 1790.87 Q1640 1790.87 1635.99 1785.87 Q1631.98 1780.87 1631.98 1772.63 Q1631.98 1764.36 1635.99 1759.36 Q1640 1754.36 1646.55 1754.36 Q1650.5 1754.36 1653.33 1755.92 Q1656.16 1757.48 1657.98 1760.63 L1657.98 1755.22 L1663.84 1755.22 L1663.84 1786.44 Z\" fill=\"#000000\" fill-rule=\"nonzero\" fill-opacity=\"1\" /><path clip-path=\"url(#clip060)\" d=\"M1698.62 1756.27 L1698.62 1761.81 Q1696.14 1760.54 1693.47 1759.9 Q1690.79 1759.26 1687.93 1759.26 Q1683.57 1759.26 1681.37 1760.6 Q1679.21 1761.94 1679.21 1764.61 Q1679.21 1766.65 1680.77 1767.82 Q1682.33 1768.97 1687.04 1770.02 L1689.04 1770.47 Q1695.28 1771.8 1697.89 1774.25 Q1700.53 1776.67 1700.53 1781.03 Q1700.53 1786 1696.59 1788.9 Q1692.67 1791.79 1685.8 1791.79 Q1682.93 1791.79 1679.81 1791.22 Q1676.73 1790.68 1673.29 1789.56 L1673.29 1783.52 Q1676.53 1785.2 1679.69 1786.06 Q1682.84 1786.89 1685.92 1786.89 Q1690.06 1786.89 1692.29 1785.49 Q1694.52 1784.06 1694.52 1781.48 Q1694.52 1779.09 1692.89 1777.82 Q1691.3 1776.55 1685.86 1775.37 L1683.82 1774.89 Q1678.38 1773.75 1675.96 1771.39 Q1673.54 1769 1673.54 1764.86 Q1673.54 1759.84 1677.11 1757.1 Q1680.67 1754.36 1687.23 1754.36 Q1690.48 1754.36 1693.34 1754.84 Q1696.21 1755.32 1698.62 1756.27 Z\" fill=\"#000000\" fill-rule=\"nonzero\" fill-opacity=\"1\" /><path clip-path=\"url(#clip060)\" d=\"M1715.65 1745.1 L1715.65 1755.22 L1727.72 1755.22 L1727.72 1759.77 L1715.65 1759.77 L1715.65 1779.12 Q1715.65 1783.48 1716.83 1784.73 Q1718.04 1785.97 1721.7 1785.97 L1727.72 1785.97 L1727.72 1790.87 L1721.7 1790.87 Q1714.92 1790.87 1712.34 1788.35 Q1709.76 1785.81 1709.76 1779.12 L1709.76 1759.77 L1705.47 1759.77 L1705.47 1755.22 L1709.76 1755.22 L1709.76 1745.1 L1715.65 1745.1 Z\" fill=\"#000000\" fill-rule=\"nonzero\" fill-opacity=\"1\" /><path clip-path=\"url(#clip060)\" d=\"M1756.07 1760.7 Q1755.09 1760.12 1753.91 1759.87 Q1752.76 1759.58 1751.36 1759.58 Q1746.4 1759.58 1743.73 1762.83 Q1741.08 1766.04 1741.08 1772.09 L1741.08 1790.87 L1735.19 1790.87 L1735.19 1755.22 L1741.08 1755.22 L1741.08 1760.76 Q1742.93 1757.51 1745.89 1755.95 Q1748.85 1754.36 1753.08 1754.36 Q1753.69 1754.36 1754.42 1754.46 Q1755.15 1754.52 1756.04 1754.68 L1756.07 1760.7 Z\" fill=\"#000000\" fill-rule=\"nonzero\" fill-opacity=\"1\" /><path clip-path=\"url(#clip060)\" d=\"M1774.6 1759.33 Q1769.89 1759.33 1767.15 1763.02 Q1764.41 1766.68 1764.41 1773.08 Q1764.41 1779.47 1767.12 1783.17 Q1769.86 1786.83 1774.6 1786.83 Q1779.28 1786.83 1782.01 1783.13 Q1784.75 1779.44 1784.75 1773.08 Q1784.75 1766.74 1782.01 1763.05 Q1779.28 1759.33 1774.6 1759.33 M1774.6 1754.36 Q1782.24 1754.36 1786.6 1759.33 Q1790.96 1764.29 1790.96 1773.08 Q1790.96 1781.83 1786.6 1786.83 Q1782.24 1791.79 1774.6 1791.79 Q1766.93 1791.79 1762.57 1786.83 Q1758.24 1781.83 1758.24 1773.08 Q1758.24 1764.29 1762.57 1759.33 Q1766.93 1754.36 1774.6 1754.36 Z\" fill=\"#000000\" fill-rule=\"nonzero\" fill-opacity=\"1\" /><path clip-path=\"url(#clip060)\" d=\"M1828.42 1762.06 Q1830.62 1758.12 1833.67 1756.24 Q1836.73 1754.36 1840.87 1754.36 Q1846.44 1754.36 1849.46 1758.28 Q1852.48 1762.16 1852.48 1769.35 L1852.48 1790.87 L1846.59 1790.87 L1846.59 1769.54 Q1846.59 1764.42 1844.78 1761.94 Q1842.97 1759.45 1839.24 1759.45 Q1834.69 1759.45 1832.05 1762.48 Q1829.41 1765.5 1829.41 1770.72 L1829.41 1790.87 L1823.52 1790.87 L1823.52 1769.54 Q1823.52 1764.39 1821.7 1761.94 Q1819.89 1759.45 1816.1 1759.45 Q1811.62 1759.45 1808.97 1762.51 Q1806.33 1765.53 1806.33 1770.72 L1806.33 1790.87 L1800.44 1790.87 L1800.44 1755.22 L1806.33 1755.22 L1806.33 1760.76 Q1808.34 1757.48 1811.14 1755.92 Q1813.94 1754.36 1817.79 1754.36 Q1821.67 1754.36 1824.38 1756.33 Q1827.12 1758.31 1828.42 1762.06 Z\" fill=\"#000000\" fill-rule=\"nonzero\" fill-opacity=\"1\" /><polyline clip-path=\"url(#clip060)\" style=\"stroke:#000000; stroke-linecap:round; stroke-linejoin:round; stroke-width:4; stroke-opacity:1; fill:none\" points=\"242.71,1634 242.71,47.2441 \"/>\n",
       "<polyline clip-path=\"url(#clip060)\" style=\"stroke:#000000; stroke-linecap:round; stroke-linejoin:round; stroke-width:4; stroke-opacity:1; fill:none\" points=\"242.71,1489.75 261.607,1489.75 \"/>\n",
       "<polyline clip-path=\"url(#clip060)\" style=\"stroke:#000000; stroke-linecap:round; stroke-linejoin:round; stroke-width:4; stroke-opacity:1; fill:none\" points=\"242.71,1129.13 261.607,1129.13 \"/>\n",
       "<polyline clip-path=\"url(#clip060)\" style=\"stroke:#000000; stroke-linecap:round; stroke-linejoin:round; stroke-width:4; stroke-opacity:1; fill:none\" points=\"242.71,768.499 261.607,768.499 \"/>\n",
       "<polyline clip-path=\"url(#clip060)\" style=\"stroke:#000000; stroke-linecap:round; stroke-linejoin:round; stroke-width:4; stroke-opacity:1; fill:none\" points=\"242.71,407.872 261.607,407.872 \"/>\n",
       "<polyline clip-path=\"url(#clip060)\" style=\"stroke:#000000; stroke-linecap:round; stroke-linejoin:round; stroke-width:4; stroke-opacity:1; fill:none\" points=\"242.71,47.2441 261.607,47.2441 \"/>\n",
       "<path clip-path=\"url(#clip060)\" d=\"M102.835 1490.21 L132.511 1490.21 L132.511 1494.14 L102.835 1494.14 L102.835 1490.21 Z\" fill=\"#000000\" fill-rule=\"nonzero\" fill-opacity=\"1\" /><path clip-path=\"url(#clip060)\" d=\"M143.414 1503.1 L151.052 1503.1 L151.052 1476.73 L142.742 1478.4 L142.742 1474.14 L151.006 1472.47 L155.682 1472.47 L155.682 1503.1 L163.321 1503.1 L163.321 1507.03 L143.414 1507.03 L143.414 1503.1 Z\" fill=\"#000000\" fill-rule=\"nonzero\" fill-opacity=\"1\" /><path clip-path=\"url(#clip060)\" d=\"M182.765 1475.55 Q179.154 1475.55 177.325 1479.12 Q175.52 1482.66 175.52 1489.79 Q175.52 1496.9 177.325 1500.46 Q179.154 1504 182.765 1504 Q186.4 1504 188.205 1500.46 Q190.034 1496.9 190.034 1489.79 Q190.034 1482.66 188.205 1479.12 Q186.4 1475.55 182.765 1475.55 M182.765 1471.85 Q188.575 1471.85 191.631 1476.46 Q194.71 1481.04 194.71 1489.79 Q194.71 1498.52 191.631 1503.12 Q188.575 1507.71 182.765 1507.71 Q176.955 1507.71 173.876 1503.12 Q170.821 1498.52 170.821 1489.79 Q170.821 1481.04 173.876 1476.46 Q176.955 1471.85 182.765 1471.85 Z\" fill=\"#000000\" fill-rule=\"nonzero\" fill-opacity=\"1\" /><path clip-path=\"url(#clip060)\" d=\"M133.992 1129.58 L163.668 1129.58 L163.668 1133.51 L133.992 1133.51 L133.992 1129.58 Z\" fill=\"#000000\" fill-rule=\"nonzero\" fill-opacity=\"1\" /><path clip-path=\"url(#clip060)\" d=\"M173.807 1111.85 L192.163 1111.85 L192.163 1115.78 L178.089 1115.78 L178.089 1124.25 Q179.108 1123.91 180.126 1123.74 Q181.145 1123.56 182.163 1123.56 Q187.95 1123.56 191.33 1126.73 Q194.71 1129.9 194.71 1135.32 Q194.71 1140.9 191.237 1144 Q187.765 1147.08 181.446 1147.08 Q179.27 1147.08 177.001 1146.71 Q174.756 1146.34 172.349 1145.6 L172.349 1140.9 Q174.432 1142.03 176.654 1142.59 Q178.876 1143.14 181.353 1143.14 Q185.358 1143.14 187.696 1141.04 Q190.034 1138.93 190.034 1135.32 Q190.034 1131.71 187.696 1129.6 Q185.358 1127.49 181.353 1127.49 Q179.478 1127.49 177.603 1127.91 Q175.751 1128.33 173.807 1129.21 L173.807 1111.85 Z\" fill=\"#000000\" fill-rule=\"nonzero\" fill-opacity=\"1\" /><path clip-path=\"url(#clip060)\" d=\"M182.765 754.298 Q179.154 754.298 177.325 757.862 Q175.52 761.404 175.52 768.534 Q175.52 775.64 177.325 779.205 Q179.154 782.747 182.765 782.747 Q186.4 782.747 188.205 779.205 Q190.034 775.64 190.034 768.534 Q190.034 761.404 188.205 757.862 Q186.4 754.298 182.765 754.298 M182.765 750.594 Q188.575 750.594 191.631 755.2 Q194.71 759.784 194.71 768.534 Q194.71 777.261 191.631 781.867 Q188.575 786.45 182.765 786.45 Q176.955 786.45 173.876 781.867 Q170.821 777.261 170.821 768.534 Q170.821 759.784 173.876 755.2 Q176.955 750.594 182.765 750.594 Z\" fill=\"#000000\" fill-rule=\"nonzero\" fill-opacity=\"1\" /><path clip-path=\"url(#clip060)\" d=\"M173.807 390.592 L192.163 390.592 L192.163 394.527 L178.089 394.527 L178.089 402.999 Q179.108 402.652 180.126 402.49 Q181.145 402.304 182.163 402.304 Q187.95 402.304 191.33 405.476 Q194.71 408.647 194.71 414.064 Q194.71 419.642 191.237 422.744 Q187.765 425.823 181.446 425.823 Q179.27 425.823 177.001 425.452 Q174.756 425.082 172.349 424.341 L172.349 419.642 Q174.432 420.777 176.654 421.332 Q178.876 421.888 181.353 421.888 Q185.358 421.888 187.696 419.781 Q190.034 417.675 190.034 414.064 Q190.034 410.453 187.696 408.346 Q185.358 406.24 181.353 406.24 Q179.478 406.24 177.603 406.656 Q175.751 407.073 173.807 407.953 L173.807 390.592 Z\" fill=\"#000000\" fill-rule=\"nonzero\" fill-opacity=\"1\" /><path clip-path=\"url(#clip060)\" d=\"M143.414 60.5889 L151.052 60.5889 L151.052 34.2233 L142.742 35.89 L142.742 31.6308 L151.006 29.9641 L155.682 29.9641 L155.682 60.5889 L163.321 60.5889 L163.321 64.5241 L143.414 64.5241 L143.414 60.5889 Z\" fill=\"#000000\" fill-rule=\"nonzero\" fill-opacity=\"1\" /><path clip-path=\"url(#clip060)\" d=\"M182.765 33.0428 Q179.154 33.0428 177.325 36.6076 Q175.52 40.1492 175.52 47.2788 Q175.52 54.3853 177.325 57.9501 Q179.154 61.4917 182.765 61.4917 Q186.4 61.4917 188.205 57.9501 Q190.034 54.3853 190.034 47.2788 Q190.034 40.1492 188.205 36.6076 Q186.4 33.0428 182.765 33.0428 M182.765 29.3391 Q188.575 29.3391 191.631 33.9456 Q194.71 38.5289 194.71 47.2788 Q194.71 56.0056 191.631 60.6121 Q188.575 65.1954 182.765 65.1954 Q176.955 65.1954 173.876 60.6121 Q170.821 56.0056 170.821 47.2788 Q170.821 38.5289 173.876 33.9456 Q176.955 29.3391 182.765 29.3391 Z\" fill=\"#000000\" fill-rule=\"nonzero\" fill-opacity=\"1\" /><path clip-path=\"url(#clip060)\" d=\"M-6.94084 933.357 L-6.94084 903.311 L-1.52999 903.311 L-1.52999 926.928 L12.5382 926.928 L12.5382 904.297 L17.9491 904.297 L17.9491 926.928 L35.1683 926.928 L35.1683 902.738 L40.5792 902.738 L40.5792 933.357 L-6.94084 933.357 Z\" fill=\"#000000\" fill-rule=\"nonzero\" fill-opacity=\"1\" /><path clip-path=\"url(#clip060)\" d=\"M-8.94604 872.246 L-8.94604 858.751 L-4.39456 858.751 L-4.39456 866.39 L44.6214 866.39 L44.6214 858.751 L49.1729 858.751 L49.1729 872.246 L-8.94604 872.246 Z\" fill=\"#000000\" fill-rule=\"nonzero\" fill-opacity=\"1\" /><path clip-path=\"url(#clip060)\" d=\"M21.2911 815.782 L24.1556 815.782 L24.1556 842.709 Q30.2031 842.327 33.3859 839.081 Q36.5369 835.802 36.5369 829.978 Q36.5369 826.604 35.7094 823.453 Q34.8819 820.27 33.2268 817.151 L38.7649 817.151 Q40.1017 820.302 40.802 823.612 Q41.5022 826.922 41.5022 830.328 Q41.5022 838.858 36.5369 843.855 Q31.5717 848.82 23.1053 848.82 Q14.3524 848.82 9.22805 844.11 Q4.07183 839.367 4.07183 831.346 Q4.07183 824.153 8.7188 819.984 Q13.3339 815.782 21.2911 815.782 M19.5723 821.639 Q14.7662 821.702 11.9016 824.344 Q9.03708 826.954 9.03708 831.283 Q9.03708 836.184 11.8062 839.144 Q14.5752 842.073 19.6042 842.518 L19.5723 821.639 Z\" fill=\"#000000\" fill-rule=\"nonzero\" fill-opacity=\"1\" /><path clip-path=\"url(#clip060)\" d=\"M40.5792 793.661 L-6.94084 811.804 L-6.94084 805.088 L33.0676 790.033 L-6.94084 774.946 L-6.94084 768.262 L40.5792 786.373 L40.5792 793.661 Z\" fill=\"#000000\" fill-rule=\"nonzero\" fill-opacity=\"1\" /><path clip-path=\"url(#clip060)\" d=\"M-8.94604 747.892 L49.1729 747.892 L49.1729 761.387 L44.6214 761.387 L44.6214 753.78 L-4.39456 753.78 L-4.39456 761.387 L-8.94604 761.387 L-8.94604 747.892 Z\" fill=\"#000000\" fill-rule=\"nonzero\" fill-opacity=\"1\" /><polyline clip-path=\"url(#clip062)\" style=\"stroke:#009af9; stroke-linecap:round; stroke-linejoin:round; stroke-width:8; stroke-opacity:1; fill:none\" points=\"115.596,-46525.8 130.858,-21938.8 146.12,-2394.41 161.382,10747.8 176.644,17381 191.906,18359.6 207.168,15142 222.43,9428.91 237.692,2850.55 252.955,-3259.44 268.217,-7989.2 283.479,-10877 298.741,-11863 314.003,-11191.6 329.265,-9293.46 344.527,-6670.91 359.789,-3804.19 375.051,-1086.97 390.314,1207.21 405.576,2931.25 420.838,4050.73 436.1,4617.77 451.362,4740.19 466.624,4551.52 481.886,4186.09 497.148,3761.04 512.41,3365.63 527.673,3057.27 542.935,2862.75 558.197,2783 573.459,2799.83 588.721,2883.18 603.983,2997.92 619.245,3109.52 634.507,3188.16 649.769,3211.4 665.032,3165.35 680.294,3044.66 695.556,2851.68 710.818,2595.05 726.08,2287.9 741.342,1946.15 756.604,1586.78 771.866,1226.43 787.129,880.255 802.391,561.139 817.653,279.174 832.915,41.4695 848.177,-147.829 863.439,-287.325 878.701,-378.035 893.963,-422.965 909.225,-426.656 924.488,-394.722 939.75,-333.421 955.012,-249.262 970.274,-148.678 985.536,-37.7581 1000.8,77.955 1016.06,193.606 1031.32,305.11 1046.58,409.189 1061.85,503.368 1077.11,585.933 1092.37,655.87 1107.63,712.786 1122.89,756.82 1138.16,788.547 1153.42,808.885 1168.68,819.005 1183.94,820.247 1199.21,814.047 1214.47,801.872 1229.73,785.161 1244.99,765.287 1260.25,743.52 1275.52,720.999 1290.78,698.721 1306.04,677.527 1321.3,658.103 1336.56,640.979 1351.83,626.539 1367.09,615.032 1382.35,606.58 1397.61,601.197 1412.88,598.803 1428.14,599.24 1443.4,602.287 1458.66,607.675 1473.92,615.103 1489.19,624.249 1504.45,634.782 1519.71,646.373 1534.97,658.705 1550.23,671.477 1565.5,684.415 1580.76,697.27 1596.02,709.826 1611.28,721.901 1626.54,733.346 1641.81,744.046 1657.07,753.917 1672.33,762.907 1687.59,770.99 1702.86,778.164 1718.12,784.449 1733.38,789.88 1748.64,794.506 1763.9,798.384 1779.17,801.576 1794.43,804.147 1809.69,806.159 1824.95,807.671 1840.21,808.734 1855.48,809.394 1870.74,809.684 1886,809.632 1901.26,809.255 1916.52,808.563 1931.79,807.561 1947.05,806.248 1962.31,804.625 1977.57,802.694 1992.84,800.461 2008.1,797.942 2023.36,795.164 2038.62,792.171 2053.88,789.018 2069.15,785.78 2084.41,782.549 2099.67,779.427 2114.93,776.528 2130.19,773.964 2145.46,771.839 2160.72,770.232 2175.98,769.178 2191.24,768.645 2206.5,768.501 2221.77,768.499 2237.03,768.499 2252.29,768.499 2267.55,768.499 2282.82,768.499 2298.08,768.499 2313.34,768.499 2328.6,768.499 2343.86,768.499 2359.13,768.499 2374.39,768.499 2389.65,768.499 2404.91,768.499 2420.17,768.499 2435.44,768.499 2450.7,768.499 2465.96,768.499 2481.22,768.499 2496.49,768.499 2511.75,768.499 2527.01,768.499 2542.27,768.499 2557.53,768.499 2572.8,768.499 2588.06,768.499 2603.32,768.499 2618.58,768.499 2633.84,768.499 2649.11,768.499 2664.37,768.499 2679.63,768.499 2694.89,768.499 2710.15,768.499 2725.42,768.499 2740.68,768.499 2755.94,768.499 2771.2,768.499 2786.47,768.499 2801.73,768.499 2816.99,768.499 2832.25,768.499 2847.51,768.499 2862.78,768.499 2878.04,768.499 2893.3,768.499 2908.56,768.499 2923.82,768.499 2939.09,768.499 2954.35,768.499 2969.61,768.499 2984.87,768.499 3000.13,768.499 3015.4,768.499 3030.66,768.499 3045.92,768.499 3061.18,768.499 3076.45,768.499 3091.71,768.499 3106.97,768.499 3122.23,768.499 3137.49,768.499 3152.76,768.499 \"/>\n",
       "<polyline clip-path=\"url(#clip062)\" style=\"stroke:#e26f46; stroke-linecap:round; stroke-linejoin:round; stroke-width:8; stroke-opacity:1; fill:none\" points=\"115.596,-5596.35 130.858,-3542.99 146.12,-1729.94 161.382,-334.945 176.644,577.139 191.906,1031.39 207.168,1114.1 222.43,943.017 237.692,640.805 252.955,314.904 268.217,45.1672 283.479,-120.817 298.741,-166.051 314.003,-98.1359 329.265,58.8584 344.527,272.757 359.789,510.479 375.051,743.277 390.314,949.791 405.576,1117.1 420.838,1240.18 436.1,1320.45 451.362,1363.71 466.624,1378.15 481.886,1372.58 497.148,1355.12 512.41,1332.31 527.673,1308.8 542.935,1287.29 558.197,1268.78 573.459,1252.96 588.721,1238.71 603.983,1224.47 619.245,1208.64 634.507,1189.84 649.769,1167.12 665.032,1139.99 680.294,1108.47 695.556,1073.02 710.818,1034.45 726.08,993.817 741.342,952.306 756.604,911.133 771.866,871.448 787.129,834.267 802.391,800.428 817.653,770.556 832.915,745.062 848.177,724.143 863.439,707.802 878.701,695.874 893.963,688.059 909.225,683.952 924.488,683.078 939.75,684.92 955.012,688.95 970.274,694.649 985.536,701.526 1000.8,709.133 1016.06,717.074 1031.32,725.012 1046.58,732.669 1061.85,739.827 1077.11,746.326 1092.37,752.057 1107.63,756.962 1122.89,761.019 1138.16,764.244 1153.42,766.68 1168.68,768.389 1183.94,769.452 1199.21,769.956 1214.47,769.995 1229.73,769.665 1244.99,769.059 1260.25,768.262 1275.52,767.357 1290.78,766.415 1306.04,765.498 1321.3,764.657 1336.56,763.935 1351.83,763.364 1367.09,762.966 1382.35,762.754 1397.61,762.734 1412.88,762.904 1428.14,763.256 1443.4,763.778 1458.66,764.453 1473.92,765.261 1489.19,766.18 1504.45,767.186 1519.71,768.256 1534.97,769.366 1550.23,770.494 1565.5,771.618 1580.76,772.718 1596.02,773.777 1611.28,774.781 1626.54,775.715 1641.81,776.57 1657.07,777.337 1672.33,778.012 1687.59,778.591 1702.86,779.072 1718.12,779.456 1733.38,779.746 1748.64,779.944 1763.9,780.055 1779.17,780.084 1794.43,780.036 1809.69,779.916 1824.95,779.731 1840.21,779.485 1855.48,779.184 1870.74,778.831 1886,778.432 1901.26,777.99 1916.52,777.508 1931.79,776.991 1947.05,776.44 1962.31,775.86 1977.57,775.254 1992.84,774.628 2008.1,773.986 2023.36,773.336 2038.62,772.686 2053.88,772.045 2069.15,771.424 2084.41,770.834 2099.67,770.289 2114.93,769.801 2130.19,769.382 2145.46,769.042 2160.72,768.787 2175.98,768.619 2191.24,768.53 2206.5,768.501 2221.77,768.499 2237.03,768.499 2252.29,768.499 2267.55,768.499 2282.82,768.499 2298.08,768.499 2313.34,768.499 2328.6,768.499 2343.86,768.499 2359.13,768.499 2374.39,768.499 2389.65,768.499 2404.91,768.499 2420.17,768.499 2435.44,768.499 2450.7,768.499 2465.96,768.499 2481.22,768.499 2496.49,768.499 2511.75,768.499 2527.01,768.499 2542.27,768.499 2557.53,768.499 2572.8,768.499 2588.06,768.499 2603.32,768.499 2618.58,768.499 2633.84,768.499 2649.11,768.499 2664.37,768.499 2679.63,768.499 2694.89,768.499 2710.15,768.499 2725.42,768.499 2740.68,768.499 2755.94,768.499 2771.2,768.499 2786.47,768.499 2801.73,768.499 2816.99,768.499 2832.25,768.499 2847.51,768.499 2862.78,768.499 2878.04,768.499 2893.3,768.499 2908.56,768.499 2923.82,768.499 2939.09,768.499 2954.35,768.499 2969.61,768.499 2984.87,768.499 3000.13,768.499 3015.4,768.499 3030.66,768.499 3045.92,768.499 3061.18,768.499 3076.45,768.499 3091.71,768.499 3106.97,768.499 3122.23,768.499 3137.49,768.499 3152.76,768.499 \"/>\n",
       "<path clip-path=\"url(#clip060)\" d=\"M2453.5 255.656 L3055.75 255.656 L3055.75 100.136 L2453.5 100.136  Z\" fill=\"#ffffff\" fill-rule=\"evenodd\" fill-opacity=\"1\"/>\n",
       "<polyline clip-path=\"url(#clip060)\" style=\"stroke:#000000; stroke-linecap:round; stroke-linejoin:round; stroke-width:4; stroke-opacity:1; fill:none\" points=\"2453.5,255.656 3055.75,255.656 3055.75,100.136 2453.5,100.136 2453.5,255.656 \"/>\n",
       "<polyline clip-path=\"url(#clip060)\" style=\"stroke:#009af9; stroke-linecap:round; stroke-linejoin:round; stroke-width:8; stroke-opacity:1; fill:none\" points=\"2485.84,151.976 2679.84,151.976 \"/>\n",
       "<path clip-path=\"url(#clip060)\" d=\"M2712.84 165.321 L2720.48 165.321 L2720.48 138.955 L2712.17 140.622 L2712.17 136.363 L2720.44 134.696 L2725.11 134.696 L2725.11 165.321 L2732.75 165.321 L2732.75 169.256 L2712.84 169.256 L2712.84 165.321 Z\" fill=\"#000000\" fill-rule=\"nonzero\" fill-opacity=\"1\" /><path clip-path=\"url(#clip060)\" d=\"M2752.77 150.113 Q2749.63 150.113 2747.77 152.265 Q2745.95 154.418 2745.95 158.168 Q2745.95 161.895 2747.77 164.071 Q2749.63 166.224 2752.77 166.224 Q2755.92 166.224 2757.75 164.071 Q2759.6 161.895 2759.6 158.168 Q2759.6 154.418 2757.75 152.265 Q2755.92 150.113 2752.77 150.113 M2762.06 135.46 L2762.06 139.719 Q2760.3 138.886 2758.49 138.446 Q2756.71 138.006 2754.95 138.006 Q2750.32 138.006 2747.87 141.131 Q2745.44 144.256 2745.09 150.576 Q2746.45 148.562 2748.51 147.497 Q2750.57 146.409 2753.05 146.409 Q2758.26 146.409 2761.27 149.58 Q2764.3 152.728 2764.3 158.168 Q2764.3 163.492 2761.15 166.71 Q2758.01 169.927 2752.77 169.927 Q2746.78 169.927 2743.61 165.344 Q2740.44 160.738 2740.44 152.011 Q2740.44 143.816 2744.32 138.955 Q2748.21 134.071 2754.76 134.071 Q2756.52 134.071 2758.31 134.418 Q2760.11 134.766 2762.06 135.46 Z\" fill=\"#000000\" fill-rule=\"nonzero\" fill-opacity=\"1\" /><path clip-path=\"url(#clip060)\" d=\"M2772.36 163.377 L2777.24 163.377 L2777.24 169.256 L2772.36 169.256 L2772.36 163.377 Z\" fill=\"#000000\" fill-rule=\"nonzero\" fill-opacity=\"1\" /><path clip-path=\"url(#clip060)\" d=\"M2788.24 165.321 L2795.88 165.321 L2795.88 138.955 L2787.57 140.622 L2787.57 136.363 L2795.83 134.696 L2800.51 134.696 L2800.51 165.321 L2808.14 165.321 L2808.14 169.256 L2788.24 169.256 L2788.24 165.321 Z\" fill=\"#000000\" fill-rule=\"nonzero\" fill-opacity=\"1\" /><path clip-path=\"url(#clip060)\" d=\"M2821.62 165.321 L2837.94 165.321 L2837.94 169.256 L2815.99 169.256 L2815.99 165.321 Q2818.65 162.566 2823.24 157.937 Q2827.84 153.284 2829.02 151.941 Q2831.27 149.418 2832.15 147.682 Q2833.05 145.923 2833.05 144.233 Q2833.05 141.478 2831.11 139.742 Q2829.19 138.006 2826.08 138.006 Q2823.88 138.006 2821.43 138.77 Q2819 139.534 2816.22 141.085 L2816.22 136.363 Q2819.05 135.229 2821.5 134.65 Q2823.95 134.071 2825.99 134.071 Q2831.36 134.071 2834.56 136.756 Q2837.75 139.441 2837.75 143.932 Q2837.75 146.062 2836.94 147.983 Q2836.15 149.881 2834.05 152.474 Q2833.47 153.145 2830.37 156.363 Q2827.26 159.557 2821.62 165.321 Z\" fill=\"#000000\" fill-rule=\"nonzero\" fill-opacity=\"1\" /><path clip-path=\"url(#clip060)\" d=\"M2848.24 163.377 L2853.12 163.377 L2853.12 167.358 L2849.32 174.765 L2846.34 174.765 L2848.24 167.358 L2848.24 163.377 Z\" fill=\"#000000\" fill-rule=\"nonzero\" fill-opacity=\"1\" /><path clip-path=\"url(#clip060)\" d=\"M2867.08 138.539 L2867.08 151.525 L2872.96 151.525 Q2876.22 151.525 2878 149.835 Q2879.79 148.145 2879.79 145.02 Q2879.79 141.918 2878 140.228 Q2876.22 138.539 2872.96 138.539 L2867.08 138.539 M2862.4 134.696 L2872.96 134.696 Q2878.77 134.696 2881.73 137.335 Q2884.72 139.951 2884.72 145.02 Q2884.72 150.136 2881.73 152.752 Q2878.77 155.367 2872.96 155.367 L2867.08 155.367 L2867.08 169.256 L2862.4 169.256 L2862.4 134.696 Z\" fill=\"#000000\" fill-rule=\"nonzero\" fill-opacity=\"1\" /><path clip-path=\"url(#clip060)\" d=\"M2891.36 147.728 L2921.04 147.728 L2921.04 151.617 L2891.36 151.617 L2891.36 147.728 M2891.36 157.173 L2921.04 157.173 L2921.04 161.108 L2891.36 161.108 L2891.36 157.173 Z\" fill=\"#000000\" fill-rule=\"nonzero\" fill-opacity=\"1\" /><path clip-path=\"url(#clip060)\" d=\"M2931.94 165.321 L2939.58 165.321 L2939.58 138.955 L2931.27 140.622 L2931.27 136.363 L2939.53 134.696 L2944.21 134.696 L2944.21 165.321 L2951.85 165.321 L2951.85 169.256 L2931.94 169.256 L2931.94 165.321 Z\" fill=\"#000000\" fill-rule=\"nonzero\" fill-opacity=\"1\" /><polyline clip-path=\"url(#clip060)\" style=\"stroke:#e26f46; stroke-linecap:round; stroke-linejoin:round; stroke-width:8; stroke-opacity:1; fill:none\" points=\"2485.84,203.816 2679.84,203.816 \"/>\n",
       "<path clip-path=\"url(#clip060)\" d=\"M2712.84 217.161 L2720.48 217.161 L2720.48 190.795 L2712.17 192.462 L2712.17 188.203 L2720.44 186.536 L2725.11 186.536 L2725.11 217.161 L2732.75 217.161 L2732.75 221.096 L2712.84 221.096 L2712.84 217.161 Z\" fill=\"#000000\" fill-rule=\"nonzero\" fill-opacity=\"1\" /><path clip-path=\"url(#clip060)\" d=\"M2752.77 201.953 Q2749.63 201.953 2747.77 204.105 Q2745.95 206.258 2745.95 210.008 Q2745.95 213.735 2747.77 215.911 Q2749.63 218.064 2752.77 218.064 Q2755.92 218.064 2757.75 215.911 Q2759.6 213.735 2759.6 210.008 Q2759.6 206.258 2757.75 204.105 Q2755.92 201.953 2752.77 201.953 M2762.06 187.3 L2762.06 191.559 Q2760.3 190.726 2758.49 190.286 Q2756.71 189.846 2754.95 189.846 Q2750.32 189.846 2747.87 192.971 Q2745.44 196.096 2745.09 202.416 Q2746.45 200.402 2748.51 199.337 Q2750.57 198.249 2753.05 198.249 Q2758.26 198.249 2761.27 201.42 Q2764.3 204.568 2764.3 210.008 Q2764.3 215.332 2761.15 218.55 Q2758.01 221.767 2752.77 221.767 Q2746.78 221.767 2743.61 217.184 Q2740.44 212.578 2740.44 203.851 Q2740.44 195.656 2744.32 190.795 Q2748.21 185.911 2754.76 185.911 Q2756.52 185.911 2758.31 186.258 Q2760.11 186.606 2762.06 187.3 Z\" fill=\"#000000\" fill-rule=\"nonzero\" fill-opacity=\"1\" /><path clip-path=\"url(#clip060)\" d=\"M2772.36 215.217 L2777.24 215.217 L2777.24 221.096 L2772.36 221.096 L2772.36 215.217 Z\" fill=\"#000000\" fill-rule=\"nonzero\" fill-opacity=\"1\" /><path clip-path=\"url(#clip060)\" d=\"M2788.24 217.161 L2795.88 217.161 L2795.88 190.795 L2787.57 192.462 L2787.57 188.203 L2795.83 186.536 L2800.51 186.536 L2800.51 217.161 L2808.14 217.161 L2808.14 221.096 L2788.24 221.096 L2788.24 217.161 Z\" fill=\"#000000\" fill-rule=\"nonzero\" fill-opacity=\"1\" /><path clip-path=\"url(#clip060)\" d=\"M2821.62 217.161 L2837.94 217.161 L2837.94 221.096 L2815.99 221.096 L2815.99 217.161 Q2818.65 214.406 2823.24 209.777 Q2827.84 205.124 2829.02 203.781 Q2831.27 201.258 2832.15 199.522 Q2833.05 197.763 2833.05 196.073 Q2833.05 193.318 2831.11 191.582 Q2829.19 189.846 2826.08 189.846 Q2823.88 189.846 2821.43 190.61 Q2819 191.374 2816.22 192.925 L2816.22 188.203 Q2819.05 187.069 2821.5 186.49 Q2823.95 185.911 2825.99 185.911 Q2831.36 185.911 2834.56 188.596 Q2837.75 191.281 2837.75 195.772 Q2837.75 197.902 2836.94 199.823 Q2836.15 201.721 2834.05 204.314 Q2833.47 204.985 2830.37 208.203 Q2827.26 211.397 2821.62 217.161 Z\" fill=\"#000000\" fill-rule=\"nonzero\" fill-opacity=\"1\" /><path clip-path=\"url(#clip060)\" d=\"M2848.24 215.217 L2853.12 215.217 L2853.12 219.198 L2849.32 226.605 L2846.34 226.605 L2848.24 219.198 L2848.24 215.217 Z\" fill=\"#000000\" fill-rule=\"nonzero\" fill-opacity=\"1\" /><path clip-path=\"url(#clip060)\" d=\"M2879.28 199.105 L2879.28 185.078 L2883.54 185.078 L2883.54 221.096 L2879.28 221.096 L2879.28 217.207 Q2877.94 219.522 2875.88 220.656 Q2873.84 221.767 2870.97 221.767 Q2866.27 221.767 2863.31 218.017 Q2860.37 214.267 2860.37 208.156 Q2860.37 202.045 2863.31 198.295 Q2866.27 194.545 2870.97 194.545 Q2873.84 194.545 2875.88 195.68 Q2877.94 196.791 2879.28 199.105 M2864.76 208.156 Q2864.76 212.855 2866.69 215.541 Q2868.63 218.203 2872.01 218.203 Q2875.39 218.203 2877.33 215.541 Q2879.28 212.855 2879.28 208.156 Q2879.28 203.457 2877.33 200.795 Q2875.39 198.11 2872.01 198.11 Q2868.63 198.11 2866.69 200.795 Q2864.76 203.457 2864.76 208.156 Z\" fill=\"#000000\" fill-rule=\"nonzero\" fill-opacity=\"1\" /><path clip-path=\"url(#clip060)\" d=\"M2914.49 207.068 L2914.49 209.152 L2894.9 209.152 Q2895.18 213.55 2897.54 215.865 Q2899.93 218.156 2904.16 218.156 Q2906.62 218.156 2908.91 217.554 Q2911.22 216.953 2913.49 215.749 L2913.49 219.777 Q2911.2 220.749 2908.79 221.258 Q2906.38 221.767 2903.91 221.767 Q2897.7 221.767 2894.07 218.156 Q2890.46 214.545 2890.46 208.388 Q2890.46 202.022 2893.88 198.295 Q2897.33 194.545 2903.17 194.545 Q2908.4 194.545 2911.43 197.925 Q2914.49 201.281 2914.49 207.068 M2910.23 205.818 Q2910.18 202.323 2908.26 200.24 Q2906.36 198.156 2903.21 198.156 Q2899.65 198.156 2897.5 200.17 Q2895.37 202.184 2895.04 205.842 L2910.23 205.818 Z\" fill=\"#000000\" fill-rule=\"nonzero\" fill-opacity=\"1\" /><path clip-path=\"url(#clip060)\" d=\"M2934.6 185.078 L2934.6 188.619 L2930.53 188.619 Q2928.24 188.619 2927.33 189.545 Q2926.45 190.471 2926.45 192.879 L2926.45 195.17 L2933.47 195.17 L2933.47 198.48 L2926.45 198.48 L2926.45 221.096 L2922.17 221.096 L2922.17 198.48 L2918.1 198.48 L2918.1 195.17 L2922.17 195.17 L2922.17 193.365 Q2922.17 189.036 2924.18 187.069 Q2926.2 185.078 2930.57 185.078 L2934.6 185.078 Z\" fill=\"#000000\" fill-rule=\"nonzero\" fill-opacity=\"1\" /><path clip-path=\"url(#clip060)\" d=\"M2949.95 208.064 Q2944.79 208.064 2942.8 209.244 Q2940.81 210.425 2940.81 213.272 Q2940.81 215.541 2942.29 216.883 Q2943.79 218.203 2946.36 218.203 Q2949.9 218.203 2952.03 215.703 Q2954.18 213.179 2954.18 209.013 L2954.18 208.064 L2949.95 208.064 M2958.44 206.305 L2958.44 221.096 L2954.18 221.096 L2954.18 217.161 Q2952.73 219.522 2950.55 220.656 Q2948.37 221.767 2945.23 221.767 Q2941.25 221.767 2938.88 219.545 Q2936.55 217.3 2936.55 213.55 Q2936.55 209.175 2939.46 206.953 Q2942.4 204.73 2948.21 204.73 L2954.18 204.73 L2954.18 204.314 Q2954.18 201.374 2952.24 199.777 Q2950.32 198.156 2946.82 198.156 Q2944.6 198.156 2942.5 198.689 Q2940.39 199.221 2938.44 200.286 L2938.44 196.351 Q2940.78 195.448 2942.98 195.008 Q2945.18 194.545 2947.26 194.545 Q2952.89 194.545 2955.67 197.462 Q2958.44 200.379 2958.44 206.305 Z\" fill=\"#000000\" fill-rule=\"nonzero\" fill-opacity=\"1\" /><path clip-path=\"url(#clip060)\" d=\"M2966.78 210.865 L2966.78 195.17 L2971.04 195.17 L2971.04 210.703 Q2971.04 214.383 2972.47 216.235 Q2973.91 218.064 2976.78 218.064 Q2980.23 218.064 2982.22 215.865 Q2984.23 213.666 2984.23 209.869 L2984.23 195.17 L2988.49 195.17 L2988.49 221.096 L2984.23 221.096 L2984.23 217.115 Q2982.68 219.476 2980.62 220.633 Q2978.58 221.767 2975.87 221.767 Q2971.41 221.767 2969.09 218.99 Q2966.78 216.212 2966.78 210.865 M2977.49 194.545 L2977.49 194.545 Z\" fill=\"#000000\" fill-rule=\"nonzero\" fill-opacity=\"1\" /><path clip-path=\"url(#clip060)\" d=\"M2997.26 185.078 L3001.52 185.078 L3001.52 221.096 L2997.26 221.096 L2997.26 185.078 Z\" fill=\"#000000\" fill-rule=\"nonzero\" fill-opacity=\"1\" /><path clip-path=\"url(#clip060)\" d=\"M3014.65 187.809 L3014.65 195.17 L3023.42 195.17 L3023.42 198.48 L3014.65 198.48 L3014.65 212.554 Q3014.65 215.726 3015.5 216.629 Q3016.38 217.531 3019.05 217.531 L3023.42 217.531 L3023.42 221.096 L3019.05 221.096 Q3014.12 221.096 3012.24 219.267 Q3010.37 217.416 3010.37 212.554 L3010.37 198.48 L3007.24 198.48 L3007.24 195.17 L3010.37 195.17 L3010.37 187.809 L3014.65 187.809 Z\" fill=\"#000000\" fill-rule=\"nonzero\" fill-opacity=\"1\" /></svg>\n"
      ],
      "text/html": [
       "<?xml version=\"1.0\" encoding=\"utf-8\"?>\n",
       "<svg xmlns=\"http://www.w3.org/2000/svg\" xmlns:xlink=\"http://www.w3.org/1999/xlink\" width=\"800\" height=\"450\" viewBox=\"0 0 3200 1800\">\n",
       "<defs>\n",
       "  <clipPath id=\"clip110\">\n",
       "    <rect x=\"0\" y=\"0\" width=\"3200\" height=\"1800\"/>\n",
       "  </clipPath>\n",
       "</defs>\n",
       "<path clip-path=\"url(#clip110)\" d=\"M0 1800 L3200 1800 L3200 0 L0 0  Z\" fill=\"#ffffff\" fill-rule=\"evenodd\" fill-opacity=\"1\"/>\n",
       "<defs>\n",
       "  <clipPath id=\"clip111\">\n",
       "    <rect x=\"640\" y=\"0\" width=\"2241\" height=\"1800\"/>\n",
       "  </clipPath>\n",
       "</defs>\n",
       "<path clip-path=\"url(#clip110)\" d=\"M242.71 1634 L3152.76 1634 L3152.76 47.2441 L242.71 47.2441  Z\" fill=\"#ffffff\" fill-rule=\"evenodd\" fill-opacity=\"1\"/>\n",
       "<defs>\n",
       "  <clipPath id=\"clip112\">\n",
       "    <rect x=\"242\" y=\"47\" width=\"2911\" height=\"1588\"/>\n",
       "  </clipPath>\n",
       "</defs>\n",
       "<polyline clip-path=\"url(#clip112)\" style=\"stroke:#000000; stroke-linecap:round; stroke-linejoin:round; stroke-width:2; stroke-opacity:0.1; fill:none\" points=\"336.582,1634 336.582,47.2441 \"/>\n",
       "<polyline clip-path=\"url(#clip112)\" style=\"stroke:#000000; stroke-linecap:round; stroke-linejoin:round; stroke-width:2; stroke-opacity:0.1; fill:none\" points=\"805.944,1634 805.944,47.2441 \"/>\n",
       "<polyline clip-path=\"url(#clip112)\" style=\"stroke:#000000; stroke-linecap:round; stroke-linejoin:round; stroke-width:2; stroke-opacity:0.1; fill:none\" points=\"1275.31,1634 1275.31,47.2441 \"/>\n",
       "<polyline clip-path=\"url(#clip112)\" style=\"stroke:#000000; stroke-linecap:round; stroke-linejoin:round; stroke-width:2; stroke-opacity:0.1; fill:none\" points=\"1744.67,1634 1744.67,47.2441 \"/>\n",
       "<polyline clip-path=\"url(#clip112)\" style=\"stroke:#000000; stroke-linecap:round; stroke-linejoin:round; stroke-width:2; stroke-opacity:0.1; fill:none\" points=\"2214.03,1634 2214.03,47.2441 \"/>\n",
       "<polyline clip-path=\"url(#clip112)\" style=\"stroke:#000000; stroke-linecap:round; stroke-linejoin:round; stroke-width:2; stroke-opacity:0.1; fill:none\" points=\"2683.39,1634 2683.39,47.2441 \"/>\n",
       "<polyline clip-path=\"url(#clip112)\" style=\"stroke:#000000; stroke-linecap:round; stroke-linejoin:round; stroke-width:2; stroke-opacity:0.1; fill:none\" points=\"3152.76,1634 3152.76,47.2441 \"/>\n",
       "<polyline clip-path=\"url(#clip112)\" style=\"stroke:#000000; stroke-linecap:round; stroke-linejoin:round; stroke-width:2; stroke-opacity:0.1; fill:none\" points=\"242.71,1489.75 3152.76,1489.75 \"/>\n",
       "<polyline clip-path=\"url(#clip112)\" style=\"stroke:#000000; stroke-linecap:round; stroke-linejoin:round; stroke-width:2; stroke-opacity:0.1; fill:none\" points=\"242.71,1129.13 3152.76,1129.13 \"/>\n",
       "<polyline clip-path=\"url(#clip112)\" style=\"stroke:#000000; stroke-linecap:round; stroke-linejoin:round; stroke-width:2; stroke-opacity:0.1; fill:none\" points=\"242.71,768.499 3152.76,768.499 \"/>\n",
       "<polyline clip-path=\"url(#clip112)\" style=\"stroke:#000000; stroke-linecap:round; stroke-linejoin:round; stroke-width:2; stroke-opacity:0.1; fill:none\" points=\"242.71,407.872 3152.76,407.872 \"/>\n",
       "<polyline clip-path=\"url(#clip112)\" style=\"stroke:#000000; stroke-linecap:round; stroke-linejoin:round; stroke-width:2; stroke-opacity:0.1; fill:none\" points=\"242.71,47.2441 3152.76,47.2441 \"/>\n",
       "<polyline clip-path=\"url(#clip110)\" style=\"stroke:#000000; stroke-linecap:round; stroke-linejoin:round; stroke-width:4; stroke-opacity:1; fill:none\" points=\"242.71,1634 3152.76,1634 \"/>\n",
       "<polyline clip-path=\"url(#clip110)\" style=\"stroke:#000000; stroke-linecap:round; stroke-linejoin:round; stroke-width:4; stroke-opacity:1; fill:none\" points=\"336.582,1634 336.582,1615.11 \"/>\n",
       "<polyline clip-path=\"url(#clip110)\" style=\"stroke:#000000; stroke-linecap:round; stroke-linejoin:round; stroke-width:4; stroke-opacity:1; fill:none\" points=\"805.944,1634 805.944,1615.11 \"/>\n",
       "<polyline clip-path=\"url(#clip110)\" style=\"stroke:#000000; stroke-linecap:round; stroke-linejoin:round; stroke-width:4; stroke-opacity:1; fill:none\" points=\"1275.31,1634 1275.31,1615.11 \"/>\n",
       "<polyline clip-path=\"url(#clip110)\" style=\"stroke:#000000; stroke-linecap:round; stroke-linejoin:round; stroke-width:4; stroke-opacity:1; fill:none\" points=\"1744.67,1634 1744.67,1615.11 \"/>\n",
       "<polyline clip-path=\"url(#clip110)\" style=\"stroke:#000000; stroke-linecap:round; stroke-linejoin:round; stroke-width:4; stroke-opacity:1; fill:none\" points=\"2214.03,1634 2214.03,1615.11 \"/>\n",
       "<polyline clip-path=\"url(#clip110)\" style=\"stroke:#000000; stroke-linecap:round; stroke-linejoin:round; stroke-width:4; stroke-opacity:1; fill:none\" points=\"2683.39,1634 2683.39,1615.11 \"/>\n",
       "<polyline clip-path=\"url(#clip110)\" style=\"stroke:#000000; stroke-linecap:round; stroke-linejoin:round; stroke-width:4; stroke-opacity:1; fill:none\" points=\"3152.76,1634 3152.76,1615.11 \"/>\n",
       "<path clip-path=\"url(#clip110)\" d=\"M326.964 1698.87 L334.603 1698.87 L334.603 1672.5 L326.293 1674.17 L326.293 1669.91 L334.557 1668.24 L339.233 1668.24 L339.233 1698.87 L346.871 1698.87 L346.871 1702.8 L326.964 1702.8 L326.964 1698.87 Z\" fill=\"#000000\" fill-rule=\"nonzero\" fill-opacity=\"1\" /><path clip-path=\"url(#clip110)\" d=\"M800.597 1698.87 L816.917 1698.87 L816.917 1702.8 L794.972 1702.8 L794.972 1698.87 Q797.634 1696.12 802.218 1691.49 Q806.824 1686.83 808.005 1685.49 Q810.25 1682.97 811.13 1681.23 Q812.032 1679.47 812.032 1677.78 Q812.032 1675.03 810.088 1673.29 Q808.167 1671.56 805.065 1671.56 Q802.866 1671.56 800.412 1672.32 Q797.982 1673.08 795.204 1674.63 L795.204 1669.91 Q798.028 1668.78 800.481 1668.2 Q802.935 1667.62 804.972 1667.62 Q810.343 1667.62 813.537 1670.31 Q816.731 1672.99 816.731 1677.48 Q816.731 1679.61 815.921 1681.53 Q815.134 1683.43 813.028 1686.02 Q812.449 1686.69 809.347 1689.91 Q806.245 1693.11 800.597 1698.87 Z\" fill=\"#000000\" fill-rule=\"nonzero\" fill-opacity=\"1\" /><path clip-path=\"url(#clip110)\" d=\"M1279.55 1684.17 Q1282.91 1684.89 1284.79 1687.16 Q1286.68 1689.43 1286.68 1692.76 Q1286.68 1697.87 1283.17 1700.68 Q1279.65 1703.48 1273.17 1703.48 Q1270.99 1703.48 1268.67 1703.04 Q1266.38 1702.62 1263.93 1701.76 L1263.93 1697.25 Q1265.87 1698.38 1268.19 1698.96 Q1270.5 1699.54 1273.03 1699.54 Q1277.42 1699.54 1279.72 1697.8 Q1282.03 1696.07 1282.03 1692.76 Q1282.03 1689.7 1279.88 1687.99 Q1277.75 1686.25 1273.93 1686.25 L1269.9 1686.25 L1269.9 1682.41 L1274.11 1682.41 Q1277.56 1682.41 1279.39 1681.05 Q1281.22 1679.66 1281.22 1677.06 Q1281.22 1674.4 1279.32 1672.99 Q1277.45 1671.56 1273.93 1671.56 Q1272.01 1671.56 1269.81 1671.97 Q1267.61 1672.39 1264.97 1673.27 L1264.97 1669.1 Q1267.63 1668.36 1269.95 1667.99 Q1272.29 1667.62 1274.35 1667.62 Q1279.67 1667.62 1282.77 1670.05 Q1285.87 1672.46 1285.87 1676.58 Q1285.87 1679.45 1284.23 1681.44 Q1282.59 1683.41 1279.55 1684.17 Z\" fill=\"#000000\" fill-rule=\"nonzero\" fill-opacity=\"1\" /><path clip-path=\"url(#clip110)\" d=\"M1747.68 1672.32 L1735.87 1690.77 L1747.68 1690.77 L1747.68 1672.32 M1746.45 1668.24 L1752.33 1668.24 L1752.33 1690.77 L1757.26 1690.77 L1757.26 1694.66 L1752.33 1694.66 L1752.33 1702.8 L1747.68 1702.8 L1747.68 1694.66 L1732.08 1694.66 L1732.08 1690.14 L1746.45 1668.24 Z\" fill=\"#000000\" fill-rule=\"nonzero\" fill-opacity=\"1\" /><path clip-path=\"url(#clip110)\" d=\"M2204.31 1668.24 L2222.67 1668.24 L2222.67 1672.18 L2208.59 1672.18 L2208.59 1680.65 Q2209.61 1680.3 2210.63 1680.14 Q2211.65 1679.96 2212.67 1679.96 Q2218.45 1679.96 2221.83 1683.13 Q2225.21 1686.3 2225.21 1691.72 Q2225.21 1697.3 2221.74 1700.4 Q2218.27 1703.48 2211.95 1703.48 Q2209.77 1703.48 2207.5 1703.11 Q2205.26 1702.74 2202.85 1701.99 L2202.85 1697.3 Q2204.93 1698.43 2207.16 1698.99 Q2209.38 1699.54 2211.86 1699.54 Q2215.86 1699.54 2218.2 1697.43 Q2220.54 1695.33 2220.54 1691.72 Q2220.54 1688.11 2218.2 1686 Q2215.86 1683.89 2211.86 1683.89 Q2209.98 1683.89 2208.11 1684.31 Q2206.25 1684.73 2204.31 1685.61 L2204.31 1668.24 Z\" fill=\"#000000\" fill-rule=\"nonzero\" fill-opacity=\"1\" /><path clip-path=\"url(#clip110)\" d=\"M2683.8 1683.66 Q2680.65 1683.66 2678.8 1685.81 Q2676.97 1687.97 2676.97 1691.72 Q2676.97 1695.44 2678.8 1697.62 Q2680.65 1699.77 2683.8 1699.77 Q2686.95 1699.77 2688.78 1697.62 Q2690.63 1695.44 2690.63 1691.72 Q2690.63 1687.97 2688.78 1685.81 Q2686.95 1683.66 2683.8 1683.66 M2693.08 1669.01 L2693.08 1673.27 Q2691.32 1672.43 2689.52 1671.99 Q2687.73 1671.56 2685.97 1671.56 Q2681.35 1671.56 2678.89 1674.68 Q2676.46 1677.8 2676.11 1684.12 Q2677.48 1682.11 2679.54 1681.05 Q2681.6 1679.96 2684.08 1679.96 Q2689.28 1679.96 2692.29 1683.13 Q2695.33 1686.28 2695.33 1691.72 Q2695.33 1697.04 2692.18 1700.26 Q2689.03 1703.48 2683.8 1703.48 Q2677.8 1703.48 2674.63 1698.89 Q2671.46 1694.29 2671.46 1685.56 Q2671.46 1677.37 2675.35 1672.5 Q2679.24 1667.62 2685.79 1667.62 Q2687.55 1667.62 2689.33 1667.97 Q2691.14 1668.31 2693.08 1669.01 Z\" fill=\"#000000\" fill-rule=\"nonzero\" fill-opacity=\"1\" /><path clip-path=\"url(#clip110)\" d=\"M3141.64 1668.24 L3163.87 1668.24 L3163.87 1670.24 L3151.32 1702.8 L3146.44 1702.8 L3158.24 1672.18 L3141.64 1672.18 L3141.64 1668.24 Z\" fill=\"#000000\" fill-rule=\"nonzero\" fill-opacity=\"1\" /><path clip-path=\"url(#clip110)\" d=\"M1564.75 1749.68 L1556.03 1773.33 L1573.51 1773.33 L1564.75 1749.68 M1561.12 1743.35 L1568.41 1743.35 L1586.52 1790.87 L1579.84 1790.87 L1575.51 1778.68 L1554.09 1778.68 L1549.76 1790.87 L1542.98 1790.87 L1561.12 1743.35 Z\" fill=\"#000000\" fill-rule=\"nonzero\" fill-opacity=\"1\" /><path clip-path=\"url(#clip110)\" d=\"M1622.84 1769.35 L1622.84 1790.87 L1616.98 1790.87 L1616.98 1769.54 Q1616.98 1764.48 1615.01 1761.97 Q1613.04 1759.45 1609.09 1759.45 Q1604.35 1759.45 1601.61 1762.48 Q1598.87 1765.5 1598.87 1770.72 L1598.87 1790.87 L1592.99 1790.87 L1592.99 1755.22 L1598.87 1755.22 L1598.87 1760.76 Q1600.97 1757.54 1603.81 1755.95 Q1606.67 1754.36 1610.4 1754.36 Q1616.54 1754.36 1619.69 1758.18 Q1622.84 1761.97 1622.84 1769.35 Z\" fill=\"#000000\" fill-rule=\"nonzero\" fill-opacity=\"1\" /><path clip-path=\"url(#clip110)\" d=\"M1657.98 1772.63 Q1657.98 1766.27 1655.34 1762.76 Q1652.73 1759.26 1647.98 1759.26 Q1643.27 1759.26 1640.63 1762.76 Q1638.02 1766.27 1638.02 1772.63 Q1638.02 1778.96 1640.63 1782.47 Q1643.27 1785.97 1647.98 1785.97 Q1652.73 1785.97 1655.34 1782.47 Q1657.98 1778.96 1657.98 1772.63 M1663.84 1786.44 Q1663.84 1795.55 1659.79 1799.97 Q1655.75 1804.43 1647.41 1804.43 Q1644.32 1804.43 1641.59 1803.95 Q1638.85 1803.5 1636.27 1802.55 L1636.27 1796.85 Q1638.85 1798.25 1641.36 1798.92 Q1643.88 1799.59 1646.49 1799.59 Q1652.25 1799.59 1655.11 1796.57 Q1657.98 1793.57 1657.98 1787.5 L1657.98 1784.6 Q1656.16 1787.75 1653.33 1789.31 Q1650.5 1790.87 1646.55 1790.87 Q1640 1790.87 1635.99 1785.87 Q1631.98 1780.87 1631.98 1772.63 Q1631.98 1764.36 1635.99 1759.36 Q1640 1754.36 1646.55 1754.36 Q1650.5 1754.36 1653.33 1755.92 Q1656.16 1757.48 1657.98 1760.63 L1657.98 1755.22 L1663.84 1755.22 L1663.84 1786.44 Z\" fill=\"#000000\" fill-rule=\"nonzero\" fill-opacity=\"1\" /><path clip-path=\"url(#clip110)\" d=\"M1698.62 1756.27 L1698.62 1761.81 Q1696.14 1760.54 1693.47 1759.9 Q1690.79 1759.26 1687.93 1759.26 Q1683.57 1759.26 1681.37 1760.6 Q1679.21 1761.94 1679.21 1764.61 Q1679.21 1766.65 1680.77 1767.82 Q1682.33 1768.97 1687.04 1770.02 L1689.04 1770.47 Q1695.28 1771.8 1697.89 1774.25 Q1700.53 1776.67 1700.53 1781.03 Q1700.53 1786 1696.59 1788.9 Q1692.67 1791.79 1685.8 1791.79 Q1682.93 1791.79 1679.81 1791.22 Q1676.73 1790.68 1673.29 1789.56 L1673.29 1783.52 Q1676.53 1785.2 1679.69 1786.06 Q1682.84 1786.89 1685.92 1786.89 Q1690.06 1786.89 1692.29 1785.49 Q1694.52 1784.06 1694.52 1781.48 Q1694.52 1779.09 1692.89 1777.82 Q1691.3 1776.55 1685.86 1775.37 L1683.82 1774.89 Q1678.38 1773.75 1675.96 1771.39 Q1673.54 1769 1673.54 1764.86 Q1673.54 1759.84 1677.11 1757.1 Q1680.67 1754.36 1687.23 1754.36 Q1690.48 1754.36 1693.34 1754.84 Q1696.21 1755.32 1698.62 1756.27 Z\" fill=\"#000000\" fill-rule=\"nonzero\" fill-opacity=\"1\" /><path clip-path=\"url(#clip110)\" d=\"M1715.65 1745.1 L1715.65 1755.22 L1727.72 1755.22 L1727.72 1759.77 L1715.65 1759.77 L1715.65 1779.12 Q1715.65 1783.48 1716.83 1784.73 Q1718.04 1785.97 1721.7 1785.97 L1727.72 1785.97 L1727.72 1790.87 L1721.7 1790.87 Q1714.92 1790.87 1712.34 1788.35 Q1709.76 1785.81 1709.76 1779.12 L1709.76 1759.77 L1705.47 1759.77 L1705.47 1755.22 L1709.76 1755.22 L1709.76 1745.1 L1715.65 1745.1 Z\" fill=\"#000000\" fill-rule=\"nonzero\" fill-opacity=\"1\" /><path clip-path=\"url(#clip110)\" d=\"M1756.07 1760.7 Q1755.09 1760.12 1753.91 1759.87 Q1752.76 1759.58 1751.36 1759.58 Q1746.4 1759.58 1743.73 1762.83 Q1741.08 1766.04 1741.08 1772.09 L1741.08 1790.87 L1735.19 1790.87 L1735.19 1755.22 L1741.08 1755.22 L1741.08 1760.76 Q1742.93 1757.51 1745.89 1755.95 Q1748.85 1754.36 1753.08 1754.36 Q1753.69 1754.36 1754.42 1754.46 Q1755.15 1754.52 1756.04 1754.68 L1756.07 1760.7 Z\" fill=\"#000000\" fill-rule=\"nonzero\" fill-opacity=\"1\" /><path clip-path=\"url(#clip110)\" d=\"M1774.6 1759.33 Q1769.89 1759.33 1767.15 1763.02 Q1764.41 1766.68 1764.41 1773.08 Q1764.41 1779.47 1767.12 1783.17 Q1769.86 1786.83 1774.6 1786.83 Q1779.28 1786.83 1782.01 1783.13 Q1784.75 1779.44 1784.75 1773.08 Q1784.75 1766.74 1782.01 1763.05 Q1779.28 1759.33 1774.6 1759.33 M1774.6 1754.36 Q1782.24 1754.36 1786.6 1759.33 Q1790.96 1764.29 1790.96 1773.08 Q1790.96 1781.83 1786.6 1786.83 Q1782.24 1791.79 1774.6 1791.79 Q1766.93 1791.79 1762.57 1786.83 Q1758.24 1781.83 1758.24 1773.08 Q1758.24 1764.29 1762.57 1759.33 Q1766.93 1754.36 1774.6 1754.36 Z\" fill=\"#000000\" fill-rule=\"nonzero\" fill-opacity=\"1\" /><path clip-path=\"url(#clip110)\" d=\"M1828.42 1762.06 Q1830.62 1758.12 1833.67 1756.24 Q1836.73 1754.36 1840.87 1754.36 Q1846.44 1754.36 1849.46 1758.28 Q1852.48 1762.16 1852.48 1769.35 L1852.48 1790.87 L1846.59 1790.87 L1846.59 1769.54 Q1846.59 1764.42 1844.78 1761.94 Q1842.97 1759.45 1839.24 1759.45 Q1834.69 1759.45 1832.05 1762.48 Q1829.41 1765.5 1829.41 1770.72 L1829.41 1790.87 L1823.52 1790.87 L1823.52 1769.54 Q1823.52 1764.39 1821.7 1761.94 Q1819.89 1759.45 1816.1 1759.45 Q1811.62 1759.45 1808.97 1762.51 Q1806.33 1765.53 1806.33 1770.72 L1806.33 1790.87 L1800.44 1790.87 L1800.44 1755.22 L1806.33 1755.22 L1806.33 1760.76 Q1808.34 1757.48 1811.14 1755.92 Q1813.94 1754.36 1817.79 1754.36 Q1821.67 1754.36 1824.38 1756.33 Q1827.12 1758.31 1828.42 1762.06 Z\" fill=\"#000000\" fill-rule=\"nonzero\" fill-opacity=\"1\" /><polyline clip-path=\"url(#clip110)\" style=\"stroke:#000000; stroke-linecap:round; stroke-linejoin:round; stroke-width:4; stroke-opacity:1; fill:none\" points=\"242.71,1634 242.71,47.2441 \"/>\n",
       "<polyline clip-path=\"url(#clip110)\" style=\"stroke:#000000; stroke-linecap:round; stroke-linejoin:round; stroke-width:4; stroke-opacity:1; fill:none\" points=\"242.71,1489.75 261.607,1489.75 \"/>\n",
       "<polyline clip-path=\"url(#clip110)\" style=\"stroke:#000000; stroke-linecap:round; stroke-linejoin:round; stroke-width:4; stroke-opacity:1; fill:none\" points=\"242.71,1129.13 261.607,1129.13 \"/>\n",
       "<polyline clip-path=\"url(#clip110)\" style=\"stroke:#000000; stroke-linecap:round; stroke-linejoin:round; stroke-width:4; stroke-opacity:1; fill:none\" points=\"242.71,768.499 261.607,768.499 \"/>\n",
       "<polyline clip-path=\"url(#clip110)\" style=\"stroke:#000000; stroke-linecap:round; stroke-linejoin:round; stroke-width:4; stroke-opacity:1; fill:none\" points=\"242.71,407.872 261.607,407.872 \"/>\n",
       "<polyline clip-path=\"url(#clip110)\" style=\"stroke:#000000; stroke-linecap:round; stroke-linejoin:round; stroke-width:4; stroke-opacity:1; fill:none\" points=\"242.71,47.2441 261.607,47.2441 \"/>\n",
       "<path clip-path=\"url(#clip110)\" d=\"M102.835 1490.21 L132.511 1490.21 L132.511 1494.14 L102.835 1494.14 L102.835 1490.21 Z\" fill=\"#000000\" fill-rule=\"nonzero\" fill-opacity=\"1\" /><path clip-path=\"url(#clip110)\" d=\"M143.414 1503.1 L151.052 1503.1 L151.052 1476.73 L142.742 1478.4 L142.742 1474.14 L151.006 1472.47 L155.682 1472.47 L155.682 1503.1 L163.321 1503.1 L163.321 1507.03 L143.414 1507.03 L143.414 1503.1 Z\" fill=\"#000000\" fill-rule=\"nonzero\" fill-opacity=\"1\" /><path clip-path=\"url(#clip110)\" d=\"M182.765 1475.55 Q179.154 1475.55 177.325 1479.12 Q175.52 1482.66 175.52 1489.79 Q175.52 1496.9 177.325 1500.46 Q179.154 1504 182.765 1504 Q186.4 1504 188.205 1500.46 Q190.034 1496.9 190.034 1489.79 Q190.034 1482.66 188.205 1479.12 Q186.4 1475.55 182.765 1475.55 M182.765 1471.85 Q188.575 1471.85 191.631 1476.46 Q194.71 1481.04 194.71 1489.79 Q194.71 1498.52 191.631 1503.12 Q188.575 1507.71 182.765 1507.71 Q176.955 1507.71 173.876 1503.12 Q170.821 1498.52 170.821 1489.79 Q170.821 1481.04 173.876 1476.46 Q176.955 1471.85 182.765 1471.85 Z\" fill=\"#000000\" fill-rule=\"nonzero\" fill-opacity=\"1\" /><path clip-path=\"url(#clip110)\" d=\"M133.992 1129.58 L163.668 1129.58 L163.668 1133.51 L133.992 1133.51 L133.992 1129.58 Z\" fill=\"#000000\" fill-rule=\"nonzero\" fill-opacity=\"1\" /><path clip-path=\"url(#clip110)\" d=\"M173.807 1111.85 L192.163 1111.85 L192.163 1115.78 L178.089 1115.78 L178.089 1124.25 Q179.108 1123.91 180.126 1123.74 Q181.145 1123.56 182.163 1123.56 Q187.95 1123.56 191.33 1126.73 Q194.71 1129.9 194.71 1135.32 Q194.71 1140.9 191.237 1144 Q187.765 1147.08 181.446 1147.08 Q179.27 1147.08 177.001 1146.71 Q174.756 1146.34 172.349 1145.6 L172.349 1140.9 Q174.432 1142.03 176.654 1142.59 Q178.876 1143.14 181.353 1143.14 Q185.358 1143.14 187.696 1141.04 Q190.034 1138.93 190.034 1135.32 Q190.034 1131.71 187.696 1129.6 Q185.358 1127.49 181.353 1127.49 Q179.478 1127.49 177.603 1127.91 Q175.751 1128.33 173.807 1129.21 L173.807 1111.85 Z\" fill=\"#000000\" fill-rule=\"nonzero\" fill-opacity=\"1\" /><path clip-path=\"url(#clip110)\" d=\"M182.765 754.298 Q179.154 754.298 177.325 757.862 Q175.52 761.404 175.52 768.534 Q175.52 775.64 177.325 779.205 Q179.154 782.747 182.765 782.747 Q186.4 782.747 188.205 779.205 Q190.034 775.64 190.034 768.534 Q190.034 761.404 188.205 757.862 Q186.4 754.298 182.765 754.298 M182.765 750.594 Q188.575 750.594 191.631 755.2 Q194.71 759.784 194.71 768.534 Q194.71 777.261 191.631 781.867 Q188.575 786.45 182.765 786.45 Q176.955 786.45 173.876 781.867 Q170.821 777.261 170.821 768.534 Q170.821 759.784 173.876 755.2 Q176.955 750.594 182.765 750.594 Z\" fill=\"#000000\" fill-rule=\"nonzero\" fill-opacity=\"1\" /><path clip-path=\"url(#clip110)\" d=\"M173.807 390.592 L192.163 390.592 L192.163 394.527 L178.089 394.527 L178.089 402.999 Q179.108 402.652 180.126 402.49 Q181.145 402.304 182.163 402.304 Q187.95 402.304 191.33 405.476 Q194.71 408.647 194.71 414.064 Q194.71 419.642 191.237 422.744 Q187.765 425.823 181.446 425.823 Q179.27 425.823 177.001 425.452 Q174.756 425.082 172.349 424.341 L172.349 419.642 Q174.432 420.777 176.654 421.332 Q178.876 421.888 181.353 421.888 Q185.358 421.888 187.696 419.781 Q190.034 417.675 190.034 414.064 Q190.034 410.453 187.696 408.346 Q185.358 406.24 181.353 406.24 Q179.478 406.24 177.603 406.656 Q175.751 407.073 173.807 407.953 L173.807 390.592 Z\" fill=\"#000000\" fill-rule=\"nonzero\" fill-opacity=\"1\" /><path clip-path=\"url(#clip110)\" d=\"M143.414 60.5889 L151.052 60.5889 L151.052 34.2233 L142.742 35.89 L142.742 31.6308 L151.006 29.9641 L155.682 29.9641 L155.682 60.5889 L163.321 60.5889 L163.321 64.5241 L143.414 64.5241 L143.414 60.5889 Z\" fill=\"#000000\" fill-rule=\"nonzero\" fill-opacity=\"1\" /><path clip-path=\"url(#clip110)\" d=\"M182.765 33.0428 Q179.154 33.0428 177.325 36.6076 Q175.52 40.1492 175.52 47.2788 Q175.52 54.3853 177.325 57.9501 Q179.154 61.4917 182.765 61.4917 Q186.4 61.4917 188.205 57.9501 Q190.034 54.3853 190.034 47.2788 Q190.034 40.1492 188.205 36.6076 Q186.4 33.0428 182.765 33.0428 M182.765 29.3391 Q188.575 29.3391 191.631 33.9456 Q194.71 38.5289 194.71 47.2788 Q194.71 56.0056 191.631 60.6121 Q188.575 65.1954 182.765 65.1954 Q176.955 65.1954 173.876 60.6121 Q170.821 56.0056 170.821 47.2788 Q170.821 38.5289 173.876 33.9456 Q176.955 29.3391 182.765 29.3391 Z\" fill=\"#000000\" fill-rule=\"nonzero\" fill-opacity=\"1\" /><path clip-path=\"url(#clip110)\" d=\"M-6.94084 933.357 L-6.94084 903.311 L-1.52999 903.311 L-1.52999 926.928 L12.5382 926.928 L12.5382 904.297 L17.9491 904.297 L17.9491 926.928 L35.1683 926.928 L35.1683 902.738 L40.5792 902.738 L40.5792 933.357 L-6.94084 933.357 Z\" fill=\"#000000\" fill-rule=\"nonzero\" fill-opacity=\"1\" /><path clip-path=\"url(#clip110)\" d=\"M-8.94604 872.246 L-8.94604 858.751 L-4.39456 858.751 L-4.39456 866.39 L44.6214 866.39 L44.6214 858.751 L49.1729 858.751 L49.1729 872.246 L-8.94604 872.246 Z\" fill=\"#000000\" fill-rule=\"nonzero\" fill-opacity=\"1\" /><path clip-path=\"url(#clip110)\" d=\"M21.2911 815.782 L24.1556 815.782 L24.1556 842.709 Q30.2031 842.327 33.3859 839.081 Q36.5369 835.802 36.5369 829.978 Q36.5369 826.604 35.7094 823.453 Q34.8819 820.27 33.2268 817.151 L38.7649 817.151 Q40.1017 820.302 40.802 823.612 Q41.5022 826.922 41.5022 830.328 Q41.5022 838.858 36.5369 843.855 Q31.5717 848.82 23.1053 848.82 Q14.3524 848.82 9.22805 844.11 Q4.07183 839.367 4.07183 831.346 Q4.07183 824.153 8.7188 819.984 Q13.3339 815.782 21.2911 815.782 M19.5723 821.639 Q14.7662 821.702 11.9016 824.344 Q9.03708 826.954 9.03708 831.283 Q9.03708 836.184 11.8062 839.144 Q14.5752 842.073 19.6042 842.518 L19.5723 821.639 Z\" fill=\"#000000\" fill-rule=\"nonzero\" fill-opacity=\"1\" /><path clip-path=\"url(#clip110)\" d=\"M40.5792 793.661 L-6.94084 811.804 L-6.94084 805.088 L33.0676 790.033 L-6.94084 774.946 L-6.94084 768.262 L40.5792 786.373 L40.5792 793.661 Z\" fill=\"#000000\" fill-rule=\"nonzero\" fill-opacity=\"1\" /><path clip-path=\"url(#clip110)\" d=\"M-8.94604 747.892 L49.1729 747.892 L49.1729 761.387 L44.6214 761.387 L44.6214 753.78 L-4.39456 753.78 L-4.39456 761.387 L-8.94604 761.387 L-8.94604 747.892 Z\" fill=\"#000000\" fill-rule=\"nonzero\" fill-opacity=\"1\" /><polyline clip-path=\"url(#clip112)\" style=\"stroke:#009af9; stroke-linecap:round; stroke-linejoin:round; stroke-width:8; stroke-opacity:1; fill:none\" points=\"115.596,-46525.8 130.858,-21938.8 146.12,-2394.41 161.382,10747.8 176.644,17381 191.906,18359.6 207.168,15142 222.43,9428.91 237.692,2850.55 252.955,-3259.44 268.217,-7989.2 283.479,-10877 298.741,-11863 314.003,-11191.6 329.265,-9293.46 344.527,-6670.91 359.789,-3804.19 375.051,-1086.97 390.314,1207.21 405.576,2931.25 420.838,4050.73 436.1,4617.77 451.362,4740.19 466.624,4551.52 481.886,4186.09 497.148,3761.04 512.41,3365.63 527.673,3057.27 542.935,2862.75 558.197,2783 573.459,2799.83 588.721,2883.18 603.983,2997.92 619.245,3109.52 634.507,3188.16 649.769,3211.4 665.032,3165.35 680.294,3044.66 695.556,2851.68 710.818,2595.05 726.08,2287.9 741.342,1946.15 756.604,1586.78 771.866,1226.43 787.129,880.255 802.391,561.139 817.653,279.174 832.915,41.4695 848.177,-147.829 863.439,-287.325 878.701,-378.035 893.963,-422.965 909.225,-426.656 924.488,-394.722 939.75,-333.421 955.012,-249.262 970.274,-148.678 985.536,-37.7581 1000.8,77.955 1016.06,193.606 1031.32,305.11 1046.58,409.189 1061.85,503.368 1077.11,585.933 1092.37,655.87 1107.63,712.786 1122.89,756.82 1138.16,788.547 1153.42,808.885 1168.68,819.005 1183.94,820.247 1199.21,814.047 1214.47,801.872 1229.73,785.161 1244.99,765.287 1260.25,743.52 1275.52,720.999 1290.78,698.721 1306.04,677.527 1321.3,658.103 1336.56,640.979 1351.83,626.539 1367.09,615.032 1382.35,606.58 1397.61,601.197 1412.88,598.803 1428.14,599.24 1443.4,602.287 1458.66,607.675 1473.92,615.103 1489.19,624.249 1504.45,634.782 1519.71,646.373 1534.97,658.705 1550.23,671.477 1565.5,684.415 1580.76,697.27 1596.02,709.826 1611.28,721.901 1626.54,733.346 1641.81,744.046 1657.07,753.917 1672.33,762.907 1687.59,770.99 1702.86,778.164 1718.12,784.449 1733.38,789.88 1748.64,794.506 1763.9,798.384 1779.17,801.576 1794.43,804.147 1809.69,806.159 1824.95,807.671 1840.21,808.734 1855.48,809.394 1870.74,809.684 1886,809.632 1901.26,809.255 1916.52,808.563 1931.79,807.561 1947.05,806.248 1962.31,804.625 1977.57,802.694 1992.84,800.461 2008.1,797.942 2023.36,795.164 2038.62,792.171 2053.88,789.018 2069.15,785.78 2084.41,782.549 2099.67,779.427 2114.93,776.528 2130.19,773.964 2145.46,771.839 2160.72,770.232 2175.98,769.178 2191.24,768.645 2206.5,768.501 2221.77,768.499 2237.03,768.499 2252.29,768.499 2267.55,768.499 2282.82,768.499 2298.08,768.499 2313.34,768.499 2328.6,768.499 2343.86,768.499 2359.13,768.499 2374.39,768.499 2389.65,768.499 2404.91,768.499 2420.17,768.499 2435.44,768.499 2450.7,768.499 2465.96,768.499 2481.22,768.499 2496.49,768.499 2511.75,768.499 2527.01,768.499 2542.27,768.499 2557.53,768.499 2572.8,768.499 2588.06,768.499 2603.32,768.499 2618.58,768.499 2633.84,768.499 2649.11,768.499 2664.37,768.499 2679.63,768.499 2694.89,768.499 2710.15,768.499 2725.42,768.499 2740.68,768.499 2755.94,768.499 2771.2,768.499 2786.47,768.499 2801.73,768.499 2816.99,768.499 2832.25,768.499 2847.51,768.499 2862.78,768.499 2878.04,768.499 2893.3,768.499 2908.56,768.499 2923.82,768.499 2939.09,768.499 2954.35,768.499 2969.61,768.499 2984.87,768.499 3000.13,768.499 3015.4,768.499 3030.66,768.499 3045.92,768.499 3061.18,768.499 3076.45,768.499 3091.71,768.499 3106.97,768.499 3122.23,768.499 3137.49,768.499 3152.76,768.499 \"/>\n",
       "<polyline clip-path=\"url(#clip112)\" style=\"stroke:#e26f46; stroke-linecap:round; stroke-linejoin:round; stroke-width:8; stroke-opacity:1; fill:none\" points=\"115.596,-5596.35 130.858,-3542.99 146.12,-1729.94 161.382,-334.945 176.644,577.139 191.906,1031.39 207.168,1114.1 222.43,943.017 237.692,640.805 252.955,314.904 268.217,45.1672 283.479,-120.817 298.741,-166.051 314.003,-98.1359 329.265,58.8584 344.527,272.757 359.789,510.479 375.051,743.277 390.314,949.791 405.576,1117.1 420.838,1240.18 436.1,1320.45 451.362,1363.71 466.624,1378.15 481.886,1372.58 497.148,1355.12 512.41,1332.31 527.673,1308.8 542.935,1287.29 558.197,1268.78 573.459,1252.96 588.721,1238.71 603.983,1224.47 619.245,1208.64 634.507,1189.84 649.769,1167.12 665.032,1139.99 680.294,1108.47 695.556,1073.02 710.818,1034.45 726.08,993.817 741.342,952.306 756.604,911.133 771.866,871.448 787.129,834.267 802.391,800.428 817.653,770.556 832.915,745.062 848.177,724.143 863.439,707.802 878.701,695.874 893.963,688.059 909.225,683.952 924.488,683.078 939.75,684.92 955.012,688.95 970.274,694.649 985.536,701.526 1000.8,709.133 1016.06,717.074 1031.32,725.012 1046.58,732.669 1061.85,739.827 1077.11,746.326 1092.37,752.057 1107.63,756.962 1122.89,761.019 1138.16,764.244 1153.42,766.68 1168.68,768.389 1183.94,769.452 1199.21,769.956 1214.47,769.995 1229.73,769.665 1244.99,769.059 1260.25,768.262 1275.52,767.357 1290.78,766.415 1306.04,765.498 1321.3,764.657 1336.56,763.935 1351.83,763.364 1367.09,762.966 1382.35,762.754 1397.61,762.734 1412.88,762.904 1428.14,763.256 1443.4,763.778 1458.66,764.453 1473.92,765.261 1489.19,766.18 1504.45,767.186 1519.71,768.256 1534.97,769.366 1550.23,770.494 1565.5,771.618 1580.76,772.718 1596.02,773.777 1611.28,774.781 1626.54,775.715 1641.81,776.57 1657.07,777.337 1672.33,778.012 1687.59,778.591 1702.86,779.072 1718.12,779.456 1733.38,779.746 1748.64,779.944 1763.9,780.055 1779.17,780.084 1794.43,780.036 1809.69,779.916 1824.95,779.731 1840.21,779.485 1855.48,779.184 1870.74,778.831 1886,778.432 1901.26,777.99 1916.52,777.508 1931.79,776.991 1947.05,776.44 1962.31,775.86 1977.57,775.254 1992.84,774.628 2008.1,773.986 2023.36,773.336 2038.62,772.686 2053.88,772.045 2069.15,771.424 2084.41,770.834 2099.67,770.289 2114.93,769.801 2130.19,769.382 2145.46,769.042 2160.72,768.787 2175.98,768.619 2191.24,768.53 2206.5,768.501 2221.77,768.499 2237.03,768.499 2252.29,768.499 2267.55,768.499 2282.82,768.499 2298.08,768.499 2313.34,768.499 2328.6,768.499 2343.86,768.499 2359.13,768.499 2374.39,768.499 2389.65,768.499 2404.91,768.499 2420.17,768.499 2435.44,768.499 2450.7,768.499 2465.96,768.499 2481.22,768.499 2496.49,768.499 2511.75,768.499 2527.01,768.499 2542.27,768.499 2557.53,768.499 2572.8,768.499 2588.06,768.499 2603.32,768.499 2618.58,768.499 2633.84,768.499 2649.11,768.499 2664.37,768.499 2679.63,768.499 2694.89,768.499 2710.15,768.499 2725.42,768.499 2740.68,768.499 2755.94,768.499 2771.2,768.499 2786.47,768.499 2801.73,768.499 2816.99,768.499 2832.25,768.499 2847.51,768.499 2862.78,768.499 2878.04,768.499 2893.3,768.499 2908.56,768.499 2923.82,768.499 2939.09,768.499 2954.35,768.499 2969.61,768.499 2984.87,768.499 3000.13,768.499 3015.4,768.499 3030.66,768.499 3045.92,768.499 3061.18,768.499 3076.45,768.499 3091.71,768.499 3106.97,768.499 3122.23,768.499 3137.49,768.499 3152.76,768.499 \"/>\n",
       "<path clip-path=\"url(#clip110)\" d=\"M2453.5 255.656 L3055.75 255.656 L3055.75 100.136 L2453.5 100.136  Z\" fill=\"#ffffff\" fill-rule=\"evenodd\" fill-opacity=\"1\"/>\n",
       "<polyline clip-path=\"url(#clip110)\" style=\"stroke:#000000; stroke-linecap:round; stroke-linejoin:round; stroke-width:4; stroke-opacity:1; fill:none\" points=\"2453.5,255.656 3055.75,255.656 3055.75,100.136 2453.5,100.136 2453.5,255.656 \"/>\n",
       "<polyline clip-path=\"url(#clip110)\" style=\"stroke:#009af9; stroke-linecap:round; stroke-linejoin:round; stroke-width:8; stroke-opacity:1; fill:none\" points=\"2485.84,151.976 2679.84,151.976 \"/>\n",
       "<path clip-path=\"url(#clip110)\" d=\"M2712.84 165.321 L2720.48 165.321 L2720.48 138.955 L2712.17 140.622 L2712.17 136.363 L2720.44 134.696 L2725.11 134.696 L2725.11 165.321 L2732.75 165.321 L2732.75 169.256 L2712.84 169.256 L2712.84 165.321 Z\" fill=\"#000000\" fill-rule=\"nonzero\" fill-opacity=\"1\" /><path clip-path=\"url(#clip110)\" d=\"M2752.77 150.113 Q2749.63 150.113 2747.77 152.265 Q2745.95 154.418 2745.95 158.168 Q2745.95 161.895 2747.77 164.071 Q2749.63 166.224 2752.77 166.224 Q2755.92 166.224 2757.75 164.071 Q2759.6 161.895 2759.6 158.168 Q2759.6 154.418 2757.75 152.265 Q2755.92 150.113 2752.77 150.113 M2762.06 135.46 L2762.06 139.719 Q2760.3 138.886 2758.49 138.446 Q2756.71 138.006 2754.95 138.006 Q2750.32 138.006 2747.87 141.131 Q2745.44 144.256 2745.09 150.576 Q2746.45 148.562 2748.51 147.497 Q2750.57 146.409 2753.05 146.409 Q2758.26 146.409 2761.27 149.58 Q2764.3 152.728 2764.3 158.168 Q2764.3 163.492 2761.15 166.71 Q2758.01 169.927 2752.77 169.927 Q2746.78 169.927 2743.61 165.344 Q2740.44 160.738 2740.44 152.011 Q2740.44 143.816 2744.32 138.955 Q2748.21 134.071 2754.76 134.071 Q2756.52 134.071 2758.31 134.418 Q2760.11 134.766 2762.06 135.46 Z\" fill=\"#000000\" fill-rule=\"nonzero\" fill-opacity=\"1\" /><path clip-path=\"url(#clip110)\" d=\"M2772.36 163.377 L2777.24 163.377 L2777.24 169.256 L2772.36 169.256 L2772.36 163.377 Z\" fill=\"#000000\" fill-rule=\"nonzero\" fill-opacity=\"1\" /><path clip-path=\"url(#clip110)\" d=\"M2788.24 165.321 L2795.88 165.321 L2795.88 138.955 L2787.57 140.622 L2787.57 136.363 L2795.83 134.696 L2800.51 134.696 L2800.51 165.321 L2808.14 165.321 L2808.14 169.256 L2788.24 169.256 L2788.24 165.321 Z\" fill=\"#000000\" fill-rule=\"nonzero\" fill-opacity=\"1\" /><path clip-path=\"url(#clip110)\" d=\"M2821.62 165.321 L2837.94 165.321 L2837.94 169.256 L2815.99 169.256 L2815.99 165.321 Q2818.65 162.566 2823.24 157.937 Q2827.84 153.284 2829.02 151.941 Q2831.27 149.418 2832.15 147.682 Q2833.05 145.923 2833.05 144.233 Q2833.05 141.478 2831.11 139.742 Q2829.19 138.006 2826.08 138.006 Q2823.88 138.006 2821.43 138.77 Q2819 139.534 2816.22 141.085 L2816.22 136.363 Q2819.05 135.229 2821.5 134.65 Q2823.95 134.071 2825.99 134.071 Q2831.36 134.071 2834.56 136.756 Q2837.75 139.441 2837.75 143.932 Q2837.75 146.062 2836.94 147.983 Q2836.15 149.881 2834.05 152.474 Q2833.47 153.145 2830.37 156.363 Q2827.26 159.557 2821.62 165.321 Z\" fill=\"#000000\" fill-rule=\"nonzero\" fill-opacity=\"1\" /><path clip-path=\"url(#clip110)\" d=\"M2848.24 163.377 L2853.12 163.377 L2853.12 167.358 L2849.32 174.765 L2846.34 174.765 L2848.24 167.358 L2848.24 163.377 Z\" fill=\"#000000\" fill-rule=\"nonzero\" fill-opacity=\"1\" /><path clip-path=\"url(#clip110)\" d=\"M2867.08 138.539 L2867.08 151.525 L2872.96 151.525 Q2876.22 151.525 2878 149.835 Q2879.79 148.145 2879.79 145.02 Q2879.79 141.918 2878 140.228 Q2876.22 138.539 2872.96 138.539 L2867.08 138.539 M2862.4 134.696 L2872.96 134.696 Q2878.77 134.696 2881.73 137.335 Q2884.72 139.951 2884.72 145.02 Q2884.72 150.136 2881.73 152.752 Q2878.77 155.367 2872.96 155.367 L2867.08 155.367 L2867.08 169.256 L2862.4 169.256 L2862.4 134.696 Z\" fill=\"#000000\" fill-rule=\"nonzero\" fill-opacity=\"1\" /><path clip-path=\"url(#clip110)\" d=\"M2891.36 147.728 L2921.04 147.728 L2921.04 151.617 L2891.36 151.617 L2891.36 147.728 M2891.36 157.173 L2921.04 157.173 L2921.04 161.108 L2891.36 161.108 L2891.36 157.173 Z\" fill=\"#000000\" fill-rule=\"nonzero\" fill-opacity=\"1\" /><path clip-path=\"url(#clip110)\" d=\"M2931.94 165.321 L2939.58 165.321 L2939.58 138.955 L2931.27 140.622 L2931.27 136.363 L2939.53 134.696 L2944.21 134.696 L2944.21 165.321 L2951.85 165.321 L2951.85 169.256 L2931.94 169.256 L2931.94 165.321 Z\" fill=\"#000000\" fill-rule=\"nonzero\" fill-opacity=\"1\" /><polyline clip-path=\"url(#clip110)\" style=\"stroke:#e26f46; stroke-linecap:round; stroke-linejoin:round; stroke-width:8; stroke-opacity:1; fill:none\" points=\"2485.84,203.816 2679.84,203.816 \"/>\n",
       "<path clip-path=\"url(#clip110)\" d=\"M2712.84 217.161 L2720.48 217.161 L2720.48 190.795 L2712.17 192.462 L2712.17 188.203 L2720.44 186.536 L2725.11 186.536 L2725.11 217.161 L2732.75 217.161 L2732.75 221.096 L2712.84 221.096 L2712.84 217.161 Z\" fill=\"#000000\" fill-rule=\"nonzero\" fill-opacity=\"1\" /><path clip-path=\"url(#clip110)\" d=\"M2752.77 201.953 Q2749.63 201.953 2747.77 204.105 Q2745.95 206.258 2745.95 210.008 Q2745.95 213.735 2747.77 215.911 Q2749.63 218.064 2752.77 218.064 Q2755.92 218.064 2757.75 215.911 Q2759.6 213.735 2759.6 210.008 Q2759.6 206.258 2757.75 204.105 Q2755.92 201.953 2752.77 201.953 M2762.06 187.3 L2762.06 191.559 Q2760.3 190.726 2758.49 190.286 Q2756.71 189.846 2754.95 189.846 Q2750.32 189.846 2747.87 192.971 Q2745.44 196.096 2745.09 202.416 Q2746.45 200.402 2748.51 199.337 Q2750.57 198.249 2753.05 198.249 Q2758.26 198.249 2761.27 201.42 Q2764.3 204.568 2764.3 210.008 Q2764.3 215.332 2761.15 218.55 Q2758.01 221.767 2752.77 221.767 Q2746.78 221.767 2743.61 217.184 Q2740.44 212.578 2740.44 203.851 Q2740.44 195.656 2744.32 190.795 Q2748.21 185.911 2754.76 185.911 Q2756.52 185.911 2758.31 186.258 Q2760.11 186.606 2762.06 187.3 Z\" fill=\"#000000\" fill-rule=\"nonzero\" fill-opacity=\"1\" /><path clip-path=\"url(#clip110)\" d=\"M2772.36 215.217 L2777.24 215.217 L2777.24 221.096 L2772.36 221.096 L2772.36 215.217 Z\" fill=\"#000000\" fill-rule=\"nonzero\" fill-opacity=\"1\" /><path clip-path=\"url(#clip110)\" d=\"M2788.24 217.161 L2795.88 217.161 L2795.88 190.795 L2787.57 192.462 L2787.57 188.203 L2795.83 186.536 L2800.51 186.536 L2800.51 217.161 L2808.14 217.161 L2808.14 221.096 L2788.24 221.096 L2788.24 217.161 Z\" fill=\"#000000\" fill-rule=\"nonzero\" fill-opacity=\"1\" /><path clip-path=\"url(#clip110)\" d=\"M2821.62 217.161 L2837.94 217.161 L2837.94 221.096 L2815.99 221.096 L2815.99 217.161 Q2818.65 214.406 2823.24 209.777 Q2827.84 205.124 2829.02 203.781 Q2831.27 201.258 2832.15 199.522 Q2833.05 197.763 2833.05 196.073 Q2833.05 193.318 2831.11 191.582 Q2829.19 189.846 2826.08 189.846 Q2823.88 189.846 2821.43 190.61 Q2819 191.374 2816.22 192.925 L2816.22 188.203 Q2819.05 187.069 2821.5 186.49 Q2823.95 185.911 2825.99 185.911 Q2831.36 185.911 2834.56 188.596 Q2837.75 191.281 2837.75 195.772 Q2837.75 197.902 2836.94 199.823 Q2836.15 201.721 2834.05 204.314 Q2833.47 204.985 2830.37 208.203 Q2827.26 211.397 2821.62 217.161 Z\" fill=\"#000000\" fill-rule=\"nonzero\" fill-opacity=\"1\" /><path clip-path=\"url(#clip110)\" d=\"M2848.24 215.217 L2853.12 215.217 L2853.12 219.198 L2849.32 226.605 L2846.34 226.605 L2848.24 219.198 L2848.24 215.217 Z\" fill=\"#000000\" fill-rule=\"nonzero\" fill-opacity=\"1\" /><path clip-path=\"url(#clip110)\" d=\"M2879.28 199.105 L2879.28 185.078 L2883.54 185.078 L2883.54 221.096 L2879.28 221.096 L2879.28 217.207 Q2877.94 219.522 2875.88 220.656 Q2873.84 221.767 2870.97 221.767 Q2866.27 221.767 2863.31 218.017 Q2860.37 214.267 2860.37 208.156 Q2860.37 202.045 2863.31 198.295 Q2866.27 194.545 2870.97 194.545 Q2873.84 194.545 2875.88 195.68 Q2877.94 196.791 2879.28 199.105 M2864.76 208.156 Q2864.76 212.855 2866.69 215.541 Q2868.63 218.203 2872.01 218.203 Q2875.39 218.203 2877.33 215.541 Q2879.28 212.855 2879.28 208.156 Q2879.28 203.457 2877.33 200.795 Q2875.39 198.11 2872.01 198.11 Q2868.63 198.11 2866.69 200.795 Q2864.76 203.457 2864.76 208.156 Z\" fill=\"#000000\" fill-rule=\"nonzero\" fill-opacity=\"1\" /><path clip-path=\"url(#clip110)\" d=\"M2914.49 207.068 L2914.49 209.152 L2894.9 209.152 Q2895.18 213.55 2897.54 215.865 Q2899.93 218.156 2904.16 218.156 Q2906.62 218.156 2908.91 217.554 Q2911.22 216.953 2913.49 215.749 L2913.49 219.777 Q2911.2 220.749 2908.79 221.258 Q2906.38 221.767 2903.91 221.767 Q2897.7 221.767 2894.07 218.156 Q2890.46 214.545 2890.46 208.388 Q2890.46 202.022 2893.88 198.295 Q2897.33 194.545 2903.17 194.545 Q2908.4 194.545 2911.43 197.925 Q2914.49 201.281 2914.49 207.068 M2910.23 205.818 Q2910.18 202.323 2908.26 200.24 Q2906.36 198.156 2903.21 198.156 Q2899.65 198.156 2897.5 200.17 Q2895.37 202.184 2895.04 205.842 L2910.23 205.818 Z\" fill=\"#000000\" fill-rule=\"nonzero\" fill-opacity=\"1\" /><path clip-path=\"url(#clip110)\" d=\"M2934.6 185.078 L2934.6 188.619 L2930.53 188.619 Q2928.24 188.619 2927.33 189.545 Q2926.45 190.471 2926.45 192.879 L2926.45 195.17 L2933.47 195.17 L2933.47 198.48 L2926.45 198.48 L2926.45 221.096 L2922.17 221.096 L2922.17 198.48 L2918.1 198.48 L2918.1 195.17 L2922.17 195.17 L2922.17 193.365 Q2922.17 189.036 2924.18 187.069 Q2926.2 185.078 2930.57 185.078 L2934.6 185.078 Z\" fill=\"#000000\" fill-rule=\"nonzero\" fill-opacity=\"1\" /><path clip-path=\"url(#clip110)\" d=\"M2949.95 208.064 Q2944.79 208.064 2942.8 209.244 Q2940.81 210.425 2940.81 213.272 Q2940.81 215.541 2942.29 216.883 Q2943.79 218.203 2946.36 218.203 Q2949.9 218.203 2952.03 215.703 Q2954.18 213.179 2954.18 209.013 L2954.18 208.064 L2949.95 208.064 M2958.44 206.305 L2958.44 221.096 L2954.18 221.096 L2954.18 217.161 Q2952.73 219.522 2950.55 220.656 Q2948.37 221.767 2945.23 221.767 Q2941.25 221.767 2938.88 219.545 Q2936.55 217.3 2936.55 213.55 Q2936.55 209.175 2939.46 206.953 Q2942.4 204.73 2948.21 204.73 L2954.18 204.73 L2954.18 204.314 Q2954.18 201.374 2952.24 199.777 Q2950.32 198.156 2946.82 198.156 Q2944.6 198.156 2942.5 198.689 Q2940.39 199.221 2938.44 200.286 L2938.44 196.351 Q2940.78 195.448 2942.98 195.008 Q2945.18 194.545 2947.26 194.545 Q2952.89 194.545 2955.67 197.462 Q2958.44 200.379 2958.44 206.305 Z\" fill=\"#000000\" fill-rule=\"nonzero\" fill-opacity=\"1\" /><path clip-path=\"url(#clip110)\" d=\"M2966.78 210.865 L2966.78 195.17 L2971.04 195.17 L2971.04 210.703 Q2971.04 214.383 2972.47 216.235 Q2973.91 218.064 2976.78 218.064 Q2980.23 218.064 2982.22 215.865 Q2984.23 213.666 2984.23 209.869 L2984.23 195.17 L2988.49 195.17 L2988.49 221.096 L2984.23 221.096 L2984.23 217.115 Q2982.68 219.476 2980.62 220.633 Q2978.58 221.767 2975.87 221.767 Q2971.41 221.767 2969.09 218.99 Q2966.78 216.212 2966.78 210.865 M2977.49 194.545 L2977.49 194.545 Z\" fill=\"#000000\" fill-rule=\"nonzero\" fill-opacity=\"1\" /><path clip-path=\"url(#clip110)\" d=\"M2997.26 185.078 L3001.52 185.078 L3001.52 221.096 L2997.26 221.096 L2997.26 185.078 Z\" fill=\"#000000\" fill-rule=\"nonzero\" fill-opacity=\"1\" /><path clip-path=\"url(#clip110)\" d=\"M3014.65 187.809 L3014.65 195.17 L3023.42 195.17 L3023.42 198.48 L3014.65 198.48 L3014.65 212.554 Q3014.65 215.726 3015.5 216.629 Q3016.38 217.531 3019.05 217.531 L3023.42 217.531 L3023.42 221.096 L3019.05 221.096 Q3014.12 221.096 3012.24 219.267 Q3010.37 217.416 3010.37 212.554 L3010.37 198.48 L3007.24 198.48 L3007.24 195.17 L3010.37 195.17 L3010.37 187.809 L3014.65 187.809 Z\" fill=\"#000000\" fill-rule=\"nonzero\" fill-opacity=\"1\" /></svg>\n"
      ]
     },
     "execution_count": 20,
     "metadata": {},
     "output_type": "execute_result"
    }
   ],
   "source": [
    "studylist = [\"16.12,P=1\",\"16.12,default\"]\n",
    "\n",
    "plt_dim = plot(\n",
    "    legend = :topright, \n",
    "    xlabel = \"Angstrom\", ylabel = \"E [eV]\",\n",
    "    xlims = (0.8, 7), ylims = (-12, 10),\n",
    "    # xlims = (0.8, 7), ylims = (-0.5,0.5),\n",
    "    size= (800,450))\n",
    "\n",
    "for tag in studylist\n",
    "    D = ACEpotentials.dimers(potlist[tag], [:C,],rr = range(0.529177, 7.0, length=200));\n",
    "    plot!(plt_dim, D[(:C,:C)]..., lw=2, label = \"$tag\")\n",
    "end\n",
    "\n",
    "plt_dim"
   ]
  },
  {
   "cell_type": "markdown",
   "metadata": {},
   "source": [
    "# Playground"
   ]
  },
  {
   "cell_type": "code",
   "execution_count": 17,
   "metadata": {},
   "outputs": [
    {
     "data": {
      "text/latex": [
       "No documentation found.\n",
       "\n",
       "\\texttt{ACE1x.mb\\_ace\\_basis} is a \\texttt{Function}.\n",
       "\n",
       "\\begin{verbatim}\n",
       "# 1 method for generic function \"mb_ace_basis\" from ACE1x:\n",
       " [1] mb_ace_basis(kwargs)\n",
       "     @ ~/.julia/packages/ACE1x/8w1lo/src/defaults.jl:319\n",
       "\\end{verbatim}\n"
      ],
      "text/markdown": [
       "No documentation found.\n",
       "\n",
       "`ACE1x.mb_ace_basis` is a `Function`.\n",
       "\n",
       "```\n",
       "# 1 method for generic function \"mb_ace_basis\" from ACE1x:\n",
       " [1] mb_ace_basis(kwargs)\n",
       "     @ ~/.julia/packages/ACE1x/8w1lo/src/defaults.jl:319\n",
       "```\n"
      ],
      "text/plain": [
       "  No documentation found.\n",
       "\n",
       "  \u001b[36mACE1x.mb_ace_basis\u001b[39m is a \u001b[36mFunction\u001b[39m.\n",
       "\n",
       "\u001b[36m  # 1 method for generic function \"mb_ace_basis\" from ACE1x:\u001b[39m\n",
       "\u001b[36m   [1] mb_ace_basis(kwargs)\u001b[39m\n",
       "\u001b[36m       @ ~/.julia/packages/ACE1x/8w1lo/src/defaults.jl:319\u001b[39m"
      ]
     },
     "execution_count": 17,
     "metadata": {},
     "output_type": "execute_result"
    }
   ],
   "source": [
    "@doc ACE1x.mb_ace_basis"
   ]
  },
  {
   "cell_type": "code",
   "execution_count": null,
   "metadata": {},
   "outputs": [],
   "source": []
  },
  {
   "cell_type": "code",
   "execution_count": 14,
   "metadata": {},
   "outputs": [
    {
     "name": "stderr",
     "output_type": "stream",
     "text": [
      "\u001b[36m\u001b[1m[ \u001b[22m\u001b[39m\u001b[36m\u001b[1mInfo: \u001b[22m\u001b[39mOption `pure = true` overrides `pure2b=true`\n"
     ]
    },
    {
     "name": "stdout",
     "output_type": "stream",
     "text": [
      "basis_bin[\"10.3\"]\n",
      "12\n"
     ]
    },
    {
     "name": "stderr",
     "output_type": "stream",
     "text": [
      "\u001b[36m\u001b[1m[ \u001b[22m\u001b[39m\u001b[36m\u001b[1mInfo: \u001b[22m\u001b[39mOption `pure = true` overrides `pure2b=true`\n"
     ]
    },
    {
     "name": "stdout",
     "output_type": "stream",
     "text": [
      "basis_bin[\"24.20\"]\n",
      "297\n"
     ]
    },
    {
     "name": "stderr",
     "output_type": "stream",
     "text": [
      "\u001b[36m\u001b[1m[ \u001b[22m\u001b[39m\u001b[36m\u001b[1mInfo: \u001b[22m\u001b[39mOption `pure = true` overrides `pure2b=true`\n"
     ]
    },
    {
     "name": "stdout",
     "output_type": "stream",
     "text": [
      "basis_bin[\"24.20.16\"]\n",
      "802\n"
     ]
    },
    {
     "name": "stderr",
     "output_type": "stream",
     "text": [
      "\u001b[36m\u001b[1m[ \u001b[22m\u001b[39m\u001b[36m\u001b[1mInfo: \u001b[22m\u001b[39mOption `pure = true` overrides `pure2b=true`\n"
     ]
    },
    {
     "name": "stdout",
     "output_type": "stream",
     "text": [
      "basis_bin[\"24.20.16.12\"]\n",
      "929\n"
     ]
    }
   ],
   "source": [
    "basis_bin = Dict()\n",
    "orders = [2,2,3,4]\n",
    "degrees = [[10,3],[24,20],[24,20,16],[24,20,16,12]]\n",
    "basis_tags = [\"10.3\",\"24.20\",\"24.20.16\",\"24.20.16.12\"]\n",
    "\n",
    "\n",
    "for (i,ord) in enumerate(orders)\n",
    "    basis = ACE1x.ace_basis(\n",
    "        elements = [:C],\n",
    "        order = ord,\n",
    "        totaldegree = degrees[i],\n",
    "        # totaldegree = 20,\n",
    "        rcut = 6.0,\n",
    "        r0 = 1.0,\n",
    "        pure = true)\n",
    "    basis_bin[basis_tags[i]] = basis\n",
    "    println(\"basis_bin[\\\"\" * basis_tags[i] * \"\\\"]\")\n",
    "    println(length(basis))\n",
    "end\n"
   ]
  },
  {
   "cell_type": "code",
   "execution_count": null,
   "metadata": {},
   "outputs": [],
   "source": []
  },
  {
   "cell_type": "code",
   "execution_count": 13,
   "metadata": {},
   "outputs": [
    {
     "data": {
      "text/plain": [
       "JuLIP.MLIPs.IPSuperBasis{JuLIP.MLIPs.IPBasis}(JuLIP.MLIPs.IPBasis[PolyPairBasis{ACE1.OrthPolys.TransformedPolys{Float64, ACE1.Transforms.Agnesi2Transform{Float64, Int64}, ACE1.OrthPolys.OrthPolyBasis{Float64}, PolyEnvelope{Float64}}, 1}(JuLIP.Potentials.SZList{1}(AtomicNumber[<6>]), ACE1.OrthPolys.TransformedPolys{Float64, ACE1.Transforms.Agnesi2Transform{Float64, Int64}, ACE1.OrthPolys.OrthPolyBasis{Float64}, PolyEnvelope{Float64}}[ACE1.OrthPolys.TransformedPolys{Float64, ACE1.Transforms.Agnesi2Transform{Float64, Int64}, ACE1.OrthPolys.OrthPolyBasis{Float64}, PolyEnvelope{Float64}}(ACE1.OrthPolys.OrthPolyBasis{Float64}(0, 0.37481910274963826, 0, 1.0, [0.9999999999999998, 5.5409616039541545, 6.194992696084185, 6.308687540580393, 6.348016603591635, 6.3661566056093255, 6.376008421563429, 6.381961829718582, 6.385843887927936, 6.388525572895417], [0.0, -3.8089099303592224, -4.258497149985512, -4.336652072034279, -4.363687245594827, -4.376156856243751, -4.3829290886289805, -4.387021518258074, -4.389690082150172, -4.391533498010599], [0.0, 0.0, -1.118035665806333, -1.0183527003297406, -1.0062341117321554, -1.0028575857863187, -1.0015475296264806, -1.000933720246536, -1.0006082860275327, -1.0004199421430553], [0.37513169319826345, 0.37575687409551384, 0.37638205499276417, 0.37700723589001456, 0.3776324167872649, 0.3782575976845153, 0.3788827785817656, 0.379507959479016, 0.38013314037626633, 0.3807583212735167  …  0.9940607814761215, 0.9946859623733719, 0.9953111432706223, 0.9959363241678726, 0.996561505065123, 0.9971866859623734, 0.9978118668596238, 0.998437047756874, 0.9990622286541244, 0.9996874095513748], [0.001, 0.001, 0.001, 0.001, 0.001, 0.001, 0.001, 0.001, 0.001, 0.001  …  0.001, 0.001, 0.001, 0.001, 0.001, 0.001, 0.001, 0.001, 0.001, 0.001]), ACE1.Transforms.Agnesi2Transform{Float64, Int64}(1.0, 1, 3, 0.2857142857142857, 0.0), 0.0, 6.0, PolyEnvelope{Float64}(2, 1.0, 6.0));;], [0;;]), RPIBasis{Float64, BasicPSH1pBasis{Float64, 1, ACE1.OrthPolys.TransformedPolys{Float64, ACE1.Transforms.MultiTransform{1, ACE1.Transforms.AffineT{Float64, ACE1.Transforms.Agnesi2Transform{Float64, Int64}}}, ACE1.OrthPolys.OrthPolyBasis{Float64}, ACE1.OrthPolys.OneEnvelope}}, 1, ACE1.DAGEvaluator}(PIBasis{BasicPSH1pBasis{Float64, 1, ACE1.OrthPolys.TransformedPolys{Float64, ACE1.Transforms.MultiTransform{1, ACE1.Transforms.AffineT{Float64, ACE1.Transforms.Agnesi2Transform{Float64, Int64}}}, ACE1.OrthPolys.OrthPolyBasis{Float64}, ACE1.OrthPolys.OneEnvelope}}, 1, ACE1.DAGEvaluator}(BasicPSH1pBasis{Float64, 1, ACE1.OrthPolys.TransformedPolys{Float64, ACE1.Transforms.MultiTransform{1, ACE1.Transforms.AffineT{Float64, ACE1.Transforms.Agnesi2Transform{Float64, Int64}}}, ACE1.OrthPolys.OrthPolyBasis{Float64}, ACE1.OrthPolys.OneEnvelope}}(ACE1.OrthPolys.TransformedPolys{Float64, ACE1.Transforms.MultiTransform{1, ACE1.Transforms.AffineT{Float64, ACE1.Transforms.Agnesi2Transform{Float64, Int64}}}, ACE1.OrthPolys.OrthPolyBasis{Float64}, ACE1.OrthPolys.OneEnvelope}(ACE1.OrthPolys.OrthPolyBasis{Float64}(2, -1.0, 2, 1.0, [1.5687375497513916, 3.316624790355401, 2.6739483914241924, 2.430862174022013, 2.3048861143233235, 2.2291771507065796, 2.179449471771357], [0.0, -2.0786140873094945e-18, -7.017609472481619e-18, 2.412551411320251e-17, -4.62164749360015e-17, 8.442290037528487e-17, -1.036773538695508e-16, 1.0425048391689846e-16, -1.0935396246574519e-16, 1.1420171246516114e-16, -1.2236837934382784e-16, 1.182192736628651e-16, -8.383224079690349e-17, 1.6979098049736654e-16], [0.0, 0.0, -0.8062257748298566, -0.9090909090909166, -0.9481763873554975, -0.9671528397232887, -0.9776923610941106, -0.9840838646340674, -0.9882117688044432, -0.9910081668223438, -0.9929753269925167, -0.9944021951446381, -0.9954638496291572, -0.9962709628235593], [-0.999, -0.997, -0.995, -0.993, -0.991, -0.989, -0.987, -0.985, -0.983, -0.981  …  0.981, 0.983, 0.985, 0.987, 0.989, 0.991, 0.993, 0.995, 0.997, 0.999], [0.001, 0.001, 0.001, 0.001, 0.001, 0.001, 0.001, 0.001, 0.001, 0.001  …  0.001, 0.001, 0.001, 0.001, 0.001, 0.001, 0.001, 0.001, 0.001, 0.001]), ACE1.Transforms.MultiTransform{1, ACE1.Transforms.AffineT{Float64, ACE1.Transforms.Agnesi2Transform{Float64, Int64}}}(JuLIP.Potentials.SZList{1}(AtomicNumber[<6>]), ACE1.Transforms.AffineT{Float64, ACE1.Transforms.Agnesi2Transform{Float64, Int64}}[ACE1.Transforms.AffineT{Float64, ACE1.Transforms.Agnesi2Transform{Float64, Int64}}(ACE1.Transforms.Agnesi2Transform{Float64, Int64}(1.0, 2, 4, 0.7692307692307693, 0.0), 1.0, 0.03578602782531061, -1.0, 1.0);;]), 0.0, 6.000000000000001, ACE1.OrthPolys.OneEnvelope()), ACE1.SphericalHarmonics.SHBasis{Float64}(0, ACE1.SphericalHarmonics.ALPCoefficients{Float64}([6.9476603588089e-310], [6.94766434868227e-310])), JuLIP.Potentials.SZList{1}(AtomicNumber[<6>]), ACE1.RPI.PSH1pBasisFcn[znlm[0|1,0,0], znlm[0|2,0,0], znlm[0|3,0,0], znlm[0|4,0,0], znlm[0|5,0,0], znlm[0|6,0,0]], UnitRange{Int64}[1:6;;]), JuLIP.Potentials.SZList{1}(AtomicNumber[<6>]), (ACE1.InnerPIBasis([1, 1, 1, 1, 1, 1, 2, 2], [1 0; 2 0; … ; 1 1; 1 2], Dict{ACE1.PIBasisFcn, Int64}(ACE1.PIBasisFcn{2, ACE1.RPI.PSH1pBasisFcn}(<6>, (znlm[6|1,0,0], znlm[6|2,0,0]), ACE1.RPI.PSH1pBasisFcn) => 8, ACE1.PIBasisFcn{1, ACE1.RPI.PSH1pBasisFcn}(<6>, (znlm[6|4,0,0],), ACE1.RPI.PSH1pBasisFcn) => 4, ACE1.PIBasisFcn{2, ACE1.RPI.PSH1pBasisFcn}(<6>, (znlm[6|1,0,0], znlm[6|1,0,0]), ACE1.RPI.PSH1pBasisFcn) => 7, ACE1.PIBasisFcn{1, ACE1.RPI.PSH1pBasisFcn}(<6>, (znlm[6|1,0,0],), ACE1.RPI.PSH1pBasisFcn) => 1, ACE1.PIBasisFcn{1, ACE1.RPI.PSH1pBasisFcn}(<6>, (znlm[6|5,0,0],), ACE1.RPI.PSH1pBasisFcn) => 5, ACE1.PIBasisFcn{1, ACE1.RPI.PSH1pBasisFcn}(<6>, (znlm[6|2,0,0],), ACE1.RPI.PSH1pBasisFcn) => 2, ACE1.PIBasisFcn{1, ACE1.RPI.PSH1pBasisFcn}(<6>, (znlm[6|3,0,0],), ACE1.RPI.PSH1pBasisFcn) => 3, ACE1.PIBasisFcn{1, ACE1.RPI.PSH1pBasisFcn}(<6>, (znlm[6|6,0,0],), ACE1.RPI.PSH1pBasisFcn) => 6), Dict{Any, Int64}(), 1:8, <6>, ACE1.DAG.CorrEvalGraph{Int64, Int64}([(1, 0), (2, 0), (3, 0), (4, 0), (5, 0), (6, 0), (1, 1), (1, 2)], [1, 2, 3, 4, 5, 6, 7, 8], 6, 6)),), ACE1.DAGEvaluator()), (sparse([1, 2, 1, 2, 1, 2, 1, 2], [1, 2, 3, 4, 5, 6, 7, 8], [-0.5251768409363713, -0.27232781073537393, 0.11290962813509912, 0.09611569790660279, -0.012595087447385982, -0.013250673379827257, 1.4142135623730951, 1.0], 2, 8),), (1:2,))])"
      ]
     },
     "execution_count": 13,
     "metadata": {},
     "output_type": "execute_result"
    }
   ],
   "source": [
    "basis_bin[\"10.3\"]"
   ]
  },
  {
   "cell_type": "code",
   "execution_count": 30,
   "metadata": {},
   "outputs": [],
   "source": [
    "using LinearAlgebra"
   ]
  },
  {
   "cell_type": "code",
   "execution_count": 31,
   "metadata": {},
   "outputs": [
    {
     "data": {
      "text/plain": [
       "3×3 Matrix{Int64}:\n",
       " 0  3  6\n",
       " 1  4  7\n",
       " 2  5  8"
      ]
     },
     "execution_count": 31,
     "metadata": {},
     "output_type": "execute_result"
    }
   ],
   "source": [
    "a = [1, 2, 3]\n",
    "b = [4, 5, 6]\n",
    "c = range(0,8)\n",
    "c_mat = reshape(collect(c), 3, 3)\n"
   ]
  },
  {
   "cell_type": "code",
   "execution_count": null,
   "metadata": {},
   "outputs": [
    {
     "data": {
      "text/plain": [
       "32"
      ]
     },
     "execution_count": 38,
     "metadata": {},
     "output_type": "execute_result"
    }
   ],
   "source": [
    "transpose(b) * a"
   ]
  },
  {
   "cell_type": "code",
   "execution_count": 11,
   "metadata": {},
   "outputs": [
    {
     "name": "stdout",
     "output_type": "stream",
     "text": [
      "JuLIP.MLIPs.IPSuperBasis{JuLIP.MLIPs.IPBasis}(JuLIP.MLIPs.IPBasis[PolyPairBasis{ACE1.OrthPolys.TransformedPolys{Float64, ACE1.Transforms.Agnesi2Transform{Float64, Int64}, ACE1.OrthPolys.OrthPolyBasis{Float64}, PolyEnvelope{Float64}}, 1}(JuLIP.Potentials.SZList{1}(AtomicNumber[<6>]), ACE1.OrthPolys.TransformedPolys{Float64, ACE1.Transforms.Agnesi2Transform{Float64, Int64}, ACE1.OrthPolys.OrthPolyBasis{Float64}, PolyEnvelope{Float64}}[ACE1.OrthPolys.TransformedPolys{Float64, ACE1.Transforms.Agnesi2Transform{Float64, Int64}, ACE1.OrthPolys.OrthPolyBasis{Float64}, PolyEnvelope{Float64}}(ACE1.OrthPolys.OrthPolyBasis{Float64}(0, 0.37481910274963826, 0, 1.0, [0.9999999999999998, 5.5409616039541545, 6.194992696084185, 6.308687540580393, 6.348016603591635, 6.3661566056093255, 6.376008421563429, 6.381961829718582, 6.385843887927936, 6.388525572895417], [0.0, -3.8089099303592224, -4.258497149985512, -4.336652072034279, -4.363687245594827, -4.376156856243751, -4.3829290886289805, -4.387021518258074, -4.389690082150172, -4.391533498010599], [0.0, 0.0, -1.118035665806333, -1.0183527003297406, -1.0062341117321554, -1.0028575857863187, -1.0015475296264806, -1.000933720246536, -1.0006082860275327, -1.0004199421430553], [0.37513169319826345, 0.37575687409551384, 0.37638205499276417, 0.37700723589001456, 0.3776324167872649, 0.3782575976845153, 0.3788827785817656, 0.379507959479016, 0.38013314037626633, 0.3807583212735167, 0.38138350217076705, 0.38200868306801744, 0.3826338639652678, 0.38325904486251816, 0.3838842257597685, 0.3845094066570189, 0.3851345875542692, 0.3857597684515196, 0.38638494934876993, 0.3870101302460203, 0.3876353111432707, 0.38826049204052104, 0.38888567293777143, 0.38951085383502176, 0.39013603473227215, 0.3907612156295225, 0.3913863965267729, 0.3920115774240232, 0.3926367583212736, 0.3932619392185239, 0.3938871201157743, 0.39451230101302465, 0.39513748191027503, 0.39576266280752537, 0.39638784370477576, 0.3970130246020261, 0.3976382054992765, 0.3982633863965268, 0.3988885672937772, 0.39951374819102753, 0.4001389290882779, 0.4007641099855283, 0.40138929088277864, 0.402014471780029, 0.40263965267727936, 0.40326483357452975, 0.4038900144717801, 0.40451519536903047, 0.4051403762662808, 0.4057655571635312, 0.4063907380607815, 0.4070159189580319, 0.40764109985528224, 0.40826628075253263, 0.40889146164978296, 0.40951664254703335, 0.4101418234442837, 0.41076700434153407, 0.4113921852387844, 0.4120173661360348, 0.4126425470332852, 0.4132677279305355, 0.4138929088277859, 0.41451808972503623, 0.4151432706222866, 0.41576845151953695, 0.41639363241678734, 0.4170188133140377, 0.41764399421128806, 0.4182691751085384, 0.4188943560057888, 0.4195195369030391, 0.4201447178002895, 0.42076989869753983, 0.4213950795947902, 0.42202026049204056, 0.42264544138929094, 0.4232706222865413, 0.42389580318379166, 0.42452098408104205, 0.4251461649782924, 0.4257713458755428, 0.4263965267727931, 0.4270217076700435, 0.4276468885672938, 0.4282720694645442, 0.42889725036179455, 0.42952243125904493, 0.43014761215629527, 0.43077279305354566, 0.431397973950796, 0.4320231548480464, 0.4326483357452967, 0.4332735166425471, 0.43389869753979743, 0.4345238784370478, 0.43514905933429815, 0.43577424023154854, 0.4363994211287989, 0.43702460202604926, 0.43764978292329965, 0.43827496382055, 0.43890014471780037, 0.4395253256150507, 0.4401505065123011, 0.4407756874095514, 0.4414008683068018, 0.44202604920405214, 0.44265123010130253, 0.44327641099855286, 0.44390159189580325, 0.4445267727930536, 0.44515195369030397, 0.4457771345875543, 0.4464023154848047, 0.447027496382055, 0.4476526772793054, 0.44827785817655574, 0.44890303907380613, 0.4495282199710565, 0.45015340086830685, 0.45077858176555724, 0.4514037626628076, 0.45202894356005796, 0.4526541244573083, 0.4532793053545587, 0.453904486251809, 0.4545296671490594, 0.45515484804630973, 0.4557800289435601, 0.45640520984081046, 0.45703039073806084, 0.4576555716353112, 0.45828075253256156, 0.4589059334298119, 0.4595311143270623, 0.4601562952243126, 0.460781476121563, 0.4614066570188134, 0.4620318379160637, 0.4626570188133141, 0.46328219971056445, 0.46390738060781483, 0.46453256150506517, 0.46515774240231555, 0.4657829232995659, 0.4664081041968163, 0.4670332850940666, 0.467658465991317, 0.46828364688856733, 0.4689088277858177, 0.46953400868306805, 0.47015918958031844, 0.47078437047756877, 0.47140955137481916, 0.4720347322720695, 0.4726599131693199, 0.47328509406657027, 0.4739102749638206, 0.474535455861071, 0.4751606367583213, 0.4757858176555717, 0.47641099855282204, 0.47703617945007243, 0.47766136034732276, 0.47828654124457315, 0.4789117221418235, 0.47953690303907387, 0.4801620839363242, 0.4807872648335746, 0.4814124457308249, 0.4820376266280753, 0.48266280752532564, 0.48328798842257603, 0.48391316931982636, 0.48453835021707675, 0.4851635311143271, 0.4857887120115775, 0.48641389290882786, 0.4870390738060782, 0.4876642547033286, 0.4882894356005789, 0.4889146164978293, 0.48953979739507963, 0.49016497829233, 0.49079015918958036, 0.49141534008683074, 0.4920405209840811, 0.49266570188133146, 0.4932908827785818, 0.4939160636758322, 0.4945412445730825, 0.4951664254703329, 0.49579160636758324, 0.4964167872648336, 0.49704196816208396, 0.49766714905933435, 0.49829232995658473, 0.49891751085383507, 0.49954269175108545, 0.5001678726483358, 0.5007930535455861, 0.5014182344428365, 0.5020434153400869, 0.5026685962373373, 0.5032937771345876, 0.503918958031838, 0.5045441389290883, 0.5051693198263387, 0.505794500723589, 0.5064196816208394, 0.5070448625180898, 0.5076700434153402, 0.5082952243125904, 0.5089204052098408, 0.5095455861070912, 0.5101707670043416, 0.510795947901592, 0.5114211287988423, 0.5120463096960927, 0.512671490593343, 0.5132966714905934, 0.5139218523878437, 0.5145470332850941, 0.5151722141823445, 0.5157973950795949, 0.5164225759768452, 0.5170477568740955, 0.5176729377713459, 0.5182981186685963, 0.5189232995658466, 0.519548480463097, 0.5201736613603474, 0.5207988422575978, 0.521424023154848, 0.5220492040520984, 0.5226743849493488, 0.5232995658465992, 0.5239247467438496, 0.5245499276410999, 0.5251751085383503, 0.5258002894356006, 0.526425470332851, 0.5270506512301013, 0.5276758321273517, 0.5283010130246021, 0.5289261939218525, 0.5295513748191027, 0.5301765557163531, 0.5308017366136035, 0.5314269175108539, 0.5320520984081042, 0.5326772793053546, 0.533302460202605, 0.5339276410998554, 0.5345528219971057, 0.535178002894356, 0.5358031837916064, 0.5364283646888568, 0.5370535455861072, 0.5376787264833575, 0.5383039073806078, 0.5389290882778582, 0.5395542691751086, 0.5401794500723589, 0.5408046309696093, 0.5414298118668597, 0.5420549927641101, 0.5426801736613603, 0.5433053545586107, 0.5439305354558611, 0.5445557163531115, 0.5451808972503618, 0.5458060781476122, 0.5464312590448626, 0.547056439942113, 0.5476816208393633, 0.5483068017366136, 0.548931982633864, 0.5495571635311144, 0.5501823444283648, 0.550807525325615, 0.5514327062228654, 0.5520578871201158, 0.5526830680173662, 0.5533082489146165, 0.5539334298118669, 0.5545586107091173, 0.5551837916063677, 0.5558089725036179, 0.5564341534008683, 0.5570593342981187, 0.5576845151953691, 0.5583096960926194, 0.5589348769898698, 0.5595600578871202, 0.5601852387843705, 0.5608104196816209, 0.5614356005788712, 0.5620607814761216, 0.562685962373372, 0.5633111432706224, 0.5639363241678726, 0.564561505065123, 0.5651866859623734, 0.5658118668596238, 0.5664370477568741, 0.5670622286541245, 0.5676874095513749, 0.5683125904486253, 0.5689377713458755, 0.5695629522431259, 0.5701881331403763, 0.5708133140376267, 0.5714384949348771, 0.5720636758321274, 0.5726888567293777, 0.5733140376266281, 0.5739392185238785, 0.5745643994211288, 0.5751895803183792, 0.5758147612156296, 0.57643994211288, 0.5770651230101302, 0.5776903039073806, 0.578315484804631, 0.5789406657018814, 0.5795658465991317, 0.5801910274963821, 0.5808162083936325, 0.5814413892908828, 0.5820665701881331, 0.5826917510853835, 0.5833169319826339, 0.5839421128798843, 0.5845672937771347, 0.585192474674385, 0.5858176555716353, 0.5864428364688857, 0.5870680173661361, 0.5876931982633864, 0.5883183791606368, 0.5889435600578872, 0.5895687409551376, 0.5901939218523878, 0.5908191027496382, 0.5914442836468886, 0.592069464544139, 0.5926946454413893, 0.5933198263386397, 0.59394500723589, 0.5945701881331404, 0.5951953690303907, 0.5958205499276411, 0.5964457308248915, 0.5970709117221419, 0.5976960926193923, 0.5983212735166425, 0.5989464544138929, 0.5995716353111433, 0.6001968162083937, 0.600821997105644, 0.6014471780028944, 0.6020723589001448, 0.6026975397973952, 0.6033227206946454, 0.6039479015918958, 0.6045730824891462, 0.6051982633863966, 0.6058234442836469, 0.6064486251808973, 0.6070738060781476, 0.607698986975398, 0.6083241678726484, 0.6089493487698987, 0.6095745296671491, 0.6101997105643995, 0.6108248914616499, 0.6114500723589001, 0.6120752532561505, 0.6127004341534009, 0.6133256150506513, 0.6139507959479016, 0.614575976845152, 0.6152011577424024, 0.6158263386396527, 0.616451519536903, 0.6170767004341534, 0.6177018813314038, 0.6183270622286542, 0.6189522431259045, 0.6195774240231549, 0.6202026049204052, 0.6208277858176556, 0.621452966714906, 0.6220781476121563, 0.6227033285094067, 0.6233285094066571, 0.6239536903039075, 0.6245788712011577, 0.6252040520984081, 0.6258292329956585, 0.6264544138929089, 0.6270795947901592, 0.6277047756874096, 0.62832995658466, 0.6289551374819103, 0.6295803183791606, 0.630205499276411, 0.6308306801736614, 0.6314558610709118, 0.6320810419681621, 0.6327062228654124, 0.6333314037626628, 0.6339565846599132, 0.6345817655571636, 0.6352069464544139, 0.6358321273516643, 0.6364573082489147, 0.637082489146165, 0.6377076700434153, 0.6383328509406657, 0.6389580318379161, 0.6395832127351665, 0.6402083936324168, 0.6408335745296672, 0.6414587554269175, 0.6420839363241679, 0.6427091172214182, 0.6433342981186686, 0.643959479015919, 0.6445846599131694, 0.6452098408104198, 0.64583502170767, 0.6464602026049204, 0.6470853835021708, 0.6477105643994212, 0.6483357452966715, 0.6489609261939219, 0.6495861070911723, 0.6502112879884226, 0.6508364688856729, 0.6514616497829233, 0.6520868306801737, 0.6527120115774241, 0.6533371924746744, 0.6539623733719248, 0.6545875542691751, 0.6552127351664255, 0.6558379160636758, 0.6564630969609262, 0.6570882778581766, 0.657713458755427, 0.6583386396526774, 0.6589638205499276, 0.659589001447178, 0.6602141823444284, 0.6608393632416788, 0.6614645441389291, 0.6620897250361795, 0.6627149059334299, 0.6633400868306802, 0.6639652677279305, 0.6645904486251809, 0.6652156295224313, 0.6658408104196817, 0.666465991316932, 0.6670911722141823, 0.6677163531114327, 0.6683415340086831, 0.6689667149059334, 0.6695918958031838, 0.6702170767004342, 0.6708422575976846, 0.671467438494935, 0.6720926193921852, 0.6727178002894356, 0.673342981186686, 0.6739681620839364, 0.6745933429811867, 0.6752185238784371, 0.6758437047756874, 0.6764688856729378, 0.6770940665701881, 0.6777192474674385, 0.6783444283646889, 0.6789696092619393, 0.6795947901591896, 0.6802199710564399, 0.6808451519536903, 0.6814703328509407, 0.6820955137481911, 0.6827206946454414, 0.6833458755426918, 0.6839710564399422, 0.6845962373371925, 0.6852214182344428, 0.6858465991316932, 0.6864717800289436, 0.687096960926194, 0.6877221418234443, 0.6883473227206947, 0.688972503617945, 0.6895976845151954, 0.6902228654124457, 0.6908480463096961, 0.6914732272069465, 0.6920984081041969, 0.6927235890014471, 0.6933487698986975, 0.6939739507959479, 0.6945991316931983, 0.6952243125904487, 0.695849493487699, 0.6964746743849494, 0.6970998552821998, 0.6977250361794501, 0.6983502170767004, 0.6989753979739508, 0.6996005788712012, 0.7002257597684516, 0.7008509406657019, 0.7014761215629522, 0.7021013024602026, 0.702726483357453, 0.7033516642547033, 0.7039768451519537, 0.7046020260492041, 0.7052272069464545, 0.7058523878437049, 0.7064775687409551, 0.7071027496382055, 0.7077279305354559, 0.7083531114327063, 0.7089782923299566, 0.709603473227207, 0.7102286541244573, 0.7108538350217077, 0.711479015918958, 0.7121041968162084, 0.7127293777134588, 0.7133545586107092, 0.7139797395079595, 0.7146049204052098, 0.7152301013024602, 0.7158552821997106, 0.7164804630969609, 0.7171056439942113, 0.7177308248914617, 0.7183560057887121, 0.7189811866859624, 0.7196063675832127, 0.7202315484804631, 0.7208567293777135, 0.7214819102749639, 0.7221070911722142, 0.7227322720694646, 0.7233574529667149, 0.7239826338639653, 0.7246078147612156, 0.725232995658466, 0.7258581765557164, 0.7264833574529668, 0.727108538350217, 0.7277337192474674, 0.7283589001447178, 0.7289840810419682, 0.7296092619392185, 0.7302344428364689, 0.7308596237337193, 0.7314848046309697, 0.73210998552822, 0.7327351664254703, 0.7333603473227207, 0.7339855282199711, 0.7346107091172215, 0.7352358900144718, 0.7358610709117221, 0.7364862518089725, 0.7371114327062229, 0.7377366136034732, 0.7383617945007236, 0.738986975397974, 0.7396121562952244, 0.7402373371924746, 0.740862518089725, 0.7414876989869754, 0.7421128798842258, 0.7427380607814762, 0.7433632416787265, 0.7439884225759769, 0.7446136034732272, 0.7452387843704776, 0.7458639652677279, 0.7464891461649783, 0.7471143270622287, 0.7477395079594791, 0.7483646888567294, 0.7489898697539797, 0.7496150506512301, 0.7502402315484805, 0.7508654124457308, 0.7514905933429812, 0.7521157742402316, 0.752740955137482, 0.7533661360347322, 0.7539913169319826, 0.754616497829233, 0.7552416787264834, 0.7558668596237338, 0.7564920405209841, 0.7571172214182345, 0.7577424023154848, 0.7583675832127352, 0.7589927641099855, 0.7596179450072359, 0.7602431259044863, 0.7608683068017367, 0.761493487698987, 0.7621186685962373, 0.7627438494934877, 0.7633690303907381, 0.7639942112879884, 0.7646193921852388, 0.7652445730824892, 0.7658697539797396, 0.7664949348769898, 0.7671201157742402, 0.7677452966714906, 0.768370477568741, 0.7689956584659914, 0.7696208393632417, 0.770246020260492, 0.7708712011577424, 0.7714963820549928, 0.7721215629522431, 0.7727467438494935, 0.7733719247467439, 0.7739971056439943, 0.7746222865412445, 0.7752474674384949, 0.7758726483357453, 0.7764978292329957, 0.777123010130246, 0.7777481910274964, 0.7783733719247468, 0.7789985528219971, 0.7796237337192475, 0.7802489146164978, 0.7808740955137482, 0.7814992764109986, 0.782124457308249, 0.7827496382054993, 0.7833748191027496, 0.784, 0.7846251808972504, 0.7852503617945007, 0.7858755426917511, 0.7865007235890015, 0.7871259044862519, 0.7877510853835021, 0.7883762662807525, 0.7890014471780029, 0.7896266280752533, 0.7902518089725036, 0.790876989869754, 0.7915021707670044, 0.7921273516642547, 0.7927525325615051, 0.7933777134587554, 0.7940028943560058, 0.7946280752532562, 0.7952532561505066, 0.7958784370477568, 0.7965036179450072, 0.7971287988422576, 0.797753979739508, 0.7983791606367583, 0.7990043415340087, 0.7996295224312591, 0.8002547033285095, 0.8008798842257597, 0.8015050651230101, 0.8021302460202605, 0.8027554269175109, 0.8033806078147612, 0.8040057887120116, 0.804630969609262, 0.8052561505065123, 0.8058813314037627, 0.806506512301013, 0.8071316931982634, 0.8077568740955138, 0.8083820549927642, 0.8090072358900144, 0.8096324167872648, 0.8102575976845152, 0.8108827785817656, 0.8115079594790159, 0.8121331403762663, 0.8127583212735167, 0.813383502170767, 0.8140086830680173, 0.8146338639652677, 0.8152590448625181, 0.8158842257597685, 0.8165094066570189, 0.8171345875542692, 0.8177597684515195, 0.8183849493487699, 0.8190101302460203, 0.8196353111432706, 0.820260492040521, 0.8208856729377714, 0.8215108538350218, 0.822136034732272, 0.8227612156295224, 0.8233863965267728, 0.8240115774240232, 0.8246367583212735, 0.8252619392185239, 0.8258871201157743, 0.8265123010130246, 0.8271374819102749, 0.8277626628075253, 0.8283878437047757, 0.8290130246020261, 0.8296382054992765, 0.8302633863965267, 0.8308885672937771, 0.8315137481910275, 0.8321389290882779, 0.8327641099855282, 0.8333892908827786, 0.834014471780029, 0.8346396526772794, 0.8352648335745296, 0.83589001447178, 0.8365151953690304, 0.8371403762662808, 0.8377655571635311, 0.8383907380607815, 0.8390159189580318, 0.8396410998552822, 0.8402662807525325, 0.8408914616497829, 0.8415166425470333, 0.8421418234442837, 0.8427670043415341, 0.8433921852387843, 0.8440173661360347, 0.8446425470332851, 0.8452677279305355, 0.8458929088277858, 0.8465180897250362, 0.8471432706222866, 0.847768451519537, 0.8483936324167872, 0.8490188133140376, 0.849643994211288, 0.8502691751085384, 0.8508943560057887, 0.851519536903039, 0.8521447178002894, 0.8527698986975398, 0.8533950795947902, 0.8540202604920405, 0.8546454413892909, 0.8552706222865413, 0.8558958031837917, 0.8565209840810419, 0.8571461649782923, 0.8577713458755427, 0.8583965267727931, 0.8590217076700434, 0.8596468885672938, 0.8602720694645442, 0.8608972503617945, 0.8615224312590448, 0.8621476121562952, 0.8627727930535456, 0.863397973950796, 0.8640231548480463, 0.8646483357452966, 0.865273516642547, 0.8658986975397974, 0.8665238784370478, 0.8671490593342981, 0.8677742402315485, 0.8683994211287989, 0.8690246020260493, 0.8696497829232995, 0.8702749638205499, 0.8709001447178003, 0.8715253256150507, 0.872150506512301, 0.8727756874095514, 0.8734008683068017, 0.8740260492040521, 0.8746512301013024, 0.8752764109985528, 0.8759015918958032, 0.8765267727930536, 0.8771519536903039, 0.8777771345875542, 0.8784023154848046, 0.879027496382055, 0.8796526772793054, 0.8802778581765557, 0.8809030390738061, 0.8815282199710565, 0.8821534008683068, 0.8827785817655571, 0.8834037626628075, 0.8840289435600579, 0.8846541244573083, 0.8852793053545586, 0.885904486251809, 0.8865296671490593, 0.8871548480463097, 0.88778002894356, 0.8884052098408104, 0.8890303907380608, 0.8896555716353112, 0.8902807525325616, 0.8909059334298118, 0.8915311143270622, 0.8921562952243126, 0.892781476121563, 0.8934066570188133, 0.8940318379160637, 0.894657018813314, 0.8952821997105644, 0.8959073806078147, 0.8965325615050651, 0.8971577424023155, 0.8977829232995659, 0.8984081041968162, 0.8990332850940665, 0.8996584659913169, 0.9002836468885673, 0.9009088277858176, 0.901534008683068, 0.9021591895803184, 0.9027843704775688, 0.9034095513748192, 0.9040347322720694, 0.9046599131693198, 0.9052850940665702, 0.9059102749638206, 0.9065354558610709, 0.9071606367583213, 0.9077858176555716, 0.908410998552822, 0.9090361794500723, 0.9096613603473227, 0.9102865412445731, 0.9109117221418235, 0.9115369030390738, 0.9121620839363241, 0.9127872648335745, 0.9134124457308249, 0.9140376266280753, 0.9146628075253256, 0.915287988422576, 0.9159131693198264, 0.9165383502170767, 0.917163531114327, 0.9177887120115774, 0.9184138929088278, 0.9190390738060782, 0.9196642547033285, 0.9202894356005789, 0.9209146164978292, 0.9215397973950796, 0.9221649782923299, 0.9227901591895803, 0.9234153400868307, 0.9240405209840811, 0.9246657018813313, 0.9252908827785817, 0.9259160636758321, 0.9265412445730825, 0.9271664254703329, 0.9277916063675832, 0.9284167872648336, 0.929041968162084, 0.9296671490593343, 0.9302923299565846, 0.930917510853835, 0.9315426917510854, 0.9321678726483358, 0.9327930535455861, 0.9334182344428364, 0.9340434153400868, 0.9346685962373372, 0.9352937771345875, 0.9359189580318379, 0.9365441389290883, 0.9371693198263387, 0.9377945007235889, 0.9384196816208393, 0.9390448625180897, 0.9396700434153401, 0.9402952243125905, 0.9409204052098408, 0.9415455861070912, 0.9421707670043415, 0.9427959479015919, 0.9434211287988422, 0.9440463096960926, 0.944671490593343, 0.9452966714905934, 0.9459218523878437, 0.946547033285094, 0.9471722141823444, 0.9477973950795948, 0.9484225759768451, 0.9490477568740955, 0.9496729377713459, 0.9502981186685963, 0.9509232995658466, 0.9515484804630969, 0.9521736613603473, 0.9527988422575977, 0.9534240231548481, 0.9540492040520984, 0.9546743849493488, 0.9552995658465991, 0.9559247467438495, 0.9565499276410998, 0.9571751085383502, 0.9578002894356006, 0.958425470332851, 0.9590506512301012, 0.9596758321273516, 0.960301013024602, 0.9609261939218524, 0.9615513748191027, 0.9621765557163531, 0.9628017366136035, 0.9634269175108539, 0.9640520984081042, 0.9646772793053545, 0.9653024602026049, 0.9659276410998553, 0.9665528219971057, 0.967178002894356, 0.9678031837916063, 0.9684283646888567, 0.9690535455861071, 0.9696787264833574, 0.9703039073806078, 0.9709290882778582, 0.9715542691751086, 0.9721794500723588, 0.9728046309696092, 0.9734298118668596, 0.97405499276411, 0.9746801736613603, 0.9753053545586107, 0.9759305354558611, 0.9765557163531114, 0.9771808972503618, 0.9778060781476121, 0.9784312590448625, 0.9790564399421129, 0.9796816208393633, 0.9803068017366136, 0.9809319826338639, 0.9815571635311143, 0.9821823444283647, 0.982807525325615, 0.9834327062228654, 0.9840578871201158, 0.9846830680173662, 0.9853082489146164, 0.9859334298118668, 0.9865586107091172, 0.9871837916063676, 0.987808972503618, 0.9884341534008683, 0.9890593342981187, 0.989684515195369, 0.9903096960926194, 0.9909348769898697, 0.9915600578871201, 0.9921852387843705, 0.9928104196816209, 0.9934356005788711, 0.9940607814761215, 0.9946859623733719, 0.9953111432706223, 0.9959363241678726, 0.996561505065123, 0.9971866859623734, 0.9978118668596238, 0.998437047756874, 0.9990622286541244, 0.9996874095513748], [0.001, 0.001, 0.001, 0.001, 0.001, 0.001, 0.001, 0.001, 0.001, 0.001, 0.001, 0.001, 0.001, 0.001, 0.001, 0.001, 0.001, 0.001, 0.001, 0.001, 0.001, 0.001, 0.001, 0.001, 0.001, 0.001, 0.001, 0.001, 0.001, 0.001, 0.001, 0.001, 0.001, 0.001, 0.001, 0.001, 0.001, 0.001, 0.001, 0.001, 0.001, 0.001, 0.001, 0.001, 0.001, 0.001, 0.001, 0.001, 0.001, 0.001, 0.001, 0.001, 0.001, 0.001, 0.001, 0.001, 0.001, 0.001, 0.001, 0.001, 0.001, 0.001, 0.001, 0.001, 0.001, 0.001, 0.001, 0.001, 0.001, 0.001, 0.001, 0.001, 0.001, 0.001, 0.001, 0.001, 0.001, 0.001, 0.001, 0.001, 0.001, 0.001, 0.001, 0.001, 0.001, 0.001, 0.001, 0.001, 0.001, 0.001, 0.001, 0.001, 0.001, 0.001, 0.001, 0.001, 0.001, 0.001, 0.001, 0.001, 0.001, 0.001, 0.001, 0.001, 0.001, 0.001, 0.001, 0.001, 0.001, 0.001, 0.001, 0.001, 0.001, 0.001, 0.001, 0.001, 0.001, 0.001, 0.001, 0.001, 0.001, 0.001, 0.001, 0.001, 0.001, 0.001, 0.001, 0.001, 0.001, 0.001, 0.001, 0.001, 0.001, 0.001, 0.001, 0.001, 0.001, 0.001, 0.001, 0.001, 0.001, 0.001, 0.001, 0.001, 0.001, 0.001, 0.001, 0.001, 0.001, 0.001, 0.001, 0.001, 0.001, 0.001, 0.001, 0.001, 0.001, 0.001, 0.001, 0.001, 0.001, 0.001, 0.001, 0.001, 0.001, 0.001, 0.001, 0.001, 0.001, 0.001, 0.001, 0.001, 0.001, 0.001, 0.001, 0.001, 0.001, 0.001, 0.001, 0.001, 0.001, 0.001, 0.001, 0.001, 0.001, 0.001, 0.001, 0.001, 0.001, 0.001, 0.001, 0.001, 0.001, 0.001, 0.001, 0.001, 0.001, 0.001, 0.001, 0.001, 0.001, 0.001, 0.001, 0.001, 0.001, 0.001, 0.001, 0.001, 0.001, 0.001, 0.001, 0.001, 0.001, 0.001, 0.001, 0.001, 0.001, 0.001, 0.001, 0.001, 0.001, 0.001, 0.001, 0.001, 0.001, 0.001, 0.001, 0.001, 0.001, 0.001, 0.001, 0.001, 0.001, 0.001, 0.001, 0.001, 0.001, 0.001, 0.001, 0.001, 0.001, 0.001, 0.001, 0.001, 0.001, 0.001, 0.001, 0.001, 0.001, 0.001, 0.001, 0.001, 0.001, 0.001, 0.001, 0.001, 0.001, 0.001, 0.001, 0.001, 0.001, 0.001, 0.001, 0.001, 0.001, 0.001, 0.001, 0.001, 0.001, 0.001, 0.001, 0.001, 0.001, 0.001, 0.001, 0.001, 0.001, 0.001, 0.001, 0.001, 0.001, 0.001, 0.001, 0.001, 0.001, 0.001, 0.001, 0.001, 0.001, 0.001, 0.001, 0.001, 0.001, 0.001, 0.001, 0.001, 0.001, 0.001, 0.001, 0.001, 0.001, 0.001, 0.001, 0.001, 0.001, 0.001, 0.001, 0.001, 0.001, 0.001, 0.001, 0.001, 0.001, 0.001, 0.001, 0.001, 0.001, 0.001, 0.001, 0.001, 0.001, 0.001, 0.001, 0.001, 0.001, 0.001, 0.001, 0.001, 0.001, 0.001, 0.001, 0.001, 0.001, 0.001, 0.001, 0.001, 0.001, 0.001, 0.001, 0.001, 0.001, 0.001, 0.001, 0.001, 0.001, 0.001, 0.001, 0.001, 0.001, 0.001, 0.001, 0.001, 0.001, 0.001, 0.001, 0.001, 0.001, 0.001, 0.001, 0.001, 0.001, 0.001, 0.001, 0.001, 0.001, 0.001, 0.001, 0.001, 0.001, 0.001, 0.001, 0.001, 0.001, 0.001, 0.001, 0.001, 0.001, 0.001, 0.001, 0.001, 0.001, 0.001, 0.001, 0.001, 0.001, 0.001, 0.001, 0.001, 0.001, 0.001, 0.001, 0.001, 0.001, 0.001, 0.001, 0.001, 0.001, 0.001, 0.001, 0.001, 0.001, 0.001, 0.001, 0.001, 0.001, 0.001, 0.001, 0.001, 0.001, 0.001, 0.001, 0.001, 0.001, 0.001, 0.001, 0.001, 0.001, 0.001, 0.001, 0.001, 0.001, 0.001, 0.001, 0.001, 0.001, 0.001, 0.001, 0.001, 0.001, 0.001, 0.001, 0.001, 0.001, 0.001, 0.001, 0.001, 0.001, 0.001, 0.001, 0.001, 0.001, 0.001, 0.001, 0.001, 0.001, 0.001, 0.001, 0.001, 0.001, 0.001, 0.001, 0.001, 0.001, 0.001, 0.001, 0.001, 0.001, 0.001, 0.001, 0.001, 0.001, 0.001, 0.001, 0.001, 0.001, 0.001, 0.001, 0.001, 0.001, 0.001, 0.001, 0.001, 0.001, 0.001, 0.001, 0.001, 0.001, 0.001, 0.001, 0.001, 0.001, 0.001, 0.001, 0.001, 0.001, 0.001, 0.001, 0.001, 0.001, 0.001, 0.001, 0.001, 0.001, 0.001, 0.001, 0.001, 0.001, 0.001, 0.001, 0.001, 0.001, 0.001, 0.001, 0.001, 0.001, 0.001, 0.001, 0.001, 0.001, 0.001, 0.001, 0.001, 0.001, 0.001, 0.001, 0.001, 0.001, 0.001, 0.001, 0.001, 0.001, 0.001, 0.001, 0.001, 0.001, 0.001, 0.001, 0.001, 0.001, 0.001, 0.001, 0.001, 0.001, 0.001, 0.001, 0.001, 0.001, 0.001, 0.001, 0.001, 0.001, 0.001, 0.001, 0.001, 0.001, 0.001, 0.001, 0.001, 0.001, 0.001, 0.001, 0.001, 0.001, 0.001, 0.001, 0.001, 0.001, 0.001, 0.001, 0.001, 0.001, 0.001, 0.001, 0.001, 0.001, 0.001, 0.001, 0.001, 0.001, 0.001, 0.001, 0.001, 0.001, 0.001, 0.001, 0.001, 0.001, 0.001, 0.001, 0.001, 0.001, 0.001, 0.001, 0.001, 0.001, 0.001, 0.001, 0.001, 0.001, 0.001, 0.001, 0.001, 0.001, 0.001, 0.001, 0.001, 0.001, 0.001, 0.001, 0.001, 0.001, 0.001, 0.001, 0.001, 0.001, 0.001, 0.001, 0.001, 0.001, 0.001, 0.001, 0.001, 0.001, 0.001, 0.001, 0.001, 0.001, 0.001, 0.001, 0.001, 0.001, 0.001, 0.001, 0.001, 0.001, 0.001, 0.001, 0.001, 0.001, 0.001, 0.001, 0.001, 0.001, 0.001, 0.001, 0.001, 0.001, 0.001, 0.001, 0.001, 0.001, 0.001, 0.001, 0.001, 0.001, 0.001, 0.001, 0.001, 0.001, 0.001, 0.001, 0.001, 0.001, 0.001, 0.001, 0.001, 0.001, 0.001, 0.001, 0.001, 0.001, 0.001, 0.001, 0.001, 0.001, 0.001, 0.001, 0.001, 0.001, 0.001, 0.001, 0.001, 0.001, 0.001, 0.001, 0.001, 0.001, 0.001, 0.001, 0.001, 0.001, 0.001, 0.001, 0.001, 0.001, 0.001, 0.001, 0.001, 0.001, 0.001, 0.001, 0.001, 0.001, 0.001, 0.001, 0.001, 0.001, 0.001, 0.001, 0.001, 0.001, 0.001, 0.001, 0.001, 0.001, 0.001, 0.001, 0.001, 0.001, 0.001, 0.001, 0.001, 0.001, 0.001, 0.001, 0.001, 0.001, 0.001, 0.001, 0.001, 0.001, 0.001, 0.001, 0.001, 0.001, 0.001, 0.001, 0.001, 0.001, 0.001, 0.001, 0.001, 0.001, 0.001, 0.001, 0.001, 0.001, 0.001, 0.001, 0.001, 0.001, 0.001, 0.001, 0.001, 0.001, 0.001, 0.001, 0.001, 0.001, 0.001, 0.001, 0.001, 0.001, 0.001, 0.001, 0.001, 0.001, 0.001, 0.001, 0.001, 0.001, 0.001, 0.001, 0.001, 0.001, 0.001, 0.001, 0.001, 0.001, 0.001, 0.001, 0.001, 0.001, 0.001, 0.001, 0.001, 0.001, 0.001, 0.001, 0.001, 0.001, 0.001, 0.001, 0.001, 0.001, 0.001, 0.001, 0.001, 0.001, 0.001, 0.001, 0.001, 0.001, 0.001, 0.001, 0.001, 0.001, 0.001, 0.001, 0.001, 0.001, 0.001, 0.001, 0.001, 0.001, 0.001, 0.001, 0.001, 0.001, 0.001, 0.001, 0.001, 0.001, 0.001, 0.001, 0.001, 0.001, 0.001, 0.001, 0.001, 0.001, 0.001, 0.001, 0.001, 0.001, 0.001, 0.001, 0.001, 0.001, 0.001, 0.001, 0.001, 0.001, 0.001, 0.001, 0.001, 0.001, 0.001, 0.001, 0.001, 0.001, 0.001, 0.001, 0.001, 0.001, 0.001, 0.001, 0.001, 0.001, 0.001, 0.001, 0.001, 0.001, 0.001, 0.001, 0.001, 0.001, 0.001, 0.001, 0.001, 0.001, 0.001, 0.001, 0.001, 0.001, 0.001, 0.001, 0.001, 0.001, 0.001, 0.001, 0.001, 0.001, 0.001, 0.001, 0.001, 0.001, 0.001, 0.001, 0.001, 0.001, 0.001, 0.001, 0.001, 0.001, 0.001, 0.001, 0.001, 0.001, 0.001, 0.001, 0.001, 0.001, 0.001, 0.001, 0.001, 0.001, 0.001, 0.001, 0.001, 0.001, 0.001, 0.001, 0.001, 0.001, 0.001, 0.001, 0.001, 0.001, 0.001, 0.001, 0.001, 0.001, 0.001, 0.001, 0.001, 0.001, 0.001, 0.001, 0.001, 0.001, 0.001, 0.001, 0.001, 0.001, 0.001, 0.001, 0.001, 0.001, 0.001, 0.001, 0.001, 0.001, 0.001, 0.001, 0.001, 0.001, 0.001, 0.001, 0.001, 0.001, 0.001, 0.001, 0.001, 0.001, 0.001, 0.001, 0.001, 0.001, 0.001, 0.001, 0.001, 0.001, 0.001, 0.001, 0.001, 0.001, 0.001, 0.001, 0.001, 0.001, 0.001, 0.001, 0.001, 0.001, 0.001, 0.001, 0.001, 0.001, 0.001, 0.001, 0.001, 0.001, 0.001, 0.001, 0.001, 0.001, 0.001, 0.001, 0.001, 0.001, 0.001, 0.001, 0.001, 0.001, 0.001, 0.001, 0.001, 0.001, 0.001, 0.001, 0.001, 0.001, 0.001, 0.001, 0.001, 0.001, 0.001, 0.001, 0.001]), ACE1.Transforms.Agnesi2Transform{Float64, Int64}(1.0, 1, 3, 0.2857142857142857, 0.0), 0.0, 6.0, PolyEnvelope{Float64}(2, 1.0, 6.0));;], [0;;]), RPIBasis{Float64, BasicPSH1pBasis{Float64, 1, ACE1.OrthPolys.TransformedPolys{Float64, ACE1.Transforms.MultiTransform{1, ACE1.Transforms.AffineT{Float64, ACE1.Transforms.Agnesi2Transform{Float64, Int64}}}, ACE1.OrthPolys.OrthPolyBasis{Float64}, ACE1.OrthPolys.OneEnvelope}}, 1, ACE1.DAGEvaluator}(PIBasis{BasicPSH1pBasis{Float64, 1, ACE1.OrthPolys.TransformedPolys{Float64, ACE1.Transforms.MultiTransform{1, ACE1.Transforms.AffineT{Float64, ACE1.Transforms.Agnesi2Transform{Float64, Int64}}}, ACE1.OrthPolys.OrthPolyBasis{Float64}, ACE1.OrthPolys.OneEnvelope}}, 1, ACE1.DAGEvaluator}(BasicPSH1pBasis{Float64, 1, ACE1.OrthPolys.TransformedPolys{Float64, ACE1.Transforms.MultiTransform{1, ACE1.Transforms.AffineT{Float64, ACE1.Transforms.Agnesi2Transform{Float64, Int64}}}, ACE1.OrthPolys.OrthPolyBasis{Float64}, ACE1.OrthPolys.OneEnvelope}}(ACE1.OrthPolys.TransformedPolys{Float64, ACE1.Transforms.MultiTransform{1, ACE1.Transforms.AffineT{Float64, ACE1.Transforms.Agnesi2Transform{Float64, Int64}}}, ACE1.OrthPolys.OrthPolyBasis{Float64}, ACE1.OrthPolys.OneEnvelope}(ACE1.OrthPolys.OrthPolyBasis{Float64}(2, -1.0, 2, 1.0, [1.5687375497513916, 3.316624790355401, 2.6739483914241924, 2.430862174022013, 2.3048861143233235, 2.2291771507065796, 2.179449471771357, 2.1447610589554333, 2.11947811973324], [0.0, -2.0786140873094945e-18, -7.017609472481619e-18, 2.412551411320251e-17, -4.62164749360015e-17, 8.442290037528487e-17, -1.036773538695508e-16, 1.0425048391689846e-16, -1.0935396246574519e-16, 1.1420171246516114e-16, -1.2236837934382784e-16, 1.182192736628651e-16, -8.383224079690349e-17, 1.6979098049736654e-16], [0.0, 0.0, -0.8062257748298566, -0.9090909090909166, -0.9481763873554975, -0.9671528397232887, -0.9776923610941106, -0.9840838646340674, -0.9882117688044432, -0.9910081668223438, -0.9929753269925167, -0.9944021951446381, -0.9954638496291572, -0.9962709628235593], [-0.999, -0.997, -0.995, -0.993, -0.991, -0.989, -0.987, -0.985, -0.983, -0.981, -0.979, -0.977, -0.975, -0.973, -0.971, -0.969, -0.967, -0.965, -0.963, -0.961, -0.959, -0.957, -0.955, -0.953, -0.951, -0.949, -0.947, -0.945, -0.943, -0.941, -0.939, -0.937, -0.935, -0.933, -0.931, -0.929, -0.927, -0.925, -0.923, -0.921, -0.919, -0.917, -0.915, -0.913, -0.911, -0.909, -0.907, -0.905, -0.903, -0.901, -0.899, -0.897, -0.895, -0.893, -0.891, -0.889, -0.887, -0.885, -0.883, -0.881, -0.879, -0.877, -0.875, -0.873, -0.871, -0.869, -0.867, -0.865, -0.863, -0.861, -0.859, -0.857, -0.855, -0.853, -0.851, -0.849, -0.847, -0.845, -0.843, -0.841, -0.839, -0.837, -0.835, -0.833, -0.831, -0.829, -0.827, -0.825, -0.823, -0.821, -0.819, -0.817, -0.815, -0.813, -0.811, -0.809, -0.807, -0.805, -0.803, -0.801, -0.799, -0.797, -0.795, -0.793, -0.791, -0.789, -0.787, -0.785, -0.783, -0.781, -0.779, -0.777, -0.775, -0.773, -0.771, -0.769, -0.767, -0.765, -0.763, -0.761, -0.759, -0.757, -0.755, -0.753, -0.751, -0.749, -0.747, -0.745, -0.743, -0.741, -0.739, -0.737, -0.735, -0.733, -0.731, -0.729, -0.727, -0.725, -0.723, -0.721, -0.719, -0.717, -0.715, -0.713, -0.711, -0.709, -0.707, -0.705, -0.703, -0.701, -0.699, -0.697, -0.695, -0.693, -0.691, -0.689, -0.687, -0.685, -0.683, -0.681, -0.679, -0.677, -0.675, -0.673, -0.671, -0.669, -0.667, -0.665, -0.663, -0.661, -0.659, -0.657, -0.655, -0.653, -0.651, -0.649, -0.647, -0.645, -0.643, -0.641, -0.639, -0.637, -0.635, -0.633, -0.631, -0.629, -0.627, -0.625, -0.623, -0.621, -0.619, -0.617, -0.615, -0.613, -0.611, -0.609, -0.607, -0.605, -0.603, -0.601, -0.599, -0.597, -0.595, -0.593, -0.591, -0.589, -0.587, -0.585, -0.583, -0.581, -0.579, -0.577, -0.575, -0.573, -0.571, -0.569, -0.567, -0.565, -0.563, -0.561, -0.559, -0.557, -0.555, -0.553, -0.551, -0.549, -0.547, -0.545, -0.543, -0.541, -0.539, -0.537, -0.535, -0.533, -0.531, -0.529, -0.527, -0.525, -0.523, -0.521, -0.519, -0.517, -0.515, -0.513, -0.511, -0.509, -0.507, -0.505, -0.503, -0.501, -0.499, -0.497, -0.495, -0.493, -0.491, -0.489, -0.487, -0.485, -0.483, -0.481, -0.479, -0.477, -0.475, -0.473, -0.471, -0.469, -0.467, -0.465, -0.463, -0.461, -0.459, -0.457, -0.455, -0.453, -0.451, -0.449, -0.447, -0.445, -0.443, -0.441, -0.439, -0.437, -0.435, -0.433, -0.431, -0.429, -0.427, -0.425, -0.423, -0.421, -0.419, -0.417, -0.415, -0.413, -0.411, -0.409, -0.407, -0.405, -0.403, -0.401, -0.399, -0.397, -0.395, -0.393, -0.391, -0.389, -0.387, -0.385, -0.383, -0.381, -0.379, -0.377, -0.375, -0.373, -0.371, -0.369, -0.367, -0.365, -0.363, -0.361, -0.359, -0.357, -0.355, -0.353, -0.351, -0.349, -0.347, -0.345, -0.343, -0.341, -0.339, -0.337, -0.335, -0.333, -0.331, -0.329, -0.327, -0.325, -0.323, -0.321, -0.319, -0.317, -0.315, -0.313, -0.311, -0.309, -0.307, -0.305, -0.303, -0.301, -0.299, -0.297, -0.295, -0.293, -0.291, -0.289, -0.287, -0.285, -0.283, -0.281, -0.279, -0.277, -0.275, -0.273, -0.271, -0.269, -0.267, -0.265, -0.263, -0.261, -0.259, -0.257, -0.255, -0.253, -0.251, -0.249, -0.247, -0.245, -0.243, -0.241, -0.239, -0.237, -0.235, -0.233, -0.231, -0.229, -0.227, -0.225, -0.223, -0.221, -0.219, -0.217, -0.215, -0.213, -0.211, -0.209, -0.207, -0.205, -0.203, -0.201, -0.199, -0.197, -0.195, -0.193, -0.191, -0.189, -0.187, -0.185, -0.183, -0.181, -0.179, -0.177, -0.175, -0.173, -0.171, -0.169, -0.167, -0.165, -0.163, -0.161, -0.159, -0.157, -0.155, -0.153, -0.151, -0.149, -0.147, -0.145, -0.143, -0.141, -0.139, -0.137, -0.135, -0.133, -0.131, -0.129, -0.127, -0.125, -0.123, -0.121, -0.119, -0.117, -0.115, -0.113, -0.111, -0.109, -0.107, -0.105, -0.103, -0.101, -0.099, -0.097, -0.095, -0.093, -0.091, -0.089, -0.087, -0.085, -0.083, -0.081, -0.079, -0.077, -0.075, -0.073, -0.071, -0.069, -0.067, -0.065, -0.063, -0.061, -0.059, -0.057, -0.055, -0.053, -0.051, -0.049, -0.047, -0.045, -0.043, -0.041, -0.039, -0.037, -0.035, -0.033, -0.031, -0.029, -0.027, -0.025, -0.023, -0.021, -0.019, -0.017, -0.015, -0.013, -0.011, -0.009, -0.007, -0.005, -0.003, -0.001, 0.001, 0.003, 0.005, 0.007, 0.009, 0.011, 0.013, 0.015, 0.017, 0.019, 0.021, 0.023, 0.025, 0.027, 0.029, 0.031, 0.033, 0.035, 0.037, 0.039, 0.041, 0.043, 0.045, 0.047, 0.049, 0.051, 0.053, 0.055, 0.057, 0.059, 0.061, 0.063, 0.065, 0.067, 0.069, 0.071, 0.073, 0.075, 0.077, 0.079, 0.081, 0.083, 0.085, 0.087, 0.089, 0.091, 0.093, 0.095, 0.097, 0.099, 0.101, 0.103, 0.105, 0.107, 0.109, 0.111, 0.113, 0.115, 0.117, 0.119, 0.121, 0.123, 0.125, 0.127, 0.129, 0.131, 0.133, 0.135, 0.137, 0.139, 0.141, 0.143, 0.145, 0.147, 0.149, 0.151, 0.153, 0.155, 0.157, 0.159, 0.161, 0.163, 0.165, 0.167, 0.169, 0.171, 0.173, 0.175, 0.177, 0.179, 0.181, 0.183, 0.185, 0.187, 0.189, 0.191, 0.193, 0.195, 0.197, 0.199, 0.201, 0.203, 0.205, 0.207, 0.209, 0.211, 0.213, 0.215, 0.217, 0.219, 0.221, 0.223, 0.225, 0.227, 0.229, 0.231, 0.233, 0.235, 0.237, 0.239, 0.241, 0.243, 0.245, 0.247, 0.249, 0.251, 0.253, 0.255, 0.257, 0.259, 0.261, 0.263, 0.265, 0.267, 0.269, 0.271, 0.273, 0.275, 0.277, 0.279, 0.281, 0.283, 0.285, 0.287, 0.289, 0.291, 0.293, 0.295, 0.297, 0.299, 0.301, 0.303, 0.305, 0.307, 0.309, 0.311, 0.313, 0.315, 0.317, 0.319, 0.321, 0.323, 0.325, 0.327, 0.329, 0.331, 0.333, 0.335, 0.337, 0.339, 0.341, 0.343, 0.345, 0.347, 0.349, 0.351, 0.353, 0.355, 0.357, 0.359, 0.361, 0.363, 0.365, 0.367, 0.369, 0.371, 0.373, 0.375, 0.377, 0.379, 0.381, 0.383, 0.385, 0.387, 0.389, 0.391, 0.393, 0.395, 0.397, 0.399, 0.401, 0.403, 0.405, 0.407, 0.409, 0.411, 0.413, 0.415, 0.417, 0.419, 0.421, 0.423, 0.425, 0.427, 0.429, 0.431, 0.433, 0.435, 0.437, 0.439, 0.441, 0.443, 0.445, 0.447, 0.449, 0.451, 0.453, 0.455, 0.457, 0.459, 0.461, 0.463, 0.465, 0.467, 0.469, 0.471, 0.473, 0.475, 0.477, 0.479, 0.481, 0.483, 0.485, 0.487, 0.489, 0.491, 0.493, 0.495, 0.497, 0.499, 0.501, 0.503, 0.505, 0.507, 0.509, 0.511, 0.513, 0.515, 0.517, 0.519, 0.521, 0.523, 0.525, 0.527, 0.529, 0.531, 0.533, 0.535, 0.537, 0.539, 0.541, 0.543, 0.545, 0.547, 0.549, 0.551, 0.553, 0.555, 0.557, 0.559, 0.561, 0.563, 0.565, 0.567, 0.569, 0.571, 0.573, 0.575, 0.577, 0.579, 0.581, 0.583, 0.585, 0.587, 0.589, 0.591, 0.593, 0.595, 0.597, 0.599, 0.601, 0.603, 0.605, 0.607, 0.609, 0.611, 0.613, 0.615, 0.617, 0.619, 0.621, 0.623, 0.625, 0.627, 0.629, 0.631, 0.633, 0.635, 0.637, 0.639, 0.641, 0.643, 0.645, 0.647, 0.649, 0.651, 0.653, 0.655, 0.657, 0.659, 0.661, 0.663, 0.665, 0.667, 0.669, 0.671, 0.673, 0.675, 0.677, 0.679, 0.681, 0.683, 0.685, 0.687, 0.689, 0.691, 0.693, 0.695, 0.697, 0.699, 0.701, 0.703, 0.705, 0.707, 0.709, 0.711, 0.713, 0.715, 0.717, 0.719, 0.721, 0.723, 0.725, 0.727, 0.729, 0.731, 0.733, 0.735, 0.737, 0.739, 0.741, 0.743, 0.745, 0.747, 0.749, 0.751, 0.753, 0.755, 0.757, 0.759, 0.761, 0.763, 0.765, 0.767, 0.769, 0.771, 0.773, 0.775, 0.777, 0.779, 0.781, 0.783, 0.785, 0.787, 0.789, 0.791, 0.793, 0.795, 0.797, 0.799, 0.801, 0.803, 0.805, 0.807, 0.809, 0.811, 0.813, 0.815, 0.817, 0.819, 0.821, 0.823, 0.825, 0.827, 0.829, 0.831, 0.833, 0.835, 0.837, 0.839, 0.841, 0.843, 0.845, 0.847, 0.849, 0.851, 0.853, 0.855, 0.857, 0.859, 0.861, 0.863, 0.865, 0.867, 0.869, 0.871, 0.873, 0.875, 0.877, 0.879, 0.881, 0.883, 0.885, 0.887, 0.889, 0.891, 0.893, 0.895, 0.897, 0.899, 0.901, 0.903, 0.905, 0.907, 0.909, 0.911, 0.913, 0.915, 0.917, 0.919, 0.921, 0.923, 0.925, 0.927, 0.929, 0.931, 0.933, 0.935, 0.937, 0.939, 0.941, 0.943, 0.945, 0.947, 0.949, 0.951, 0.953, 0.955, 0.957, 0.959, 0.961, 0.963, 0.965, 0.967, 0.969, 0.971, 0.973, 0.975, 0.977, 0.979, 0.981, 0.983, 0.985, 0.987, 0.989, 0.991, 0.993, 0.995, 0.997, 0.999], [0.001, 0.001, 0.001, 0.001, 0.001, 0.001, 0.001, 0.001, 0.001, 0.001, 0.001, 0.001, 0.001, 0.001, 0.001, 0.001, 0.001, 0.001, 0.001, 0.001, 0.001, 0.001, 0.001, 0.001, 0.001, 0.001, 0.001, 0.001, 0.001, 0.001, 0.001, 0.001, 0.001, 0.001, 0.001, 0.001, 0.001, 0.001, 0.001, 0.001, 0.001, 0.001, 0.001, 0.001, 0.001, 0.001, 0.001, 0.001, 0.001, 0.001, 0.001, 0.001, 0.001, 0.001, 0.001, 0.001, 0.001, 0.001, 0.001, 0.001, 0.001, 0.001, 0.001, 0.001, 0.001, 0.001, 0.001, 0.001, 0.001, 0.001, 0.001, 0.001, 0.001, 0.001, 0.001, 0.001, 0.001, 0.001, 0.001, 0.001, 0.001, 0.001, 0.001, 0.001, 0.001, 0.001, 0.001, 0.001, 0.001, 0.001, 0.001, 0.001, 0.001, 0.001, 0.001, 0.001, 0.001, 0.001, 0.001, 0.001, 0.001, 0.001, 0.001, 0.001, 0.001, 0.001, 0.001, 0.001, 0.001, 0.001, 0.001, 0.001, 0.001, 0.001, 0.001, 0.001, 0.001, 0.001, 0.001, 0.001, 0.001, 0.001, 0.001, 0.001, 0.001, 0.001, 0.001, 0.001, 0.001, 0.001, 0.001, 0.001, 0.001, 0.001, 0.001, 0.001, 0.001, 0.001, 0.001, 0.001, 0.001, 0.001, 0.001, 0.001, 0.001, 0.001, 0.001, 0.001, 0.001, 0.001, 0.001, 0.001, 0.001, 0.001, 0.001, 0.001, 0.001, 0.001, 0.001, 0.001, 0.001, 0.001, 0.001, 0.001, 0.001, 0.001, 0.001, 0.001, 0.001, 0.001, 0.001, 0.001, 0.001, 0.001, 0.001, 0.001, 0.001, 0.001, 0.001, 0.001, 0.001, 0.001, 0.001, 0.001, 0.001, 0.001, 0.001, 0.001, 0.001, 0.001, 0.001, 0.001, 0.001, 0.001, 0.001, 0.001, 0.001, 0.001, 0.001, 0.001, 0.001, 0.001, 0.001, 0.001, 0.001, 0.001, 0.001, 0.001, 0.001, 0.001, 0.001, 0.001, 0.001, 0.001, 0.001, 0.001, 0.001, 0.001, 0.001, 0.001, 0.001, 0.001, 0.001, 0.001, 0.001, 0.001, 0.001, 0.001, 0.001, 0.001, 0.001, 0.001, 0.001, 0.001, 0.001, 0.001, 0.001, 0.001, 0.001, 0.001, 0.001, 0.001, 0.001, 0.001, 0.001, 0.001, 0.001, 0.001, 0.001, 0.001, 0.001, 0.001, 0.001, 0.001, 0.001, 0.001, 0.001, 0.001, 0.001, 0.001, 0.001, 0.001, 0.001, 0.001, 0.001, 0.001, 0.001, 0.001, 0.001, 0.001, 0.001, 0.001, 0.001, 0.001, 0.001, 0.001, 0.001, 0.001, 0.001, 0.001, 0.001, 0.001, 0.001, 0.001, 0.001, 0.001, 0.001, 0.001, 0.001, 0.001, 0.001, 0.001, 0.001, 0.001, 0.001, 0.001, 0.001, 0.001, 0.001, 0.001, 0.001, 0.001, 0.001, 0.001, 0.001, 0.001, 0.001, 0.001, 0.001, 0.001, 0.001, 0.001, 0.001, 0.001, 0.001, 0.001, 0.001, 0.001, 0.001, 0.001, 0.001, 0.001, 0.001, 0.001, 0.001, 0.001, 0.001, 0.001, 0.001, 0.001, 0.001, 0.001, 0.001, 0.001, 0.001, 0.001, 0.001, 0.001, 0.001, 0.001, 0.001, 0.001, 0.001, 0.001, 0.001, 0.001, 0.001, 0.001, 0.001, 0.001, 0.001, 0.001, 0.001, 0.001, 0.001, 0.001, 0.001, 0.001, 0.001, 0.001, 0.001, 0.001, 0.001, 0.001, 0.001, 0.001, 0.001, 0.001, 0.001, 0.001, 0.001, 0.001, 0.001, 0.001, 0.001, 0.001, 0.001, 0.001, 0.001, 0.001, 0.001, 0.001, 0.001, 0.001, 0.001, 0.001, 0.001, 0.001, 0.001, 0.001, 0.001, 0.001, 0.001, 0.001, 0.001, 0.001, 0.001, 0.001, 0.001, 0.001, 0.001, 0.001, 0.001, 0.001, 0.001, 0.001, 0.001, 0.001, 0.001, 0.001, 0.001, 0.001, 0.001, 0.001, 0.001, 0.001, 0.001, 0.001, 0.001, 0.001, 0.001, 0.001, 0.001, 0.001, 0.001, 0.001, 0.001, 0.001, 0.001, 0.001, 0.001, 0.001, 0.001, 0.001, 0.001, 0.001, 0.001, 0.001, 0.001, 0.001, 0.001, 0.001, 0.001, 0.001, 0.001, 0.001, 0.001, 0.001, 0.001, 0.001, 0.001, 0.001, 0.001, 0.001, 0.001, 0.001, 0.001, 0.001, 0.001, 0.001, 0.001, 0.001, 0.001, 0.001, 0.001, 0.001, 0.001, 0.001, 0.001, 0.001, 0.001, 0.001, 0.001, 0.001, 0.001, 0.001, 0.001, 0.001, 0.001, 0.001, 0.001, 0.001, 0.001, 0.001, 0.001, 0.001, 0.001, 0.001, 0.001, 0.001, 0.001, 0.001, 0.001, 0.001, 0.001, 0.001, 0.001, 0.001, 0.001, 0.001, 0.001, 0.001, 0.001, 0.001, 0.001, 0.001, 0.001, 0.001, 0.001, 0.001, 0.001, 0.001, 0.001, 0.001, 0.001, 0.001, 0.001, 0.001, 0.001, 0.001, 0.001, 0.001, 0.001, 0.001, 0.001, 0.001, 0.001, 0.001, 0.001, 0.001, 0.001, 0.001, 0.001, 0.001, 0.001, 0.001, 0.001, 0.001, 0.001, 0.001, 0.001, 0.001, 0.001, 0.001, 0.001, 0.001, 0.001, 0.001, 0.001, 0.001, 0.001, 0.001, 0.001, 0.001, 0.001, 0.001, 0.001, 0.001, 0.001, 0.001, 0.001, 0.001, 0.001, 0.001, 0.001, 0.001, 0.001, 0.001, 0.001, 0.001, 0.001, 0.001, 0.001, 0.001, 0.001, 0.001, 0.001, 0.001, 0.001, 0.001, 0.001, 0.001, 0.001, 0.001, 0.001, 0.001, 0.001, 0.001, 0.001, 0.001, 0.001, 0.001, 0.001, 0.001, 0.001, 0.001, 0.001, 0.001, 0.001, 0.001, 0.001, 0.001, 0.001, 0.001, 0.001, 0.001, 0.001, 0.001, 0.001, 0.001, 0.001, 0.001, 0.001, 0.001, 0.001, 0.001, 0.001, 0.001, 0.001, 0.001, 0.001, 0.001, 0.001, 0.001, 0.001, 0.001, 0.001, 0.001, 0.001, 0.001, 0.001, 0.001, 0.001, 0.001, 0.001, 0.001, 0.001, 0.001, 0.001, 0.001, 0.001, 0.001, 0.001, 0.001, 0.001, 0.001, 0.001, 0.001, 0.001, 0.001, 0.001, 0.001, 0.001, 0.001, 0.001, 0.001, 0.001, 0.001, 0.001, 0.001, 0.001, 0.001, 0.001, 0.001, 0.001, 0.001, 0.001, 0.001, 0.001, 0.001, 0.001, 0.001, 0.001, 0.001, 0.001, 0.001, 0.001, 0.001, 0.001, 0.001, 0.001, 0.001, 0.001, 0.001, 0.001, 0.001, 0.001, 0.001, 0.001, 0.001, 0.001, 0.001, 0.001, 0.001, 0.001, 0.001, 0.001, 0.001, 0.001, 0.001, 0.001, 0.001, 0.001, 0.001, 0.001, 0.001, 0.001, 0.001, 0.001, 0.001, 0.001, 0.001, 0.001, 0.001, 0.001, 0.001, 0.001, 0.001, 0.001, 0.001, 0.001, 0.001, 0.001, 0.001, 0.001, 0.001, 0.001, 0.001, 0.001, 0.001, 0.001, 0.001, 0.001, 0.001, 0.001, 0.001, 0.001, 0.001, 0.001, 0.001, 0.001, 0.001, 0.001, 0.001, 0.001, 0.001, 0.001, 0.001, 0.001, 0.001, 0.001, 0.001, 0.001, 0.001, 0.001, 0.001, 0.001, 0.001, 0.001, 0.001, 0.001, 0.001, 0.001, 0.001, 0.001, 0.001, 0.001, 0.001, 0.001, 0.001, 0.001, 0.001, 0.001, 0.001, 0.001, 0.001, 0.001, 0.001, 0.001, 0.001, 0.001, 0.001, 0.001, 0.001, 0.001, 0.001, 0.001, 0.001, 0.001, 0.001, 0.001, 0.001, 0.001, 0.001, 0.001, 0.001, 0.001, 0.001, 0.001, 0.001, 0.001, 0.001, 0.001, 0.001, 0.001, 0.001, 0.001, 0.001, 0.001, 0.001, 0.001, 0.001, 0.001, 0.001, 0.001, 0.001, 0.001, 0.001, 0.001, 0.001, 0.001, 0.001, 0.001, 0.001, 0.001, 0.001, 0.001, 0.001, 0.001, 0.001, 0.001, 0.001, 0.001, 0.001, 0.001, 0.001, 0.001, 0.001, 0.001, 0.001, 0.001, 0.001, 0.001, 0.001, 0.001, 0.001, 0.001, 0.001, 0.001, 0.001, 0.001, 0.001, 0.001, 0.001, 0.001, 0.001, 0.001, 0.001, 0.001, 0.001, 0.001, 0.001, 0.001, 0.001, 0.001, 0.001, 0.001, 0.001, 0.001, 0.001, 0.001, 0.001, 0.001, 0.001, 0.001, 0.001, 0.001, 0.001, 0.001, 0.001, 0.001, 0.001, 0.001, 0.001, 0.001, 0.001, 0.001, 0.001, 0.001, 0.001, 0.001, 0.001, 0.001, 0.001, 0.001, 0.001, 0.001, 0.001, 0.001, 0.001, 0.001, 0.001, 0.001, 0.001, 0.001, 0.001, 0.001, 0.001, 0.001, 0.001, 0.001, 0.001, 0.001, 0.001, 0.001, 0.001, 0.001, 0.001, 0.001, 0.001, 0.001, 0.001, 0.001, 0.001, 0.001, 0.001, 0.001, 0.001, 0.001, 0.001, 0.001, 0.001, 0.001, 0.001, 0.001, 0.001, 0.001, 0.001, 0.001, 0.001, 0.001, 0.001, 0.001, 0.001, 0.001, 0.001, 0.001, 0.001, 0.001, 0.001, 0.001, 0.001, 0.001, 0.001, 0.001, 0.001, 0.001, 0.001, 0.001, 0.001, 0.001, 0.001, 0.001, 0.001, 0.001, 0.001, 0.001, 0.001, 0.001, 0.001, 0.001, 0.001, 0.001, 0.001, 0.001, 0.001, 0.001, 0.001, 0.001, 0.001, 0.001, 0.001, 0.001, 0.001, 0.001, 0.001, 0.001, 0.001, 0.001, 0.001, 0.001, 0.001, 0.001, 0.001, 0.001, 0.001, 0.001, 0.001, 0.001, 0.001]), ACE1.Transforms.MultiTransform{1, ACE1.Transforms.AffineT{Float64, ACE1.Transforms.Agnesi2Transform{Float64, Int64}}}(JuLIP.Potentials.SZList{1}(AtomicNumber[<6>]), ACE1.Transforms.AffineT{Float64, ACE1.Transforms.Agnesi2Transform{Float64, Int64}}[ACE1.Transforms.AffineT{Float64, ACE1.Transforms.Agnesi2Transform{Float64, Int64}}(ACE1.Transforms.Agnesi2Transform{Float64, Int64}(1.0, 2, 4, 0.7692307692307693, 0.0), 1.0, 0.03578602782531061, -1.0, 1.0);;]), 0.0, 6.000000000000001, ACE1.OrthPolys.OneEnvelope()), ACE1.SphericalHarmonics.SHBasis{Float64}(1, ACE1.SphericalHarmonics.ALPCoefficients{Float64}([6.9064005450777e-310, 6.90640054531483e-310, 1.27e-321], [6.9064005450777e-310, 6.90559341896376e-310, 0.0])), JuLIP.Potentials.SZList{1}(AtomicNumber[<6>]), ACE1.RPI.PSH1pBasisFcn[znlm[0|1,0,0], znlm[0|1,1,-1], znlm[0|1,1,0], znlm[0|1,1,1], znlm[0|2,0,0], znlm[0|3,0,0], znlm[0|4,0,0], znlm[0|5,0,0], znlm[0|6,0,0], znlm[0|7,0,0], znlm[0|8,0,0]], UnitRange{Int64}[1:11;;]), JuLIP.Potentials.SZList{1}(AtomicNumber[<6>]), (ACE1.InnerPIBasis([1, 1, 1, 1, 1, 1, 1, 1, 2, 2, 2, 2, 2, 2, 2, 2], [1 0; 5 0; 6 0; 7 0; 8 0; 9 0; 10 0; 11 0; 1 1; 1 5; 1 6; 1 7; 2 4; 3 3; 5 5; 5 6], Dict{ACE1.PIBasisFcn, Int64}(ACE1.PIBasisFcn{1, ACE1.RPI.PSH1pBasisFcn}(<6>, (znlm[6|5,0,0],), ACE1.RPI.PSH1pBasisFcn) => 5, ACE1.PIBasisFcn{1, ACE1.RPI.PSH1pBasisFcn}(<6>, (znlm[6|8,0,0],), ACE1.RPI.PSH1pBasisFcn) => 8, ACE1.PIBasisFcn{2, ACE1.RPI.PSH1pBasisFcn}(<6>, (znlm[6|1,0,0], znlm[6|2,0,0]), ACE1.RPI.PSH1pBasisFcn) => 10, ACE1.PIBasisFcn{1, ACE1.RPI.PSH1pBasisFcn}(<6>, (znlm[6|6,0,0],), ACE1.RPI.PSH1pBasisFcn) => 6, ACE1.PIBasisFcn{2, ACE1.RPI.PSH1pBasisFcn}(<6>, (znlm[6|1,0,0], znlm[6|3,0,0]), ACE1.RPI.PSH1pBasisFcn) => 11, ACE1.PIBasisFcn{2, ACE1.RPI.PSH1pBasisFcn}(<6>, (znlm[6|1,1,0], znlm[6|1,1,0]), ACE1.RPI.PSH1pBasisFcn) => 14, ACE1.PIBasisFcn{1, ACE1.RPI.PSH1pBasisFcn}(<6>, (znlm[6|4,0,0],), ACE1.RPI.PSH1pBasisFcn) => 4, ACE1.PIBasisFcn{2, ACE1.RPI.PSH1pBasisFcn}(<6>, (znlm[6|1,0,0], znlm[6|1,0,0]), ACE1.RPI.PSH1pBasisFcn) => 9, ACE1.PIBasisFcn{1, ACE1.RPI.PSH1pBasisFcn}(<6>, (znlm[6|2,0,0],), ACE1.RPI.PSH1pBasisFcn) => 2, ACE1.PIBasisFcn{2, ACE1.RPI.PSH1pBasisFcn}(<6>, (znlm[6|2,0,0], znlm[6|2,0,0]), ACE1.RPI.PSH1pBasisFcn) => 15, ACE1.PIBasisFcn{1, ACE1.RPI.PSH1pBasisFcn}(<6>, (znlm[6|1,0,0],), ACE1.RPI.PSH1pBasisFcn) => 1, ACE1.PIBasisFcn{1, ACE1.RPI.PSH1pBasisFcn}(<6>, (znlm[6|3,0,0],), ACE1.RPI.PSH1pBasisFcn) => 3, ACE1.PIBasisFcn{2, ACE1.RPI.PSH1pBasisFcn}(<6>, (znlm[6|2,0,0], znlm[6|3,0,0]), ACE1.RPI.PSH1pBasisFcn) => 16, ACE1.PIBasisFcn{1, ACE1.RPI.PSH1pBasisFcn}(<6>, (znlm[6|7,0,0],), ACE1.RPI.PSH1pBasisFcn) => 7, ACE1.PIBasisFcn{2, ACE1.RPI.PSH1pBasisFcn}(<6>, (znlm[6|1,0,0], znlm[6|4,0,0]), ACE1.RPI.PSH1pBasisFcn) => 12, ACE1.PIBasisFcn{2, ACE1.RPI.PSH1pBasisFcn}(<6>, (znlm[6|1,1,-1], znlm[6|1,1,1]), ACE1.RPI.PSH1pBasisFcn) => 13), Dict{Any, Int64}(), 1:16, <6>, ACE1.DAG.CorrEvalGraph{Int64, Int64}([(1, 0), (2, 0), (3, 0), (4, 0), (5, 0), (6, 0), (7, 0), (8, 0), (9, 0), (10, 0), (11, 0), (1, 1), (1, 5), (1, 6), (1, 7), (2, 4), (3, 3), (5, 5), (5, 6)], [1, 0, 0, 0, 2, 3, 4, 5, 6, 7, 8, 9, 10, 11, 12, 13, 14, 15, 16], 11, 11)),), ACE1.DAGEvaluator()), (sparse([1, 3, 5, 6, 2, 4, 7, 1, 3, 5, 6, 2, 4, 7, 1, 3, 5, 6, 2, 4, 7, 3, 6, 4, 7, 1, 2, 3, 4, 5, 5, 6, 7], [1, 1, 1, 1, 2, 2, 2, 3, 3, 3, 3, 4, 4, 4, 5, 5, 5, 5, 6, 6, 6, 7, 7, 8, 8, 9, 10, 11, 12, 13, 14, 15, 16], [-0.5251768409363716, 0.07983916371558007, -0.909632971460314, -0.38512968335333964, -0.2723278107353738, 0.09611569790660275, -0.20664254138150157, 0.11290962813509912, -0.23096893466647306, 0.19556521259369997, -0.29223668458496316, 0.0961156979066028, -0.2099369191117943, -0.16721731967056006, -0.012595087447386018, 0.10279172889947251, -0.02181533138464557, 0.16771353285204657, -0.013250673379827249, 0.10600538703864334, 0.1281964129520559, -0.0162571407266805, -0.02851691129067603, -0.018425767423009526, -0.025139786891069906, 1.4142135623730951, 1.0, 1.0, 1.0, -1.632993161855452, 0.8164965809277261, 1.4142135623730951, 1.0], 7, 16),), (1:7,))])"
     ]
    }
   ],
   "source": [
    "show(stdout, \"text/plain\", basis_bin[\"10.5\"])"
   ]
  },
  {
   "cell_type": "code",
   "execution_count": 7,
   "metadata": {},
   "outputs": [
    {
     "ename": "LoadError",
     "evalue": "MethodError: no method matching get_nl(::JuLIP.MLIPs.IPSuperBasis{JuLIP.MLIPs.IPBasis})\n\n\u001b[0mClosest candidates are:\n\u001b[0m  get_nl(\u001b[91m::RPIBasis\u001b[39m, \u001b[91m::Any\u001b[39m)\n\u001b[0m\u001b[90m   @\u001b[39m \u001b[35mACE1\u001b[39m \u001b[90m~/.julia/packages/ACE1/UJw9H/src/rpi/\u001b[39m\u001b[90m\u001b[4mrpi_basis.jl:70\u001b[24m\u001b[39m\n\u001b[0m  get_nl(\u001b[91m::RPIBasis\u001b[39m)\n\u001b[0m\u001b[90m   @\u001b[39m \u001b[35mACE1\u001b[39m \u001b[90m~/.julia/packages/ACE1/UJw9H/src/rpi/\u001b[39m\u001b[90m\u001b[4mrpi_basis.jl:70\u001b[24m\u001b[39m\n",
     "output_type": "error",
     "traceback": [
      "MethodError: no method matching get_nl(::JuLIP.MLIPs.IPSuperBasis{JuLIP.MLIPs.IPBasis})\n\n\u001b[0mClosest candidates are:\n\u001b[0m  get_nl(\u001b[91m::RPIBasis\u001b[39m, \u001b[91m::Any\u001b[39m)\n\u001b[0m\u001b[90m   @\u001b[39m \u001b[35mACE1\u001b[39m \u001b[90m~/.julia/packages/ACE1/UJw9H/src/rpi/\u001b[39m\u001b[90m\u001b[4mrpi_basis.jl:70\u001b[24m\u001b[39m\n\u001b[0m  get_nl(\u001b[91m::RPIBasis\u001b[39m)\n\u001b[0m\u001b[90m   @\u001b[39m \u001b[35mACE1\u001b[39m \u001b[90m~/.julia/packages/ACE1/UJw9H/src/rpi/\u001b[39m\u001b[90m\u001b[4mrpi_basis.jl:70\u001b[24m\u001b[39m\n",
      "",
      "Stacktrace:",
      " [1] top-level scope",
      "   @ In[7]:1"
     ]
    }
   ],
   "source": [
    "ACE1.get_nl(basis_bin[\"10.5\"])"
   ]
  },
  {
   "cell_type": "markdown",
   "metadata": {},
   "source": [
    "# Trial dim"
   ]
  },
  {
   "cell_type": "code",
   "execution_count": null,
   "metadata": {},
   "outputs": [
    {
     "ename": "LoadError",
     "evalue": "file /leonardo_work/Sis25_degironc_0/apol/Tr124_dim.xyz cannot be opened for reading",
     "output_type": "error",
     "traceback": [
      "file /leonardo_work/Sis25_degironc_0/apol/Tr124_dim.xyz cannot be opened for reading",
      "",
      "Stacktrace:",
      "  [1] error(s::String)",
      "    @ Base ./error.jl:35",
      "  [2] #19",
      "    @ ~/.julia/packages/ExtXYZ/LO7ur/src/fileio.jl:366 [inlined]",
      "  [3] cfopen(f::ExtXYZ.var\"#19#20\"{@Kwargs{}, String, Base.Iterators.Count{Int64, Int64}}, filename::String, mode::String)",
      "    @ ExtXYZ ~/.julia/packages/ExtXYZ/LO7ur/src/fileio.jl:30",
      "  [4] cfopen",
      "    @ ~/.julia/packages/ExtXYZ/LO7ur/src/fileio.jl:28 [inlined]",
      "  [5] #read_frames#18",
      "    @ ~/.julia/packages/ExtXYZ/LO7ur/src/fileio.jl:365 [inlined]",
      "  [6] read_frames",
      "    @ ~/.julia/packages/ExtXYZ/LO7ur/src/fileio.jl:364 [inlined]",
      "  [7] read_frames",
      "    @ ~/.julia/packages/ExtXYZ/LO7ur/src/fileio.jl:372 [inlined]",
      "  [8] read_extxyz(::String; kwargs::@Kwargs{})",
      "    @ JuLIP ~/.julia/packages/JuLIP/4ln3z/src/atoms.jl:484",
      "  [9] read_extxyz(::String)",
      "    @ JuLIP ~/.julia/packages/JuLIP/4ln3z/src/atoms.jl:482",
      " [10] top-level scope",
      "    @ In[87]:2"
     ]
    }
   ],
   "source": [
    "# dataset \n",
    "data_file = \"/leonardo_work/Sis25_degironc_0/Tr124_dim.xyz\"\n",
    "data = read_extxyz(data_file);"
   ]
  },
  {
   "cell_type": "code",
   "execution_count": null,
   "metadata": {},
   "outputs": [
    {
     "ename": "LoadError",
     "evalue": "InterruptException:",
     "output_type": "error",
     "traceback": [
      "InterruptException:",
      "",
      "Stacktrace:",
      " [1] top-level scope",
      "   @ In[5]:3"
     ]
    }
   ],
   "source": [
    "# basis construction with purification (pure = true) or otherwise\n",
    "r0 = 1.5\n",
    "basis = ACE1x.ace_basis(\n",
    "    elements = [:C],\n",
    "    order = 2,\n",
    "    totaldegree = 10,\n",
    "    rcut = 7.0,\n",
    "    r0 = r0,\n",
    "    pure = true\n",
    ")\n",
    "@show length(basis)"
   ]
  },
  {
   "cell_type": "code",
   "execution_count": null,
   "metadata": {},
   "outputs": [
    {
     "data": {
      "text/plain": [
       "Dict{String, Dict{String, Float64}} with 1 entry:\n",
       "  \"shaiducarbon\" => Dict(\"E\"=>1.85, \"F\"=>1.0)"
      ]
     },
     "execution_count": 12,
     "metadata": {},
     "output_type": "execute_result"
    }
   ],
   "source": [
    "Vref = OneBody(:C => -245.44385736)\n",
    "\n",
    "# regression weights\n",
    "# weights = Dict(\n",
    "#     \"FLD_TiAl\" => Dict(\"E\" => 60.0, \"F\" => 1.0, \"V\" => 1.0 ),\n",
    "#     \"TiAl_T5000\" => Dict(\"E\" => 5.0, \"F\" => 1.0, \"V\" => 1.0)\n",
    "# )\n",
    "weights = Dict(\n",
    "    \"shaiducarbon\" => Dict(\"E\" => 1.85, \"F\" => 1.0)\n",
    "    \n",
    ")"
   ]
  },
  {
   "cell_type": "code",
   "execution_count": null,
   "metadata": {},
   "outputs": [
    {
     "name": "stderr",
     "output_type": "stream",
     "text": [
      "\u001b[36m\u001b[1m[ \u001b[22m\u001b[39m\u001b[36m\u001b[1mInfo: \u001b[22m\u001b[39mAssembling linear problem.\n",
      "\u001b[36m\u001b[1m[ \u001b[22m\u001b[39m\u001b[36m\u001b[1mInfo: \u001b[22m\u001b[39m  - Creating feature matrix with size (854, 51).\n",
      "\u001b[36m\u001b[1m[ \u001b[22m\u001b[39m\u001b[36m\u001b[1mInfo: \u001b[22m\u001b[39m  - Beginning assembly with processor count:  1.\n",
      "\u001b[32mProgress: 100%|█████████████████████████████████████████| Time: 0:00:48\u001b[39m\n",
      "\u001b[36m\u001b[1m[ \u001b[22m\u001b[39m\u001b[36m\u001b[1mInfo: \u001b[22m\u001b[39m  - Assembly completed.\n",
      "\u001b[36m\u001b[1m[ \u001b[22m\u001b[39m\u001b[36m\u001b[1mInfo: \u001b[22m\u001b[39mAssembling full weight vector.\n",
      "\u001b[32mProgress: 100%|█████████████████████████████████████████| Time: 0:00:00\u001b[39m\n"
     ]
    }
   ],
   "source": [
    "# Basis precomputation \n",
    "datakeys = (energy_key = \"energy\", force_key = \"force\")\n",
    "train = [ACEpotentials.AtomsData(t; weights=weights, v_ref=Vref, datakeys...) for t in data]\n",
    "A, Y, W = ACEfit.assemble(train, basis) # A, Y, W are needed for the solver. See equation below.\n",
    "P = smoothness_prior(basis; p=4);"
   ]
  },
  {
   "cell_type": "code",
   "execution_count": null,
   "metadata": {},
   "outputs": [
    {
     "name": "stdout",
     "output_type": "stream",
     "text": [
      "damp  0.01\n",
      "atol  1.0e-6\n",
      "maxiter  100000\n",
      "Converged"
     ]
    },
    {
     "name": "stderr",
     "output_type": "stream",
     "text": [
      "\u001b[33m\u001b[1m┌ \u001b[22m\u001b[39m\u001b[33m\u001b[1mWarning: \u001b[22m\u001b[39mNeed to apply preconditioner in LSQR.\n",
      "\u001b[33m\u001b[1m└ \u001b[22m\u001b[39m\u001b[90m@ ACEfit ~/.julia/packages/ACEfit/IW8vD/src/solvers.jl:95\u001b[39m\n"
     ]
    },
    {
     "name": "stdout",
     "output_type": "stream",
     "text": [
      " after 18 iterations.\n",
      "relative RMS error  0.017411714536787613\n"
     ]
    },
    {
     "data": {
      "text/plain": [
       "JuLIP.MLIPs.SumIP{Any}(Any[OneBody{Float64}(Dict(:C => -245.44385736)), PolyPairPot{Float64, ACE1.OrthPolys.TransformedPolys{Float64, ACE1.Transforms.Agnesi2Transform{Float64, Int64}, ACE1.OrthPolys.OrthPolyBasis{Float64}, PolyEnvelope{Float64}}, 1, 0}([60.82150888596024, -107.76630728966568, 128.99107446918865, -122.53761941275778, 114.52399175351684, -93.21677276107971, 68.63941707379006, -41.29809623508968, 18.542051584709743, -4.866236628908764], PolyPairBasis{ACE1.OrthPolys.TransformedPolys{Float64, ACE1.Transforms.Agnesi2Transform{Float64, Int64}, ACE1.OrthPolys.OrthPolyBasis{Float64}, PolyEnvelope{Float64}}, 1}(JuLIP.Potentials.SZList{1}(AtomicNumber[<6>]), ACE1.OrthPolys.TransformedPolys{Float64, ACE1.Transforms.Agnesi2Transform{Float64, Int64}, ACE1.OrthPolys.OrthPolyBasis{Float64}, PolyEnvelope{Float64}}[ACE1.OrthPolys.TransformedPolys{Float64, ACE1.Transforms.Agnesi2Transform{Float64, Int64}, ACE1.OrthPolys.OrthPolyBasis{Float64}, PolyEnvelope{Float64}}(ACE1.OrthPolys.OrthPolyBasis{Float64}(0, 0.43959971408148674, 0, 1.0, [0.9999999999999998, 6.181480335100276, 6.911115482122562, 7.037953113510239, 7.081828499585539, 7.102065432047048, 7.113056088712467, 7.119697693197079, 7.124028505824207, 7.127020185622097], [0.0, -4.449428661505343, -4.974619936023893, -5.06591764496412, -5.097499141588738, -5.112065682681464, -5.11997675577803, -5.124757381736561, -5.12787470004645, -5.130028110737273], [0.0, 0.0, -1.1180356658063384, -1.0183527003297255, -1.0062341117321811, -1.0028575857862836, -1.001547529626531, -1.0009337202464776, -1.0006082860275805, -1.0004199421430229], [0.439879914224446, 0.44044031451036453, 0.441000714796283, 0.4415611150822015, 0.44212151536812005, 0.4426819156540386, 0.44324231593995705, 0.4438027162258756, 0.4443631165117941, 0.44492351679771264  …  0.9946761972837741, 0.9952365975696926, 0.9957969978556112, 0.9963573981415297, 0.9969177984274482, 0.9974781987133667, 0.9980385989992852, 0.9985989992852037, 0.9991593995711222, 0.9997197998570407], [0.001, 0.001, 0.001, 0.001, 0.001, 0.001, 0.001, 0.001, 0.001, 0.001  …  0.001, 0.001, 0.001, 0.001, 0.001, 0.001, 0.001, 0.001, 0.001, 0.001]), ACE1.Transforms.Agnesi2Transform{Float64, Int64}(1.5, 1, 3, 0.2857142857142857, 0.0), 0.0, 7.0, PolyEnvelope{Float64}(2, 1.5, 7.0));;], [0;;]), nothing), PIPotential{Float64, 1, PIBasis{BasicPSH1pBasis{Float64, 1, ACE1.OrthPolys.TransformedPolys{Float64, ACE1.Transforms.MultiTransform{1, ACE1.Transforms.AffineT{Float64, ACE1.Transforms.Agnesi2Transform{Float64, Int64}}}, ACE1.OrthPolys.OrthPolyBasis{Float64}, ACE1.OrthPolys.OneEnvelope}}, 1, ACE1.DAGEvaluator}, ACE1.DAGEvaluator, 0}(PIBasis{BasicPSH1pBasis{Float64, 1, ACE1.OrthPolys.TransformedPolys{Float64, ACE1.Transforms.MultiTransform{1, ACE1.Transforms.AffineT{Float64, ACE1.Transforms.Agnesi2Transform{Float64, Int64}}}, ACE1.OrthPolys.OrthPolyBasis{Float64}, ACE1.OrthPolys.OneEnvelope}}, 1, ACE1.DAGEvaluator}(BasicPSH1pBasis{Float64, 1, ACE1.OrthPolys.TransformedPolys{Float64, ACE1.Transforms.MultiTransform{1, ACE1.Transforms.AffineT{Float64, ACE1.Transforms.Agnesi2Transform{Float64, Int64}}}, ACE1.OrthPolys.OrthPolyBasis{Float64}, ACE1.OrthPolys.OneEnvelope}}(ACE1.OrthPolys.TransformedPolys{Float64, ACE1.Transforms.MultiTransform{1, ACE1.Transforms.AffineT{Float64, ACE1.Transforms.Agnesi2Transform{Float64, Int64}}}, ACE1.OrthPolys.OrthPolyBasis{Float64}, ACE1.OrthPolys.OneEnvelope}(ACE1.OrthPolys.OrthPolyBasis{Float64}(2, -1.0, 2, 1.0, [1.5687375497513916, 3.316624790355401, 2.6739483914241924, 2.430862174022013, 2.3048861143233235, 2.2291771507065796, 2.179449471771357, 2.1447610589554333, 2.11947811973324, 2.1004201260569073, 2.0856653614930205, 2.0739902138057946, 2.064582282328315, 2.0568833782436915], [0.0, -2.0786140873094945e-18, -7.017609472481619e-18, 2.412551411320251e-17, -4.62164749360015e-17, 8.442290037528487e-17, -1.036773538695508e-16, 1.0425048391689846e-16, -1.0935396246574519e-16, 1.1420171246516114e-16, -1.2236837934382784e-16, 1.182192736628651e-16, -8.383224079690349e-17, 1.6979098049736654e-16], [0.0, 0.0, -0.8062257748298566, -0.9090909090909166, -0.9481763873554975, -0.9671528397232887, -0.9776923610941106, -0.9840838646340674, -0.9882117688044432, -0.9910081668223438, -0.9929753269925167, -0.9944021951446381, -0.9954638496291572, -0.9962709628235593], [-0.999, -0.997, -0.995, -0.993, -0.991, -0.989, -0.987, -0.985, -0.983, -0.981  …  0.981, 0.983, 0.985, 0.987, 0.989, 0.991, 0.993, 0.995, 0.997, 0.999], [0.001, 0.001, 0.001, 0.001, 0.001, 0.001, 0.001, 0.001, 0.001, 0.001  …  0.001, 0.001, 0.001, 0.001, 0.001, 0.001, 0.001, 0.001, 0.001, 0.001]), ACE1.Transforms.MultiTransform{1, ACE1.Transforms.AffineT{Float64, ACE1.Transforms.Agnesi2Transform{Float64, Int64}}}(JuLIP.Potentials.SZList{1}(AtomicNumber[<6>]), ACE1.Transforms.AffineT{Float64, ACE1.Transforms.Agnesi2Transform{Float64, Int64}}[ACE1.Transforms.AffineT{Float64, ACE1.Transforms.Agnesi2Transform{Float64, Int64}}(ACE1.Transforms.Agnesi2Transform{Float64, Int64}(1.5, 2, 4, 0.7692307692307693, 0.0), 1.0, 0.058765879773119846, -1.0, 1.0);;]), 0.0, 6.999999999999998, ACE1.OrthPolys.OneEnvelope()), ACE1.SphericalHarmonics.SHBasis{Float64}(2, ACE1.SphericalHarmonics.ALPCoefficients{Float64}([6.9122900924022e-310, 0.0, 6.91229009240297e-310, 1.9364916731037085, 6.9131057526804e-310, 0.0], [2.1219957915e-314, 2.1219957915e-314, 2.1219957915e-314, -0.5773502691896257, 2.1219957915e-314, 5.0e-324])), JuLIP.Potentials.SZList{1}(AtomicNumber[<6>]), ACE1.RPI.PSH1pBasisFcn[znlm[0|1,0,0], znlm[0|1,1,-1], znlm[0|1,1,0], znlm[0|1,1,1], znlm[0|1,2,-2], znlm[0|1,2,-1], znlm[0|1,2,0], znlm[0|1,2,1], znlm[0|1,2,2], znlm[0|2,0,0]  …  znlm[0|6,1,-1], znlm[0|6,1,0], znlm[0|6,1,1], znlm[0|7,0,0], znlm[0|8,0,0], znlm[0|9,0,0], znlm[0|10,0,0], znlm[0|11,0,0], znlm[0|12,0,0], znlm[0|13,0,0]], UnitRange{Int64}[1:46;;]), JuLIP.Potentials.SZList{1}(AtomicNumber[<6>]), (ACE1.InnerPIBasis([1, 1, 1, 1, 1, 1, 1, 1, 1, 1  …  2, 2, 2, 2, 2, 2, 2, 2, 2, 2], [1 0; 10 0; … ; 28 36; 32 32], Dict{ACE1.PIBasisFcn, Int64}(ACE1.PIBasisFcn{2, ACE1.RPI.PSH1pBasisFcn}(<6>, (znlm[6|2,1,-1], znlm[6|5,1,1]), ACE1.RPI.PSH1pBasisFcn) => 63, ACE1.PIBasisFcn{2, ACE1.RPI.PSH1pBasisFcn}(<6>, (znlm[6|1,0,0], znlm[6|6,0,0]), ACE1.RPI.PSH1pBasisFcn) => 19, ACE1.PIBasisFcn{2, ACE1.RPI.PSH1pBasisFcn}(<6>, (znlm[6|1,0,0], znlm[6|4,0,0]), ACE1.RPI.PSH1pBasisFcn) => 17, ACE1.PIBasisFcn{2, ACE1.RPI.PSH1pBasisFcn}(<6>, (znlm[6|2,1,0], znlm[6|3,1,0]), ACE1.RPI.PSH1pBasisFcn) => 65, ACE1.PIBasisFcn{2, ACE1.RPI.PSH1pBasisFcn}(<6>, (znlm[6|3,0,0], znlm[6|7,0,0]), ACE1.RPI.PSH1pBasisFcn) => 78, ACE1.PIBasisFcn{1, ACE1.RPI.PSH1pBasisFcn}(<6>, (znlm[6|8,0,0],), ACE1.RPI.PSH1pBasisFcn) => 8, ACE1.PIBasisFcn{2, ACE1.RPI.PSH1pBasisFcn}(<6>, (znlm[6|1,1,1], znlm[6|2,1,-1]), ACE1.RPI.PSH1pBasisFcn) => 35, ACE1.PIBasisFcn{2, ACE1.RPI.PSH1pBasisFcn}(<6>, (znlm[6|4,0,0], znlm[6|4,0,0]), ACE1.RPI.PSH1pBasisFcn) => 84, ACE1.PIBasisFcn{2, ACE1.RPI.PSH1pBasisFcn}(<6>, (znlm[6|2,1,-1], znlm[6|4,1,1]), ACE1.RPI.PSH1pBasisFcn) => 62, ACE1.PIBasisFcn{2, ACE1.RPI.PSH1pBasisFcn}(<6>, (znlm[6|3,1,0], znlm[6|4,1,0]), ACE1.RPI.PSH1pBasisFcn) => 82…), Dict{Any, Int64}(), 1:87, <6>, ACE1.DAG.CorrEvalGraph{Int64, Int64}([(1, 0), (2, 0), (3, 0), (4, 0), (5, 0), (6, 0), (7, 0), (8, 0), (9, 0), (10, 0)  …  (19, 40), (20, 22), (20, 31), (21, 21), (21, 30), (22, 29), (28, 28), (28, 32), (28, 36), (32, 32)], [1, 0, 0, 0, 0, 0, 0, 0, 0, 2  …  78, 79, 80, 81, 82, 83, 84, 85, 86, 87], 46, 46)),), ACE1.DAGEvaluator()), ([-3.304569156250077e-11, -3.571590868951165e-11, -3.7177598995646534e-11, 3.105932024618574e-11, 2.8723158522134555e-11, -6.064691527177013e-12, -2.5248099876387385e-11, -4.495800201171943e-12, 1.2914490832280287e-11, 2.5402420807586417e-12  …  2.2489029443068487e-11, 2.0349592922483975e-11, 1.1478970784845743e-11, -1.0174796461241989e-11, -1.1478970784845745e-11, 1.1478970784845745e-11, 1.0181266098142359e-11, 1.6754775221010371e-12, 5.0808610765946964e-12, -7.170140999049466e-12],), (ACE1.DAG.CorrEvalGraph{Float64, Int64}([(1, 0), (2, 0), (3, 0), (4, 0), (5, 0), (6, 0), (7, 0), (8, 0), (9, 0), (10, 0)  …  (19, 40), (20, 22), (20, 31), (21, 21), (21, 30), (22, 29), (28, 28), (28, 32), (28, 36), (32, 32)], [-3.304569156250077e-11, 0.0, 0.0, 0.0, 0.0, 0.0, 0.0, 0.0, 0.0, -3.571590868951165e-11  …  2.2489029443068487e-11, 2.0349592922483975e-11, 1.1478970784845743e-11, -1.0174796461241989e-11, -1.1478970784845745e-11, 1.1478970784845745e-11, 1.0181266098142359e-11, 1.6754775221010371e-12, 5.0808610765946964e-12, -7.170140999049466e-12], 46, 46),), ACE1.DAGEvaluator(), nothing)])"
      ]
     },
     "execution_count": 14,
     "metadata": {},
     "output_type": "execute_result"
    }
   ],
   "source": [
    "# Potential 1\n",
    "solver = ACEfit.LSQR(damp = 1e-2, atol = 1e-6, P = P) # damp = lambda \n",
    "results = ACEfit.solve(solver, W .* A, W .* Y) # W .* A is element-wise multiplication of W and A\n",
    "pot_1 = JuLIP.MLIPs.SumIP(Vref, JuLIP.MLIPs.combine(basis, results[\"C\"]))"
   ]
  },
  {
   "cell_type": "code",
   "execution_count": null,
   "metadata": {},
   "outputs": [
    {
     "name": "stdout",
     "output_type": "stream",
     "text": [
      "damp  0.01\n",
      "atol  1.0e-6\n",
      "maxiter  100000\n",
      "Converged after 18 iterations.\n",
      "relative RMS error  0.0056854398156393595\n"
     ]
    },
    {
     "name": "stderr",
     "output_type": "stream",
     "text": [
      "\u001b[36m\u001b[1m[ \u001b[22m\u001b[39m\u001b[36m\u001b[1mInfo: \u001b[22m\u001b[39mAssembling full weight vector.\n",
      "\u001b[33m\u001b[1m┌ \u001b[22m\u001b[39m\u001b[33m\u001b[1mWarning: \u001b[22m\u001b[39mNeed to apply preconditioner in LSQR.\n",
      "\u001b[33m\u001b[1m└ \u001b[22m\u001b[39m\u001b[90m@ ACEfit ~/.julia/packages/ACEfit/IW8vD/src/solvers.jl:95\u001b[39m\n"
     ]
    },
    {
     "data": {
      "text/plain": [
       "JuLIP.MLIPs.SumIP{Any}(Any[OneBody{Float64}(Dict(:C => -245.44385736)), PolyPairPot{Float64, ACE1.OrthPolys.TransformedPolys{Float64, ACE1.Transforms.Agnesi2Transform{Float64, Int64}, ACE1.OrthPolys.OrthPolyBasis{Float64}, PolyEnvelope{Float64}}, 1, 0}([9.56929033776388, -23.73847099226515, 31.86488251807065, -24.94701030245997, 25.92934690735256, -20.180142314604314, 15.583558325293476, -9.320807614255388, 4.524725230817843, -1.4746101217923413], PolyPairBasis{ACE1.OrthPolys.TransformedPolys{Float64, ACE1.Transforms.Agnesi2Transform{Float64, Int64}, ACE1.OrthPolys.OrthPolyBasis{Float64}, PolyEnvelope{Float64}}, 1}(JuLIP.Potentials.SZList{1}(AtomicNumber[<6>]), ACE1.OrthPolys.TransformedPolys{Float64, ACE1.Transforms.Agnesi2Transform{Float64, Int64}, ACE1.OrthPolys.OrthPolyBasis{Float64}, PolyEnvelope{Float64}}[ACE1.OrthPolys.TransformedPolys{Float64, ACE1.Transforms.Agnesi2Transform{Float64, Int64}, ACE1.OrthPolys.OrthPolyBasis{Float64}, PolyEnvelope{Float64}}(ACE1.OrthPolys.OrthPolyBasis{Float64}(0, 0.43959971408148674, 0, 1.0, [0.9999999999999998, 6.181480335100276, 6.911115482122562, 7.037953113510239, 7.081828499585539, 7.102065432047048, 7.113056088712467, 7.119697693197079, 7.124028505824207, 7.127020185622097], [0.0, -4.449428661505343, -4.974619936023893, -5.06591764496412, -5.097499141588738, -5.112065682681464, -5.11997675577803, -5.124757381736561, -5.12787470004645, -5.130028110737273], [0.0, 0.0, -1.1180356658063384, -1.0183527003297255, -1.0062341117321811, -1.0028575857862836, -1.001547529626531, -1.0009337202464776, -1.0006082860275805, -1.0004199421430229], [0.439879914224446, 0.44044031451036453, 0.441000714796283, 0.4415611150822015, 0.44212151536812005, 0.4426819156540386, 0.44324231593995705, 0.4438027162258756, 0.4443631165117941, 0.44492351679771264  …  0.9946761972837741, 0.9952365975696926, 0.9957969978556112, 0.9963573981415297, 0.9969177984274482, 0.9974781987133667, 0.9980385989992852, 0.9985989992852037, 0.9991593995711222, 0.9997197998570407], [0.001, 0.001, 0.001, 0.001, 0.001, 0.001, 0.001, 0.001, 0.001, 0.001  …  0.001, 0.001, 0.001, 0.001, 0.001, 0.001, 0.001, 0.001, 0.001, 0.001]), ACE1.Transforms.Agnesi2Transform{Float64, Int64}(1.5, 1, 3, 0.2857142857142857, 0.0), 0.0, 7.0, PolyEnvelope{Float64}(2, 1.5, 7.0));;], [0;;]), nothing), PIPotential{Float64, 1, PIBasis{BasicPSH1pBasis{Float64, 1, ACE1.OrthPolys.TransformedPolys{Float64, ACE1.Transforms.MultiTransform{1, ACE1.Transforms.AffineT{Float64, ACE1.Transforms.Agnesi2Transform{Float64, Int64}}}, ACE1.OrthPolys.OrthPolyBasis{Float64}, ACE1.OrthPolys.OneEnvelope}}, 1, ACE1.DAGEvaluator}, ACE1.DAGEvaluator, 0}(PIBasis{BasicPSH1pBasis{Float64, 1, ACE1.OrthPolys.TransformedPolys{Float64, ACE1.Transforms.MultiTransform{1, ACE1.Transforms.AffineT{Float64, ACE1.Transforms.Agnesi2Transform{Float64, Int64}}}, ACE1.OrthPolys.OrthPolyBasis{Float64}, ACE1.OrthPolys.OneEnvelope}}, 1, ACE1.DAGEvaluator}(BasicPSH1pBasis{Float64, 1, ACE1.OrthPolys.TransformedPolys{Float64, ACE1.Transforms.MultiTransform{1, ACE1.Transforms.AffineT{Float64, ACE1.Transforms.Agnesi2Transform{Float64, Int64}}}, ACE1.OrthPolys.OrthPolyBasis{Float64}, ACE1.OrthPolys.OneEnvelope}}(ACE1.OrthPolys.TransformedPolys{Float64, ACE1.Transforms.MultiTransform{1, ACE1.Transforms.AffineT{Float64, ACE1.Transforms.Agnesi2Transform{Float64, Int64}}}, ACE1.OrthPolys.OrthPolyBasis{Float64}, ACE1.OrthPolys.OneEnvelope}(ACE1.OrthPolys.OrthPolyBasis{Float64}(2, -1.0, 2, 1.0, [1.5687375497513916, 3.316624790355401, 2.6739483914241924, 2.430862174022013, 2.3048861143233235, 2.2291771507065796, 2.179449471771357, 2.1447610589554333, 2.11947811973324, 2.1004201260569073, 2.0856653614930205, 2.0739902138057946, 2.064582282328315, 2.0568833782436915], [0.0, -2.0786140873094945e-18, -7.017609472481619e-18, 2.412551411320251e-17, -4.62164749360015e-17, 8.442290037528487e-17, -1.036773538695508e-16, 1.0425048391689846e-16, -1.0935396246574519e-16, 1.1420171246516114e-16, -1.2236837934382784e-16, 1.182192736628651e-16, -8.383224079690349e-17, 1.6979098049736654e-16], [0.0, 0.0, -0.8062257748298566, -0.9090909090909166, -0.9481763873554975, -0.9671528397232887, -0.9776923610941106, -0.9840838646340674, -0.9882117688044432, -0.9910081668223438, -0.9929753269925167, -0.9944021951446381, -0.9954638496291572, -0.9962709628235593], [-0.999, -0.997, -0.995, -0.993, -0.991, -0.989, -0.987, -0.985, -0.983, -0.981  …  0.981, 0.983, 0.985, 0.987, 0.989, 0.991, 0.993, 0.995, 0.997, 0.999], [0.001, 0.001, 0.001, 0.001, 0.001, 0.001, 0.001, 0.001, 0.001, 0.001  …  0.001, 0.001, 0.001, 0.001, 0.001, 0.001, 0.001, 0.001, 0.001, 0.001]), ACE1.Transforms.MultiTransform{1, ACE1.Transforms.AffineT{Float64, ACE1.Transforms.Agnesi2Transform{Float64, Int64}}}(JuLIP.Potentials.SZList{1}(AtomicNumber[<6>]), ACE1.Transforms.AffineT{Float64, ACE1.Transforms.Agnesi2Transform{Float64, Int64}}[ACE1.Transforms.AffineT{Float64, ACE1.Transforms.Agnesi2Transform{Float64, Int64}}(ACE1.Transforms.Agnesi2Transform{Float64, Int64}(1.5, 2, 4, 0.7692307692307693, 0.0), 1.0, 0.058765879773119846, -1.0, 1.0);;]), 0.0, 6.999999999999998, ACE1.OrthPolys.OneEnvelope()), ACE1.SphericalHarmonics.SHBasis{Float64}(2, ACE1.SphericalHarmonics.ALPCoefficients{Float64}([6.9122900924022e-310, 0.0, 6.91229009240297e-310, 1.9364916731037085, 6.9131057526804e-310, 0.0], [2.1219957915e-314, 2.1219957915e-314, 2.1219957915e-314, -0.5773502691896257, 2.1219957915e-314, 5.0e-324])), JuLIP.Potentials.SZList{1}(AtomicNumber[<6>]), ACE1.RPI.PSH1pBasisFcn[znlm[0|1,0,0], znlm[0|1,1,-1], znlm[0|1,1,0], znlm[0|1,1,1], znlm[0|1,2,-2], znlm[0|1,2,-1], znlm[0|1,2,0], znlm[0|1,2,1], znlm[0|1,2,2], znlm[0|2,0,0]  …  znlm[0|6,1,-1], znlm[0|6,1,0], znlm[0|6,1,1], znlm[0|7,0,0], znlm[0|8,0,0], znlm[0|9,0,0], znlm[0|10,0,0], znlm[0|11,0,0], znlm[0|12,0,0], znlm[0|13,0,0]], UnitRange{Int64}[1:46;;]), JuLIP.Potentials.SZList{1}(AtomicNumber[<6>]), (ACE1.InnerPIBasis([1, 1, 1, 1, 1, 1, 1, 1, 1, 1  …  2, 2, 2, 2, 2, 2, 2, 2, 2, 2], [1 0; 10 0; … ; 28 36; 32 32], Dict{ACE1.PIBasisFcn, Int64}(ACE1.PIBasisFcn{2, ACE1.RPI.PSH1pBasisFcn}(<6>, (znlm[6|2,1,-1], znlm[6|5,1,1]), ACE1.RPI.PSH1pBasisFcn) => 63, ACE1.PIBasisFcn{2, ACE1.RPI.PSH1pBasisFcn}(<6>, (znlm[6|1,0,0], znlm[6|6,0,0]), ACE1.RPI.PSH1pBasisFcn) => 19, ACE1.PIBasisFcn{2, ACE1.RPI.PSH1pBasisFcn}(<6>, (znlm[6|1,0,0], znlm[6|4,0,0]), ACE1.RPI.PSH1pBasisFcn) => 17, ACE1.PIBasisFcn{2, ACE1.RPI.PSH1pBasisFcn}(<6>, (znlm[6|2,1,0], znlm[6|3,1,0]), ACE1.RPI.PSH1pBasisFcn) => 65, ACE1.PIBasisFcn{2, ACE1.RPI.PSH1pBasisFcn}(<6>, (znlm[6|3,0,0], znlm[6|7,0,0]), ACE1.RPI.PSH1pBasisFcn) => 78, ACE1.PIBasisFcn{1, ACE1.RPI.PSH1pBasisFcn}(<6>, (znlm[6|8,0,0],), ACE1.RPI.PSH1pBasisFcn) => 8, ACE1.PIBasisFcn{2, ACE1.RPI.PSH1pBasisFcn}(<6>, (znlm[6|1,1,1], znlm[6|2,1,-1]), ACE1.RPI.PSH1pBasisFcn) => 35, ACE1.PIBasisFcn{2, ACE1.RPI.PSH1pBasisFcn}(<6>, (znlm[6|4,0,0], znlm[6|4,0,0]), ACE1.RPI.PSH1pBasisFcn) => 84, ACE1.PIBasisFcn{2, ACE1.RPI.PSH1pBasisFcn}(<6>, (znlm[6|2,1,-1], znlm[6|4,1,1]), ACE1.RPI.PSH1pBasisFcn) => 62, ACE1.PIBasisFcn{2, ACE1.RPI.PSH1pBasisFcn}(<6>, (znlm[6|3,1,0], znlm[6|4,1,0]), ACE1.RPI.PSH1pBasisFcn) => 82…), Dict{Any, Int64}(), 1:87, <6>, ACE1.DAG.CorrEvalGraph{Int64, Int64}([(1, 0), (2, 0), (3, 0), (4, 0), (5, 0), (6, 0), (7, 0), (8, 0), (9, 0), (10, 0)  …  (19, 40), (20, 22), (20, 31), (21, 21), (21, 30), (22, 29), (28, 28), (28, 32), (28, 36), (32, 32)], [1, 0, 0, 0, 0, 0, 0, 0, 0, 2  …  78, 79, 80, 81, 82, 83, 84, 85, 86, 87], 46, 46)),), ACE1.DAGEvaluator()), ([-7.702279201955278e-12, -1.3740399543251542e-12, -5.17927240067735e-12, 4.459610847894616e-12, 1.1493751010525075e-11, -1.0037333657248132e-12, -8.482251258673217e-12, -1.9346229390830716e-12, -2.3886370210227313e-13, 1.4040090047337047e-12  …  1.649555041864789e-12, 1.6668249097863602e-11, 1.7261272913492832e-12, -8.334124548931801e-12, -1.7261272913492837e-12, 1.7261272913492837e-12, -2.7336933211137267e-12, 1.0605237670893137e-12, 3.759045544901055e-12, 7.38408182923136e-12],), (ACE1.DAG.CorrEvalGraph{Float64, Int64}([(1, 0), (2, 0), (3, 0), (4, 0), (5, 0), (6, 0), (7, 0), (8, 0), (9, 0), (10, 0)  …  (19, 40), (20, 22), (20, 31), (21, 21), (21, 30), (22, 29), (28, 28), (28, 32), (28, 36), (32, 32)], [-7.702279201955278e-12, 0.0, 0.0, 0.0, 0.0, 0.0, 0.0, 0.0, 0.0, -1.3740399543251542e-12  …  1.649555041864789e-12, 1.6668249097863602e-11, 1.7261272913492832e-12, -8.334124548931801e-12, -1.7261272913492837e-12, 1.7261272913492837e-12, -2.7336933211137267e-12, 1.0605237670893137e-12, 3.759045544901055e-12, 7.38408182923136e-12], 46, 46),), ACE1.DAGEvaluator(), nothing)])"
      ]
     },
     "execution_count": 15,
     "metadata": {},
     "output_type": "execute_result"
    }
   ],
   "source": [
    "# Potential 2 to highlight advantage of acebasis\n",
    "weights[\"shaiducarbon\"][\"E\"] = 500.0\n",
    "W = ACEfit.assemble_weights(train)\n",
    "solver = ACEfit.LSQR(damp = 1e-2, atol = 1e-6, P = P)\n",
    "results = ACEfit.solve(solver, W .* A, W .* Y)\n",
    "pot_2 = JuLIP.MLIPs.SumIP(Vref, JuLIP.MLIPs.combine(basis, results[\"C\"]))"
   ]
  },
  {
   "cell_type": "markdown",
   "metadata": {},
   "source": [
    "# Validation/testing"
   ]
  },
  {
   "cell_type": "code",
   "execution_count": null,
   "metadata": {},
   "outputs": [],
   "source": [
    "test_data_dir = \"/leonardo_work/Sis25_degironc_0/apol/Val123_dim.xyz\"\n",
    "test_data = read_extxyz(test_data_dir);"
   ]
  },
  {
   "cell_type": "code",
   "execution_count": null,
   "metadata": {},
   "outputs": [
    {
     "name": "stderr",
     "output_type": "stream",
     "text": [
      "\u001b[36m\u001b[1m[ \u001b[22m\u001b[39m\u001b[36m\u001b[1mInfo: \u001b[22m\u001b[39mTest Error Tables\n",
      "\u001b[36m\u001b[1m[ \u001b[22m\u001b[39m\u001b[36m\u001b[1mInfo: \u001b[22m\u001b[39mFirst Potential\n",
      "\u001b[36m\u001b[1m[ \u001b[22m\u001b[39m\u001b[36m\u001b[1mInfo: \u001b[22m\u001b[39mRMSE Table\n"
     ]
    },
    {
     "name": "stdout",
     "output_type": "stream",
     "text": [
      "┌──────────────┬─────────┬──────────┬─────────┐\n",
      "│\u001b[1m         Type \u001b[0m│\u001b[1m E [meV] \u001b[0m│\u001b[1m F [eV/A] \u001b[0m│\u001b[1m V [meV] \u001b[0m│\n",
      "├──────────────┼─────────┼──────────┼─────────┤\n",
      "│ shaiducarbon │ 165.288 │    1.470 │   0.000 │\n",
      "├──────────────┼─────────┼──────────┼─────────┤\n",
      "│          set │ 165.288 │    1.470 │   0.000 │\n",
      "└──────────────┴─────────┴──────────┴─────────┘\n",
      "┌──────────────┬─────────┬──────────┬─────────┐\n",
      "│\u001b[1m         Type \u001b[0m│\u001b[1m E [meV] \u001b[0m│\u001b[1m F [eV/A] \u001b[0m│\u001b[1m V [meV] \u001b[0m│\n",
      "├──────────────┼─────────┼──────────┼─────────┤\n",
      "│ shaiducarbon │ 139.360 │    1.109 │   0.000 │\n",
      "├──────────────┼─────────┼──────────┼─────────┤\n",
      "│          set │ 139.360 │    1.109 │   0.000 │\n",
      "└──────────────┴─────────┴──────────┴─────────┘\n"
     ]
    },
    {
     "name": "stderr",
     "output_type": "stream",
     "text": [
      "\u001b[36m\u001b[1m[ \u001b[22m\u001b[39m\u001b[36m\u001b[1mInfo: \u001b[22m\u001b[39mMAE Table\n"
     ]
    }
   ],
   "source": [
    "test = [ACEpotentials.AtomsData(t; weights=weights, v_ref=Vref, datakeys...) for t in test_data]\n",
    "\n",
    "@info(\"Test Error Tables\")\n",
    "@info(\"First Potential\")\n",
    "err1 = ACEpotentials.linear_errors(train, pot_1);"
   ]
  },
  {
   "cell_type": "code",
   "execution_count": null,
   "metadata": {},
   "outputs": [
    {
     "data": {
      "text/plain": [
       "1.4698637181764689"
      ]
     },
     "execution_count": 15,
     "metadata": {},
     "output_type": "execute_result"
    }
   ],
   "source": [
    "err1[\"rmse\"][\"shaiducarbon\"][\"F\"]"
   ]
  },
  {
   "cell_type": "code",
   "execution_count": null,
   "metadata": {},
   "outputs": [
    {
     "data": {
      "text/plain": [
       "Dict{String, Any} with 2 entries:\n",
       "  \"set\"          => Dict(\"V\"=>0.0, \"E\"=>0.165288, \"F\"=>1.46986)\n",
       "  \"shaiducarbon\" => Dict(\"V\"=>0.0, \"E\"=>0.165288, \"F\"=>1.46986)"
      ]
     },
     "execution_count": 28,
     "metadata": {},
     "output_type": "execute_result"
    }
   ],
   "source": [
    "err1[\"rmse\"]"
   ]
  },
  {
   "cell_type": "code",
   "execution_count": null,
   "metadata": {},
   "outputs": [
    {
     "data": {
      "text/plain": [
       "Dict{String, Any}"
      ]
     },
     "execution_count": 26,
     "metadata": {},
     "output_type": "execute_result"
    }
   ],
   "source": [
    "typeof(err1[\"rmse\"])"
   ]
  },
  {
   "cell_type": "code",
   "execution_count": null,
   "metadata": {},
   "outputs": [
    {
     "name": "stderr",
     "output_type": "stream",
     "text": [
      "WARNING: both ACE1 and ACEpotentials export \"transformed_jacobi\"; uses of it in module Main must be qualified\n"
     ]
    }
   ],
   "source": [
    "save_dict(\"err1.json\",err1[\"rmse\"])"
   ]
  },
  {
   "cell_type": "code",
   "execution_count": null,
   "metadata": {},
   "outputs": [
    {
     "name": "stdout",
     "output_type": "stream",
     "text": [
      "Dict{String, Any}(\"set\" => Dict{String, Any}(\"V\" => 0.0, \"E\" => 0.165287944228281, \"F\" => 1.4698637181764689), \"shaiducarbon\" => Dict{String, Any}(\"V\" => 0.0, \"E\" => 0.165287944228281, \"F\" => 1.4698637181764689))\n",
      "Dict{String, Any}"
     ]
    }
   ],
   "source": [
    "qwer = load_dict(\"err1.json\")\n",
    "print(qwer,\"\\n\", typeof(qwer))"
   ]
  },
  {
   "cell_type": "code",
   "execution_count": null,
   "metadata": {},
   "outputs": [
    {
     "name": "stdout",
     "output_type": "stream",
     "text": [
      "┌──────────────┬─────────┬──────────┬─────────┐\n",
      "│\u001b[1m         Type \u001b[0m│\u001b[1m E [meV] \u001b[0m│\u001b[1m F [eV/A] \u001b[0m│\u001b[1m V [meV] \u001b[0m│\n",
      "├──────────────┼─────────┼──────────┼─────────┤\n",
      "│ shaiducarbon │  66.950 │    2.744 │   0.000 │\n",
      "├──────────────┼─────────┼──────────┼─────────┤\n",
      "│          set │  66.950 │    2.744 │   0.000 │\n",
      "└──────────────┴─────────┴──────────┴─────────┘\n",
      "┌──────────────┬─────────┬──────────┬─────────┐\n",
      "│\u001b[1m         Type \u001b[0m│\u001b[1m E [meV] \u001b[0m│\u001b[1m F [eV/A] \u001b[0m│\u001b[1m V [meV] \u001b[0m│\n",
      "├──────────────┼─────────┼──────────┼─────────┤\n",
      "│ shaiducarbon │  50.192 │    1.064 │   0.000 │\n",
      "├──────────────┼─────────┼──────────┼─────────┤\n",
      "│          set │  50.192 │    1.064 │   0.000 │\n",
      "└──────────────┴─────────┴──────────┴─────────┘\n"
     ]
    },
    {
     "name": "stderr",
     "output_type": "stream",
     "text": [
      "\u001b[36m\u001b[1m[ \u001b[22m\u001b[39m\u001b[36m\u001b[1mInfo: \u001b[22m\u001b[39mSecond Potential:\n",
      "\u001b[36m\u001b[1m[ \u001b[22m\u001b[39m\u001b[36m\u001b[1mInfo: \u001b[22m\u001b[39mRMSE Table\n",
      "\u001b[36m\u001b[1m[ \u001b[22m\u001b[39m\u001b[36m\u001b[1mInfo: \u001b[22m\u001b[39mMAE Table\n"
     ]
    }
   ],
   "source": [
    "@info(\"Second Potential:\")\n",
    "ACEpotentials.linear_errors(train, pot_2);"
   ]
  },
  {
   "cell_type": "markdown",
   "metadata": {},
   "source": [
    "# Dimers"
   ]
  },
  {
   "cell_type": "code",
   "execution_count": 2,
   "metadata": {},
   "outputs": [],
   "source": [
    "using Plots, LaTeXStrings, DelimitedFiles"
   ]
  },
  {
   "cell_type": "code",
   "execution_count": 3,
   "metadata": {},
   "outputs": [
    {
     "data": {
      "text/plain": [
       "\"/leonardo_work/Sis25_degironc_0/apol/aceconverge2025\""
      ]
     },
     "execution_count": 3,
     "metadata": {},
     "output_type": "execute_result"
    }
   ],
   "source": [
    "pwd()"
   ]
  },
  {
   "cell_type": "code",
   "execution_count": 4,
   "metadata": {},
   "outputs": [
    {
     "name": "stdout",
     "output_type": "stream",
     "text": [
      "Loading potential for basis 24.20 with ecost 10.0\n",
      "\n",
      "This potential was saved with following versions:\n",
      "\n",
      "JuLIP v0.14.8\n",
      "ACEbase v0.4.4\n",
      "ACE1x v0.1.11\n",
      "ACE1 v0.12.5\n",
      "ACEmd v0.1.17\n",
      "ACEpotentials v0.6.7\n",
      "ACEfit v0.1.5\n",
      "\n",
      "If you have problems with using this potential, pin your installation to above versions.\n",
      "\n",
      "Loading potential for basis 24.20.16 with ecost 10.0\n",
      "\n",
      "This potential was saved with following versions:\n",
      "\n",
      "JuLIP v0.14.8\n",
      "ACEbase v0.4.4\n",
      "ACE1x v0.1.11\n",
      "ACE1 v0.12.5\n",
      "ACEmd v0.1.17\n",
      "ACEpotentials v0.6.7\n",
      "ACEfit v0.1.5\n",
      "\n",
      "If you have problems with using this potential, pin your installation to above versions.\n",
      "\n"
     ]
    }
   ],
   "source": [
    "## Basis check \n",
    "# basisvals = [\"10.5\", \"40.10\", \"46.16\", \"40.10.9\", \"46.16.12\", \"46.20.14\", \"46.24.16\", \"40.10.9.8\", \"46.20.14.10\"]\n",
    "# basisvals = [\"16.12\",\"46.16\",\"16.12.8\",\"46.16.12\",\"46.20.14\",\"16.12.8.4\"]\n",
    "basisvals = [\"24.20\", \"24.20.16\"]\n",
    "ecostvals = [\"10.0\"]\n",
    "dset = \"Tr1k_dia\"\n",
    "# basisvals = [\"16.12.8\",\"46.20.14\"]\n",
    "# basisvals = [\"40.10.9\"]\n",
    "pots_bybasis = Dict()\n",
    "# pots_bybasis_si = Dict()\n",
    "for basis in basisvals\n",
    "    for ecost in ecostvals\n",
    "        println(\"Loading potential for basis $basis with ecost $ecost\")\n",
    "        pots_bybasis[\"$basis,ecost=$ecost\"] = load_potential(\"acejulia/$(dset)_purify/$basis/ecost$ecost/potential.json\");\n",
    "        # pots_bybasis_si[\"$basis,ecost=$ecost\"] = load_potential(\"acejulia/Tr1k_n/$basis/ecost$ecost/potential.json\");\n",
    "    end\n",
    "end\n"
   ]
  },
  {
   "cell_type": "code",
   "execution_count": 5,
   "metadata": {},
   "outputs": [
    {
     "data": {
      "text/plain": [
       "Dict{Any, Any} with 2 entries:\n",
       "  \"24.20.16,ecost=10.0\" => SumIP{AbstractCalculator}(AbstractCalculator[OneBody…\n",
       "  \"24.20,ecost=10.0\"    => SumIP{AbstractCalculator}(AbstractCalculator[OneBody…"
      ]
     },
     "execution_count": 5,
     "metadata": {},
     "output_type": "execute_result"
    }
   ],
   "source": [
    "pots_bybasis"
   ]
  },
  {
   "cell_type": "code",
   "execution_count": 7,
   "metadata": {},
   "outputs": [
    {
     "data": {
      "image/png": "[encoded data removed]",
      "image/svg+xml": [
       "<?xml version=\"1.0\" encoding=\"utf-8\"?>\n",
       "<svg xmlns=\"http://www.w3.org/2000/svg\" xmlns:xlink=\"http://www.w3.org/1999/xlink\" width=\"600\" height=\"400\" viewBox=\"0 0 2400 1600\">\n",
       "<defs>\n",
       "  <clipPath id=\"clip970\">\n",
       "    <rect x=\"0\" y=\"0\" width=\"2400\" height=\"1600\"/>\n",
       "  </clipPath>\n",
       "</defs>\n",
       "<path clip-path=\"url(#clip970)\" d=\"M0 1600 L2400 1600 L2400 0 L0 0  Z\" fill=\"#ffffff\" fill-rule=\"evenodd\" fill-opacity=\"1\"/>\n",
       "<defs>\n",
       "  <clipPath id=\"clip971\">\n",
       "    <rect x=\"480\" y=\"0\" width=\"1681\" height=\"1600\"/>\n",
       "  </clipPath>\n",
       "</defs>\n",
       "<path clip-path=\"url(#clip970)\" d=\"M242.135 1423.18 L2352.76 1423.18 L2352.76 47.2441 L242.135 47.2441  Z\" fill=\"#ffffff\" fill-rule=\"evenodd\" fill-opacity=\"1\"/>\n",
       "<defs>\n",
       "  <clipPath id=\"clip972\">\n",
       "    <rect x=\"242\" y=\"47\" width=\"2112\" height=\"1377\"/>\n",
       "  </clipPath>\n",
       "</defs>\n",
       "<polyline clip-path=\"url(#clip972)\" style=\"stroke:#000000; stroke-linecap:round; stroke-linejoin:round; stroke-width:2; stroke-opacity:0.1; fill:none\" points=\"242.135,1423.18 242.135,47.2441 \"/>\n",
       "<polyline clip-path=\"url(#clip972)\" style=\"stroke:#000000; stroke-linecap:round; stroke-linejoin:round; stroke-width:2; stroke-opacity:0.1; fill:none\" points=\"543.652,1423.18 543.652,47.2441 \"/>\n",
       "<polyline clip-path=\"url(#clip972)\" style=\"stroke:#000000; stroke-linecap:round; stroke-linejoin:round; stroke-width:2; stroke-opacity:0.1; fill:none\" points=\"845.169,1423.18 845.169,47.2441 \"/>\n",
       "<polyline clip-path=\"url(#clip972)\" style=\"stroke:#000000; stroke-linecap:round; stroke-linejoin:round; stroke-width:2; stroke-opacity:0.1; fill:none\" points=\"1146.69,1423.18 1146.69,47.2441 \"/>\n",
       "<polyline clip-path=\"url(#clip972)\" style=\"stroke:#000000; stroke-linecap:round; stroke-linejoin:round; stroke-width:2; stroke-opacity:0.1; fill:none\" points=\"1448.2,1423.18 1448.2,47.2441 \"/>\n",
       "<polyline clip-path=\"url(#clip972)\" style=\"stroke:#000000; stroke-linecap:round; stroke-linejoin:round; stroke-width:2; stroke-opacity:0.1; fill:none\" points=\"1749.72,1423.18 1749.72,47.2441 \"/>\n",
       "<polyline clip-path=\"url(#clip972)\" style=\"stroke:#000000; stroke-linecap:round; stroke-linejoin:round; stroke-width:2; stroke-opacity:0.1; fill:none\" points=\"2051.24,1423.18 2051.24,47.2441 \"/>\n",
       "<polyline clip-path=\"url(#clip972)\" style=\"stroke:#000000; stroke-linecap:round; stroke-linejoin:round; stroke-width:2; stroke-opacity:0.1; fill:none\" points=\"2352.76,1423.18 2352.76,47.2441 \"/>\n",
       "<polyline clip-path=\"url(#clip972)\" style=\"stroke:#000000; stroke-linecap:round; stroke-linejoin:round; stroke-width:2; stroke-opacity:0.1; fill:none\" points=\"242.135,1423.18 2352.76,1423.18 \"/>\n",
       "<polyline clip-path=\"url(#clip972)\" style=\"stroke:#000000; stroke-linecap:round; stroke-linejoin:round; stroke-width:2; stroke-opacity:0.1; fill:none\" points=\"242.135,1061.09 2352.76,1061.09 \"/>\n",
       "<polyline clip-path=\"url(#clip972)\" style=\"stroke:#000000; stroke-linecap:round; stroke-linejoin:round; stroke-width:2; stroke-opacity:0.1; fill:none\" points=\"242.135,699.003 2352.76,699.003 \"/>\n",
       "<polyline clip-path=\"url(#clip972)\" style=\"stroke:#000000; stroke-linecap:round; stroke-linejoin:round; stroke-width:2; stroke-opacity:0.1; fill:none\" points=\"242.135,336.915 2352.76,336.915 \"/>\n",
       "<polyline clip-path=\"url(#clip970)\" style=\"stroke:#000000; stroke-linecap:round; stroke-linejoin:round; stroke-width:4; stroke-opacity:1; fill:none\" points=\"242.135,1423.18 2352.76,1423.18 \"/>\n",
       "<polyline clip-path=\"url(#clip970)\" style=\"stroke:#000000; stroke-linecap:round; stroke-linejoin:round; stroke-width:4; stroke-opacity:1; fill:none\" points=\"242.135,1423.18 242.135,1404.28 \"/>\n",
       "<polyline clip-path=\"url(#clip970)\" style=\"stroke:#000000; stroke-linecap:round; stroke-linejoin:round; stroke-width:4; stroke-opacity:1; fill:none\" points=\"543.652,1423.18 543.652,1404.28 \"/>\n",
       "<polyline clip-path=\"url(#clip970)\" style=\"stroke:#000000; stroke-linecap:round; stroke-linejoin:round; stroke-width:4; stroke-opacity:1; fill:none\" points=\"845.169,1423.18 845.169,1404.28 \"/>\n",
       "<polyline clip-path=\"url(#clip970)\" style=\"stroke:#000000; stroke-linecap:round; stroke-linejoin:round; stroke-width:4; stroke-opacity:1; fill:none\" points=\"1146.69,1423.18 1146.69,1404.28 \"/>\n",
       "<polyline clip-path=\"url(#clip970)\" style=\"stroke:#000000; stroke-linecap:round; stroke-linejoin:round; stroke-width:4; stroke-opacity:1; fill:none\" points=\"1448.2,1423.18 1448.2,1404.28 \"/>\n",
       "<polyline clip-path=\"url(#clip970)\" style=\"stroke:#000000; stroke-linecap:round; stroke-linejoin:round; stroke-width:4; stroke-opacity:1; fill:none\" points=\"1749.72,1423.18 1749.72,1404.28 \"/>\n",
       "<polyline clip-path=\"url(#clip970)\" style=\"stroke:#000000; stroke-linecap:round; stroke-linejoin:round; stroke-width:4; stroke-opacity:1; fill:none\" points=\"2051.24,1423.18 2051.24,1404.28 \"/>\n",
       "<polyline clip-path=\"url(#clip970)\" style=\"stroke:#000000; stroke-linecap:round; stroke-linejoin:round; stroke-width:4; stroke-opacity:1; fill:none\" points=\"2352.76,1423.18 2352.76,1404.28 \"/>\n",
       "<path clip-path=\"url(#clip970)\" d=\"M242.135 1454.1 Q238.524 1454.1 236.695 1457.66 Q234.889 1461.2 234.889 1468.33 Q234.889 1475.44 236.695 1479.01 Q238.524 1482.55 242.135 1482.55 Q245.769 1482.55 247.574 1479.01 Q249.403 1475.44 249.403 1468.33 Q249.403 1461.2 247.574 1457.66 Q245.769 1454.1 242.135 1454.1 M242.135 1450.39 Q247.945 1450.39 251 1455 Q254.079 1459.58 254.079 1468.33 Q254.079 1477.06 251 1481.67 Q247.945 1486.25 242.135 1486.25 Q236.325 1486.25 233.246 1481.67 Q230.19 1477.06 230.19 1468.33 Q230.19 1459.58 233.246 1455 Q236.325 1450.39 242.135 1450.39 Z\" fill=\"#000000\" fill-rule=\"nonzero\" fill-opacity=\"1\" /><path clip-path=\"url(#clip970)\" d=\"M534.034 1481.64 L541.673 1481.64 L541.673 1455.28 L533.363 1456.95 L533.363 1452.69 L541.627 1451.02 L546.302 1451.02 L546.302 1481.64 L553.941 1481.64 L553.941 1485.58 L534.034 1485.58 L534.034 1481.64 Z\" fill=\"#000000\" fill-rule=\"nonzero\" fill-opacity=\"1\" /><path clip-path=\"url(#clip970)\" d=\"M839.822 1481.64 L856.141 1481.64 L856.141 1485.58 L834.197 1485.58 L834.197 1481.64 Q836.859 1478.89 841.442 1474.26 Q846.049 1469.61 847.229 1468.27 Q849.475 1465.74 850.354 1464.01 Q851.257 1462.25 851.257 1460.56 Q851.257 1457.8 849.313 1456.07 Q847.392 1454.33 844.29 1454.33 Q842.091 1454.33 839.637 1455.09 Q837.206 1455.86 834.429 1457.41 L834.429 1452.69 Q837.253 1451.55 839.706 1450.97 Q842.16 1450.39 844.197 1450.39 Q849.567 1450.39 852.762 1453.08 Q855.956 1455.77 855.956 1460.26 Q855.956 1462.39 855.146 1464.31 Q854.359 1466.2 852.253 1468.8 Q851.674 1469.47 848.572 1472.69 Q845.47 1475.88 839.822 1481.64 Z\" fill=\"#000000\" fill-rule=\"nonzero\" fill-opacity=\"1\" /><path clip-path=\"url(#clip970)\" d=\"M1150.93 1466.95 Q1154.29 1467.66 1156.17 1469.93 Q1158.06 1472.2 1158.06 1475.53 Q1158.06 1480.65 1154.55 1483.45 Q1151.03 1486.25 1144.55 1486.25 Q1142.37 1486.25 1140.05 1485.81 Q1137.76 1485.39 1135.31 1484.54 L1135.31 1480.02 Q1137.25 1481.16 1139.57 1481.74 Q1141.88 1482.32 1144.41 1482.32 Q1148.8 1482.32 1151.1 1480.58 Q1153.41 1478.84 1153.41 1475.53 Q1153.41 1472.48 1151.26 1470.77 Q1149.13 1469.03 1145.31 1469.03 L1141.28 1469.03 L1141.28 1465.19 L1145.49 1465.19 Q1148.94 1465.19 1150.77 1463.82 Q1152.6 1462.43 1152.6 1459.84 Q1152.6 1457.18 1150.7 1455.77 Q1148.83 1454.33 1145.31 1454.33 Q1143.39 1454.33 1141.19 1454.75 Q1138.99 1455.16 1136.35 1456.04 L1136.35 1451.88 Q1139.01 1451.14 1141.33 1450.77 Q1143.67 1450.39 1145.73 1450.39 Q1151.05 1450.39 1154.15 1452.83 Q1157.25 1455.23 1157.25 1459.35 Q1157.25 1462.22 1155.61 1464.21 Q1153.97 1466.18 1150.93 1466.95 Z\" fill=\"#000000\" fill-rule=\"nonzero\" fill-opacity=\"1\" /><path clip-path=\"url(#clip970)\" d=\"M1451.21 1455.09 L1439.41 1473.54 L1451.21 1473.54 L1451.21 1455.09 M1449.99 1451.02 L1455.87 1451.02 L1455.87 1473.54 L1460.8 1473.54 L1460.8 1477.43 L1455.87 1477.43 L1455.87 1485.58 L1451.21 1485.58 L1451.21 1477.43 L1435.61 1477.43 L1435.61 1472.92 L1449.99 1451.02 Z\" fill=\"#000000\" fill-rule=\"nonzero\" fill-opacity=\"1\" /><path clip-path=\"url(#clip970)\" d=\"M1740 1451.02 L1758.36 1451.02 L1758.36 1454.96 L1744.28 1454.96 L1744.28 1463.43 Q1745.3 1463.08 1746.32 1462.92 Q1747.34 1462.73 1748.36 1462.73 Q1754.14 1462.73 1757.52 1465.9 Q1760.9 1469.08 1760.9 1474.49 Q1760.9 1480.07 1757.43 1483.17 Q1753.96 1486.25 1747.64 1486.25 Q1745.46 1486.25 1743.19 1485.88 Q1740.95 1485.51 1738.54 1484.77 L1738.54 1480.07 Q1740.62 1481.2 1742.85 1481.76 Q1745.07 1482.32 1747.55 1482.32 Q1751.55 1482.32 1753.89 1480.21 Q1756.23 1478.1 1756.23 1474.49 Q1756.23 1470.88 1753.89 1468.77 Q1751.55 1466.67 1747.55 1466.67 Q1745.67 1466.67 1743.8 1467.08 Q1741.94 1467.5 1740 1468.38 L1740 1451.02 Z\" fill=\"#000000\" fill-rule=\"nonzero\" fill-opacity=\"1\" /><path clip-path=\"url(#clip970)\" d=\"M2051.64 1466.44 Q2048.5 1466.44 2046.64 1468.59 Q2044.82 1470.74 2044.82 1474.49 Q2044.82 1478.22 2046.64 1480.39 Q2048.5 1482.55 2051.64 1482.55 Q2054.79 1482.55 2056.62 1480.39 Q2058.47 1478.22 2058.47 1474.49 Q2058.47 1470.74 2056.62 1468.59 Q2054.79 1466.44 2051.64 1466.44 M2060.93 1451.78 L2060.93 1456.04 Q2059.17 1455.21 2057.36 1454.77 Q2055.58 1454.33 2053.82 1454.33 Q2049.19 1454.33 2046.74 1457.45 Q2044.31 1460.58 2043.96 1466.9 Q2045.32 1464.89 2047.38 1463.82 Q2049.44 1462.73 2051.92 1462.73 Q2057.13 1462.73 2060.14 1465.9 Q2063.17 1469.05 2063.17 1474.49 Q2063.17 1479.82 2060.02 1483.03 Q2056.88 1486.25 2051.64 1486.25 Q2045.65 1486.25 2042.48 1481.67 Q2039.31 1477.06 2039.31 1468.33 Q2039.31 1460.14 2043.19 1455.28 Q2047.08 1450.39 2053.63 1450.39 Q2055.39 1450.39 2057.18 1450.74 Q2058.98 1451.09 2060.93 1451.78 Z\" fill=\"#000000\" fill-rule=\"nonzero\" fill-opacity=\"1\" /><path clip-path=\"url(#clip970)\" d=\"M2341.64 1451.02 L2363.87 1451.02 L2363.87 1453.01 L2351.32 1485.58 L2346.44 1485.58 L2358.24 1454.96 L2341.64 1454.96 L2341.64 1451.02 Z\" fill=\"#000000\" fill-rule=\"nonzero\" fill-opacity=\"1\" /><path clip-path=\"url(#clip970)\" d=\"M1164.47 1526.86 L1155.74 1550.51 L1173.22 1550.51 L1164.47 1526.86 M1160.84 1520.52 L1168.13 1520.52 L1186.24 1568.04 L1179.55 1568.04 L1175.22 1555.85 L1153.8 1555.85 L1149.47 1568.04 L1142.69 1568.04 L1160.84 1520.52 Z\" fill=\"#000000\" fill-rule=\"nonzero\" fill-opacity=\"1\" /><path clip-path=\"url(#clip970)\" d=\"M1222.55 1546.53 L1222.55 1568.04 L1216.7 1568.04 L1216.7 1546.72 Q1216.7 1541.66 1214.72 1539.14 Q1212.75 1536.63 1208.8 1536.63 Q1204.06 1536.63 1201.32 1539.65 Q1198.59 1542.68 1198.59 1547.9 L1198.59 1568.04 L1192.7 1568.04 L1192.7 1532.4 L1198.59 1532.4 L1198.59 1537.93 Q1200.69 1534.72 1203.52 1533.13 Q1206.38 1531.54 1210.11 1531.54 Q1216.25 1531.54 1219.4 1535.36 Q1222.55 1539.14 1222.55 1546.53 Z\" fill=\"#000000\" fill-rule=\"nonzero\" fill-opacity=\"1\" /><path clip-path=\"url(#clip970)\" d=\"M1257.69 1549.81 Q1257.69 1543.44 1255.05 1539.94 Q1252.44 1536.44 1247.7 1536.44 Q1242.99 1536.44 1240.34 1539.94 Q1237.73 1543.44 1237.73 1549.81 Q1237.73 1556.14 1240.34 1559.64 Q1242.99 1563.14 1247.7 1563.14 Q1252.44 1563.14 1255.05 1559.64 Q1257.69 1556.14 1257.69 1549.81 M1263.55 1563.62 Q1263.55 1572.72 1259.51 1577.15 Q1255.46 1581.6 1247.12 1581.6 Q1244.04 1581.6 1241.3 1581.13 Q1238.56 1580.68 1235.98 1579.72 L1235.98 1574.03 Q1238.56 1575.43 1241.08 1576.1 Q1243.59 1576.76 1246.2 1576.76 Q1251.96 1576.76 1254.83 1573.74 Q1257.69 1570.75 1257.69 1564.67 L1257.69 1561.77 Q1255.88 1564.92 1253.04 1566.48 Q1250.21 1568.04 1246.27 1568.04 Q1239.71 1568.04 1235.7 1563.05 Q1231.69 1558.05 1231.69 1549.81 Q1231.69 1541.53 1235.7 1536.53 Q1239.71 1531.54 1246.27 1531.54 Q1250.21 1531.54 1253.04 1533.1 Q1255.88 1534.66 1257.69 1537.81 L1257.69 1532.4 L1263.55 1532.4 L1263.55 1563.62 Z\" fill=\"#000000\" fill-rule=\"nonzero\" fill-opacity=\"1\" /><path clip-path=\"url(#clip970)\" d=\"M1298.34 1533.45 L1298.34 1538.98 Q1295.85 1537.71 1293.18 1537.07 Q1290.51 1536.44 1287.64 1536.44 Q1283.28 1536.44 1281.09 1537.77 Q1278.92 1539.11 1278.92 1541.79 Q1278.92 1543.82 1280.48 1545 Q1282.04 1546.15 1286.75 1547.2 L1288.76 1547.64 Q1294.99 1548.98 1297.6 1551.43 Q1300.25 1553.85 1300.25 1558.21 Q1300.25 1563.17 1296.3 1566.07 Q1292.38 1568.97 1285.51 1568.97 Q1282.65 1568.97 1279.53 1568.39 Q1276.44 1567.85 1273 1566.74 L1273 1560.69 Q1276.25 1562.38 1279.4 1563.24 Q1282.55 1564.07 1285.64 1564.07 Q1289.77 1564.07 1292 1562.66 Q1294.23 1561.23 1294.23 1558.65 Q1294.23 1556.27 1292.61 1554.99 Q1291.02 1553.72 1285.57 1552.54 L1283.54 1552.07 Q1278.09 1550.92 1275.67 1548.56 Q1273.26 1546.18 1273.26 1542.04 Q1273.26 1537.01 1276.82 1534.27 Q1280.39 1531.54 1286.94 1531.54 Q1290.19 1531.54 1293.05 1532.01 Q1295.92 1532.49 1298.34 1533.45 Z\" fill=\"#000000\" fill-rule=\"nonzero\" fill-opacity=\"1\" /><path clip-path=\"url(#clip970)\" d=\"M1315.36 1522.27 L1315.36 1532.4 L1327.43 1532.4 L1327.43 1536.95 L1315.36 1536.95 L1315.36 1556.3 Q1315.36 1560.66 1316.54 1561.9 Q1317.75 1563.14 1321.41 1563.14 L1327.43 1563.14 L1327.43 1568.04 L1321.41 1568.04 Q1314.63 1568.04 1312.05 1565.53 Q1309.48 1562.98 1309.48 1556.3 L1309.48 1536.95 L1305.18 1536.95 L1305.18 1532.4 L1309.48 1532.4 L1309.48 1522.27 L1315.36 1522.27 Z\" fill=\"#000000\" fill-rule=\"nonzero\" fill-opacity=\"1\" /><path clip-path=\"url(#clip970)\" d=\"M1355.79 1537.87 Q1354.8 1537.3 1353.62 1537.04 Q1352.48 1536.76 1351.08 1536.76 Q1346.11 1536.76 1343.44 1540 Q1340.8 1543.22 1340.8 1549.27 L1340.8 1568.04 L1334.91 1568.04 L1334.91 1532.4 L1340.8 1532.4 L1340.8 1537.93 Q1342.64 1534.69 1345.6 1533.13 Q1348.56 1531.54 1352.8 1531.54 Q1353.4 1531.54 1354.13 1531.63 Q1354.86 1531.7 1355.76 1531.85 L1355.79 1537.87 Z\" fill=\"#000000\" fill-rule=\"nonzero\" fill-opacity=\"1\" /><path clip-path=\"url(#clip970)\" d=\"M1374.31 1536.5 Q1369.6 1536.5 1366.86 1540.19 Q1364.13 1543.85 1364.13 1550.25 Q1364.13 1556.65 1366.83 1560.34 Q1369.57 1564 1374.31 1564 Q1378.99 1564 1381.73 1560.31 Q1384.46 1556.62 1384.46 1550.25 Q1384.46 1543.92 1381.73 1540.23 Q1378.99 1536.5 1374.31 1536.5 M1374.31 1531.54 Q1381.95 1531.54 1386.31 1536.5 Q1390.67 1541.47 1390.67 1550.25 Q1390.67 1559 1386.31 1564 Q1381.95 1568.97 1374.31 1568.97 Q1366.64 1568.97 1362.28 1564 Q1357.95 1559 1357.95 1550.25 Q1357.95 1541.47 1362.28 1536.5 Q1366.64 1531.54 1374.31 1531.54 Z\" fill=\"#000000\" fill-rule=\"nonzero\" fill-opacity=\"1\" /><path clip-path=\"url(#clip970)\" d=\"M1428.13 1539.24 Q1430.33 1535.29 1433.38 1533.41 Q1436.44 1531.54 1440.58 1531.54 Q1446.15 1531.54 1449.17 1535.45 Q1452.2 1539.33 1452.2 1546.53 L1452.2 1568.04 L1446.31 1568.04 L1446.31 1546.72 Q1446.31 1541.59 1444.49 1539.11 Q1442.68 1536.63 1438.95 1536.63 Q1434.4 1536.63 1431.76 1539.65 Q1429.12 1542.68 1429.12 1547.9 L1429.12 1568.04 L1423.23 1568.04 L1423.23 1546.72 Q1423.23 1541.56 1421.42 1539.11 Q1419.6 1536.63 1415.82 1536.63 Q1411.33 1536.63 1408.69 1539.68 Q1406.04 1542.71 1406.04 1547.9 L1406.04 1568.04 L1400.16 1568.04 L1400.16 1532.4 L1406.04 1532.4 L1406.04 1537.93 Q1408.05 1534.66 1410.85 1533.1 Q1413.65 1531.54 1417.5 1531.54 Q1421.39 1531.54 1424.09 1533.51 Q1426.83 1535.48 1428.13 1539.24 Z\" fill=\"#000000\" fill-rule=\"nonzero\" fill-opacity=\"1\" /><polyline clip-path=\"url(#clip970)\" style=\"stroke:#000000; stroke-linecap:round; stroke-linejoin:round; stroke-width:4; stroke-opacity:1; fill:none\" points=\"242.135,1423.18 242.135,47.2441 \"/>\n",
       "<polyline clip-path=\"url(#clip970)\" style=\"stroke:#000000; stroke-linecap:round; stroke-linejoin:round; stroke-width:4; stroke-opacity:1; fill:none\" points=\"242.135,1423.18 261.032,1423.18 \"/>\n",
       "<polyline clip-path=\"url(#clip970)\" style=\"stroke:#000000; stroke-linecap:round; stroke-linejoin:round; stroke-width:4; stroke-opacity:1; fill:none\" points=\"242.135,1061.09 261.032,1061.09 \"/>\n",
       "<polyline clip-path=\"url(#clip970)\" style=\"stroke:#000000; stroke-linecap:round; stroke-linejoin:round; stroke-width:4; stroke-opacity:1; fill:none\" points=\"242.135,699.003 261.032,699.003 \"/>\n",
       "<polyline clip-path=\"url(#clip970)\" style=\"stroke:#000000; stroke-linecap:round; stroke-linejoin:round; stroke-width:4; stroke-opacity:1; fill:none\" points=\"242.135,336.915 261.032,336.915 \"/>\n",
       "<path clip-path=\"url(#clip970)\" d=\"M115.256 1423.63 L144.931 1423.63 L144.931 1427.57 L115.256 1427.57 L115.256 1423.63 Z\" fill=\"#000000\" fill-rule=\"nonzero\" fill-opacity=\"1\" /><path clip-path=\"url(#clip970)\" d=\"M155.834 1436.52 L163.473 1436.52 L163.473 1410.16 L155.163 1411.83 L155.163 1407.57 L163.427 1405.9 L168.102 1405.9 L168.102 1436.52 L175.741 1436.52 L175.741 1440.46 L155.834 1440.46 L155.834 1436.52 Z\" fill=\"#000000\" fill-rule=\"nonzero\" fill-opacity=\"1\" /><path clip-path=\"url(#clip970)\" d=\"M185.232 1405.9 L203.588 1405.9 L203.588 1409.84 L189.514 1409.84 L189.514 1418.31 Q190.533 1417.96 191.551 1417.8 Q192.57 1417.61 193.588 1417.61 Q199.375 1417.61 202.755 1420.78 Q206.135 1423.96 206.135 1429.37 Q206.135 1434.95 202.662 1438.05 Q199.19 1441.13 192.871 1441.13 Q190.695 1441.13 188.426 1440.76 Q186.181 1440.39 183.774 1439.65 L183.774 1434.95 Q185.857 1436.08 188.079 1436.64 Q190.301 1437.2 192.778 1437.2 Q196.783 1437.2 199.121 1435.09 Q201.459 1432.98 201.459 1429.37 Q201.459 1425.76 199.121 1423.65 Q196.783 1421.55 192.778 1421.55 Q190.903 1421.55 189.028 1421.96 Q187.176 1422.38 185.232 1423.26 L185.232 1405.9 Z\" fill=\"#000000\" fill-rule=\"nonzero\" fill-opacity=\"1\" /><path clip-path=\"url(#clip970)\" d=\"M114.26 1061.54 L143.936 1061.54 L143.936 1065.48 L114.26 1065.48 L114.26 1061.54 Z\" fill=\"#000000\" fill-rule=\"nonzero\" fill-opacity=\"1\" /><path clip-path=\"url(#clip970)\" d=\"M154.839 1074.44 L162.477 1074.44 L162.477 1048.07 L154.167 1049.74 L154.167 1045.48 L162.431 1043.81 L167.107 1043.81 L167.107 1074.44 L174.746 1074.44 L174.746 1078.37 L154.839 1078.37 L154.839 1074.44 Z\" fill=\"#000000\" fill-rule=\"nonzero\" fill-opacity=\"1\" /><path clip-path=\"url(#clip970)\" d=\"M194.19 1046.89 Q190.579 1046.89 188.75 1050.45 Q186.945 1054 186.945 1061.13 Q186.945 1068.23 188.75 1071.8 Q190.579 1075.34 194.19 1075.34 Q197.825 1075.34 199.63 1071.8 Q201.459 1068.23 201.459 1061.13 Q201.459 1054 199.63 1050.45 Q197.825 1046.89 194.19 1046.89 M194.19 1043.19 Q200 1043.19 203.056 1047.79 Q206.135 1052.38 206.135 1061.13 Q206.135 1069.85 203.056 1074.46 Q200 1079.04 194.19 1079.04 Q188.38 1079.04 185.301 1074.46 Q182.246 1069.85 182.246 1061.13 Q182.246 1052.38 185.301 1047.79 Q188.38 1043.19 194.19 1043.19 Z\" fill=\"#000000\" fill-rule=\"nonzero\" fill-opacity=\"1\" /><path clip-path=\"url(#clip970)\" d=\"M145.417 699.455 L175.093 699.455 L175.093 703.39 L145.417 703.39 L145.417 699.455 Z\" fill=\"#000000\" fill-rule=\"nonzero\" fill-opacity=\"1\" /><path clip-path=\"url(#clip970)\" d=\"M185.232 681.723 L203.588 681.723 L203.588 685.658 L189.514 685.658 L189.514 694.13 Q190.533 693.783 191.551 693.621 Q192.57 693.436 193.588 693.436 Q199.375 693.436 202.755 696.607 Q206.135 699.779 206.135 705.195 Q206.135 710.774 202.662 713.876 Q199.19 716.954 192.871 716.954 Q190.695 716.954 188.426 716.584 Q186.181 716.214 183.774 715.473 L183.774 710.774 Q185.857 711.908 188.079 712.464 Q190.301 713.019 192.778 713.019 Q196.783 713.019 199.121 710.913 Q201.459 708.806 201.459 705.195 Q201.459 701.584 199.121 699.478 Q196.783 697.371 192.778 697.371 Q190.903 697.371 189.028 697.788 Q187.176 698.205 185.232 699.084 L185.232 681.723 Z\" fill=\"#000000\" fill-rule=\"nonzero\" fill-opacity=\"1\" /><path clip-path=\"url(#clip970)\" d=\"M194.19 322.713 Q190.579 322.713 188.75 326.278 Q186.945 329.82 186.945 336.95 Q186.945 344.056 188.75 347.621 Q190.579 351.162 194.19 351.162 Q197.825 351.162 199.63 347.621 Q201.459 344.056 201.459 336.95 Q201.459 329.82 199.63 326.278 Q197.825 322.713 194.19 322.713 M194.19 319.01 Q200 319.01 203.056 323.616 Q206.135 328.2 206.135 336.95 Q206.135 345.676 203.056 350.283 Q200 354.866 194.19 354.866 Q188.38 354.866 185.301 350.283 Q182.246 345.676 182.246 336.95 Q182.246 328.2 185.301 323.616 Q188.38 319.01 194.19 319.01 Z\" fill=\"#000000\" fill-rule=\"nonzero\" fill-opacity=\"1\" /><path clip-path=\"url(#clip970)\" d=\"M16.4842 827.944 L16.4842 797.898 L21.895 797.898 L21.895 821.515 L35.9632 821.515 L35.9632 798.885 L41.3741 798.885 L41.3741 821.515 L58.5933 821.515 L58.5933 797.325 L64.0042 797.325 L64.0042 827.944 L16.4842 827.944 Z\" fill=\"#000000\" fill-rule=\"nonzero\" fill-opacity=\"1\" /><path clip-path=\"url(#clip970)\" d=\"M14.479 766.834 L14.479 753.338 L19.0304 753.338 L19.0304 760.977 L68.0464 760.977 L68.0464 753.338 L72.5979 753.338 L72.5979 766.834 L14.479 766.834 Z\" fill=\"#000000\" fill-rule=\"nonzero\" fill-opacity=\"1\" /><path clip-path=\"url(#clip970)\" d=\"M44.7161 710.37 L47.5806 710.37 L47.5806 737.297 Q53.6281 736.915 56.8109 733.668 Q59.9619 730.39 59.9619 724.565 Q59.9619 721.191 59.1344 718.04 Q58.3069 714.858 56.6518 711.738 L62.1899 711.738 Q63.5267 714.889 64.227 718.2 Q64.9272 721.51 64.9272 724.915 Q64.9272 733.445 59.9619 738.443 Q54.9967 743.408 46.5303 743.408 Q37.7774 743.408 32.6531 738.697 Q27.4968 733.955 27.4968 725.934 Q27.4968 718.741 32.1438 714.571 Q36.7589 710.37 44.7161 710.37 M42.9973 716.226 Q38.1912 716.29 35.3266 718.932 Q32.4621 721.542 32.4621 725.87 Q32.4621 730.772 35.2312 733.732 Q38.0002 736.66 43.0292 737.106 L42.9973 716.226 Z\" fill=\"#000000\" fill-rule=\"nonzero\" fill-opacity=\"1\" /><path clip-path=\"url(#clip970)\" d=\"M64.0042 688.249 L16.4842 706.391 L16.4842 699.675 L56.4926 684.621 L16.4842 669.534 L16.4842 662.85 L64.0042 680.96 L64.0042 688.249 Z\" fill=\"#000000\" fill-rule=\"nonzero\" fill-opacity=\"1\" /><path clip-path=\"url(#clip970)\" d=\"M14.479 642.48 L72.5979 642.48 L72.5979 655.975 L68.0464 655.975 L68.0464 648.368 L19.0304 648.368 L19.0304 655.975 L14.479 655.975 L14.479 642.48 Z\" fill=\"#000000\" fill-rule=\"nonzero\" fill-opacity=\"1\" /><polyline clip-path=\"url(#clip972)\" style=\"stroke:#009af9; stroke-linecap:round; stroke-linejoin:round; stroke-width:8; stroke-opacity:1; fill:none\" points=\"401.691,2553.26 411.495,1447.36 421.299,282.32 431.104,-574.847 440.908,-949.37 450.712,-858.717 460.517,-452.732 470.321,71.1018 480.125,542.636 489.93,862.415 499.734,1008.78 509.539,1017.95 519.343,952.515 529.147,872.724 538.952,818.796 548.756,806.106 558.56,829.935 568.365,874.665 578.169,922.77 587.973,960.855 597.778,982.053 607.582,985.518 617.386,974.382 627.191,953.423 636.995,927.28 646.799,899.478 656.604,872.19 666.408,846.436 676.212,822.462 686.017,800.07 695.821,778.836 705.625,758.21 715.43,737.55 725.234,716.153 735.039,693.307 744.843,668.377 754.647,640.912 764.452,610.74 774.256,578.03 784.06,543.302 793.865,507.382 803.669,471.31 813.473,436.226 823.278,403.24 833.082,373.326 842.886,347.23 852.691,325.424 862.495,308.095 872.299,295.161 882.104,286.32 891.908,281.105 901.712,278.949 911.517,279.25 921.321,281.42 931.125,284.923 940.93,289.301 950.734,294.185 960.539,299.296 970.343,304.435 980.147,309.468 989.952,314.315 999.756,318.93 1009.56,323.287 1019.36,327.374 1029.17,331.178 1038.97,334.689 1048.78,337.89 1058.58,340.766 1068.39,343.299 1078.19,345.475 1088,347.285 1097.8,348.725 1107.6,349.803 1117.41,350.534 1127.21,350.943 1137.02,351.06 1146.82,350.925 1156.63,350.58 1166.43,350.07 1176.23,349.441 1186.04,348.736 1195.84,347.997 1205.65,347.26 1215.45,346.557 1225.26,345.915 1235.06,345.353 1244.86,344.889 1254.67,344.531 1264.47,344.284 1274.28,344.149 1284.08,344.123 1293.89,344.199 1303.69,344.365 1313.5,344.611 1323.3,344.921 1333.1,345.279 1342.91,345.669 1352.71,346.073 1362.52,346.474 1372.32,346.856 1382.13,347.204 1391.93,347.503 1401.73,347.742 1411.54,347.911 1421.34,348.004 1431.15,348.014 1440.95,347.941 1450.76,347.784 1460.56,347.546 1470.36,347.23 1480.17,346.842 1489.97,346.389 1499.78,345.879 1509.58,345.32 1519.39,344.721 1529.19,344.092 1539,343.441 1548.8,342.778 1558.6,342.114 1568.41,341.459 1578.21,340.821 1588.02,340.211 1597.82,339.64 1607.63,339.114 1617.43,338.643 1627.23,338.231 1637.04,337.882 1646.84,337.596 1656.65,337.372 1666.45,337.203 1676.26,337.082 1686.06,336.998 1695.86,336.943 1705.67,336.909 1715.47,336.891 1725.28,336.887 1735.08,336.895 1744.89,336.911 1754.69,336.915 1764.5,336.915 1774.3,336.915 1784.1,336.915 1793.91,336.915 1803.71,336.915 1813.52,336.915 1823.32,336.915 1833.13,336.915 1842.93,336.915 1852.73,336.915 1862.54,336.915 1872.34,336.915 1882.15,336.915 1891.95,336.915 1901.76,336.915 1911.56,336.915 1921.36,336.915 1931.17,336.915 1940.97,336.915 1950.78,336.915 1960.58,336.915 1970.39,336.915 1980.19,336.915 1990,336.915 1999.8,336.915 2009.6,336.915 2019.41,336.915 2029.21,336.915 2039.02,336.915 2048.82,336.915 2058.63,336.915 2068.43,336.915 2078.23,336.915 2088.04,336.915 2097.84,336.915 2107.65,336.915 2117.45,336.915 2127.26,336.915 2137.06,336.915 2146.86,336.915 2156.67,336.915 2166.47,336.915 2176.28,336.915 2186.08,336.915 2195.89,336.915 2205.69,336.915 2215.5,336.915 2225.3,336.915 2235.1,336.915 2244.91,336.915 2254.71,336.915 2264.52,336.915 2274.32,336.915 2284.13,336.915 2293.93,336.915 2303.73,336.915 2313.54,336.915 2323.34,336.915 2333.15,336.915 2342.95,336.915 2352.76,336.915 \"/>\n",
       "<polyline clip-path=\"url(#clip972)\" style=\"stroke:#e26f46; stroke-linecap:round; stroke-linejoin:round; stroke-width:8; stroke-opacity:1; fill:none\" points=\"401.691,-793.416 411.495,-274.034 421.299,351.004 431.104,871.378 440.908,1143.18 450.712,1119.07 460.517,845.901 470.321,435.558 480.125,22.0049 489.93,-280.087 499.734,-403.21 509.539,-335.971 519.343,-114.65 529.147,196.216 538.952,526.102 548.756,816.726 558.56,1032.36 568.365,1161.68 578.169,1213.09 587.973,1206.73 597.778,1166.22 607.582,1112.33 617.386,1059.51 627.191,1015.15 636.995,980.818 646.799,954.448 656.604,932.554 666.408,911.931 676.212,890.577 686.017,867.897 695.821,844.396 705.625,821.137 715.43,799.192 725.234,779.237 735.039,761.368 744.843,745.115 754.647,729.604 764.452,713.793 774.256,696.707 784.06,677.624 793.865,656.186 803.669,632.425 813.473,606.722 823.278,579.715 833.082,552.188 842.886,524.961 852.691,498.788 862.495,474.293 872.299,451.929 882.104,431.968 891.908,414.515 901.712,399.533 911.517,386.885 921.321,376.368 931.125,367.751 940.93,360.798 950.734,355.296 960.539,351.059 970.343,347.935 980.147,345.805 989.952,344.576 999.756,344.17 1009.56,344.522 1019.36,345.567 1029.17,347.238 1038.97,349.458 1048.78,352.141 1058.58,355.195 1068.39,358.516 1078.19,361.999 1088,365.537 1097.8,369.025 1107.6,372.367 1117.41,375.473 1127.21,378.268 1137.02,380.689 1146.82,382.689 1156.63,384.234 1166.43,385.306 1176.23,385.9 1186.04,386.022 1195.84,385.692 1205.65,384.936 1215.45,383.79 1225.26,382.293 1235.06,380.49 1244.86,378.429 1254.67,376.158 1264.47,373.725 1274.28,371.177 1284.08,368.559 1293.89,365.914 1303.69,363.28 1313.5,360.693 1323.3,358.182 1333.1,355.774 1342.91,353.491 1352.71,351.348 1362.52,349.359 1372.32,347.532 1382.13,345.871 1391.93,344.377 1401.73,343.048 1411.54,341.88 1421.34,340.864 1431.15,339.992 1440.95,339.254 1450.76,338.639 1460.56,338.135 1470.36,337.731 1480.17,337.415 1489.97,337.175 1499.78,336.999 1509.58,336.879 1519.39,336.802 1529.19,336.761 1539,336.747 1548.8,336.752 1558.6,336.771 1568.41,336.797 1578.21,336.828 1588.02,336.858 1597.82,336.887 1607.63,336.911 1617.43,336.932 1627.23,336.947 1637.04,336.958 1646.84,336.964 1656.65,336.967 1666.45,336.967 1676.26,336.964 1686.06,336.958 1695.86,336.95 1705.67,336.94 1715.47,336.93 1725.28,336.921 1735.08,336.916 1744.89,336.915 1754.69,336.915 1764.5,336.915 1774.3,336.915 1784.1,336.915 1793.91,336.915 1803.71,336.915 1813.52,336.915 1823.32,336.915 1833.13,336.915 1842.93,336.915 1852.73,336.915 1862.54,336.915 1872.34,336.915 1882.15,336.915 1891.95,336.915 1901.76,336.915 1911.56,336.915 1921.36,336.915 1931.17,336.915 1940.97,336.915 1950.78,336.915 1960.58,336.915 1970.39,336.915 1980.19,336.915 1990,336.915 1999.8,336.915 2009.6,336.915 2019.41,336.915 2029.21,336.915 2039.02,336.915 2048.82,336.915 2058.63,336.915 2068.43,336.915 2078.23,336.915 2088.04,336.915 2097.84,336.915 2107.65,336.915 2117.45,336.915 2127.26,336.915 2137.06,336.915 2146.86,336.915 2156.67,336.915 2166.47,336.915 2176.28,336.915 2186.08,336.915 2195.89,336.915 2205.69,336.915 2215.5,336.915 2225.3,336.915 2235.1,336.915 2244.91,336.915 2254.71,336.915 2264.52,336.915 2274.32,336.915 2284.13,336.915 2293.93,336.915 2303.73,336.915 2313.54,336.915 2323.34,336.915 2333.15,336.915 2342.95,336.915 2352.76,336.915 \"/>\n",
       "<polyline clip-path=\"url(#clip972)\" style=\"stroke:#000000; stroke-linecap:round; stroke-linejoin:round; stroke-width:4; stroke-opacity:1; fill:none\" stroke-dasharray=\"16, 10\" points=\"630.175,2799.12 630.175,-1328.69 \"/>\n",
       "<path clip-path=\"url(#clip970)\" d=\"M1866.69 300.469 L2282.4 300.469 L2282.4 93.1086 L1866.69 93.1086  Z\" fill=\"#ffffff\" fill-rule=\"evenodd\" fill-opacity=\"1\"/>\n",
       "<polyline clip-path=\"url(#clip970)\" style=\"stroke:#000000; stroke-linecap:round; stroke-linejoin:round; stroke-width:4; stroke-opacity:1; fill:none\" points=\"1866.69,300.469 2282.4,300.469 2282.4,93.1086 1866.69,93.1086 1866.69,300.469 \"/>\n",
       "<polyline clip-path=\"url(#clip970)\" style=\"stroke:#009af9; stroke-linecap:round; stroke-linejoin:round; stroke-width:8; stroke-opacity:1; fill:none\" points=\"1890.14,144.949 2030.85,144.949 \"/>\n",
       "<path clip-path=\"url(#clip970)\" d=\"M2059.92 158.293 L2076.24 158.293 L2076.24 162.229 L2054.3 162.229 L2054.3 158.293 Q2056.96 155.539 2061.54 150.909 Q2066.15 146.256 2067.33 144.914 Q2069.58 142.391 2070.46 140.655 Q2071.36 138.895 2071.36 137.206 Q2071.36 134.451 2069.41 132.715 Q2067.49 130.979 2064.39 130.979 Q2062.19 130.979 2059.74 131.743 Q2057.31 132.507 2054.53 134.057 L2054.53 129.335 Q2057.35 128.201 2059.81 127.622 Q2062.26 127.044 2064.3 127.044 Q2069.67 127.044 2072.86 129.729 Q2076.06 132.414 2076.06 136.905 Q2076.06 139.034 2075.25 140.956 Q2074.46 142.854 2072.35 145.446 Q2071.78 146.118 2068.67 149.335 Q2065.57 152.53 2059.92 158.293 Z\" fill=\"#000000\" fill-rule=\"nonzero\" fill-opacity=\"1\" /><path clip-path=\"url(#clip970)\" d=\"M2098.91 131.743 L2087.1 150.192 L2098.91 150.192 L2098.91 131.743 M2097.68 127.669 L2103.56 127.669 L2103.56 150.192 L2108.49 150.192 L2108.49 154.081 L2103.56 154.081 L2103.56 162.229 L2098.91 162.229 L2098.91 154.081 L2083.3 154.081 L2083.3 149.567 L2097.68 127.669 Z\" fill=\"#000000\" fill-rule=\"nonzero\" fill-opacity=\"1\" /><path clip-path=\"url(#clip970)\" d=\"M2116.22 156.349 L2121.1 156.349 L2121.1 162.229 L2116.22 162.229 L2116.22 156.349 Z\" fill=\"#000000\" fill-rule=\"nonzero\" fill-opacity=\"1\" /><path clip-path=\"url(#clip970)\" d=\"M2135.32 158.293 L2151.64 158.293 L2151.64 162.229 L2129.69 162.229 L2129.69 158.293 Q2132.35 155.539 2136.94 150.909 Q2141.54 146.256 2142.72 144.914 Q2144.97 142.391 2145.85 140.655 Q2146.75 138.895 2146.75 137.206 Q2146.75 134.451 2144.81 132.715 Q2142.89 130.979 2139.78 130.979 Q2137.59 130.979 2135.13 131.743 Q2132.7 132.507 2129.92 134.057 L2129.92 129.335 Q2132.75 128.201 2135.2 127.622 Q2137.65 127.044 2139.69 127.044 Q2145.06 127.044 2148.26 129.729 Q2151.45 132.414 2151.45 136.905 Q2151.45 139.034 2150.64 140.956 Q2149.85 142.854 2147.75 145.446 Q2147.17 146.118 2144.07 149.335 Q2140.97 152.53 2135.32 158.293 Z\" fill=\"#000000\" fill-rule=\"nonzero\" fill-opacity=\"1\" /><path clip-path=\"url(#clip970)\" d=\"M2171.45 130.747 Q2167.84 130.747 2166.01 134.312 Q2164.21 137.854 2164.21 144.983 Q2164.21 152.09 2166.01 155.655 Q2167.84 159.196 2171.45 159.196 Q2175.09 159.196 2176.89 155.655 Q2178.72 152.09 2178.72 144.983 Q2178.72 137.854 2176.89 134.312 Q2175.09 130.747 2171.45 130.747 M2171.45 127.044 Q2177.26 127.044 2180.32 131.65 Q2183.4 136.233 2183.4 144.983 Q2183.4 153.71 2180.32 158.317 Q2177.26 162.9 2171.45 162.9 Q2165.64 162.9 2162.56 158.317 Q2159.51 153.71 2159.51 144.983 Q2159.51 136.233 2162.56 131.65 Q2165.64 127.044 2171.45 127.044 Z\" fill=\"#000000\" fill-rule=\"nonzero\" fill-opacity=\"1\" /><polyline clip-path=\"url(#clip970)\" style=\"stroke:#e26f46; stroke-linecap:round; stroke-linejoin:round; stroke-width:8; stroke-opacity:1; fill:none\" points=\"1890.14,196.789 2030.85,196.789 \"/>\n",
       "<path clip-path=\"url(#clip970)\" d=\"M2059.92 210.133 L2076.24 210.133 L2076.24 214.069 L2054.3 214.069 L2054.3 210.133 Q2056.96 207.379 2061.54 202.749 Q2066.15 198.096 2067.33 196.754 Q2069.58 194.231 2070.46 192.495 Q2071.36 190.735 2071.36 189.046 Q2071.36 186.291 2069.41 184.555 Q2067.49 182.819 2064.39 182.819 Q2062.19 182.819 2059.74 183.583 Q2057.31 184.347 2054.53 185.897 L2054.53 181.175 Q2057.35 180.041 2059.81 179.462 Q2062.26 178.884 2064.3 178.884 Q2069.67 178.884 2072.86 181.569 Q2076.06 184.254 2076.06 188.745 Q2076.06 190.874 2075.25 192.796 Q2074.46 194.694 2072.35 197.286 Q2071.78 197.958 2068.67 201.175 Q2065.57 204.37 2059.92 210.133 Z\" fill=\"#000000\" fill-rule=\"nonzero\" fill-opacity=\"1\" /><path clip-path=\"url(#clip970)\" d=\"M2098.91 183.583 L2087.1 202.032 L2098.91 202.032 L2098.91 183.583 M2097.68 179.509 L2103.56 179.509 L2103.56 202.032 L2108.49 202.032 L2108.49 205.921 L2103.56 205.921 L2103.56 214.069 L2098.91 214.069 L2098.91 205.921 L2083.3 205.921 L2083.3 201.407 L2097.68 179.509 Z\" fill=\"#000000\" fill-rule=\"nonzero\" fill-opacity=\"1\" /><path clip-path=\"url(#clip970)\" d=\"M2116.22 208.189 L2121.1 208.189 L2121.1 214.069 L2116.22 214.069 L2116.22 208.189 Z\" fill=\"#000000\" fill-rule=\"nonzero\" fill-opacity=\"1\" /><path clip-path=\"url(#clip970)\" d=\"M2135.32 210.133 L2151.64 210.133 L2151.64 214.069 L2129.69 214.069 L2129.69 210.133 Q2132.35 207.379 2136.94 202.749 Q2141.54 198.096 2142.72 196.754 Q2144.97 194.231 2145.85 192.495 Q2146.75 190.735 2146.75 189.046 Q2146.75 186.291 2144.81 184.555 Q2142.89 182.819 2139.78 182.819 Q2137.59 182.819 2135.13 183.583 Q2132.7 184.347 2129.92 185.897 L2129.92 181.175 Q2132.75 180.041 2135.2 179.462 Q2137.65 178.884 2139.69 178.884 Q2145.06 178.884 2148.26 181.569 Q2151.45 184.254 2151.45 188.745 Q2151.45 190.874 2150.64 192.796 Q2149.85 194.694 2147.75 197.286 Q2147.17 197.958 2144.07 201.175 Q2140.97 204.37 2135.32 210.133 Z\" fill=\"#000000\" fill-rule=\"nonzero\" fill-opacity=\"1\" /><path clip-path=\"url(#clip970)\" d=\"M2171.45 182.587 Q2167.84 182.587 2166.01 186.152 Q2164.21 189.694 2164.21 196.823 Q2164.21 203.93 2166.01 207.495 Q2167.84 211.036 2171.45 211.036 Q2175.09 211.036 2176.89 207.495 Q2178.72 203.93 2178.72 196.823 Q2178.72 189.694 2176.89 186.152 Q2175.09 182.587 2171.45 182.587 M2171.45 178.884 Q2177.26 178.884 2180.32 183.49 Q2183.4 188.073 2183.4 196.823 Q2183.4 205.55 2180.32 210.157 Q2177.26 214.74 2171.45 214.74 Q2165.64 214.74 2162.56 210.157 Q2159.51 205.55 2159.51 196.823 Q2159.51 188.073 2162.56 183.49 Q2165.64 178.884 2171.45 178.884 Z\" fill=\"#000000\" fill-rule=\"nonzero\" fill-opacity=\"1\" /><path clip-path=\"url(#clip970)\" d=\"M2191.61 208.189 L2196.5 208.189 L2196.5 214.069 L2191.61 214.069 L2191.61 208.189 Z\" fill=\"#000000\" fill-rule=\"nonzero\" fill-opacity=\"1\" /><path clip-path=\"url(#clip970)\" d=\"M2207.49 210.133 L2215.13 210.133 L2215.13 183.768 L2206.82 185.435 L2206.82 181.175 L2215.09 179.509 L2219.76 179.509 L2219.76 210.133 L2227.4 210.133 L2227.4 214.069 L2207.49 214.069 L2207.49 210.133 Z\" fill=\"#000000\" fill-rule=\"nonzero\" fill-opacity=\"1\" /><path clip-path=\"url(#clip970)\" d=\"M2247.42 194.925 Q2244.27 194.925 2242.42 197.078 Q2240.59 199.231 2240.59 202.981 Q2240.59 206.708 2242.42 208.883 Q2244.27 211.036 2247.42 211.036 Q2250.57 211.036 2252.4 208.883 Q2254.25 206.708 2254.25 202.981 Q2254.25 199.231 2252.4 197.078 Q2250.57 194.925 2247.42 194.925 M2256.71 180.273 L2256.71 184.532 Q2254.95 183.698 2253.14 183.259 Q2251.36 182.819 2249.6 182.819 Q2244.97 182.819 2242.52 185.944 Q2240.08 189.069 2239.74 195.388 Q2241.1 193.374 2243.16 192.309 Q2245.22 191.222 2247.7 191.222 Q2252.91 191.222 2255.92 194.393 Q2258.95 197.541 2258.95 202.981 Q2258.95 208.305 2255.8 211.522 Q2252.65 214.74 2247.42 214.74 Q2241.43 214.74 2238.26 210.157 Q2235.08 205.55 2235.08 196.823 Q2235.08 188.629 2238.97 183.768 Q2242.86 178.884 2249.41 178.884 Q2251.17 178.884 2252.96 179.231 Q2254.76 179.578 2256.71 180.273 Z\" fill=\"#000000\" fill-rule=\"nonzero\" fill-opacity=\"1\" /><polyline clip-path=\"url(#clip970)\" style=\"stroke:#000000; stroke-linecap:round; stroke-linejoin:round; stroke-width:4; stroke-opacity:1; fill:none\" stroke-dasharray=\"16, 10\" points=\"1890.14,248.629 2030.85,248.629 \"/>\n",
       "<path clip-path=\"url(#clip970)\" d=\"M2069.48 243.964 Q2068.77 243.548 2067.91 243.362 Q2067.08 243.154 2066.06 243.154 Q2062.45 243.154 2060.5 245.515 Q2058.58 247.853 2058.58 252.251 L2058.58 265.909 L2054.3 265.909 L2054.3 239.983 L2058.58 239.983 L2058.58 244.011 Q2059.92 241.649 2062.08 240.515 Q2064.23 239.358 2067.31 239.358 Q2067.75 239.358 2068.28 239.427 Q2068.81 239.474 2069.46 239.589 L2069.48 243.964 Z\" fill=\"#000000\" fill-rule=\"nonzero\" fill-opacity=\"1\" /><path clip-path=\"url(#clip970)\" d=\"M2082.68 250.237 Q2081.52 248.247 2079.18 248.247 Q2076.85 248.247 2075.69 250.237 Q2074.51 252.228 2074.51 256.21 Q2074.51 260.214 2075.69 262.205 Q2076.85 264.196 2079.18 264.196 Q2081.52 264.196 2082.68 262.205 Q2083.86 260.214 2083.86 256.21 Q2083.86 252.228 2082.68 250.237 M2079.18 246.187 Q2082.91 246.187 2084.88 248.756 Q2086.84 251.325 2086.84 256.21 Q2086.84 261.117 2084.88 263.686 Q2082.91 266.256 2079.18 266.256 Q2075.43 266.256 2073.47 263.686 Q2071.5 261.117 2071.5 256.21 Q2071.5 251.325 2073.47 248.756 Q2075.43 246.187 2079.18 246.187 Z\" fill=\"#000000\" fill-rule=\"nonzero\" fill-opacity=\"1\" /></svg>\n"
      ],
      "text/html": [
       "<?xml version=\"1.0\" encoding=\"utf-8\"?>\n",
       "<svg xmlns=\"http://www.w3.org/2000/svg\" xmlns:xlink=\"http://www.w3.org/1999/xlink\" width=\"600\" height=\"400\" viewBox=\"0 0 2400 1600\">\n",
       "<defs>\n",
       "  <clipPath id=\"clip020\">\n",
       "    <rect x=\"0\" y=\"0\" width=\"2400\" height=\"1600\"/>\n",
       "  </clipPath>\n",
       "</defs>\n",
       "<path clip-path=\"url(#clip020)\" d=\"M0 1600 L2400 1600 L2400 0 L0 0  Z\" fill=\"#ffffff\" fill-rule=\"evenodd\" fill-opacity=\"1\"/>\n",
       "<defs>\n",
       "  <clipPath id=\"clip021\">\n",
       "    <rect x=\"480\" y=\"0\" width=\"1681\" height=\"1600\"/>\n",
       "  </clipPath>\n",
       "</defs>\n",
       "<path clip-path=\"url(#clip020)\" d=\"M242.135 1423.18 L2352.76 1423.18 L2352.76 47.2441 L242.135 47.2441  Z\" fill=\"#ffffff\" fill-rule=\"evenodd\" fill-opacity=\"1\"/>\n",
       "<defs>\n",
       "  <clipPath id=\"clip022\">\n",
       "    <rect x=\"242\" y=\"47\" width=\"2112\" height=\"1377\"/>\n",
       "  </clipPath>\n",
       "</defs>\n",
       "<polyline clip-path=\"url(#clip022)\" style=\"stroke:#000000; stroke-linecap:round; stroke-linejoin:round; stroke-width:2; stroke-opacity:0.1; fill:none\" points=\"242.135,1423.18 242.135,47.2441 \"/>\n",
       "<polyline clip-path=\"url(#clip022)\" style=\"stroke:#000000; stroke-linecap:round; stroke-linejoin:round; stroke-width:2; stroke-opacity:0.1; fill:none\" points=\"543.652,1423.18 543.652,47.2441 \"/>\n",
       "<polyline clip-path=\"url(#clip022)\" style=\"stroke:#000000; stroke-linecap:round; stroke-linejoin:round; stroke-width:2; stroke-opacity:0.1; fill:none\" points=\"845.169,1423.18 845.169,47.2441 \"/>\n",
       "<polyline clip-path=\"url(#clip022)\" style=\"stroke:#000000; stroke-linecap:round; stroke-linejoin:round; stroke-width:2; stroke-opacity:0.1; fill:none\" points=\"1146.69,1423.18 1146.69,47.2441 \"/>\n",
       "<polyline clip-path=\"url(#clip022)\" style=\"stroke:#000000; stroke-linecap:round; stroke-linejoin:round; stroke-width:2; stroke-opacity:0.1; fill:none\" points=\"1448.2,1423.18 1448.2,47.2441 \"/>\n",
       "<polyline clip-path=\"url(#clip022)\" style=\"stroke:#000000; stroke-linecap:round; stroke-linejoin:round; stroke-width:2; stroke-opacity:0.1; fill:none\" points=\"1749.72,1423.18 1749.72,47.2441 \"/>\n",
       "<polyline clip-path=\"url(#clip022)\" style=\"stroke:#000000; stroke-linecap:round; stroke-linejoin:round; stroke-width:2; stroke-opacity:0.1; fill:none\" points=\"2051.24,1423.18 2051.24,47.2441 \"/>\n",
       "<polyline clip-path=\"url(#clip022)\" style=\"stroke:#000000; stroke-linecap:round; stroke-linejoin:round; stroke-width:2; stroke-opacity:0.1; fill:none\" points=\"2352.76,1423.18 2352.76,47.2441 \"/>\n",
       "<polyline clip-path=\"url(#clip022)\" style=\"stroke:#000000; stroke-linecap:round; stroke-linejoin:round; stroke-width:2; stroke-opacity:0.1; fill:none\" points=\"242.135,1423.18 2352.76,1423.18 \"/>\n",
       "<polyline clip-path=\"url(#clip022)\" style=\"stroke:#000000; stroke-linecap:round; stroke-linejoin:round; stroke-width:2; stroke-opacity:0.1; fill:none\" points=\"242.135,1061.09 2352.76,1061.09 \"/>\n",
       "<polyline clip-path=\"url(#clip022)\" style=\"stroke:#000000; stroke-linecap:round; stroke-linejoin:round; stroke-width:2; stroke-opacity:0.1; fill:none\" points=\"242.135,699.003 2352.76,699.003 \"/>\n",
       "<polyline clip-path=\"url(#clip022)\" style=\"stroke:#000000; stroke-linecap:round; stroke-linejoin:round; stroke-width:2; stroke-opacity:0.1; fill:none\" points=\"242.135,336.915 2352.76,336.915 \"/>\n",
       "<polyline clip-path=\"url(#clip020)\" style=\"stroke:#000000; stroke-linecap:round; stroke-linejoin:round; stroke-width:4; stroke-opacity:1; fill:none\" points=\"242.135,1423.18 2352.76,1423.18 \"/>\n",
       "<polyline clip-path=\"url(#clip020)\" style=\"stroke:#000000; stroke-linecap:round; stroke-linejoin:round; stroke-width:4; stroke-opacity:1; fill:none\" points=\"242.135,1423.18 242.135,1404.28 \"/>\n",
       "<polyline clip-path=\"url(#clip020)\" style=\"stroke:#000000; stroke-linecap:round; stroke-linejoin:round; stroke-width:4; stroke-opacity:1; fill:none\" points=\"543.652,1423.18 543.652,1404.28 \"/>\n",
       "<polyline clip-path=\"url(#clip020)\" style=\"stroke:#000000; stroke-linecap:round; stroke-linejoin:round; stroke-width:4; stroke-opacity:1; fill:none\" points=\"845.169,1423.18 845.169,1404.28 \"/>\n",
       "<polyline clip-path=\"url(#clip020)\" style=\"stroke:#000000; stroke-linecap:round; stroke-linejoin:round; stroke-width:4; stroke-opacity:1; fill:none\" points=\"1146.69,1423.18 1146.69,1404.28 \"/>\n",
       "<polyline clip-path=\"url(#clip020)\" style=\"stroke:#000000; stroke-linecap:round; stroke-linejoin:round; stroke-width:4; stroke-opacity:1; fill:none\" points=\"1448.2,1423.18 1448.2,1404.28 \"/>\n",
       "<polyline clip-path=\"url(#clip020)\" style=\"stroke:#000000; stroke-linecap:round; stroke-linejoin:round; stroke-width:4; stroke-opacity:1; fill:none\" points=\"1749.72,1423.18 1749.72,1404.28 \"/>\n",
       "<polyline clip-path=\"url(#clip020)\" style=\"stroke:#000000; stroke-linecap:round; stroke-linejoin:round; stroke-width:4; stroke-opacity:1; fill:none\" points=\"2051.24,1423.18 2051.24,1404.28 \"/>\n",
       "<polyline clip-path=\"url(#clip020)\" style=\"stroke:#000000; stroke-linecap:round; stroke-linejoin:round; stroke-width:4; stroke-opacity:1; fill:none\" points=\"2352.76,1423.18 2352.76,1404.28 \"/>\n",
       "<path clip-path=\"url(#clip020)\" d=\"M242.135 1454.1 Q238.524 1454.1 236.695 1457.66 Q234.889 1461.2 234.889 1468.33 Q234.889 1475.44 236.695 1479.01 Q238.524 1482.55 242.135 1482.55 Q245.769 1482.55 247.574 1479.01 Q249.403 1475.44 249.403 1468.33 Q249.403 1461.2 247.574 1457.66 Q245.769 1454.1 242.135 1454.1 M242.135 1450.39 Q247.945 1450.39 251 1455 Q254.079 1459.58 254.079 1468.33 Q254.079 1477.06 251 1481.67 Q247.945 1486.25 242.135 1486.25 Q236.325 1486.25 233.246 1481.67 Q230.19 1477.06 230.19 1468.33 Q230.19 1459.58 233.246 1455 Q236.325 1450.39 242.135 1450.39 Z\" fill=\"#000000\" fill-rule=\"nonzero\" fill-opacity=\"1\" /><path clip-path=\"url(#clip020)\" d=\"M534.034 1481.64 L541.673 1481.64 L541.673 1455.28 L533.363 1456.95 L533.363 1452.69 L541.627 1451.02 L546.302 1451.02 L546.302 1481.64 L553.941 1481.64 L553.941 1485.58 L534.034 1485.58 L534.034 1481.64 Z\" fill=\"#000000\" fill-rule=\"nonzero\" fill-opacity=\"1\" /><path clip-path=\"url(#clip020)\" d=\"M839.822 1481.64 L856.141 1481.64 L856.141 1485.58 L834.197 1485.58 L834.197 1481.64 Q836.859 1478.89 841.442 1474.26 Q846.049 1469.61 847.229 1468.27 Q849.475 1465.74 850.354 1464.01 Q851.257 1462.25 851.257 1460.56 Q851.257 1457.8 849.313 1456.07 Q847.392 1454.33 844.29 1454.33 Q842.091 1454.33 839.637 1455.09 Q837.206 1455.86 834.429 1457.41 L834.429 1452.69 Q837.253 1451.55 839.706 1450.97 Q842.16 1450.39 844.197 1450.39 Q849.567 1450.39 852.762 1453.08 Q855.956 1455.77 855.956 1460.26 Q855.956 1462.39 855.146 1464.31 Q854.359 1466.2 852.253 1468.8 Q851.674 1469.47 848.572 1472.69 Q845.47 1475.88 839.822 1481.64 Z\" fill=\"#000000\" fill-rule=\"nonzero\" fill-opacity=\"1\" /><path clip-path=\"url(#clip020)\" d=\"M1150.93 1466.95 Q1154.29 1467.66 1156.17 1469.93 Q1158.06 1472.2 1158.06 1475.53 Q1158.06 1480.65 1154.55 1483.45 Q1151.03 1486.25 1144.55 1486.25 Q1142.37 1486.25 1140.05 1485.81 Q1137.76 1485.39 1135.31 1484.54 L1135.31 1480.02 Q1137.25 1481.16 1139.57 1481.74 Q1141.88 1482.32 1144.41 1482.32 Q1148.8 1482.32 1151.1 1480.58 Q1153.41 1478.84 1153.41 1475.53 Q1153.41 1472.48 1151.26 1470.77 Q1149.13 1469.03 1145.31 1469.03 L1141.28 1469.03 L1141.28 1465.19 L1145.49 1465.19 Q1148.94 1465.19 1150.77 1463.82 Q1152.6 1462.43 1152.6 1459.84 Q1152.6 1457.18 1150.7 1455.77 Q1148.83 1454.33 1145.31 1454.33 Q1143.39 1454.33 1141.19 1454.75 Q1138.99 1455.16 1136.35 1456.04 L1136.35 1451.88 Q1139.01 1451.14 1141.33 1450.77 Q1143.67 1450.39 1145.73 1450.39 Q1151.05 1450.39 1154.15 1452.83 Q1157.25 1455.23 1157.25 1459.35 Q1157.25 1462.22 1155.61 1464.21 Q1153.97 1466.18 1150.93 1466.95 Z\" fill=\"#000000\" fill-rule=\"nonzero\" fill-opacity=\"1\" /><path clip-path=\"url(#clip020)\" d=\"M1451.21 1455.09 L1439.41 1473.54 L1451.21 1473.54 L1451.21 1455.09 M1449.99 1451.02 L1455.87 1451.02 L1455.87 1473.54 L1460.8 1473.54 L1460.8 1477.43 L1455.87 1477.43 L1455.87 1485.58 L1451.21 1485.58 L1451.21 1477.43 L1435.61 1477.43 L1435.61 1472.92 L1449.99 1451.02 Z\" fill=\"#000000\" fill-rule=\"nonzero\" fill-opacity=\"1\" /><path clip-path=\"url(#clip020)\" d=\"M1740 1451.02 L1758.36 1451.02 L1758.36 1454.96 L1744.28 1454.96 L1744.28 1463.43 Q1745.3 1463.08 1746.32 1462.92 Q1747.34 1462.73 1748.36 1462.73 Q1754.14 1462.73 1757.52 1465.9 Q1760.9 1469.08 1760.9 1474.49 Q1760.9 1480.07 1757.43 1483.17 Q1753.96 1486.25 1747.64 1486.25 Q1745.46 1486.25 1743.19 1485.88 Q1740.95 1485.51 1738.54 1484.77 L1738.54 1480.07 Q1740.62 1481.2 1742.85 1481.76 Q1745.07 1482.32 1747.55 1482.32 Q1751.55 1482.32 1753.89 1480.21 Q1756.23 1478.1 1756.23 1474.49 Q1756.23 1470.88 1753.89 1468.77 Q1751.55 1466.67 1747.55 1466.67 Q1745.67 1466.67 1743.8 1467.08 Q1741.94 1467.5 1740 1468.38 L1740 1451.02 Z\" fill=\"#000000\" fill-rule=\"nonzero\" fill-opacity=\"1\" /><path clip-path=\"url(#clip020)\" d=\"M2051.64 1466.44 Q2048.5 1466.44 2046.64 1468.59 Q2044.82 1470.74 2044.82 1474.49 Q2044.82 1478.22 2046.64 1480.39 Q2048.5 1482.55 2051.64 1482.55 Q2054.79 1482.55 2056.62 1480.39 Q2058.47 1478.22 2058.47 1474.49 Q2058.47 1470.74 2056.62 1468.59 Q2054.79 1466.44 2051.64 1466.44 M2060.93 1451.78 L2060.93 1456.04 Q2059.17 1455.21 2057.36 1454.77 Q2055.58 1454.33 2053.82 1454.33 Q2049.19 1454.33 2046.74 1457.45 Q2044.31 1460.58 2043.96 1466.9 Q2045.32 1464.89 2047.38 1463.82 Q2049.44 1462.73 2051.92 1462.73 Q2057.13 1462.73 2060.14 1465.9 Q2063.17 1469.05 2063.17 1474.49 Q2063.17 1479.82 2060.02 1483.03 Q2056.88 1486.25 2051.64 1486.25 Q2045.65 1486.25 2042.48 1481.67 Q2039.31 1477.06 2039.31 1468.33 Q2039.31 1460.14 2043.19 1455.28 Q2047.08 1450.39 2053.63 1450.39 Q2055.39 1450.39 2057.18 1450.74 Q2058.98 1451.09 2060.93 1451.78 Z\" fill=\"#000000\" fill-rule=\"nonzero\" fill-opacity=\"1\" /><path clip-path=\"url(#clip020)\" d=\"M2341.64 1451.02 L2363.87 1451.02 L2363.87 1453.01 L2351.32 1485.58 L2346.44 1485.58 L2358.24 1454.96 L2341.64 1454.96 L2341.64 1451.02 Z\" fill=\"#000000\" fill-rule=\"nonzero\" fill-opacity=\"1\" /><path clip-path=\"url(#clip020)\" d=\"M1164.47 1526.86 L1155.74 1550.51 L1173.22 1550.51 L1164.47 1526.86 M1160.84 1520.52 L1168.13 1520.52 L1186.24 1568.04 L1179.55 1568.04 L1175.22 1555.85 L1153.8 1555.85 L1149.47 1568.04 L1142.69 1568.04 L1160.84 1520.52 Z\" fill=\"#000000\" fill-rule=\"nonzero\" fill-opacity=\"1\" /><path clip-path=\"url(#clip020)\" d=\"M1222.55 1546.53 L1222.55 1568.04 L1216.7 1568.04 L1216.7 1546.72 Q1216.7 1541.66 1214.72 1539.14 Q1212.75 1536.63 1208.8 1536.63 Q1204.06 1536.63 1201.32 1539.65 Q1198.59 1542.68 1198.59 1547.9 L1198.59 1568.04 L1192.7 1568.04 L1192.7 1532.4 L1198.59 1532.4 L1198.59 1537.93 Q1200.69 1534.72 1203.52 1533.13 Q1206.38 1531.54 1210.11 1531.54 Q1216.25 1531.54 1219.4 1535.36 Q1222.55 1539.14 1222.55 1546.53 Z\" fill=\"#000000\" fill-rule=\"nonzero\" fill-opacity=\"1\" /><path clip-path=\"url(#clip020)\" d=\"M1257.69 1549.81 Q1257.69 1543.44 1255.05 1539.94 Q1252.44 1536.44 1247.7 1536.44 Q1242.99 1536.44 1240.34 1539.94 Q1237.73 1543.44 1237.73 1549.81 Q1237.73 1556.14 1240.34 1559.64 Q1242.99 1563.14 1247.7 1563.14 Q1252.44 1563.14 1255.05 1559.64 Q1257.69 1556.14 1257.69 1549.81 M1263.55 1563.62 Q1263.55 1572.72 1259.51 1577.15 Q1255.46 1581.6 1247.12 1581.6 Q1244.04 1581.6 1241.3 1581.13 Q1238.56 1580.68 1235.98 1579.72 L1235.98 1574.03 Q1238.56 1575.43 1241.08 1576.1 Q1243.59 1576.76 1246.2 1576.76 Q1251.96 1576.76 1254.83 1573.74 Q1257.69 1570.75 1257.69 1564.67 L1257.69 1561.77 Q1255.88 1564.92 1253.04 1566.48 Q1250.21 1568.04 1246.27 1568.04 Q1239.71 1568.04 1235.7 1563.05 Q1231.69 1558.05 1231.69 1549.81 Q1231.69 1541.53 1235.7 1536.53 Q1239.71 1531.54 1246.27 1531.54 Q1250.21 1531.54 1253.04 1533.1 Q1255.88 1534.66 1257.69 1537.81 L1257.69 1532.4 L1263.55 1532.4 L1263.55 1563.62 Z\" fill=\"#000000\" fill-rule=\"nonzero\" fill-opacity=\"1\" /><path clip-path=\"url(#clip020)\" d=\"M1298.34 1533.45 L1298.34 1538.98 Q1295.85 1537.71 1293.18 1537.07 Q1290.51 1536.44 1287.64 1536.44 Q1283.28 1536.44 1281.09 1537.77 Q1278.92 1539.11 1278.92 1541.79 Q1278.92 1543.82 1280.48 1545 Q1282.04 1546.15 1286.75 1547.2 L1288.76 1547.64 Q1294.99 1548.98 1297.6 1551.43 Q1300.25 1553.85 1300.25 1558.21 Q1300.25 1563.17 1296.3 1566.07 Q1292.38 1568.97 1285.51 1568.97 Q1282.65 1568.97 1279.53 1568.39 Q1276.44 1567.85 1273 1566.74 L1273 1560.69 Q1276.25 1562.38 1279.4 1563.24 Q1282.55 1564.07 1285.64 1564.07 Q1289.77 1564.07 1292 1562.66 Q1294.23 1561.23 1294.23 1558.65 Q1294.23 1556.27 1292.61 1554.99 Q1291.02 1553.72 1285.57 1552.54 L1283.54 1552.07 Q1278.09 1550.92 1275.67 1548.56 Q1273.26 1546.18 1273.26 1542.04 Q1273.26 1537.01 1276.82 1534.27 Q1280.39 1531.54 1286.94 1531.54 Q1290.19 1531.54 1293.05 1532.01 Q1295.92 1532.49 1298.34 1533.45 Z\" fill=\"#000000\" fill-rule=\"nonzero\" fill-opacity=\"1\" /><path clip-path=\"url(#clip020)\" d=\"M1315.36 1522.27 L1315.36 1532.4 L1327.43 1532.4 L1327.43 1536.95 L1315.36 1536.95 L1315.36 1556.3 Q1315.36 1560.66 1316.54 1561.9 Q1317.75 1563.14 1321.41 1563.14 L1327.43 1563.14 L1327.43 1568.04 L1321.41 1568.04 Q1314.63 1568.04 1312.05 1565.53 Q1309.48 1562.98 1309.48 1556.3 L1309.48 1536.95 L1305.18 1536.95 L1305.18 1532.4 L1309.48 1532.4 L1309.48 1522.27 L1315.36 1522.27 Z\" fill=\"#000000\" fill-rule=\"nonzero\" fill-opacity=\"1\" /><path clip-path=\"url(#clip020)\" d=\"M1355.79 1537.87 Q1354.8 1537.3 1353.62 1537.04 Q1352.48 1536.76 1351.08 1536.76 Q1346.11 1536.76 1343.44 1540 Q1340.8 1543.22 1340.8 1549.27 L1340.8 1568.04 L1334.91 1568.04 L1334.91 1532.4 L1340.8 1532.4 L1340.8 1537.93 Q1342.64 1534.69 1345.6 1533.13 Q1348.56 1531.54 1352.8 1531.54 Q1353.4 1531.54 1354.13 1531.63 Q1354.86 1531.7 1355.76 1531.85 L1355.79 1537.87 Z\" fill=\"#000000\" fill-rule=\"nonzero\" fill-opacity=\"1\" /><path clip-path=\"url(#clip020)\" d=\"M1374.31 1536.5 Q1369.6 1536.5 1366.86 1540.19 Q1364.13 1543.85 1364.13 1550.25 Q1364.13 1556.65 1366.83 1560.34 Q1369.57 1564 1374.31 1564 Q1378.99 1564 1381.73 1560.31 Q1384.46 1556.62 1384.46 1550.25 Q1384.46 1543.92 1381.73 1540.23 Q1378.99 1536.5 1374.31 1536.5 M1374.31 1531.54 Q1381.95 1531.54 1386.31 1536.5 Q1390.67 1541.47 1390.67 1550.25 Q1390.67 1559 1386.31 1564 Q1381.95 1568.97 1374.31 1568.97 Q1366.64 1568.97 1362.28 1564 Q1357.95 1559 1357.95 1550.25 Q1357.95 1541.47 1362.28 1536.5 Q1366.64 1531.54 1374.31 1531.54 Z\" fill=\"#000000\" fill-rule=\"nonzero\" fill-opacity=\"1\" /><path clip-path=\"url(#clip020)\" d=\"M1428.13 1539.24 Q1430.33 1535.29 1433.38 1533.41 Q1436.44 1531.54 1440.58 1531.54 Q1446.15 1531.54 1449.17 1535.45 Q1452.2 1539.33 1452.2 1546.53 L1452.2 1568.04 L1446.31 1568.04 L1446.31 1546.72 Q1446.31 1541.59 1444.49 1539.11 Q1442.68 1536.63 1438.95 1536.63 Q1434.4 1536.63 1431.76 1539.65 Q1429.12 1542.68 1429.12 1547.9 L1429.12 1568.04 L1423.23 1568.04 L1423.23 1546.72 Q1423.23 1541.56 1421.42 1539.11 Q1419.6 1536.63 1415.82 1536.63 Q1411.33 1536.63 1408.69 1539.68 Q1406.04 1542.71 1406.04 1547.9 L1406.04 1568.04 L1400.16 1568.04 L1400.16 1532.4 L1406.04 1532.4 L1406.04 1537.93 Q1408.05 1534.66 1410.85 1533.1 Q1413.65 1531.54 1417.5 1531.54 Q1421.39 1531.54 1424.09 1533.51 Q1426.83 1535.48 1428.13 1539.24 Z\" fill=\"#000000\" fill-rule=\"nonzero\" fill-opacity=\"1\" /><polyline clip-path=\"url(#clip020)\" style=\"stroke:#000000; stroke-linecap:round; stroke-linejoin:round; stroke-width:4; stroke-opacity:1; fill:none\" points=\"242.135,1423.18 242.135,47.2441 \"/>\n",
       "<polyline clip-path=\"url(#clip020)\" style=\"stroke:#000000; stroke-linecap:round; stroke-linejoin:round; stroke-width:4; stroke-opacity:1; fill:none\" points=\"242.135,1423.18 261.032,1423.18 \"/>\n",
       "<polyline clip-path=\"url(#clip020)\" style=\"stroke:#000000; stroke-linecap:round; stroke-linejoin:round; stroke-width:4; stroke-opacity:1; fill:none\" points=\"242.135,1061.09 261.032,1061.09 \"/>\n",
       "<polyline clip-path=\"url(#clip020)\" style=\"stroke:#000000; stroke-linecap:round; stroke-linejoin:round; stroke-width:4; stroke-opacity:1; fill:none\" points=\"242.135,699.003 261.032,699.003 \"/>\n",
       "<polyline clip-path=\"url(#clip020)\" style=\"stroke:#000000; stroke-linecap:round; stroke-linejoin:round; stroke-width:4; stroke-opacity:1; fill:none\" points=\"242.135,336.915 261.032,336.915 \"/>\n",
       "<path clip-path=\"url(#clip020)\" d=\"M115.256 1423.63 L144.931 1423.63 L144.931 1427.57 L115.256 1427.57 L115.256 1423.63 Z\" fill=\"#000000\" fill-rule=\"nonzero\" fill-opacity=\"1\" /><path clip-path=\"url(#clip020)\" d=\"M155.834 1436.52 L163.473 1436.52 L163.473 1410.16 L155.163 1411.83 L155.163 1407.57 L163.427 1405.9 L168.102 1405.9 L168.102 1436.52 L175.741 1436.52 L175.741 1440.46 L155.834 1440.46 L155.834 1436.52 Z\" fill=\"#000000\" fill-rule=\"nonzero\" fill-opacity=\"1\" /><path clip-path=\"url(#clip020)\" d=\"M185.232 1405.9 L203.588 1405.9 L203.588 1409.84 L189.514 1409.84 L189.514 1418.31 Q190.533 1417.96 191.551 1417.8 Q192.57 1417.61 193.588 1417.61 Q199.375 1417.61 202.755 1420.78 Q206.135 1423.96 206.135 1429.37 Q206.135 1434.95 202.662 1438.05 Q199.19 1441.13 192.871 1441.13 Q190.695 1441.13 188.426 1440.76 Q186.181 1440.39 183.774 1439.65 L183.774 1434.95 Q185.857 1436.08 188.079 1436.64 Q190.301 1437.2 192.778 1437.2 Q196.783 1437.2 199.121 1435.09 Q201.459 1432.98 201.459 1429.37 Q201.459 1425.76 199.121 1423.65 Q196.783 1421.55 192.778 1421.55 Q190.903 1421.55 189.028 1421.96 Q187.176 1422.38 185.232 1423.26 L185.232 1405.9 Z\" fill=\"#000000\" fill-rule=\"nonzero\" fill-opacity=\"1\" /><path clip-path=\"url(#clip020)\" d=\"M114.26 1061.54 L143.936 1061.54 L143.936 1065.48 L114.26 1065.48 L114.26 1061.54 Z\" fill=\"#000000\" fill-rule=\"nonzero\" fill-opacity=\"1\" /><path clip-path=\"url(#clip020)\" d=\"M154.839 1074.44 L162.477 1074.44 L162.477 1048.07 L154.167 1049.74 L154.167 1045.48 L162.431 1043.81 L167.107 1043.81 L167.107 1074.44 L174.746 1074.44 L174.746 1078.37 L154.839 1078.37 L154.839 1074.44 Z\" fill=\"#000000\" fill-rule=\"nonzero\" fill-opacity=\"1\" /><path clip-path=\"url(#clip020)\" d=\"M194.19 1046.89 Q190.579 1046.89 188.75 1050.45 Q186.945 1054 186.945 1061.13 Q186.945 1068.23 188.75 1071.8 Q190.579 1075.34 194.19 1075.34 Q197.825 1075.34 199.63 1071.8 Q201.459 1068.23 201.459 1061.13 Q201.459 1054 199.63 1050.45 Q197.825 1046.89 194.19 1046.89 M194.19 1043.19 Q200 1043.19 203.056 1047.79 Q206.135 1052.38 206.135 1061.13 Q206.135 1069.85 203.056 1074.46 Q200 1079.04 194.19 1079.04 Q188.38 1079.04 185.301 1074.46 Q182.246 1069.85 182.246 1061.13 Q182.246 1052.38 185.301 1047.79 Q188.38 1043.19 194.19 1043.19 Z\" fill=\"#000000\" fill-rule=\"nonzero\" fill-opacity=\"1\" /><path clip-path=\"url(#clip020)\" d=\"M145.417 699.455 L175.093 699.455 L175.093 703.39 L145.417 703.39 L145.417 699.455 Z\" fill=\"#000000\" fill-rule=\"nonzero\" fill-opacity=\"1\" /><path clip-path=\"url(#clip020)\" d=\"M185.232 681.723 L203.588 681.723 L203.588 685.658 L189.514 685.658 L189.514 694.13 Q190.533 693.783 191.551 693.621 Q192.57 693.436 193.588 693.436 Q199.375 693.436 202.755 696.607 Q206.135 699.779 206.135 705.195 Q206.135 710.774 202.662 713.876 Q199.19 716.954 192.871 716.954 Q190.695 716.954 188.426 716.584 Q186.181 716.214 183.774 715.473 L183.774 710.774 Q185.857 711.908 188.079 712.464 Q190.301 713.019 192.778 713.019 Q196.783 713.019 199.121 710.913 Q201.459 708.806 201.459 705.195 Q201.459 701.584 199.121 699.478 Q196.783 697.371 192.778 697.371 Q190.903 697.371 189.028 697.788 Q187.176 698.205 185.232 699.084 L185.232 681.723 Z\" fill=\"#000000\" fill-rule=\"nonzero\" fill-opacity=\"1\" /><path clip-path=\"url(#clip020)\" d=\"M194.19 322.713 Q190.579 322.713 188.75 326.278 Q186.945 329.82 186.945 336.95 Q186.945 344.056 188.75 347.621 Q190.579 351.162 194.19 351.162 Q197.825 351.162 199.63 347.621 Q201.459 344.056 201.459 336.95 Q201.459 329.82 199.63 326.278 Q197.825 322.713 194.19 322.713 M194.19 319.01 Q200 319.01 203.056 323.616 Q206.135 328.2 206.135 336.95 Q206.135 345.676 203.056 350.283 Q200 354.866 194.19 354.866 Q188.38 354.866 185.301 350.283 Q182.246 345.676 182.246 336.95 Q182.246 328.2 185.301 323.616 Q188.38 319.01 194.19 319.01 Z\" fill=\"#000000\" fill-rule=\"nonzero\" fill-opacity=\"1\" /><path clip-path=\"url(#clip020)\" d=\"M16.4842 827.944 L16.4842 797.898 L21.895 797.898 L21.895 821.515 L35.9632 821.515 L35.9632 798.885 L41.3741 798.885 L41.3741 821.515 L58.5933 821.515 L58.5933 797.325 L64.0042 797.325 L64.0042 827.944 L16.4842 827.944 Z\" fill=\"#000000\" fill-rule=\"nonzero\" fill-opacity=\"1\" /><path clip-path=\"url(#clip020)\" d=\"M14.479 766.834 L14.479 753.338 L19.0304 753.338 L19.0304 760.977 L68.0464 760.977 L68.0464 753.338 L72.5979 753.338 L72.5979 766.834 L14.479 766.834 Z\" fill=\"#000000\" fill-rule=\"nonzero\" fill-opacity=\"1\" /><path clip-path=\"url(#clip020)\" d=\"M44.7161 710.37 L47.5806 710.37 L47.5806 737.297 Q53.6281 736.915 56.8109 733.668 Q59.9619 730.39 59.9619 724.565 Q59.9619 721.191 59.1344 718.04 Q58.3069 714.858 56.6518 711.738 L62.1899 711.738 Q63.5267 714.889 64.227 718.2 Q64.9272 721.51 64.9272 724.915 Q64.9272 733.445 59.9619 738.443 Q54.9967 743.408 46.5303 743.408 Q37.7774 743.408 32.6531 738.697 Q27.4968 733.955 27.4968 725.934 Q27.4968 718.741 32.1438 714.571 Q36.7589 710.37 44.7161 710.37 M42.9973 716.226 Q38.1912 716.29 35.3266 718.932 Q32.4621 721.542 32.4621 725.87 Q32.4621 730.772 35.2312 733.732 Q38.0002 736.66 43.0292 737.106 L42.9973 716.226 Z\" fill=\"#000000\" fill-rule=\"nonzero\" fill-opacity=\"1\" /><path clip-path=\"url(#clip020)\" d=\"M64.0042 688.249 L16.4842 706.391 L16.4842 699.675 L56.4926 684.621 L16.4842 669.534 L16.4842 662.85 L64.0042 680.96 L64.0042 688.249 Z\" fill=\"#000000\" fill-rule=\"nonzero\" fill-opacity=\"1\" /><path clip-path=\"url(#clip020)\" d=\"M14.479 642.48 L72.5979 642.48 L72.5979 655.975 L68.0464 655.975 L68.0464 648.368 L19.0304 648.368 L19.0304 655.975 L14.479 655.975 L14.479 642.48 Z\" fill=\"#000000\" fill-rule=\"nonzero\" fill-opacity=\"1\" /><polyline clip-path=\"url(#clip022)\" style=\"stroke:#009af9; stroke-linecap:round; stroke-linejoin:round; stroke-width:8; stroke-opacity:1; fill:none\" points=\"401.691,2553.26 411.495,1447.36 421.299,282.32 431.104,-574.847 440.908,-949.37 450.712,-858.717 460.517,-452.732 470.321,71.1018 480.125,542.636 489.93,862.415 499.734,1008.78 509.539,1017.95 519.343,952.515 529.147,872.724 538.952,818.796 548.756,806.106 558.56,829.935 568.365,874.665 578.169,922.77 587.973,960.855 597.778,982.053 607.582,985.518 617.386,974.382 627.191,953.423 636.995,927.28 646.799,899.478 656.604,872.19 666.408,846.436 676.212,822.462 686.017,800.07 695.821,778.836 705.625,758.21 715.43,737.55 725.234,716.153 735.039,693.307 744.843,668.377 754.647,640.912 764.452,610.74 774.256,578.03 784.06,543.302 793.865,507.382 803.669,471.31 813.473,436.226 823.278,403.24 833.082,373.326 842.886,347.23 852.691,325.424 862.495,308.095 872.299,295.161 882.104,286.32 891.908,281.105 901.712,278.949 911.517,279.25 921.321,281.42 931.125,284.923 940.93,289.301 950.734,294.185 960.539,299.296 970.343,304.435 980.147,309.468 989.952,314.315 999.756,318.93 1009.56,323.287 1019.36,327.374 1029.17,331.178 1038.97,334.689 1048.78,337.89 1058.58,340.766 1068.39,343.299 1078.19,345.475 1088,347.285 1097.8,348.725 1107.6,349.803 1117.41,350.534 1127.21,350.943 1137.02,351.06 1146.82,350.925 1156.63,350.58 1166.43,350.07 1176.23,349.441 1186.04,348.736 1195.84,347.997 1205.65,347.26 1215.45,346.557 1225.26,345.915 1235.06,345.353 1244.86,344.889 1254.67,344.531 1264.47,344.284 1274.28,344.149 1284.08,344.123 1293.89,344.199 1303.69,344.365 1313.5,344.611 1323.3,344.921 1333.1,345.279 1342.91,345.669 1352.71,346.073 1362.52,346.474 1372.32,346.856 1382.13,347.204 1391.93,347.503 1401.73,347.742 1411.54,347.911 1421.34,348.004 1431.15,348.014 1440.95,347.941 1450.76,347.784 1460.56,347.546 1470.36,347.23 1480.17,346.842 1489.97,346.389 1499.78,345.879 1509.58,345.32 1519.39,344.721 1529.19,344.092 1539,343.441 1548.8,342.778 1558.6,342.114 1568.41,341.459 1578.21,340.821 1588.02,340.211 1597.82,339.64 1607.63,339.114 1617.43,338.643 1627.23,338.231 1637.04,337.882 1646.84,337.596 1656.65,337.372 1666.45,337.203 1676.26,337.082 1686.06,336.998 1695.86,336.943 1705.67,336.909 1715.47,336.891 1725.28,336.887 1735.08,336.895 1744.89,336.911 1754.69,336.915 1764.5,336.915 1774.3,336.915 1784.1,336.915 1793.91,336.915 1803.71,336.915 1813.52,336.915 1823.32,336.915 1833.13,336.915 1842.93,336.915 1852.73,336.915 1862.54,336.915 1872.34,336.915 1882.15,336.915 1891.95,336.915 1901.76,336.915 1911.56,336.915 1921.36,336.915 1931.17,336.915 1940.97,336.915 1950.78,336.915 1960.58,336.915 1970.39,336.915 1980.19,336.915 1990,336.915 1999.8,336.915 2009.6,336.915 2019.41,336.915 2029.21,336.915 2039.02,336.915 2048.82,336.915 2058.63,336.915 2068.43,336.915 2078.23,336.915 2088.04,336.915 2097.84,336.915 2107.65,336.915 2117.45,336.915 2127.26,336.915 2137.06,336.915 2146.86,336.915 2156.67,336.915 2166.47,336.915 2176.28,336.915 2186.08,336.915 2195.89,336.915 2205.69,336.915 2215.5,336.915 2225.3,336.915 2235.1,336.915 2244.91,336.915 2254.71,336.915 2264.52,336.915 2274.32,336.915 2284.13,336.915 2293.93,336.915 2303.73,336.915 2313.54,336.915 2323.34,336.915 2333.15,336.915 2342.95,336.915 2352.76,336.915 \"/>\n",
       "<polyline clip-path=\"url(#clip022)\" style=\"stroke:#e26f46; stroke-linecap:round; stroke-linejoin:round; stroke-width:8; stroke-opacity:1; fill:none\" points=\"401.691,-793.416 411.495,-274.034 421.299,351.004 431.104,871.378 440.908,1143.18 450.712,1119.07 460.517,845.901 470.321,435.558 480.125,22.0049 489.93,-280.087 499.734,-403.21 509.539,-335.971 519.343,-114.65 529.147,196.216 538.952,526.102 548.756,816.726 558.56,1032.36 568.365,1161.68 578.169,1213.09 587.973,1206.73 597.778,1166.22 607.582,1112.33 617.386,1059.51 627.191,1015.15 636.995,980.818 646.799,954.448 656.604,932.554 666.408,911.931 676.212,890.577 686.017,867.897 695.821,844.396 705.625,821.137 715.43,799.192 725.234,779.237 735.039,761.368 744.843,745.115 754.647,729.604 764.452,713.793 774.256,696.707 784.06,677.624 793.865,656.186 803.669,632.425 813.473,606.722 823.278,579.715 833.082,552.188 842.886,524.961 852.691,498.788 862.495,474.293 872.299,451.929 882.104,431.968 891.908,414.515 901.712,399.533 911.517,386.885 921.321,376.368 931.125,367.751 940.93,360.798 950.734,355.296 960.539,351.059 970.343,347.935 980.147,345.805 989.952,344.576 999.756,344.17 1009.56,344.522 1019.36,345.567 1029.17,347.238 1038.97,349.458 1048.78,352.141 1058.58,355.195 1068.39,358.516 1078.19,361.999 1088,365.537 1097.8,369.025 1107.6,372.367 1117.41,375.473 1127.21,378.268 1137.02,380.689 1146.82,382.689 1156.63,384.234 1166.43,385.306 1176.23,385.9 1186.04,386.022 1195.84,385.692 1205.65,384.936 1215.45,383.79 1225.26,382.293 1235.06,380.49 1244.86,378.429 1254.67,376.158 1264.47,373.725 1274.28,371.177 1284.08,368.559 1293.89,365.914 1303.69,363.28 1313.5,360.693 1323.3,358.182 1333.1,355.774 1342.91,353.491 1352.71,351.348 1362.52,349.359 1372.32,347.532 1382.13,345.871 1391.93,344.377 1401.73,343.048 1411.54,341.88 1421.34,340.864 1431.15,339.992 1440.95,339.254 1450.76,338.639 1460.56,338.135 1470.36,337.731 1480.17,337.415 1489.97,337.175 1499.78,336.999 1509.58,336.879 1519.39,336.802 1529.19,336.761 1539,336.747 1548.8,336.752 1558.6,336.771 1568.41,336.797 1578.21,336.828 1588.02,336.858 1597.82,336.887 1607.63,336.911 1617.43,336.932 1627.23,336.947 1637.04,336.958 1646.84,336.964 1656.65,336.967 1666.45,336.967 1676.26,336.964 1686.06,336.958 1695.86,336.95 1705.67,336.94 1715.47,336.93 1725.28,336.921 1735.08,336.916 1744.89,336.915 1754.69,336.915 1764.5,336.915 1774.3,336.915 1784.1,336.915 1793.91,336.915 1803.71,336.915 1813.52,336.915 1823.32,336.915 1833.13,336.915 1842.93,336.915 1852.73,336.915 1862.54,336.915 1872.34,336.915 1882.15,336.915 1891.95,336.915 1901.76,336.915 1911.56,336.915 1921.36,336.915 1931.17,336.915 1940.97,336.915 1950.78,336.915 1960.58,336.915 1970.39,336.915 1980.19,336.915 1990,336.915 1999.8,336.915 2009.6,336.915 2019.41,336.915 2029.21,336.915 2039.02,336.915 2048.82,336.915 2058.63,336.915 2068.43,336.915 2078.23,336.915 2088.04,336.915 2097.84,336.915 2107.65,336.915 2117.45,336.915 2127.26,336.915 2137.06,336.915 2146.86,336.915 2156.67,336.915 2166.47,336.915 2176.28,336.915 2186.08,336.915 2195.89,336.915 2205.69,336.915 2215.5,336.915 2225.3,336.915 2235.1,336.915 2244.91,336.915 2254.71,336.915 2264.52,336.915 2274.32,336.915 2284.13,336.915 2293.93,336.915 2303.73,336.915 2313.54,336.915 2323.34,336.915 2333.15,336.915 2342.95,336.915 2352.76,336.915 \"/>\n",
       "<polyline clip-path=\"url(#clip022)\" style=\"stroke:#000000; stroke-linecap:round; stroke-linejoin:round; stroke-width:4; stroke-opacity:1; fill:none\" stroke-dasharray=\"16, 10\" points=\"630.175,2799.12 630.175,-1328.69 \"/>\n",
       "<path clip-path=\"url(#clip020)\" d=\"M1866.69 300.469 L2282.4 300.469 L2282.4 93.1086 L1866.69 93.1086  Z\" fill=\"#ffffff\" fill-rule=\"evenodd\" fill-opacity=\"1\"/>\n",
       "<polyline clip-path=\"url(#clip020)\" style=\"stroke:#000000; stroke-linecap:round; stroke-linejoin:round; stroke-width:4; stroke-opacity:1; fill:none\" points=\"1866.69,300.469 2282.4,300.469 2282.4,93.1086 1866.69,93.1086 1866.69,300.469 \"/>\n",
       "<polyline clip-path=\"url(#clip020)\" style=\"stroke:#009af9; stroke-linecap:round; stroke-linejoin:round; stroke-width:8; stroke-opacity:1; fill:none\" points=\"1890.14,144.949 2030.85,144.949 \"/>\n",
       "<path clip-path=\"url(#clip020)\" d=\"M2059.92 158.293 L2076.24 158.293 L2076.24 162.229 L2054.3 162.229 L2054.3 158.293 Q2056.96 155.539 2061.54 150.909 Q2066.15 146.256 2067.33 144.914 Q2069.58 142.391 2070.46 140.655 Q2071.36 138.895 2071.36 137.206 Q2071.36 134.451 2069.41 132.715 Q2067.49 130.979 2064.39 130.979 Q2062.19 130.979 2059.74 131.743 Q2057.31 132.507 2054.53 134.057 L2054.53 129.335 Q2057.35 128.201 2059.81 127.622 Q2062.26 127.044 2064.3 127.044 Q2069.67 127.044 2072.86 129.729 Q2076.06 132.414 2076.06 136.905 Q2076.06 139.034 2075.25 140.956 Q2074.46 142.854 2072.35 145.446 Q2071.78 146.118 2068.67 149.335 Q2065.57 152.53 2059.92 158.293 Z\" fill=\"#000000\" fill-rule=\"nonzero\" fill-opacity=\"1\" /><path clip-path=\"url(#clip020)\" d=\"M2098.91 131.743 L2087.1 150.192 L2098.91 150.192 L2098.91 131.743 M2097.68 127.669 L2103.56 127.669 L2103.56 150.192 L2108.49 150.192 L2108.49 154.081 L2103.56 154.081 L2103.56 162.229 L2098.91 162.229 L2098.91 154.081 L2083.3 154.081 L2083.3 149.567 L2097.68 127.669 Z\" fill=\"#000000\" fill-rule=\"nonzero\" fill-opacity=\"1\" /><path clip-path=\"url(#clip020)\" d=\"M2116.22 156.349 L2121.1 156.349 L2121.1 162.229 L2116.22 162.229 L2116.22 156.349 Z\" fill=\"#000000\" fill-rule=\"nonzero\" fill-opacity=\"1\" /><path clip-path=\"url(#clip020)\" d=\"M2135.32 158.293 L2151.64 158.293 L2151.64 162.229 L2129.69 162.229 L2129.69 158.293 Q2132.35 155.539 2136.94 150.909 Q2141.54 146.256 2142.72 144.914 Q2144.97 142.391 2145.85 140.655 Q2146.75 138.895 2146.75 137.206 Q2146.75 134.451 2144.81 132.715 Q2142.89 130.979 2139.78 130.979 Q2137.59 130.979 2135.13 131.743 Q2132.7 132.507 2129.92 134.057 L2129.92 129.335 Q2132.75 128.201 2135.2 127.622 Q2137.65 127.044 2139.69 127.044 Q2145.06 127.044 2148.26 129.729 Q2151.45 132.414 2151.45 136.905 Q2151.45 139.034 2150.64 140.956 Q2149.85 142.854 2147.75 145.446 Q2147.17 146.118 2144.07 149.335 Q2140.97 152.53 2135.32 158.293 Z\" fill=\"#000000\" fill-rule=\"nonzero\" fill-opacity=\"1\" /><path clip-path=\"url(#clip020)\" d=\"M2171.45 130.747 Q2167.84 130.747 2166.01 134.312 Q2164.21 137.854 2164.21 144.983 Q2164.21 152.09 2166.01 155.655 Q2167.84 159.196 2171.45 159.196 Q2175.09 159.196 2176.89 155.655 Q2178.72 152.09 2178.72 144.983 Q2178.72 137.854 2176.89 134.312 Q2175.09 130.747 2171.45 130.747 M2171.45 127.044 Q2177.26 127.044 2180.32 131.65 Q2183.4 136.233 2183.4 144.983 Q2183.4 153.71 2180.32 158.317 Q2177.26 162.9 2171.45 162.9 Q2165.64 162.9 2162.56 158.317 Q2159.51 153.71 2159.51 144.983 Q2159.51 136.233 2162.56 131.65 Q2165.64 127.044 2171.45 127.044 Z\" fill=\"#000000\" fill-rule=\"nonzero\" fill-opacity=\"1\" /><polyline clip-path=\"url(#clip020)\" style=\"stroke:#e26f46; stroke-linecap:round; stroke-linejoin:round; stroke-width:8; stroke-opacity:1; fill:none\" points=\"1890.14,196.789 2030.85,196.789 \"/>\n",
       "<path clip-path=\"url(#clip020)\" d=\"M2059.92 210.133 L2076.24 210.133 L2076.24 214.069 L2054.3 214.069 L2054.3 210.133 Q2056.96 207.379 2061.54 202.749 Q2066.15 198.096 2067.33 196.754 Q2069.58 194.231 2070.46 192.495 Q2071.36 190.735 2071.36 189.046 Q2071.36 186.291 2069.41 184.555 Q2067.49 182.819 2064.39 182.819 Q2062.19 182.819 2059.74 183.583 Q2057.31 184.347 2054.53 185.897 L2054.53 181.175 Q2057.35 180.041 2059.81 179.462 Q2062.26 178.884 2064.3 178.884 Q2069.67 178.884 2072.86 181.569 Q2076.06 184.254 2076.06 188.745 Q2076.06 190.874 2075.25 192.796 Q2074.46 194.694 2072.35 197.286 Q2071.78 197.958 2068.67 201.175 Q2065.57 204.37 2059.92 210.133 Z\" fill=\"#000000\" fill-rule=\"nonzero\" fill-opacity=\"1\" /><path clip-path=\"url(#clip020)\" d=\"M2098.91 183.583 L2087.1 202.032 L2098.91 202.032 L2098.91 183.583 M2097.68 179.509 L2103.56 179.509 L2103.56 202.032 L2108.49 202.032 L2108.49 205.921 L2103.56 205.921 L2103.56 214.069 L2098.91 214.069 L2098.91 205.921 L2083.3 205.921 L2083.3 201.407 L2097.68 179.509 Z\" fill=\"#000000\" fill-rule=\"nonzero\" fill-opacity=\"1\" /><path clip-path=\"url(#clip020)\" d=\"M2116.22 208.189 L2121.1 208.189 L2121.1 214.069 L2116.22 214.069 L2116.22 208.189 Z\" fill=\"#000000\" fill-rule=\"nonzero\" fill-opacity=\"1\" /><path clip-path=\"url(#clip020)\" d=\"M2135.32 210.133 L2151.64 210.133 L2151.64 214.069 L2129.69 214.069 L2129.69 210.133 Q2132.35 207.379 2136.94 202.749 Q2141.54 198.096 2142.72 196.754 Q2144.97 194.231 2145.85 192.495 Q2146.75 190.735 2146.75 189.046 Q2146.75 186.291 2144.81 184.555 Q2142.89 182.819 2139.78 182.819 Q2137.59 182.819 2135.13 183.583 Q2132.7 184.347 2129.92 185.897 L2129.92 181.175 Q2132.75 180.041 2135.2 179.462 Q2137.65 178.884 2139.69 178.884 Q2145.06 178.884 2148.26 181.569 Q2151.45 184.254 2151.45 188.745 Q2151.45 190.874 2150.64 192.796 Q2149.85 194.694 2147.75 197.286 Q2147.17 197.958 2144.07 201.175 Q2140.97 204.37 2135.32 210.133 Z\" fill=\"#000000\" fill-rule=\"nonzero\" fill-opacity=\"1\" /><path clip-path=\"url(#clip020)\" d=\"M2171.45 182.587 Q2167.84 182.587 2166.01 186.152 Q2164.21 189.694 2164.21 196.823 Q2164.21 203.93 2166.01 207.495 Q2167.84 211.036 2171.45 211.036 Q2175.09 211.036 2176.89 207.495 Q2178.72 203.93 2178.72 196.823 Q2178.72 189.694 2176.89 186.152 Q2175.09 182.587 2171.45 182.587 M2171.45 178.884 Q2177.26 178.884 2180.32 183.49 Q2183.4 188.073 2183.4 196.823 Q2183.4 205.55 2180.32 210.157 Q2177.26 214.74 2171.45 214.74 Q2165.64 214.74 2162.56 210.157 Q2159.51 205.55 2159.51 196.823 Q2159.51 188.073 2162.56 183.49 Q2165.64 178.884 2171.45 178.884 Z\" fill=\"#000000\" fill-rule=\"nonzero\" fill-opacity=\"1\" /><path clip-path=\"url(#clip020)\" d=\"M2191.61 208.189 L2196.5 208.189 L2196.5 214.069 L2191.61 214.069 L2191.61 208.189 Z\" fill=\"#000000\" fill-rule=\"nonzero\" fill-opacity=\"1\" /><path clip-path=\"url(#clip020)\" d=\"M2207.49 210.133 L2215.13 210.133 L2215.13 183.768 L2206.82 185.435 L2206.82 181.175 L2215.09 179.509 L2219.76 179.509 L2219.76 210.133 L2227.4 210.133 L2227.4 214.069 L2207.49 214.069 L2207.49 210.133 Z\" fill=\"#000000\" fill-rule=\"nonzero\" fill-opacity=\"1\" /><path clip-path=\"url(#clip020)\" d=\"M2247.42 194.925 Q2244.27 194.925 2242.42 197.078 Q2240.59 199.231 2240.59 202.981 Q2240.59 206.708 2242.42 208.883 Q2244.27 211.036 2247.42 211.036 Q2250.57 211.036 2252.4 208.883 Q2254.25 206.708 2254.25 202.981 Q2254.25 199.231 2252.4 197.078 Q2250.57 194.925 2247.42 194.925 M2256.71 180.273 L2256.71 184.532 Q2254.95 183.698 2253.14 183.259 Q2251.36 182.819 2249.6 182.819 Q2244.97 182.819 2242.52 185.944 Q2240.08 189.069 2239.74 195.388 Q2241.1 193.374 2243.16 192.309 Q2245.22 191.222 2247.7 191.222 Q2252.91 191.222 2255.92 194.393 Q2258.95 197.541 2258.95 202.981 Q2258.95 208.305 2255.8 211.522 Q2252.65 214.74 2247.42 214.74 Q2241.43 214.74 2238.26 210.157 Q2235.08 205.55 2235.08 196.823 Q2235.08 188.629 2238.97 183.768 Q2242.86 178.884 2249.41 178.884 Q2251.17 178.884 2252.96 179.231 Q2254.76 179.578 2256.71 180.273 Z\" fill=\"#000000\" fill-rule=\"nonzero\" fill-opacity=\"1\" /><polyline clip-path=\"url(#clip020)\" style=\"stroke:#000000; stroke-linecap:round; stroke-linejoin:round; stroke-width:4; stroke-opacity:1; fill:none\" stroke-dasharray=\"16, 10\" points=\"1890.14,248.629 2030.85,248.629 \"/>\n",
       "<path clip-path=\"url(#clip020)\" d=\"M2069.48 243.964 Q2068.77 243.548 2067.91 243.362 Q2067.08 243.154 2066.06 243.154 Q2062.45 243.154 2060.5 245.515 Q2058.58 247.853 2058.58 252.251 L2058.58 265.909 L2054.3 265.909 L2054.3 239.983 L2058.58 239.983 L2058.58 244.011 Q2059.92 241.649 2062.08 240.515 Q2064.23 239.358 2067.31 239.358 Q2067.75 239.358 2068.28 239.427 Q2068.81 239.474 2069.46 239.589 L2069.48 243.964 Z\" fill=\"#000000\" fill-rule=\"nonzero\" fill-opacity=\"1\" /><path clip-path=\"url(#clip020)\" d=\"M2082.68 250.237 Q2081.52 248.247 2079.18 248.247 Q2076.85 248.247 2075.69 250.237 Q2074.51 252.228 2074.51 256.21 Q2074.51 260.214 2075.69 262.205 Q2076.85 264.196 2079.18 264.196 Q2081.52 264.196 2082.68 262.205 Q2083.86 260.214 2083.86 256.21 Q2083.86 252.228 2082.68 250.237 M2079.18 246.187 Q2082.91 246.187 2084.88 248.756 Q2086.84 251.325 2086.84 256.21 Q2086.84 261.117 2084.88 263.686 Q2082.91 266.256 2079.18 266.256 Q2075.43 266.256 2073.47 263.686 Q2071.5 261.117 2071.5 256.21 Q2071.5 251.325 2073.47 248.756 Q2075.43 246.187 2079.18 246.187 Z\" fill=\"#000000\" fill-rule=\"nonzero\" fill-opacity=\"1\" /></svg>\n"
      ]
     },
     "execution_count": 7,
     "metadata": {},
     "output_type": "execute_result"
    }
   ],
   "source": [
    "## Tolerance check\n",
    "\n",
    "plt_dim = plot(\n",
    "    legend = :topright, \n",
    "    xlabel = \"Angstrom\", ylabel = \"E [eV]\",\n",
    "    xlims = (0, 7), ylims = (-15, 4),\n",
    "    dpi=200)\n",
    "\n",
    "for tag in basisvals\n",
    "    D = ACEpotentials.dimers(pots_bybasis[tag * \",ecost=10.0\"], [:C,], rr = range(0.529177, 7.0, length=200))\n",
    "    # Dsi = ACEpotentials.dimers(pots_bybasis_si[tag * \",ecost=5.0\"], [:C,], rr = range(0.529177, 7.0, length=200))\n",
    "    plot!(plt_dim, D[(:C,:C)]..., lw=2, label = \"$tag\")\n",
    "    # plot!(plt_dim, Dsi[(:C,:C)]..., lw=2, linestyle=:dash, label = \"$tag (self-int)\")\n",
    "end\n",
    "vline!(plt_dim, [1.286958464], linestyle=:dash, color=:black, label=\"r₀\")\n",
    "plt_dim"
   ]
  },
  {
   "cell_type": "code",
   "execution_count": null,
   "metadata": {},
   "outputs": [],
   "source": [
    "save_potential(\"/leonardo_work/Sis25_degironc_0/apol/aceconverge2025/acejulia/test_pot.json\", pot_1)"
   ]
  },
  {
   "cell_type": "code",
   "execution_count": null,
   "metadata": {},
   "outputs": [],
   "source": []
  }
 ],
 "metadata": {
  "kernelspec": {
   "display_name": "Julia 1.10.6",
   "language": "julia",
   "name": "julia-1.10"
  },
  "language_info": {
   "file_extension": ".jl",
   "mimetype": "application/julia",
   "name": "julia",
   "version": "1.10.6"
  }
 },
 "nbformat": 4,
 "nbformat_minor": 2
}
