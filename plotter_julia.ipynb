{
 "cells": [
  {
   "cell_type": "code",
   "execution_count": 1,
   "id": "b30487b9",
   "metadata": {},
   "outputs": [
    {
     "name": "stderr",
     "output_type": "stream",
     "text": [
      "\u001b[32m\u001b[1m  Activating\u001b[22m\u001b[39m project at `/leonardo_work/Sis25_degironc_0/apol/aceconverge2025`\n",
      "\u001b[32m\u001b[1mPrecompiling\u001b[22m\u001b[39m ACEpotentials\n",
      "\u001b[32m  ✓ \u001b[39m\u001b[90mSciMLStructures\u001b[39m\n",
      "\u001b[32m  ✓ \u001b[39m\u001b[90mFiniteDiff\u001b[39m\n",
      "\u001b[32m  ✓ \u001b[39m\u001b[90mDifferentiationInterface → DifferentiationInterfaceFiniteDiffExt\u001b[39m\n",
      "\u001b[32m  ✓ \u001b[39m\u001b[90mFiniteDiff → FiniteDiffSparseArraysExt\u001b[39m\n",
      "\u001b[32m  ✓ \u001b[39m\u001b[90mFiniteDiff → FiniteDiffStaticArraysExt\u001b[39m\n",
      "\u001b[32m  ✓ \u001b[39m\u001b[90mSymbolicIndexingInterface\u001b[39m\n",
      "\u001b[32m  ✓ \u001b[39m\u001b[90mSciMLOperators\u001b[39m\n",
      "\u001b[32m  ✓ \u001b[39m\u001b[90mStaticArrayInterface\u001b[39m\n",
      "\u001b[32m  ✓ \u001b[39m\u001b[90mSciMLOperators → SciMLOperatorsStaticArraysCoreExt\u001b[39m\n",
      "\u001b[32m  ✓ \u001b[39m\u001b[90mStaticArrayInterface → StaticArrayInterfaceOffsetArraysExt\u001b[39m\n",
      "\u001b[32m  ✓ \u001b[39m\u001b[90mSciMLOperators → SciMLOperatorsSparseArraysExt\u001b[39m\n",
      "\u001b[32m  ✓ \u001b[39m\u001b[90mNLSolversBase\u001b[39m\n",
      "\u001b[32m  ✓ \u001b[39m\u001b[90mStaticArrayInterface → StaticArrayInterfaceStaticArraysExt\u001b[39m\n",
      "\u001b[32m  ✓ \u001b[39m\u001b[90mCloseOpenIntervals\u001b[39m\n",
      "\u001b[32m  ✓ \u001b[39m\u001b[90mLayoutPointers\u001b[39m\n",
      "\u001b[32m  ✓ \u001b[39m\u001b[90mRecursiveArrayTools\u001b[39m\n",
      "\u001b[32m  ✓ \u001b[39m\u001b[90mLineSearches\u001b[39m\n",
      "\u001b[32m  ✓ \u001b[39m\u001b[90mStrideArraysCore\u001b[39m\n",
      "\u001b[32m  ✓ \u001b[39m\u001b[90mRecursiveArrayTools → RecursiveArrayToolsSparseArraysExt\u001b[39m\n",
      "\u001b[32m  ✓ \u001b[39m\u001b[90mPolyester\u001b[39m\n",
      "\u001b[32m  ✓ \u001b[39m\u001b[90mRecursiveArrayTools → RecursiveArrayToolsStructArraysExt\u001b[39m\n",
      "\u001b[32m  ✓ \u001b[39m\u001b[90mRecursiveArrayTools → RecursiveArrayToolsForwardDiffExt\u001b[39m\n",
      "\u001b[32m  ✓ \u001b[39m\u001b[90mOptim\u001b[39m\n",
      "\u001b[32m  ✓ \u001b[39m\u001b[90mACEfit\u001b[39m\n",
      "\u001b[32m  ✓ \u001b[39m\u001b[90mVectorizationBase\u001b[39m\n",
      "\u001b[32m  ✓ \u001b[39m\u001b[90mSLEEFPirates\u001b[39m\n",
      "\u001b[32m  ✓ \u001b[39m\u001b[90mVectorizedRNG\u001b[39m\n",
      "\u001b[32m  ✓ \u001b[39m\u001b[90mVectorizedRNG → VectorizedRNGStaticArraysExt\u001b[39m\n",
      "\u001b[32m  ✓ \u001b[39m\u001b[90mSciMLBase\u001b[39m\n",
      "\u001b[32m  ✓ \u001b[39m\u001b[90mSciMLBase → SciMLBaseChainRulesCoreExt\u001b[39m\n",
      "\u001b[32m  ✓ \u001b[39m\u001b[90mSciMLBase → SciMLBasePyCallExt\u001b[39m\n",
      "\u001b[32m  ✓ \u001b[39m\u001b[90mLoopVectorization\u001b[39m\n",
      "\u001b[32m  ✓ \u001b[39m\u001b[90mLoopVectorization → SpecialFunctionsExt\u001b[39m\n",
      "\u001b[32m  ✓ \u001b[39m\u001b[90mLoopVectorization → ForwardDiffExt\u001b[39m\n",
      "\u001b[32m  ✓ \u001b[39m\u001b[90mTriangularSolve\u001b[39m\n",
      "\u001b[32m  ✓ \u001b[39m\u001b[90mOctavian\u001b[39m\n",
      "\u001b[32m  ✓ \u001b[39m\u001b[90mOctavian → ForwardDiffExt\u001b[39m\n",
      "\u001b[32m  ✓ \u001b[39m\u001b[90mOctavian → HyperDualNumbersExt\u001b[39m\n",
      "\u001b[32m  ✓ \u001b[39m\u001b[90mVectorizedStatistics\u001b[39m\n",
      "\u001b[32m  ✓ \u001b[39m\u001b[90mStrideArrays\u001b[39m\n",
      "\u001b[32m  ✓ \u001b[39m\u001b[90mSpheriCart\u001b[39m\n",
      "\u001b[32m  ✓ \u001b[39m\u001b[90mPolynomials4ML\u001b[39m\n",
      "\u001b[32m  ✓ \u001b[39m\u001b[90mRecursiveFactorization\u001b[39m\n",
      "\u001b[32m  ✓ \u001b[39m\u001b[90mLinearSolve\u001b[39m\n",
      "\u001b[32m  ✓ \u001b[39m\u001b[90mLinearSolve → LinearSolveRecursiveArrayToolsExt\u001b[39m\n",
      "\u001b[32m  ✓ \u001b[39m\u001b[90mLinearSolve → LinearSolveIterativeSolversExt\u001b[39m\n",
      "\u001b[32m  ✓ \u001b[39m\u001b[90mAlgebraicMultigrid\u001b[39m\n",
      "\u001b[32m  ✓ \u001b[39mJuLIP\n",
      "\u001b[32m  ✓ \u001b[39mACE1\n",
      "\u001b[32m  ✓ \u001b[39m\u001b[90mACE1x\u001b[39m\n",
      "\u001b[32m  ✓ \u001b[39m\u001b[90mACEmd\u001b[39m\n",
      "\u001b[32m  ✓ \u001b[39m\u001b[90mUltraFastACE\u001b[39m\n",
      "\u001b[32m  ✓ \u001b[39m\u001b[90mACEmd → ACEmd_ACEfit_ext\u001b[39m\n",
      "\u001b[32m  ✓ \u001b[39mACEpotentials\n",
      "  54 dependencies successfully precompiled in 113 seconds. 257 already precompiled.\n"
     ]
    }
   ],
   "source": [
    "ENV[\"JULIA_PKG_USE_CLI_GIT\"] = \"true\"\n",
    "cd(\"/leonardo_work/Sis25_degironc_0/apol/aceconverge2025/\")\n",
    "pwd()\n",
    "\n",
    "import Pkg\n",
    "Pkg.activate(\".\")\n",
    "# Pkg.add(Pkg.PackageSpec(;name=\"ACEpotentials\", version=\"0.6.11\"))\n",
    "\n",
    "using ACEpotentials"
   ]
  },
  {
   "cell_type": "code",
   "execution_count": 4,
   "id": "6cf0b8e2",
   "metadata": {},
   "outputs": [],
   "source": [
    "# for plotting\n",
    "using Plots, LaTeXStrings, DelimitedFiles"
   ]
  },
  {
   "cell_type": "code",
   "execution_count": 5,
   "id": "2dff8ed3",
   "metadata": {},
   "outputs": [
    {
     "name": "stdout",
     "output_type": "stream",
     "text": [
      "\u001b[32m\u001b[1mStatus\u001b[22m\u001b[39m `/leonardo_work/Sis25_degironc_0/apol/aceconverge2025/Project.toml`\n",
      "  \u001b[90m[e3f9bc04] \u001b[39mACE1 v0.12.5\n",
      "\u001b[32m⌃\u001b[39m \u001b[90m[3b96b61c] \u001b[39mACEpotentials v0.6.11\n",
      "  \u001b[90m[51974c44] \u001b[39mASE v0.5.4\n",
      "  \u001b[90m[945c410c] \u001b[39mJuLIP v0.16.0\n",
      "  \u001b[90m[438e738f] \u001b[39mPyCall v1.96.4\n",
      "\u001b[36m\u001b[1mInfo\u001b[22m\u001b[39m Packages marked with \u001b[32m⌃\u001b[39m have new versions available and may be upgradable.\n"
     ]
    }
   ],
   "source": [
    "Pkg.status()"
   ]
  },
  {
   "cell_type": "code",
   "execution_count": 2,
   "id": "8d7a5359",
   "metadata": {},
   "outputs": [
    {
     "name": "stdout",
     "output_type": "stream",
     "text": [
      "\n",
      "This potential was saved with following versions:\n",
      "\n",
      "JuLIP v0.16.0\n",
      "ACEbase v0.4.4\n",
      "ACE1x v0.1.11\n",
      "ACE1 v0.12.5\n",
      "ACEmd v0.1.19\n",
      "ACEpotentials v0.6.11\n",
      "ACEfit v0.2.5\n",
      "\n",
      "If you have problems with using this potential, pin your installation to above versions.\n",
      "\n",
      "\n",
      "This potential was saved with following versions:\n",
      "\n",
      "JuLIP v0.16.0\n",
      "ACEbase v0.4.4\n",
      "ACE1x v0.1.11\n",
      "ACE1 v0.12.5\n",
      "ACEmd v0.1.19\n",
      "ACEpotentials v0.6.11\n",
      "ACEfit v0.2.5\n",
      "\n",
      "If you have problems with using this potential, pin your installation to above versions.\n",
      "\n"
     ]
    },
    {
     "data": {
      "text/plain": [
       "JuLIP.MLIPs.SumIP{AbstractCalculator}(AbstractCalculator[OneBody{Float64}(Dict(:C => -245.44385736)), PolyPairPot{Float64, ACE1.OrthPolys.TransformedPolys{Float64, ACE1.Transforms.Agnesi2Transform{Float64, Int64}, ACE1.OrthPolys.OrthPolyBasis{Float64}, PolyEnvelope{Float64}}, 1, 0}([9.56929033776388, -23.73847099226515, 31.86488251807065, -24.94701030245997, 25.92934690735256, -20.180142314604314, 15.583558325293476, -9.320807614255388, 4.524725230817843, -1.4746101217923413], PolyPairBasis{ACE1.OrthPolys.TransformedPolys{Float64, ACE1.Transforms.Agnesi2Transform{Float64, Int64}, ACE1.OrthPolys.OrthPolyBasis{Float64}, PolyEnvelope{Float64}}, 1}(JuLIP.Potentials.SZList{1}(AtomicNumber[<6>]), ACE1.OrthPolys.TransformedPolys{Float64, ACE1.Transforms.Agnesi2Transform{Float64, Int64}, ACE1.OrthPolys.OrthPolyBasis{Float64}, PolyEnvelope{Float64}}[ACE1.OrthPolys.TransformedPolys{Float64, ACE1.Transforms.Agnesi2Transform{Float64, Int64}, ACE1.OrthPolys.OrthPolyBasis{Float64}, PolyEnvelope{Float64}}(ACE1.OrthPolys.OrthPolyBasis{Float64}(0, 0.43959971408148674, 0, 1.0, [0.9999999999999998, 6.181480335100276, 6.911115482122562, 7.037953113510239, 7.081828499585539, 7.102065432047048, 7.113056088712467, 7.119697693197079, 7.124028505824207, 7.127020185622097], [0.0, -4.449428661505343, -4.974619936023893, -5.06591764496412, -5.097499141588738, -5.112065682681464, -5.11997675577803, -5.124757381736561, -5.12787470004645, -5.130028110737273], [0.0, 0.0, -1.1180356658063384, -1.0183527003297255, -1.0062341117321811, -1.0028575857862836, -1.001547529626531, -1.0009337202464776, -1.0006082860275805, -1.0004199421430229], Float64[], Float64[]), ACE1.Transforms.Agnesi2Transform{Float64, Int64}(1.5, 1, 3, 0.2857142857142857, 0.0), 0.0, 7.0, PolyEnvelope{Float64}(2, 1.5, 7.0));;], [0;;]), nothing), PIPotential{Float64, 1, PIBasis{BasicPSH1pBasis{Float64, 1, ACE1.OrthPolys.TransformedPolys{Float64, ACE1.Transforms.MultiTransform{1, ACE1.Transforms.AffineT{Float64, ACE1.Transforms.Agnesi2Transform{Float64, Int64}}}, ACE1.OrthPolys.OrthPolyBasis{Float64}, ACE1.OrthPolys.OneEnvelope}}, 1, ACE1.DAGEvaluator}, ACE1.DAGEvaluator, 0}(PIBasis{BasicPSH1pBasis{Float64, 1, ACE1.OrthPolys.TransformedPolys{Float64, ACE1.Transforms.MultiTransform{1, ACE1.Transforms.AffineT{Float64, ACE1.Transforms.Agnesi2Transform{Float64, Int64}}}, ACE1.OrthPolys.OrthPolyBasis{Float64}, ACE1.OrthPolys.OneEnvelope}}, 1, ACE1.DAGEvaluator}(BasicPSH1pBasis{Float64, 1, ACE1.OrthPolys.TransformedPolys{Float64, ACE1.Transforms.MultiTransform{1, ACE1.Transforms.AffineT{Float64, ACE1.Transforms.Agnesi2Transform{Float64, Int64}}}, ACE1.OrthPolys.OrthPolyBasis{Float64}, ACE1.OrthPolys.OneEnvelope}}(ACE1.OrthPolys.TransformedPolys{Float64, ACE1.Transforms.MultiTransform{1, ACE1.Transforms.AffineT{Float64, ACE1.Transforms.Agnesi2Transform{Float64, Int64}}}, ACE1.OrthPolys.OrthPolyBasis{Float64}, ACE1.OrthPolys.OneEnvelope}(ACE1.OrthPolys.OrthPolyBasis{Float64}(2, -1.0, 2, 1.0, [1.5687375497513916, 3.316624790355401, 2.6739483914241924, 2.430862174022013, 2.3048861143233235, 2.2291771507065796, 2.179449471771357, 2.1447610589554333, 2.11947811973324, 2.1004201260569073, 2.0856653614930205, 2.0739902138057946, 2.064582282328315, 2.0568833782436915], [0.0, -2.0786140873094945e-18, -7.017609472481619e-18, 2.412551411320251e-17, -4.62164749360015e-17, 8.442290037528487e-17, -1.036773538695508e-16, 1.0425048391689846e-16, -1.0935396246574519e-16, 1.1420171246516114e-16, -1.2236837934382784e-16, 1.182192736628651e-16, -8.383224079690349e-17, 1.6979098049736654e-16], [0.0, 0.0, -0.8062257748298566, -0.9090909090909166, -0.9481763873554975, -0.9671528397232887, -0.9776923610941106, -0.9840838646340674, -0.9882117688044432, -0.9910081668223438, -0.9929753269925167, -0.9944021951446381, -0.9954638496291572, -0.9962709628235593], Float64[], Float64[]), ACE1.Transforms.MultiTransform{1, ACE1.Transforms.AffineT{Float64, ACE1.Transforms.Agnesi2Transform{Float64, Int64}}}(JuLIP.Potentials.SZList{1}(AtomicNumber[<6>]), ACE1.Transforms.AffineT{Float64, ACE1.Transforms.Agnesi2Transform{Float64, Int64}}[ACE1.Transforms.AffineT{Float64, ACE1.Transforms.Agnesi2Transform{Float64, Int64}}(ACE1.Transforms.Agnesi2Transform{Float64, Int64}(1.5, 2, 4, 0.7692307692307693, 0.0), 1.0, 0.058765879773119846, -1.0, 1.0);;]), 0.0, 6.999999999999998, ACE1.OrthPolys.OneEnvelope()), ACE1.SphericalHarmonics.SHBasis{Float64}(2, ACE1.SphericalHarmonics.ALPCoefficients{Float64}([0.0, 0.0, 0.0, 1.9364916731037085, 0.0, 0.0], [0.0, 0.0, 0.0, -0.5773502691896257, 0.0, 0.0])), JuLIP.Potentials.SZList{1}(AtomicNumber[<6>]), ACE1.RPI.PSH1pBasisFcn[znlm[0|1,0,0], znlm[0|1,1,-1], znlm[0|1,1,0], znlm[0|1,1,1], znlm[0|1,2,-2], znlm[0|1,2,-1], znlm[0|1,2,0], znlm[0|1,2,1], znlm[0|1,2,2], znlm[0|2,0,0]  …  znlm[0|6,1,-1], znlm[0|6,1,0], znlm[0|6,1,1], znlm[0|7,0,0], znlm[0|8,0,0], znlm[0|9,0,0], znlm[0|10,0,0], znlm[0|11,0,0], znlm[0|12,0,0], znlm[0|13,0,0]], UnitRange{Int64}[1:46;;]), JuLIP.Potentials.SZList{1}(AtomicNumber[<6>]), (ACE1.InnerPIBasis([1, 1, 1, 1, 1, 1, 1, 1, 1, 1  …  2, 2, 2, 2, 2, 2, 2, 2, 2, 2], [1 0; 10 0; … ; 28 36; 32 32], Dict{ACE1.PIBasisFcn, Int64}(ACE1.PIBasisFcn{2, ACE1.RPI.PSH1pBasisFcn}(<6>, (znlm[6|4,0,0], znlm[6|5,0,0]), ACE1.RPI.PSH1pBasisFcn) => 85, ACE1.PIBasisFcn{1, ACE1.RPI.PSH1pBasisFcn}(<6>, (znlm[6|1,0,0],), ACE1.RPI.PSH1pBasisFcn) => 1, ACE1.PIBasisFcn{2, ACE1.RPI.PSH1pBasisFcn}(<6>, (znlm[6|1,1,1], znlm[6|4,1,-1]), ACE1.RPI.PSH1pBasisFcn) => 37, ACE1.PIBasisFcn{2, ACE1.RPI.PSH1pBasisFcn}(<6>, (znlm[6|1,2,-2], znlm[6|1,2,2]), ACE1.RPI.PSH1pBasisFcn) => 40, ACE1.PIBasisFcn{2, ACE1.RPI.PSH1pBasisFcn}(<6>, (znlm[6|1,0,0], znlm[6|7,0,0]), ACE1.RPI.PSH1pBasisFcn) => 20, ACE1.PIBasisFcn{2, ACE1.RPI.PSH1pBasisFcn}(<6>, (znlm[6|1,1,0], znlm[6|2,1,0]), ACE1.RPI.PSH1pBasisFcn) => 30, ACE1.PIBasisFcn{2, ACE1.RPI.PSH1pBasisFcn}(<6>, (znlm[6|1,1,0], znlm[6|4,1,0]), ACE1.RPI.PSH1pBasisFcn) => 32, ACE1.PIBasisFcn{2, ACE1.RPI.PSH1pBasisFcn}(<6>, (znlm[6|2,0,0], znlm[6|2,0,0]), ACE1.RPI.PSH1pBasisFcn) => 53, ACE1.PIBasisFcn{2, ACE1.RPI.PSH1pBasisFcn}(<6>, (znlm[6|2,1,1], znlm[6|5,1,-1]), ACE1.RPI.PSH1pBasisFcn) => 70, ACE1.PIBasisFcn{2, ACE1.RPI.PSH1pBasisFcn}(<6>, (znlm[6|2,1,0], znlm[6|2,1,0]), ACE1.RPI.PSH1pBasisFcn) => 64…), Dict{Any, Int64}(znlm[6|2,2,-1] => 15, znlm[6|5,1,1] => 35, znlm[6|6,0,0] => 36, znlm[6|3,0,0] => 19, znlm[6|5,0,0] => 32, znlm[6|3,2,2] => 27, znlm[6|5,1,0] => 34, znlm[6|3,1,-1] => 20, znlm[6|1,2,-1] => 6, znlm[6|1,1,-1] => 2…), 1:87, <6>, ACE1.DAG.CorrEvalGraph{Int64, Int64}([(1, 0), (2, 0), (3, 0), (4, 0), (5, 0), (6, 0), (7, 0), (8, 0), (9, 0), (10, 0)  …  (19, 40), (20, 22), (20, 31), (21, 21), (21, 30), (22, 29), (28, 28), (28, 32), (28, 36), (32, 32)], [1, 0, 0, 0, 0, 0, 0, 0, 0, 2  …  78, 79, 80, 81, 82, 83, 84, 85, 86, 87], 46, 46)),), ACE1.DAGEvaluator()), ([1.144268431181519e-12, -4.246956882728722e-12, 7.05210792612331e-12, 2.9096925775771355e-12, 3.2785117870739383e-12, 2.699488781918929e-12, -4.65795956986789e-12, -4.1151947641121783e-13, 1.0971392235332674e-13, -1.3616293955473829e-12  …  1.5737508028722073e-12, 9.84888893155069e-12, -1.322015778644178e-13, -4.924444465775346e-12, 1.3220157786441782e-13, -1.3220157786441782e-13, -1.9194473227577112e-12, -2.3944070259674733e-12, 8.801232325955047e-13, 2.213573960944555e-12],), (ACE1.DAG.CorrEvalGraph{Float64, Int64}([(1, 0), (2, 0), (3, 0), (4, 0), (5, 0), (6, 0), (7, 0), (8, 0), (9, 0), (10, 0)  …  (19, 40), (20, 22), (20, 31), (21, 21), (21, 30), (22, 29), (28, 28), (28, 32), (28, 36), (32, 32)], [1.144268431181519e-12, 0.0, 0.0, 0.0, 0.0, 0.0, 0.0, 0.0, 0.0, -4.246956882728722e-12  …  1.5737508028722073e-12, 9.84888893155069e-12, -1.322015778644178e-13, -4.924444465775346e-12, 1.3220157786441782e-13, -1.3220157786441782e-13, -1.9194473227577112e-12, -2.3944070259674733e-12, 8.801232325955047e-13, 2.213573960944555e-12], 46, 46),), ACE1.DAGEvaluator(), nothing)])"
      ]
     },
     "execution_count": 2,
     "metadata": {},
     "output_type": "execute_result"
    }
   ],
   "source": [
    "acejpotdir = \"acejulia/potentials/\"\n",
    "test_potential = load_potential(acejpotdir*\"Tr124_dim_kappa1_pot.json\")\n",
    "test_potential_better = load_potential(acejpotdir*\"Tr124_dim_kappa500_pot.json\")"
   ]
  },
  {
   "cell_type": "code",
   "execution_count": 7,
   "id": "17cf2481",
   "metadata": {},
   "outputs": [],
   "source": [
    "plt_dim = plot(xlims = (0,7.0), ylims=(-10,6))\n",
    "\n",
    "# for pot in [test_potential, test_potential_better]\n",
    "#     D = ACEpotentials.dimers(pot, [:C,])\n",
    "#     plot!(plt_dim, D[(:C, :C)]..., lw=2)\n",
    "# end\n",
    "# plt_dim\n",
    "\n",
    "for (i, pot) in enumerate([test_potential, test_potential_better])\n",
    "    D = ACEpotentials.dimers(pot, [:C,])\n",
    "    x, y = D[(:C, :C)]  # x and y arrays\n",
    "    filename = \"dimer_potential_$(i).dat\"\n",
    "    open(filename, \"w\") do io\n",
    "        for (xi, yi) in zip(x, y)\n",
    "            println(io, \"$xi $yi\")\n",
    "        end\n",
    "    end\n",
    "end"
   ]
  },
  {
   "cell_type": "code",
   "execution_count": null,
   "id": "d815b79c",
   "metadata": {},
   "outputs": [],
   "source": []
  }
 ],
 "metadata": {
  "kernelspec": {
   "display_name": "Julia 1.10.6",
   "language": "julia",
   "name": "julia-1.10"
  },
  "language_info": {
   "file_extension": ".jl",
   "mimetype": "application/julia",
   "name": "julia",
   "version": "1.10.6"
  }
 },
 "nbformat": 4,
 "nbformat_minor": 5
}
